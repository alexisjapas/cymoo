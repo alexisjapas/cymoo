{
  "cells": [
    {
      "attachments": {},
      "cell_type": "markdown",
      "metadata": {},
      "source": [
        "# Imports"
      ]
    },
    {
      "cell_type": "code",
      "execution_count": 1,
      "metadata": {},
      "outputs": [
        {
          "name": "stdout",
          "output_type": "stream",
          "text": [
            "Current path: /home/obergam/code/cymoo/src\n"
          ]
        }
      ],
      "source": [
        "import os\n",
        "import pathlib\n",
        "import random\n",
        "from math import sqrt\n",
        "import ujson\n",
        "\n",
        "import pandas as pd\n",
        "import plotly.express as px\n",
        "\n",
        "if \"PATH\" not in globals():\n",
        "    PATH = pathlib.Path.cwd() / \"src\"\n",
        "\n",
        "# set current working directory to the path\n",
        "os.chdir(PATH)\n",
        "print(f\"Current path: {PATH}\")"
      ]
    },
    {
      "cell_type": "code",
      "execution_count": 2,
      "metadata": {},
      "outputs": [],
      "source": [
        "# update the PYTHONPATH\n",
        "!export PYTHONPATH=$PYTHONPATH:{PATH}"
      ]
    },
    {
      "cell_type": "code",
      "execution_count": 3,
      "metadata": {},
      "outputs": [],
      "source": [
        "from src.MOO import MOO\n",
        "from src.optimizers.NSGA2 import NSGA2\n",
        "from src.optimizers.NSRA import NSRA\n",
        "from src.optimizers.NSWGE import NSWGE\n",
        "from src.problems.multitask_routing.Network import Network\n",
        "from src.problems.multitask_routing.Task import Task\n",
        "from src.problems.Solution import Solution"
      ]
    },
    {
      "attachments": {},
      "cell_type": "markdown",
      "metadata": {},
      "source": [
        "# Defining the parameters"
      ]
    },
    {
      "cell_type": "code",
      "execution_count": 4,
      "metadata": {},
      "outputs": [],
      "source": [
        "random.seed(10)"
      ]
    },
    {
      "attachments": {},
      "cell_type": "markdown",
      "metadata": {},
      "source": [
        "## Layers"
      ]
    },
    {
      "cell_type": "code",
      "execution_count": 5,
      "metadata": {},
      "outputs": [],
      "source": [
        "# PROBLEM DEFINITION\n",
        "paramsLayerOne = {\n",
        "    \"unit\": {\n",
        "        \"tag\": \"DEVICE\",\n",
        "        \"computingSpeed\": lambda: random.randint(5, 10),\n",
        "        \"positionX\": 0,\n",
        "        \"positionY\": 0,\n",
        "        \"throughput\": 0.5,\n",
        "        \"pollution\": lambda: round(random.random(), 2),\n",
        "        \"cost\": lambda: round(random.random(), 2),\n",
        "    },\n",
        "    \"cable\": {\n",
        "        \"distance\": lambda x, y: sqrt(\n",
        "            pow(x.positionX - y.positionX, 2)\n",
        "            + pow(x.positionY - y.positionY, 2)\n",
        "        ),\n",
        "        \"propagationSpeed\": lambda: 1,\n",
        "        \"flowRate\": lambda: 1,\n",
        "    },\n",
        "    \"numberNewUnits\": 10,\n",
        "}\n",
        "\n",
        "paramsLayerTwo = {\n",
        "    \"unit\": {\n",
        "        \"tag\": \"FOG\",\n",
        "        \"computingSpeed\": lambda x: x.computingSpeed * random.randint(5, 10),\n",
        "        \"positionX\": lambda x: x.positionX + random.randint(-2, 2),\n",
        "        \"positionY\": lambda x: x.positionY + random.randint(-2, 2),\n",
        "        \"throughput\": lambda x: x.throughput * round(random.random(), 2) * 2\n",
        "        + 1,\n",
        "        \"pollution\": lambda x: (x.pollution + 1)\n",
        "        * (round(random.random(), 2) + 1),\n",
        "        \"cost\": lambda x: (x.cost + 1) * (round(random.random(), 2) + 1),\n",
        "    },\n",
        "    \"cable\": {\n",
        "        \"distance\": lambda x, y: sqrt(\n",
        "            pow(x.positionX - y.positionX, 2)\n",
        "            + pow(x.positionY - y.positionY, 2)\n",
        "        ),\n",
        "        \"propagationSpeed\": lambda: 2,\n",
        "        \"flowRate\": lambda: 3,\n",
        "    },\n",
        "    \"numberNewUnits\": 20,\n",
        "}\n",
        "\n",
        "paramsLayerThree = {\n",
        "    \"unit\": {\n",
        "        \"tag\": \"CLOUD\",\n",
        "        \"computingSpeed\": lambda x: x.computingSpeed * random.randint(50, 100),\n",
        "        \"positionX\": lambda x: x.positionX + random.randint(-5, 5),\n",
        "        \"positionY\": lambda x: x.positionY + random.randint(-5, 5),\n",
        "        \"throughput\": lambda x: x.throughput * round(random.random(), 2) * 3\n",
        "        + 1,\n",
        "        \"pollution\": lambda x: (x.pollution + 1)\n",
        "        * (round(random.random(), 2) + 1),\n",
        "        \"cost\": lambda x: (x.cost + 1) * (round(random.random(), 2) + 1),\n",
        "    },\n",
        "    \"cable\": {\n",
        "        \"distance\": lambda x, y: sqrt(\n",
        "            pow(x.positionX - y.positionX, 2)\n",
        "            + pow(x.positionY - y.positionY, 2)\n",
        "        ),\n",
        "        \"propagationSpeed\": lambda: 2,\n",
        "        \"flowRate\": lambda: 3,\n",
        "    },\n",
        "    \"numberNewUnits\": 10,\n",
        "}"
      ]
    },
    {
      "attachments": {},
      "cell_type": "markdown",
      "metadata": {},
      "source": [
        "## Tasks"
      ]
    },
    {
      "cell_type": "code",
      "execution_count": 6,
      "metadata": {},
      "outputs": [],
      "source": [
        "tasks = tuple(\n",
        "    Task(random.randint(100, 1000000), random.randint(100, 1000000)) for _ in range(5)\n",
        ")"
      ]
    },
    {
      "attachments": {},
      "cell_type": "markdown",
      "metadata": {},
      "source": [
        "## Network"
      ]
    },
    {
      "cell_type": "code",
      "execution_count": 7,
      "metadata": {},
      "outputs": [],
      "source": [
        "optimUnits = {\n",
        "    \"processingTime\": \"Processing time (s)\",\n",
        "    \"cost\": \"Cost (€)\",\n",
        "    \"pollution\": \"Pollution (g)\",\n",
        "}\n",
        "optimDirections = {\n",
        "    \"processingTime\": \"min\",\n",
        "    \"cost\": \"min\",\n",
        "    \"pollution\": \"min\",\n",
        "}\n",
        "problem = Network(\n",
        "    \"DEVICE\",\n",
        "    tasks=tasks,\n",
        "    optimDirections=optimDirections,\n",
        "    minDepth=1,\n",
        "    maxDepth=15,\n",
        "    mutationRate=0.1,\n",
        "    layers=[paramsLayerOne, paramsLayerTwo, paramsLayerThree],\n",
        ")"
      ]
    },
    {
      "attachments": {},
      "cell_type": "markdown",
      "metadata": {},
      "source": [
        "## Optimization"
      ]
    },
    {
      "cell_type": "code",
      "execution_count": 8,
      "metadata": {},
      "outputs": [],
      "source": [
        "nIterations = 100\n",
        "nSolutions = 1000"
      ]
    },
    {
      "attachments": {},
      "cell_type": "markdown",
      "metadata": {},
      "source": [
        "# Optimization"
      ]
    },
    {
      "attachments": {},
      "cell_type": "markdown",
      "metadata": {},
      "source": [
        "## Training"
      ]
    },
    {
      "cell_type": "code",
      "execution_count": 9,
      "metadata": {},
      "outputs": [
        {
          "name": "stdout",
          "output_type": "stream",
          "text": [
            "Optimizing with NSGA2...\n"
          ]
        },
        {
          "name": "stderr",
          "output_type": "stream",
          "text": [
            "100%|██████████| 100/100 [01:21<00:00,  1.23it/s]\n"
          ]
        },
        {
          "name": "stdout",
          "output_type": "stream",
          "text": [
            "Displaying pareto solutions...\n",
            "{'processingTime': 1125291.888888889, 'cost': 550930.9323031553, 'pollution': 1484628.8037291132}\n",
            "{'processingTime': 1125291.888888889, 'cost': 645603.011498018, 'pollution': 707765.2179941166}\n",
            "{'processingTime': 1115814.9, 'cost': 1267990.2259579017, 'pollution': 921763.9088428498}\n",
            "{'processingTime': 1115814.9, 'cost': 1386295.2232097294, 'pollution': 507312.5040176779}\n",
            "{'processingTime': 1125291.888888889, 'cost': 1032708.5844868274, 'pollution': 545326.5139732591}\n",
            "\n",
            "Optimizing with NSRA...\n"
          ]
        },
        {
          "name": "stderr",
          "output_type": "stream",
          "text": [
            "100%|██████████| 100/100 [01:27<00:00,  1.15it/s]\n"
          ]
        },
        {
          "name": "stdout",
          "output_type": "stream",
          "text": [
            "Displaying pareto solutions...\n",
            "{'processingTime': 4264242.833333333, 'cost': 2850520.678293016, 'pollution': 4751997.16595265}\n",
            "{'processingTime': 2828350.693543404, 'cost': 6599550.806535725, 'pollution': 4390240.695442673}\n",
            "{'processingTime': 2691382.8988285214, 'cost': 2932969.278463312, 'pollution': 4416046.786181757}\n",
            "{'processingTime': 4243935.0, 'cost': 5788356.390973598, 'pollution': 4338152.308967329}\n",
            "\n",
            "Optimizing with NSWGE...\n"
          ]
        },
        {
          "name": "stderr",
          "output_type": "stream",
          "text": [
            "100%|██████████| 100/100 [16:53<00:00, 10.13s/it]\n"
          ]
        },
        {
          "name": "stdout",
          "output_type": "stream",
          "text": [
            "Displaying pareto solutions...\n",
            "{'processingTime': 2736154.4706358784, 'cost': 2004025.1263651669, 'pollution': 3261040.314340026}\n",
            "{'processingTime': 2628664.190108381, 'cost': 2288206.15081599, 'pollution': 2216976.1887119226}\n",
            "\n"
          ]
        }
      ],
      "source": [
        "moo = MOO(problem)\n",
        "\n",
        "nsga2_paretos = moo.optimize(\n",
        "    NSGA2,\n",
        "    nSolutions,\n",
        "    nIterations,\n",
        "    imDir=PATH.parent / \"imgs\",\n",
        "    saveDir=PATH.parent / \"paretos\",\n",
        "    export=True,\n",
        "    ratioKept=0.5,\n",
        ")\n",
        "nsra_paretos = moo.optimize(\n",
        "    NSRA,\n",
        "    nSolutions,\n",
        "    nIterations,\n",
        "    imDir=PATH.parent / \"imgs\",\n",
        "    saveDir=PATH.parent / \"paretos\",\n",
        "    export=True,\n",
        "    ratioKept=0.5,\n",
        ")\n",
        "nswge_paretos = moo.optimize(\n",
        "    NSWGE,\n",
        "    nSolutions,\n",
        "    nIterations,\n",
        "    imDir=PATH.parent / \"imgs\",\n",
        "    saveDir=PATH.parent / \"paretos\",\n",
        "    export=True,\n",
        ")"
      ]
    },
    {
      "attachments": {},
      "cell_type": "markdown",
      "metadata": {},
      "source": [
        "## Evaluation"
      ]
    },
    {
      "cell_type": "code",
      "execution_count": 10,
      "metadata": {},
      "outputs": [
        {
          "name": "stdout",
          "output_type": "stream",
          "text": [
            "Relative efficiency: 0 % of <class 'src.optimizers.NSRA.NSRA'> solutions are undominated by <class 'src.optimizers.NSGA2.NSGA2'> solutions\n",
            "Relative efficiency: 100 % of <class 'src.optimizers.NSGA2.NSGA2'> solutions are undominated by <class 'src.optimizers.NSRA.NSRA'> solutions\n",
            "Relative efficiency: 0 % of <class 'src.optimizers.NSWGE.NSWGE'> solutions are undominated by <class 'src.optimizers.NSGA2.NSGA2'> solutions\n",
            "Relative efficiency: 100 % of <class 'src.optimizers.NSGA2.NSGA2'> solutions are undominated by <class 'src.optimizers.NSWGE.NSWGE'> solutions\n",
            "Relative efficiency: 100 % of <class 'src.optimizers.NSWGE.NSWGE'> solutions are undominated by <class 'src.optimizers.NSRA.NSRA'> solutions\n",
            "Relative efficiency: 0 % of <class 'src.optimizers.NSRA.NSRA'> solutions are undominated by <class 'src.optimizers.NSWGE.NSWGE'> solutions\n"
          ]
        },
        {
          "data": {
            "text/plain": [
              "(1, 0)"
            ]
          },
          "execution_count": 10,
          "metadata": {},
          "output_type": "execute_result"
        }
      ],
      "source": [
        "MOO.relative_efficiency(nsra_paretos, nsga2_paretos, Solution.optimDirections, verbose=True)\n",
        "MOO.relative_efficiency(nswge_paretos, nsga2_paretos, Solution.optimDirections, verbose=True)\n",
        "MOO.relative_efficiency(nswge_paretos, nsra_paretos, Solution.optimDirections, verbose=True)\n"
      ]
    },
    {
      "attachments": {},
      "cell_type": "markdown",
      "metadata": {},
      "source": [
        "# Results"
      ]
    },
    {
      "cell_type": "code",
      "execution_count": 11,
      "metadata": {},
      "outputs": [],
      "source": [
        "def generate_violin_plot(df, title, yaxis_title=\"Value\"):\n",
        "    fig = px.violin(\n",
        "        df,\n",
        "        x=\"Epoch\",\n",
        "        y=\"Value\",\n",
        "        box=True,\n",
        "        points=False,\n",
        "        hover_data=df.columns,\n",
        "        template=\"plotly_white\",\n",
        "        color_discrete_sequence=[\"#1f77b4\"],\n",
        "    )\n",
        "    fig.update_layout(\n",
        "        title=title,\n",
        "        xaxis_title=\"Epoch\",\n",
        "        yaxis_title=yaxis_title,\n",
        "        font=dict(\n",
        "            family=\"Times New Roman\",\n",
        "            size=12,\n",
        "        ),\n",
        "    )\n",
        "    fig.show()"
      ]
    },
    {
      "cell_type": "code",
      "execution_count": 12,
      "metadata": {},
      "outputs": [
        {
          "name": "stdout",
          "output_type": "stream",
          "text": [
            "NSRA.json\n"
          ]
        },
        {
          "data": {
            "application/vnd.plotly.v1+json": {
              "config": {
                "plotlyServerURL": "https://plot.ly"
              },
              "data": [
                {
                  "alignmentgroup": "True",
                  "box": {
                    "visible": true
                  },
                  "hovertemplate": "Epoch=%{x}<br>Value=%{y}<extra></extra>",
                  "legendgroup": "",
                  "marker": {
                    "color": "#1f77b4"
                  },
                  "name": "",
                  "offsetgroup": "",
                  "orientation": "v",
                  "points": false,
                  "scalegroup": "True",
                  "showlegend": false,
                  "type": "violin",
                  "x": [
                    "1",
                    "1",
                    "1",
                    "1",
                    "2",
                    "2",
                    "2",
                    "2",
                    "3",
                    "3",
                    "3",
                    "3",
                    "4",
                    "4",
                    "4",
                    "4",
                    "5",
                    "5",
                    "5",
                    "6",
                    "6",
                    "6",
                    "7",
                    "7",
                    "7",
                    "8",
                    "8",
                    "8",
                    "9",
                    "9",
                    "9",
                    "10",
                    "10",
                    "10",
                    "10",
                    "11",
                    "11",
                    "11",
                    "11",
                    "12",
                    "12",
                    "12",
                    "12",
                    "13",
                    "13",
                    "13",
                    "13",
                    "14",
                    "14",
                    "14",
                    "14",
                    "15",
                    "15",
                    "15",
                    "15",
                    "16",
                    "16",
                    "16",
                    "16",
                    "17",
                    "17",
                    "17",
                    "17",
                    "18",
                    "18",
                    "18",
                    "18",
                    "19",
                    "19",
                    "19",
                    "19",
                    "20",
                    "20",
                    "20",
                    "20",
                    "20",
                    "21",
                    "21",
                    "21",
                    "21",
                    "21",
                    "22",
                    "22",
                    "22",
                    "22",
                    "22",
                    "22",
                    "23",
                    "23",
                    "23",
                    "23",
                    "23",
                    "23",
                    "24",
                    "24",
                    "24",
                    "24",
                    "24",
                    "24",
                    "25",
                    "25",
                    "25",
                    "25",
                    "25",
                    "25",
                    "26",
                    "26",
                    "26",
                    "26",
                    "26",
                    "26",
                    "27",
                    "27",
                    "27",
                    "27",
                    "27",
                    "27",
                    "28",
                    "28",
                    "28",
                    "28",
                    "28",
                    "28",
                    "29",
                    "29",
                    "29",
                    "29",
                    "29",
                    "29",
                    "29",
                    "30",
                    "30",
                    "30",
                    "30",
                    "30",
                    "30",
                    "30",
                    "31",
                    "31",
                    "31",
                    "31",
                    "31",
                    "31",
                    "31",
                    "32",
                    "32",
                    "32",
                    "32",
                    "32",
                    "32",
                    "32",
                    "33",
                    "33",
                    "33",
                    "33",
                    "33",
                    "33",
                    "33",
                    "34",
                    "34",
                    "34",
                    "34",
                    "34",
                    "34",
                    "34",
                    "35",
                    "35",
                    "35",
                    "35",
                    "35",
                    "35",
                    "35",
                    "36",
                    "36",
                    "36",
                    "36",
                    "36",
                    "36",
                    "36",
                    "36",
                    "37",
                    "37",
                    "37",
                    "37",
                    "37",
                    "37",
                    "37",
                    "37",
                    "38",
                    "38",
                    "38",
                    "38",
                    "38",
                    "38",
                    "38",
                    "38",
                    "39",
                    "39",
                    "39",
                    "39",
                    "39",
                    "39",
                    "39",
                    "39",
                    "40",
                    "40",
                    "40",
                    "40",
                    "40",
                    "40",
                    "40",
                    "40",
                    "41",
                    "41",
                    "41",
                    "41",
                    "41",
                    "41",
                    "41",
                    "41",
                    "42",
                    "42",
                    "42",
                    "42",
                    "42",
                    "42",
                    "42",
                    "42",
                    "43",
                    "43",
                    "43",
                    "43",
                    "43",
                    "43",
                    "43",
                    "43",
                    "44",
                    "44",
                    "44",
                    "44",
                    "44",
                    "44",
                    "44",
                    "44",
                    "45",
                    "45",
                    "45",
                    "45",
                    "45",
                    "45",
                    "45",
                    "45",
                    "46",
                    "46",
                    "46",
                    "46",
                    "46",
                    "46",
                    "46",
                    "46",
                    "47",
                    "47",
                    "47",
                    "47",
                    "47",
                    "47",
                    "47",
                    "47",
                    "47",
                    "48",
                    "48",
                    "48",
                    "48",
                    "48",
                    "48",
                    "48",
                    "48",
                    "48",
                    "49",
                    "49",
                    "49",
                    "49",
                    "49",
                    "49",
                    "49",
                    "49",
                    "49",
                    "49",
                    "50",
                    "50",
                    "50",
                    "50",
                    "50",
                    "50",
                    "50",
                    "50",
                    "50",
                    "50",
                    "51",
                    "51",
                    "51",
                    "51",
                    "51",
                    "51",
                    "51",
                    "51",
                    "51",
                    "51",
                    "52",
                    "52",
                    "52",
                    "52",
                    "52",
                    "52",
                    "52",
                    "52",
                    "52",
                    "52",
                    "53",
                    "53",
                    "53",
                    "53",
                    "53",
                    "53",
                    "53",
                    "53",
                    "53",
                    "53",
                    "54",
                    "54",
                    "54",
                    "54",
                    "54",
                    "54",
                    "54",
                    "54",
                    "54",
                    "54",
                    "55",
                    "55",
                    "55",
                    "55",
                    "55",
                    "55",
                    "55",
                    "55",
                    "55",
                    "55",
                    "56",
                    "56",
                    "56",
                    "56",
                    "56",
                    "56",
                    "56",
                    "56",
                    "56",
                    "56",
                    "57",
                    "57",
                    "57",
                    "57",
                    "57",
                    "57",
                    "57",
                    "57",
                    "57",
                    "57",
                    "58",
                    "58",
                    "58",
                    "58",
                    "58",
                    "58",
                    "58",
                    "58",
                    "58",
                    "58",
                    "59",
                    "59",
                    "59",
                    "59",
                    "59",
                    "59",
                    "59",
                    "59",
                    "59",
                    "59",
                    "60",
                    "60",
                    "60",
                    "60",
                    "60",
                    "60",
                    "60",
                    "60",
                    "60",
                    "60",
                    "61",
                    "61",
                    "61",
                    "61",
                    "61",
                    "61",
                    "61",
                    "61",
                    "61",
                    "61",
                    "61",
                    "62",
                    "62",
                    "62",
                    "62",
                    "62",
                    "62",
                    "62",
                    "62",
                    "62",
                    "62",
                    "62",
                    "63",
                    "63",
                    "63",
                    "63",
                    "63",
                    "63",
                    "63",
                    "63",
                    "63",
                    "63",
                    "63",
                    "64",
                    "64",
                    "64",
                    "64",
                    "64",
                    "64",
                    "64",
                    "64",
                    "64",
                    "64",
                    "64",
                    "65",
                    "65",
                    "65",
                    "65",
                    "65",
                    "65",
                    "65",
                    "65",
                    "65",
                    "65",
                    "65",
                    "66",
                    "66",
                    "66",
                    "67",
                    "67",
                    "67",
                    "68",
                    "68",
                    "68",
                    "69",
                    "69",
                    "69",
                    "70",
                    "70",
                    "70",
                    "71",
                    "71",
                    "71",
                    "72",
                    "72",
                    "72",
                    "73",
                    "73",
                    "73",
                    "74",
                    "74",
                    "74",
                    "75",
                    "75",
                    "75",
                    "76",
                    "76",
                    "76",
                    "77",
                    "77",
                    "77",
                    "78",
                    "78",
                    "78",
                    "79",
                    "79",
                    "79",
                    "80",
                    "80",
                    "80",
                    "81",
                    "81",
                    "81",
                    "82",
                    "82",
                    "82",
                    "83",
                    "83",
                    "83",
                    "84",
                    "84",
                    "84",
                    "85",
                    "85",
                    "85",
                    "86",
                    "86",
                    "86",
                    "87",
                    "87",
                    "87",
                    "88",
                    "88",
                    "88",
                    "89",
                    "89",
                    "89",
                    "90",
                    "90",
                    "90",
                    "91",
                    "91",
                    "91",
                    "92",
                    "92",
                    "92",
                    "93",
                    "93",
                    "93",
                    "94",
                    "94",
                    "94",
                    "95",
                    "95",
                    "95",
                    "96",
                    "96",
                    "96",
                    "96",
                    "97",
                    "97",
                    "97",
                    "97",
                    "98",
                    "98",
                    "98",
                    "98",
                    "99",
                    "99",
                    "99",
                    "99",
                    "100",
                    "100",
                    "100",
                    "100"
                  ],
                  "x0": " ",
                  "xaxis": "x",
                  "y": [
                    3454835.7626955844,
                    7130410.2,
                    4264242.833333333,
                    3541957.677882358,
                    3454835.7626955844,
                    7130410.2,
                    4264242.833333333,
                    3541957.677882358,
                    3454835.7626955844,
                    3541957.677882358,
                    4264242.833333333,
                    4207380.9,
                    3454835.7626955844,
                    3541957.677882358,
                    4264242.833333333,
                    4207380.9,
                    3541957.677882358,
                    4264242.833333333,
                    2907124.567417184,
                    3541957.677882358,
                    4264242.833333333,
                    2907124.567417184,
                    3541957.677882358,
                    4264242.833333333,
                    2907124.567417184,
                    3541957.677882358,
                    4264242.833333333,
                    2907124.567417184,
                    3541957.677882358,
                    4264242.833333333,
                    2907124.567417184,
                    3541957.677882358,
                    4264242.833333333,
                    2907124.567417184,
                    3902820.9,
                    3541957.677882358,
                    4264242.833333333,
                    2907124.567417184,
                    3902820.9,
                    3541957.677882358,
                    4264242.833333333,
                    2907124.567417184,
                    3902820.9,
                    3541957.677882358,
                    4264242.833333333,
                    2907124.567417184,
                    3902820.9,
                    3541957.677882358,
                    4264242.833333333,
                    2907124.567417184,
                    3902820.9,
                    3541957.677882358,
                    4264242.833333333,
                    2907124.567417184,
                    3902820.9,
                    3541957.677882358,
                    4264242.833333333,
                    2907124.567417184,
                    3902820.9,
                    3541957.677882358,
                    4264242.833333333,
                    2907124.567417184,
                    3902820.9,
                    3541957.677882358,
                    4264242.833333333,
                    2907124.567417184,
                    3902820.9,
                    4264242.833333333,
                    2907124.567417184,
                    2828350.693543404,
                    3902820.9,
                    4264242.833333333,
                    2907124.567417184,
                    2828350.693543404,
                    3902820.9,
                    4228704.125,
                    4264242.833333333,
                    2907124.567417184,
                    2828350.693543404,
                    3902820.9,
                    4228704.125,
                    4264242.833333333,
                    2907124.567417184,
                    2828350.693543404,
                    2730181.81531798,
                    3902820.9,
                    4228704.125,
                    4264242.833333333,
                    2907124.567417184,
                    2828350.693543404,
                    2730181.81531798,
                    3902820.9,
                    4228704.125,
                    4264242.833333333,
                    2907124.567417184,
                    2828350.693543404,
                    2730181.81531798,
                    3902820.9,
                    4228704.125,
                    4264242.833333333,
                    2907124.567417184,
                    2828350.693543404,
                    2730181.81531798,
                    3902820.9,
                    4228704.125,
                    4264242.833333333,
                    2907124.567417184,
                    2828350.693543404,
                    2730181.81531798,
                    3902820.9,
                    4228704.125,
                    4264242.833333333,
                    2907124.567417184,
                    2828350.693543404,
                    2730181.81531798,
                    3902820.9,
                    4228704.125,
                    4264242.833333333,
                    2907124.567417184,
                    2828350.693543404,
                    2730181.81531798,
                    3902820.9,
                    4228704.125,
                    4264242.833333333,
                    2907124.567417184,
                    2828350.693543404,
                    2730181.81531798,
                    3902820.9,
                    4228704.125,
                    4138780.4,
                    4264242.833333333,
                    2907124.567417184,
                    2828350.693543404,
                    2730181.81531798,
                    3902820.9,
                    4228704.125,
                    4138780.4,
                    4264242.833333333,
                    2907124.567417184,
                    2828350.693543404,
                    2730181.81531798,
                    3902820.9,
                    4228704.125,
                    4138780.4,
                    4264242.833333333,
                    2907124.567417184,
                    2828350.693543404,
                    2730181.81531798,
                    3902820.9,
                    4228704.125,
                    4138780.4,
                    4264242.833333333,
                    2907124.567417184,
                    2828350.693543404,
                    2730181.81531798,
                    3902820.9,
                    4228704.125,
                    4138780.4,
                    4264242.833333333,
                    2907124.567417184,
                    2828350.693543404,
                    2730181.81531798,
                    3902820.9,
                    4228704.125,
                    4138780.4,
                    4264242.833333333,
                    2907124.567417184,
                    2828350.693543404,
                    2730181.81531798,
                    3902820.9,
                    4228704.125,
                    4138780.4,
                    4264242.833333333,
                    2907124.567417184,
                    2828350.693543404,
                    2730181.81531798,
                    5471368.194653836,
                    3902820.9,
                    4228704.125,
                    4138780.4,
                    4264242.833333333,
                    2907124.567417184,
                    2828350.693543404,
                    2730181.81531798,
                    5471368.194653836,
                    3902820.9,
                    4228704.125,
                    4138780.4,
                    4264242.833333333,
                    2907124.567417184,
                    2828350.693543404,
                    2730181.81531798,
                    5471368.194653836,
                    3902820.9,
                    4228704.125,
                    4138780.4,
                    4264242.833333333,
                    2907124.567417184,
                    2828350.693543404,
                    2730181.81531798,
                    5471368.194653836,
                    3902820.9,
                    4228704.125,
                    4138780.4,
                    4264242.833333333,
                    2907124.567417184,
                    2828350.693543404,
                    2730181.81531798,
                    5471368.194653836,
                    3902820.9,
                    4228704.125,
                    4138780.4,
                    4264242.833333333,
                    2907124.567417184,
                    2828350.693543404,
                    2730181.81531798,
                    5471368.194653836,
                    3902820.9,
                    4228704.125,
                    4138780.4,
                    4264242.833333333,
                    2907124.567417184,
                    2828350.693543404,
                    2730181.81531798,
                    5471368.194653836,
                    3902820.9,
                    4228704.125,
                    4138780.4,
                    4264242.833333333,
                    2907124.567417184,
                    2828350.693543404,
                    2730181.81531798,
                    5471368.194653836,
                    3902820.9,
                    4138780.4,
                    4228704.125,
                    4264242.833333333,
                    2907124.567417184,
                    2828350.693543404,
                    2730181.81531798,
                    5471368.194653836,
                    3902820.9,
                    4138780.4,
                    4228704.125,
                    4264242.833333333,
                    2907124.567417184,
                    2828350.693543404,
                    2730181.81531798,
                    5471368.194653836,
                    3902820.9,
                    4138780.4,
                    4228704.125,
                    4264242.833333333,
                    2907124.567417184,
                    2828350.693543404,
                    2730181.81531798,
                    5471368.194653836,
                    3902820.9,
                    4138780.4,
                    4228704.125,
                    4264242.833333333,
                    2907124.567417184,
                    2828350.693543404,
                    2730181.81531798,
                    5471368.194653836,
                    3902820.9,
                    4138780.4,
                    4228704.125,
                    3908226.125,
                    4264242.833333333,
                    2907124.567417184,
                    2828350.693543404,
                    2730181.81531798,
                    5471368.194653836,
                    3902820.9,
                    4138780.4,
                    4228704.125,
                    3908226.125,
                    4264242.833333333,
                    2907124.567417184,
                    2828350.693543404,
                    2730181.81531798,
                    5471368.194653836,
                    3902820.9,
                    4138780.4,
                    4228704.125,
                    3908226.125,
                    4138780.4,
                    4264242.833333333,
                    2907124.567417184,
                    2828350.693543404,
                    2730181.81531798,
                    5471368.194653836,
                    3902820.9,
                    4138780.4,
                    4228704.125,
                    3908226.125,
                    4138780.4,
                    4264242.833333333,
                    2907124.567417184,
                    2828350.693543404,
                    2730181.81531798,
                    5471368.194653836,
                    3902820.9,
                    4138780.4,
                    4228704.125,
                    3908226.125,
                    4138780.4,
                    4264242.833333333,
                    2907124.567417184,
                    2828350.693543404,
                    2730181.81531798,
                    5471368.194653836,
                    3902820.9,
                    4138780.4,
                    4228704.125,
                    3908226.125,
                    4138780.4,
                    4264242.833333333,
                    2907124.567417184,
                    2828350.693543404,
                    2730181.81531798,
                    5471368.194653836,
                    3902820.9,
                    4138780.4,
                    4228704.125,
                    3908226.125,
                    4138780.4,
                    4264242.833333333,
                    2907124.567417184,
                    2828350.693543404,
                    2730181.81531798,
                    5471368.194653836,
                    3902820.9,
                    4138780.4,
                    4228704.125,
                    3908226.125,
                    4138780.4,
                    4264242.833333333,
                    2907124.567417184,
                    2828350.693543404,
                    2730181.81531798,
                    5471368.194653836,
                    3902820.9,
                    4138780.4,
                    4228704.125,
                    3908226.125,
                    4138780.4,
                    4264242.833333333,
                    2907124.567417184,
                    2828350.693543404,
                    2730181.81531798,
                    5471368.194653836,
                    3902820.9,
                    4138780.4,
                    4228704.125,
                    4138780.4,
                    3908226.125,
                    4264242.833333333,
                    2907124.567417184,
                    2828350.693543404,
                    2730181.81531798,
                    5471368.194653836,
                    3902820.9,
                    4138780.4,
                    4228704.125,
                    4138780.4,
                    3596696.2757694586,
                    4264242.833333333,
                    2907124.567417184,
                    2828350.693543404,
                    2730181.81531798,
                    5471368.194653836,
                    3902820.9,
                    4138780.4,
                    4228704.125,
                    4138780.4,
                    3596696.2757694586,
                    4264242.833333333,
                    2907124.567417184,
                    2828350.693543404,
                    2730181.81531798,
                    5471368.194653836,
                    3902820.9,
                    4138780.4,
                    4228704.125,
                    4138780.4,
                    3596696.2757694586,
                    4264242.833333333,
                    2907124.567417184,
                    2828350.693543404,
                    2730181.81531798,
                    5471368.194653836,
                    3902820.9,
                    4138780.4,
                    4228704.125,
                    4138780.4,
                    3596696.2757694586,
                    4264242.833333333,
                    2907124.567417184,
                    2828350.693543404,
                    2730181.81531798,
                    5471368.194653836,
                    3902820.9,
                    4138780.4,
                    4228704.125,
                    4138780.4,
                    3596696.2757694586,
                    3743119.247112771,
                    4264242.833333333,
                    2907124.567417184,
                    2828350.693543404,
                    2730181.81531798,
                    5471368.194653836,
                    3902820.9,
                    4138780.4,
                    4228704.125,
                    4138780.4,
                    3596696.2757694586,
                    3743119.247112771,
                    4264242.833333333,
                    2907124.567417184,
                    2828350.693543404,
                    2730181.81531798,
                    5471368.194653836,
                    3902820.9,
                    4138780.4,
                    4228704.125,
                    4138780.4,
                    3596696.2757694586,
                    3743119.247112771,
                    4264242.833333333,
                    2907124.567417184,
                    2828350.693543404,
                    2730181.81531798,
                    5471368.194653836,
                    3902820.9,
                    4138780.4,
                    4228704.125,
                    4138780.4,
                    3596696.2757694586,
                    3743119.247112771,
                    4264242.833333333,
                    2907124.567417184,
                    2828350.693543404,
                    2730181.81531798,
                    5471368.194653836,
                    3902820.9,
                    4138780.4,
                    4228704.125,
                    4138780.4,
                    3596696.2757694586,
                    3743119.247112771,
                    4264242.833333333,
                    2828350.693543404,
                    2691382.8988285214,
                    4264242.833333333,
                    2828350.693543404,
                    2691382.8988285214,
                    4264242.833333333,
                    2828350.693543404,
                    2691382.8988285214,
                    4264242.833333333,
                    2828350.693543404,
                    2691382.8988285214,
                    4264242.833333333,
                    2828350.693543404,
                    2691382.8988285214,
                    4264242.833333333,
                    2828350.693543404,
                    2691382.8988285214,
                    4264242.833333333,
                    2828350.693543404,
                    2691382.8988285214,
                    4264242.833333333,
                    2828350.693543404,
                    2691382.8988285214,
                    4264242.833333333,
                    2828350.693543404,
                    2691382.8988285214,
                    4264242.833333333,
                    2828350.693543404,
                    2691382.8988285214,
                    4264242.833333333,
                    2828350.693543404,
                    2691382.8988285214,
                    4264242.833333333,
                    2828350.693543404,
                    2691382.8988285214,
                    4264242.833333333,
                    2828350.693543404,
                    2691382.8988285214,
                    4264242.833333333,
                    2828350.693543404,
                    2691382.8988285214,
                    4264242.833333333,
                    2828350.693543404,
                    2691382.8988285214,
                    4264242.833333333,
                    2828350.693543404,
                    2691382.8988285214,
                    4264242.833333333,
                    2828350.693543404,
                    2691382.8988285214,
                    4264242.833333333,
                    2828350.693543404,
                    2691382.8988285214,
                    4264242.833333333,
                    2828350.693543404,
                    2691382.8988285214,
                    4264242.833333333,
                    2828350.693543404,
                    2691382.8988285214,
                    4264242.833333333,
                    2828350.693543404,
                    2691382.8988285214,
                    4264242.833333333,
                    2828350.693543404,
                    2691382.8988285214,
                    4264242.833333333,
                    2828350.693543404,
                    2691382.8988285214,
                    4264242.833333333,
                    2828350.693543404,
                    2691382.8988285214,
                    4264242.833333333,
                    2828350.693543404,
                    2691382.8988285214,
                    4264242.833333333,
                    2828350.693543404,
                    2691382.8988285214,
                    4264242.833333333,
                    2828350.693543404,
                    2691382.8988285214,
                    4264242.833333333,
                    2828350.693543404,
                    2691382.8988285214,
                    4264242.833333333,
                    2828350.693543404,
                    2691382.8988285214,
                    4264242.833333333,
                    2828350.693543404,
                    2691382.8988285214,
                    4264242.833333333,
                    2828350.693543404,
                    2691382.8988285214,
                    4243935,
                    4264242.833333333,
                    2828350.693543404,
                    2691382.8988285214,
                    4243935,
                    4264242.833333333,
                    2828350.693543404,
                    2691382.8988285214,
                    4243935,
                    4264242.833333333,
                    2828350.693543404,
                    2691382.8988285214,
                    4243935,
                    4264242.833333333,
                    2828350.693543404,
                    2691382.8988285214,
                    4243935
                  ],
                  "y0": " ",
                  "yaxis": "y"
                }
              ],
              "layout": {
                "font": {
                  "family": "Times New Roman",
                  "size": 12
                },
                "legend": {
                  "tracegroupgap": 0
                },
                "margin": {
                  "t": 60
                },
                "template": {
                  "data": {
                    "bar": [
                      {
                        "error_x": {
                          "color": "#2a3f5f"
                        },
                        "error_y": {
                          "color": "#2a3f5f"
                        },
                        "marker": {
                          "line": {
                            "color": "white",
                            "width": 0.5
                          },
                          "pattern": {
                            "fillmode": "overlay",
                            "size": 10,
                            "solidity": 0.2
                          }
                        },
                        "type": "bar"
                      }
                    ],
                    "barpolar": [
                      {
                        "marker": {
                          "line": {
                            "color": "white",
                            "width": 0.5
                          },
                          "pattern": {
                            "fillmode": "overlay",
                            "size": 10,
                            "solidity": 0.2
                          }
                        },
                        "type": "barpolar"
                      }
                    ],
                    "carpet": [
                      {
                        "aaxis": {
                          "endlinecolor": "#2a3f5f",
                          "gridcolor": "#C8D4E3",
                          "linecolor": "#C8D4E3",
                          "minorgridcolor": "#C8D4E3",
                          "startlinecolor": "#2a3f5f"
                        },
                        "baxis": {
                          "endlinecolor": "#2a3f5f",
                          "gridcolor": "#C8D4E3",
                          "linecolor": "#C8D4E3",
                          "minorgridcolor": "#C8D4E3",
                          "startlinecolor": "#2a3f5f"
                        },
                        "type": "carpet"
                      }
                    ],
                    "choropleth": [
                      {
                        "colorbar": {
                          "outlinewidth": 0,
                          "ticks": ""
                        },
                        "type": "choropleth"
                      }
                    ],
                    "contour": [
                      {
                        "colorbar": {
                          "outlinewidth": 0,
                          "ticks": ""
                        },
                        "colorscale": [
                          [
                            0,
                            "#0d0887"
                          ],
                          [
                            0.1111111111111111,
                            "#46039f"
                          ],
                          [
                            0.2222222222222222,
                            "#7201a8"
                          ],
                          [
                            0.3333333333333333,
                            "#9c179e"
                          ],
                          [
                            0.4444444444444444,
                            "#bd3786"
                          ],
                          [
                            0.5555555555555556,
                            "#d8576b"
                          ],
                          [
                            0.6666666666666666,
                            "#ed7953"
                          ],
                          [
                            0.7777777777777778,
                            "#fb9f3a"
                          ],
                          [
                            0.8888888888888888,
                            "#fdca26"
                          ],
                          [
                            1,
                            "#f0f921"
                          ]
                        ],
                        "type": "contour"
                      }
                    ],
                    "contourcarpet": [
                      {
                        "colorbar": {
                          "outlinewidth": 0,
                          "ticks": ""
                        },
                        "type": "contourcarpet"
                      }
                    ],
                    "heatmap": [
                      {
                        "colorbar": {
                          "outlinewidth": 0,
                          "ticks": ""
                        },
                        "colorscale": [
                          [
                            0,
                            "#0d0887"
                          ],
                          [
                            0.1111111111111111,
                            "#46039f"
                          ],
                          [
                            0.2222222222222222,
                            "#7201a8"
                          ],
                          [
                            0.3333333333333333,
                            "#9c179e"
                          ],
                          [
                            0.4444444444444444,
                            "#bd3786"
                          ],
                          [
                            0.5555555555555556,
                            "#d8576b"
                          ],
                          [
                            0.6666666666666666,
                            "#ed7953"
                          ],
                          [
                            0.7777777777777778,
                            "#fb9f3a"
                          ],
                          [
                            0.8888888888888888,
                            "#fdca26"
                          ],
                          [
                            1,
                            "#f0f921"
                          ]
                        ],
                        "type": "heatmap"
                      }
                    ],
                    "heatmapgl": [
                      {
                        "colorbar": {
                          "outlinewidth": 0,
                          "ticks": ""
                        },
                        "colorscale": [
                          [
                            0,
                            "#0d0887"
                          ],
                          [
                            0.1111111111111111,
                            "#46039f"
                          ],
                          [
                            0.2222222222222222,
                            "#7201a8"
                          ],
                          [
                            0.3333333333333333,
                            "#9c179e"
                          ],
                          [
                            0.4444444444444444,
                            "#bd3786"
                          ],
                          [
                            0.5555555555555556,
                            "#d8576b"
                          ],
                          [
                            0.6666666666666666,
                            "#ed7953"
                          ],
                          [
                            0.7777777777777778,
                            "#fb9f3a"
                          ],
                          [
                            0.8888888888888888,
                            "#fdca26"
                          ],
                          [
                            1,
                            "#f0f921"
                          ]
                        ],
                        "type": "heatmapgl"
                      }
                    ],
                    "histogram": [
                      {
                        "marker": {
                          "pattern": {
                            "fillmode": "overlay",
                            "size": 10,
                            "solidity": 0.2
                          }
                        },
                        "type": "histogram"
                      }
                    ],
                    "histogram2d": [
                      {
                        "colorbar": {
                          "outlinewidth": 0,
                          "ticks": ""
                        },
                        "colorscale": [
                          [
                            0,
                            "#0d0887"
                          ],
                          [
                            0.1111111111111111,
                            "#46039f"
                          ],
                          [
                            0.2222222222222222,
                            "#7201a8"
                          ],
                          [
                            0.3333333333333333,
                            "#9c179e"
                          ],
                          [
                            0.4444444444444444,
                            "#bd3786"
                          ],
                          [
                            0.5555555555555556,
                            "#d8576b"
                          ],
                          [
                            0.6666666666666666,
                            "#ed7953"
                          ],
                          [
                            0.7777777777777778,
                            "#fb9f3a"
                          ],
                          [
                            0.8888888888888888,
                            "#fdca26"
                          ],
                          [
                            1,
                            "#f0f921"
                          ]
                        ],
                        "type": "histogram2d"
                      }
                    ],
                    "histogram2dcontour": [
                      {
                        "colorbar": {
                          "outlinewidth": 0,
                          "ticks": ""
                        },
                        "colorscale": [
                          [
                            0,
                            "#0d0887"
                          ],
                          [
                            0.1111111111111111,
                            "#46039f"
                          ],
                          [
                            0.2222222222222222,
                            "#7201a8"
                          ],
                          [
                            0.3333333333333333,
                            "#9c179e"
                          ],
                          [
                            0.4444444444444444,
                            "#bd3786"
                          ],
                          [
                            0.5555555555555556,
                            "#d8576b"
                          ],
                          [
                            0.6666666666666666,
                            "#ed7953"
                          ],
                          [
                            0.7777777777777778,
                            "#fb9f3a"
                          ],
                          [
                            0.8888888888888888,
                            "#fdca26"
                          ],
                          [
                            1,
                            "#f0f921"
                          ]
                        ],
                        "type": "histogram2dcontour"
                      }
                    ],
                    "mesh3d": [
                      {
                        "colorbar": {
                          "outlinewidth": 0,
                          "ticks": ""
                        },
                        "type": "mesh3d"
                      }
                    ],
                    "parcoords": [
                      {
                        "line": {
                          "colorbar": {
                            "outlinewidth": 0,
                            "ticks": ""
                          }
                        },
                        "type": "parcoords"
                      }
                    ],
                    "pie": [
                      {
                        "automargin": true,
                        "type": "pie"
                      }
                    ],
                    "scatter": [
                      {
                        "fillpattern": {
                          "fillmode": "overlay",
                          "size": 10,
                          "solidity": 0.2
                        },
                        "type": "scatter"
                      }
                    ],
                    "scatter3d": [
                      {
                        "line": {
                          "colorbar": {
                            "outlinewidth": 0,
                            "ticks": ""
                          }
                        },
                        "marker": {
                          "colorbar": {
                            "outlinewidth": 0,
                            "ticks": ""
                          }
                        },
                        "type": "scatter3d"
                      }
                    ],
                    "scattercarpet": [
                      {
                        "marker": {
                          "colorbar": {
                            "outlinewidth": 0,
                            "ticks": ""
                          }
                        },
                        "type": "scattercarpet"
                      }
                    ],
                    "scattergeo": [
                      {
                        "marker": {
                          "colorbar": {
                            "outlinewidth": 0,
                            "ticks": ""
                          }
                        },
                        "type": "scattergeo"
                      }
                    ],
                    "scattergl": [
                      {
                        "marker": {
                          "colorbar": {
                            "outlinewidth": 0,
                            "ticks": ""
                          }
                        },
                        "type": "scattergl"
                      }
                    ],
                    "scattermapbox": [
                      {
                        "marker": {
                          "colorbar": {
                            "outlinewidth": 0,
                            "ticks": ""
                          }
                        },
                        "type": "scattermapbox"
                      }
                    ],
                    "scatterpolar": [
                      {
                        "marker": {
                          "colorbar": {
                            "outlinewidth": 0,
                            "ticks": ""
                          }
                        },
                        "type": "scatterpolar"
                      }
                    ],
                    "scatterpolargl": [
                      {
                        "marker": {
                          "colorbar": {
                            "outlinewidth": 0,
                            "ticks": ""
                          }
                        },
                        "type": "scatterpolargl"
                      }
                    ],
                    "scatterternary": [
                      {
                        "marker": {
                          "colorbar": {
                            "outlinewidth": 0,
                            "ticks": ""
                          }
                        },
                        "type": "scatterternary"
                      }
                    ],
                    "surface": [
                      {
                        "colorbar": {
                          "outlinewidth": 0,
                          "ticks": ""
                        },
                        "colorscale": [
                          [
                            0,
                            "#0d0887"
                          ],
                          [
                            0.1111111111111111,
                            "#46039f"
                          ],
                          [
                            0.2222222222222222,
                            "#7201a8"
                          ],
                          [
                            0.3333333333333333,
                            "#9c179e"
                          ],
                          [
                            0.4444444444444444,
                            "#bd3786"
                          ],
                          [
                            0.5555555555555556,
                            "#d8576b"
                          ],
                          [
                            0.6666666666666666,
                            "#ed7953"
                          ],
                          [
                            0.7777777777777778,
                            "#fb9f3a"
                          ],
                          [
                            0.8888888888888888,
                            "#fdca26"
                          ],
                          [
                            1,
                            "#f0f921"
                          ]
                        ],
                        "type": "surface"
                      }
                    ],
                    "table": [
                      {
                        "cells": {
                          "fill": {
                            "color": "#EBF0F8"
                          },
                          "line": {
                            "color": "white"
                          }
                        },
                        "header": {
                          "fill": {
                            "color": "#C8D4E3"
                          },
                          "line": {
                            "color": "white"
                          }
                        },
                        "type": "table"
                      }
                    ]
                  },
                  "layout": {
                    "annotationdefaults": {
                      "arrowcolor": "#2a3f5f",
                      "arrowhead": 0,
                      "arrowwidth": 1
                    },
                    "autotypenumbers": "strict",
                    "coloraxis": {
                      "colorbar": {
                        "outlinewidth": 0,
                        "ticks": ""
                      }
                    },
                    "colorscale": {
                      "diverging": [
                        [
                          0,
                          "#8e0152"
                        ],
                        [
                          0.1,
                          "#c51b7d"
                        ],
                        [
                          0.2,
                          "#de77ae"
                        ],
                        [
                          0.3,
                          "#f1b6da"
                        ],
                        [
                          0.4,
                          "#fde0ef"
                        ],
                        [
                          0.5,
                          "#f7f7f7"
                        ],
                        [
                          0.6,
                          "#e6f5d0"
                        ],
                        [
                          0.7,
                          "#b8e186"
                        ],
                        [
                          0.8,
                          "#7fbc41"
                        ],
                        [
                          0.9,
                          "#4d9221"
                        ],
                        [
                          1,
                          "#276419"
                        ]
                      ],
                      "sequential": [
                        [
                          0,
                          "#0d0887"
                        ],
                        [
                          0.1111111111111111,
                          "#46039f"
                        ],
                        [
                          0.2222222222222222,
                          "#7201a8"
                        ],
                        [
                          0.3333333333333333,
                          "#9c179e"
                        ],
                        [
                          0.4444444444444444,
                          "#bd3786"
                        ],
                        [
                          0.5555555555555556,
                          "#d8576b"
                        ],
                        [
                          0.6666666666666666,
                          "#ed7953"
                        ],
                        [
                          0.7777777777777778,
                          "#fb9f3a"
                        ],
                        [
                          0.8888888888888888,
                          "#fdca26"
                        ],
                        [
                          1,
                          "#f0f921"
                        ]
                      ],
                      "sequentialminus": [
                        [
                          0,
                          "#0d0887"
                        ],
                        [
                          0.1111111111111111,
                          "#46039f"
                        ],
                        [
                          0.2222222222222222,
                          "#7201a8"
                        ],
                        [
                          0.3333333333333333,
                          "#9c179e"
                        ],
                        [
                          0.4444444444444444,
                          "#bd3786"
                        ],
                        [
                          0.5555555555555556,
                          "#d8576b"
                        ],
                        [
                          0.6666666666666666,
                          "#ed7953"
                        ],
                        [
                          0.7777777777777778,
                          "#fb9f3a"
                        ],
                        [
                          0.8888888888888888,
                          "#fdca26"
                        ],
                        [
                          1,
                          "#f0f921"
                        ]
                      ]
                    },
                    "colorway": [
                      "#636efa",
                      "#EF553B",
                      "#00cc96",
                      "#ab63fa",
                      "#FFA15A",
                      "#19d3f3",
                      "#FF6692",
                      "#B6E880",
                      "#FF97FF",
                      "#FECB52"
                    ],
                    "font": {
                      "color": "#2a3f5f"
                    },
                    "geo": {
                      "bgcolor": "white",
                      "lakecolor": "white",
                      "landcolor": "white",
                      "showlakes": true,
                      "showland": true,
                      "subunitcolor": "#C8D4E3"
                    },
                    "hoverlabel": {
                      "align": "left"
                    },
                    "hovermode": "closest",
                    "mapbox": {
                      "style": "light"
                    },
                    "paper_bgcolor": "white",
                    "plot_bgcolor": "white",
                    "polar": {
                      "angularaxis": {
                        "gridcolor": "#EBF0F8",
                        "linecolor": "#EBF0F8",
                        "ticks": ""
                      },
                      "bgcolor": "white",
                      "radialaxis": {
                        "gridcolor": "#EBF0F8",
                        "linecolor": "#EBF0F8",
                        "ticks": ""
                      }
                    },
                    "scene": {
                      "xaxis": {
                        "backgroundcolor": "white",
                        "gridcolor": "#DFE8F3",
                        "gridwidth": 2,
                        "linecolor": "#EBF0F8",
                        "showbackground": true,
                        "ticks": "",
                        "zerolinecolor": "#EBF0F8"
                      },
                      "yaxis": {
                        "backgroundcolor": "white",
                        "gridcolor": "#DFE8F3",
                        "gridwidth": 2,
                        "linecolor": "#EBF0F8",
                        "showbackground": true,
                        "ticks": "",
                        "zerolinecolor": "#EBF0F8"
                      },
                      "zaxis": {
                        "backgroundcolor": "white",
                        "gridcolor": "#DFE8F3",
                        "gridwidth": 2,
                        "linecolor": "#EBF0F8",
                        "showbackground": true,
                        "ticks": "",
                        "zerolinecolor": "#EBF0F8"
                      }
                    },
                    "shapedefaults": {
                      "line": {
                        "color": "#2a3f5f"
                      }
                    },
                    "ternary": {
                      "aaxis": {
                        "gridcolor": "#DFE8F3",
                        "linecolor": "#A2B1C6",
                        "ticks": ""
                      },
                      "baxis": {
                        "gridcolor": "#DFE8F3",
                        "linecolor": "#A2B1C6",
                        "ticks": ""
                      },
                      "bgcolor": "white",
                      "caxis": {
                        "gridcolor": "#DFE8F3",
                        "linecolor": "#A2B1C6",
                        "ticks": ""
                      }
                    },
                    "title": {
                      "x": 0.05
                    },
                    "xaxis": {
                      "automargin": true,
                      "gridcolor": "#EBF0F8",
                      "linecolor": "#EBF0F8",
                      "ticks": "",
                      "title": {
                        "standoff": 15
                      },
                      "zerolinecolor": "#EBF0F8",
                      "zerolinewidth": 2
                    },
                    "yaxis": {
                      "automargin": true,
                      "gridcolor": "#EBF0F8",
                      "linecolor": "#EBF0F8",
                      "ticks": "",
                      "title": {
                        "standoff": 15
                      },
                      "zerolinecolor": "#EBF0F8",
                      "zerolinewidth": 2
                    }
                  }
                },
                "title": {
                  "text": "Violin plot of the pareto solutions for each epoch (10 epochs) for the processingTime objective"
                },
                "violinmode": "group",
                "xaxis": {
                  "anchor": "y",
                  "domain": [
                    0,
                    1
                  ],
                  "title": {
                    "text": "Epoch"
                  }
                },
                "yaxis": {
                  "anchor": "x",
                  "domain": [
                    0,
                    1
                  ],
                  "title": {
                    "text": "Processing time (s)"
                  }
                }
              }
            }
          },
          "metadata": {},
          "output_type": "display_data"
        },
        {
          "data": {
            "application/vnd.plotly.v1+json": {
              "config": {
                "plotlyServerURL": "https://plot.ly"
              },
              "data": [
                {
                  "alignmentgroup": "True",
                  "box": {
                    "visible": true
                  },
                  "hovertemplate": "Epoch=%{x}<br>Value=%{y}<extra></extra>",
                  "legendgroup": "",
                  "marker": {
                    "color": "#1f77b4"
                  },
                  "name": "",
                  "offsetgroup": "",
                  "orientation": "v",
                  "points": false,
                  "scalegroup": "True",
                  "showlegend": false,
                  "type": "violin",
                  "x": [
                    "1",
                    "1",
                    "1",
                    "1",
                    "2",
                    "2",
                    "2",
                    "2",
                    "3",
                    "3",
                    "3",
                    "3",
                    "4",
                    "4",
                    "4",
                    "4",
                    "5",
                    "5",
                    "5",
                    "6",
                    "6",
                    "6",
                    "7",
                    "7",
                    "7",
                    "8",
                    "8",
                    "8",
                    "9",
                    "9",
                    "9",
                    "10",
                    "10",
                    "10",
                    "10",
                    "11",
                    "11",
                    "11",
                    "11",
                    "12",
                    "12",
                    "12",
                    "12",
                    "13",
                    "13",
                    "13",
                    "13",
                    "14",
                    "14",
                    "14",
                    "14",
                    "15",
                    "15",
                    "15",
                    "15",
                    "16",
                    "16",
                    "16",
                    "16",
                    "17",
                    "17",
                    "17",
                    "17",
                    "18",
                    "18",
                    "18",
                    "18",
                    "19",
                    "19",
                    "19",
                    "19",
                    "20",
                    "20",
                    "20",
                    "20",
                    "20",
                    "21",
                    "21",
                    "21",
                    "21",
                    "21",
                    "22",
                    "22",
                    "22",
                    "22",
                    "22",
                    "22",
                    "23",
                    "23",
                    "23",
                    "23",
                    "23",
                    "23",
                    "24",
                    "24",
                    "24",
                    "24",
                    "24",
                    "24",
                    "25",
                    "25",
                    "25",
                    "25",
                    "25",
                    "25",
                    "26",
                    "26",
                    "26",
                    "26",
                    "26",
                    "26",
                    "27",
                    "27",
                    "27",
                    "27",
                    "27",
                    "27",
                    "28",
                    "28",
                    "28",
                    "28",
                    "28",
                    "28",
                    "29",
                    "29",
                    "29",
                    "29",
                    "29",
                    "29",
                    "29",
                    "30",
                    "30",
                    "30",
                    "30",
                    "30",
                    "30",
                    "30",
                    "31",
                    "31",
                    "31",
                    "31",
                    "31",
                    "31",
                    "31",
                    "32",
                    "32",
                    "32",
                    "32",
                    "32",
                    "32",
                    "32",
                    "33",
                    "33",
                    "33",
                    "33",
                    "33",
                    "33",
                    "33",
                    "34",
                    "34",
                    "34",
                    "34",
                    "34",
                    "34",
                    "34",
                    "35",
                    "35",
                    "35",
                    "35",
                    "35",
                    "35",
                    "35",
                    "36",
                    "36",
                    "36",
                    "36",
                    "36",
                    "36",
                    "36",
                    "36",
                    "37",
                    "37",
                    "37",
                    "37",
                    "37",
                    "37",
                    "37",
                    "37",
                    "38",
                    "38",
                    "38",
                    "38",
                    "38",
                    "38",
                    "38",
                    "38",
                    "39",
                    "39",
                    "39",
                    "39",
                    "39",
                    "39",
                    "39",
                    "39",
                    "40",
                    "40",
                    "40",
                    "40",
                    "40",
                    "40",
                    "40",
                    "40",
                    "41",
                    "41",
                    "41",
                    "41",
                    "41",
                    "41",
                    "41",
                    "41",
                    "42",
                    "42",
                    "42",
                    "42",
                    "42",
                    "42",
                    "42",
                    "42",
                    "43",
                    "43",
                    "43",
                    "43",
                    "43",
                    "43",
                    "43",
                    "43",
                    "44",
                    "44",
                    "44",
                    "44",
                    "44",
                    "44",
                    "44",
                    "44",
                    "45",
                    "45",
                    "45",
                    "45",
                    "45",
                    "45",
                    "45",
                    "45",
                    "46",
                    "46",
                    "46",
                    "46",
                    "46",
                    "46",
                    "46",
                    "46",
                    "47",
                    "47",
                    "47",
                    "47",
                    "47",
                    "47",
                    "47",
                    "47",
                    "47",
                    "48",
                    "48",
                    "48",
                    "48",
                    "48",
                    "48",
                    "48",
                    "48",
                    "48",
                    "49",
                    "49",
                    "49",
                    "49",
                    "49",
                    "49",
                    "49",
                    "49",
                    "49",
                    "49",
                    "50",
                    "50",
                    "50",
                    "50",
                    "50",
                    "50",
                    "50",
                    "50",
                    "50",
                    "50",
                    "51",
                    "51",
                    "51",
                    "51",
                    "51",
                    "51",
                    "51",
                    "51",
                    "51",
                    "51",
                    "52",
                    "52",
                    "52",
                    "52",
                    "52",
                    "52",
                    "52",
                    "52",
                    "52",
                    "52",
                    "53",
                    "53",
                    "53",
                    "53",
                    "53",
                    "53",
                    "53",
                    "53",
                    "53",
                    "53",
                    "54",
                    "54",
                    "54",
                    "54",
                    "54",
                    "54",
                    "54",
                    "54",
                    "54",
                    "54",
                    "55",
                    "55",
                    "55",
                    "55",
                    "55",
                    "55",
                    "55",
                    "55",
                    "55",
                    "55",
                    "56",
                    "56",
                    "56",
                    "56",
                    "56",
                    "56",
                    "56",
                    "56",
                    "56",
                    "56",
                    "57",
                    "57",
                    "57",
                    "57",
                    "57",
                    "57",
                    "57",
                    "57",
                    "57",
                    "57",
                    "58",
                    "58",
                    "58",
                    "58",
                    "58",
                    "58",
                    "58",
                    "58",
                    "58",
                    "58",
                    "59",
                    "59",
                    "59",
                    "59",
                    "59",
                    "59",
                    "59",
                    "59",
                    "59",
                    "59",
                    "60",
                    "60",
                    "60",
                    "60",
                    "60",
                    "60",
                    "60",
                    "60",
                    "60",
                    "60",
                    "61",
                    "61",
                    "61",
                    "61",
                    "61",
                    "61",
                    "61",
                    "61",
                    "61",
                    "61",
                    "61",
                    "62",
                    "62",
                    "62",
                    "62",
                    "62",
                    "62",
                    "62",
                    "62",
                    "62",
                    "62",
                    "62",
                    "63",
                    "63",
                    "63",
                    "63",
                    "63",
                    "63",
                    "63",
                    "63",
                    "63",
                    "63",
                    "63",
                    "64",
                    "64",
                    "64",
                    "64",
                    "64",
                    "64",
                    "64",
                    "64",
                    "64",
                    "64",
                    "64",
                    "65",
                    "65",
                    "65",
                    "65",
                    "65",
                    "65",
                    "65",
                    "65",
                    "65",
                    "65",
                    "65",
                    "66",
                    "66",
                    "66",
                    "67",
                    "67",
                    "67",
                    "68",
                    "68",
                    "68",
                    "69",
                    "69",
                    "69",
                    "70",
                    "70",
                    "70",
                    "71",
                    "71",
                    "71",
                    "72",
                    "72",
                    "72",
                    "73",
                    "73",
                    "73",
                    "74",
                    "74",
                    "74",
                    "75",
                    "75",
                    "75",
                    "76",
                    "76",
                    "76",
                    "77",
                    "77",
                    "77",
                    "78",
                    "78",
                    "78",
                    "79",
                    "79",
                    "79",
                    "80",
                    "80",
                    "80",
                    "81",
                    "81",
                    "81",
                    "82",
                    "82",
                    "82",
                    "83",
                    "83",
                    "83",
                    "84",
                    "84",
                    "84",
                    "85",
                    "85",
                    "85",
                    "86",
                    "86",
                    "86",
                    "87",
                    "87",
                    "87",
                    "88",
                    "88",
                    "88",
                    "89",
                    "89",
                    "89",
                    "90",
                    "90",
                    "90",
                    "91",
                    "91",
                    "91",
                    "92",
                    "92",
                    "92",
                    "93",
                    "93",
                    "93",
                    "94",
                    "94",
                    "94",
                    "95",
                    "95",
                    "95",
                    "96",
                    "96",
                    "96",
                    "96",
                    "97",
                    "97",
                    "97",
                    "97",
                    "98",
                    "98",
                    "98",
                    "98",
                    "99",
                    "99",
                    "99",
                    "99",
                    "100",
                    "100",
                    "100",
                    "100"
                  ],
                  "x0": " ",
                  "xaxis": "x",
                  "y": [
                    4920514.588480619,
                    5956447.210629755,
                    7933324.406266126,
                    10431508.46328834,
                    4920514.588480619,
                    5956447.210629755,
                    7933324.406266126,
                    10431508.46328834,
                    4920514.588480619,
                    10431508.46328834,
                    2850520.678293016,
                    6438101.503186027,
                    4920514.588480619,
                    10431508.46328834,
                    2850520.678293016,
                    6438101.503186027,
                    10431508.46328834,
                    2850520.678293016,
                    4340851.982729314,
                    10431508.46328834,
                    2850520.678293016,
                    4340851.982729314,
                    10431508.46328834,
                    2850520.678293016,
                    4340851.982729314,
                    10431508.46328834,
                    2850520.678293016,
                    4340851.982729314,
                    10431508.46328834,
                    2850520.678293016,
                    4340851.982729314,
                    10431508.46328834,
                    2850520.678293016,
                    4340851.982729314,
                    4430915.87809575,
                    10431508.46328834,
                    2850520.678293016,
                    4340851.982729314,
                    4430915.87809575,
                    10431508.46328834,
                    2850520.678293016,
                    4340851.982729314,
                    4430915.87809575,
                    10431508.46328834,
                    2850520.678293016,
                    4340851.982729314,
                    4430915.87809575,
                    10431508.46328834,
                    2850520.678293016,
                    4340851.982729314,
                    4430915.87809575,
                    10431508.46328834,
                    2850520.678293016,
                    4340851.982729314,
                    4430915.87809575,
                    10431508.46328834,
                    2850520.678293016,
                    4340851.982729314,
                    4430915.87809575,
                    10431508.46328834,
                    2850520.678293016,
                    4340851.982729314,
                    4430915.87809575,
                    10431508.46328834,
                    2850520.678293016,
                    4340851.982729314,
                    4430915.87809575,
                    2850520.678293016,
                    4340851.982729314,
                    6599550.806535725,
                    4430915.87809575,
                    2850520.678293016,
                    4340851.982729314,
                    6599550.806535725,
                    4430915.87809575,
                    6250158.648131214,
                    2850520.678293016,
                    4340851.982729314,
                    6599550.806535725,
                    4430915.87809575,
                    6250158.648131214,
                    2850520.678293016,
                    4340851.982729314,
                    6599550.806535725,
                    5305882.206593985,
                    4430915.87809575,
                    6250158.648131214,
                    2850520.678293016,
                    4340851.982729314,
                    6599550.806535725,
                    5305882.206593985,
                    4430915.87809575,
                    6250158.648131214,
                    2850520.678293016,
                    4340851.982729314,
                    6599550.806535725,
                    5305882.206593985,
                    4430915.87809575,
                    6250158.648131214,
                    2850520.678293016,
                    4340851.982729314,
                    6599550.806535725,
                    5305882.206593985,
                    4430915.87809575,
                    6250158.648131214,
                    2850520.678293016,
                    4340851.982729314,
                    6599550.806535725,
                    5305882.206593985,
                    4430915.87809575,
                    6250158.648131214,
                    2850520.678293016,
                    4340851.982729314,
                    6599550.806535725,
                    5305882.206593985,
                    4430915.87809575,
                    6250158.648131214,
                    2850520.678293016,
                    4340851.982729314,
                    6599550.806535725,
                    5305882.206593985,
                    4430915.87809575,
                    6250158.648131214,
                    2850520.678293016,
                    4340851.982729314,
                    6599550.806535725,
                    5305882.206593985,
                    4430915.87809575,
                    6250158.648131214,
                    3849644.4030946344,
                    2850520.678293016,
                    4340851.982729314,
                    6599550.806535725,
                    5305882.206593985,
                    4430915.87809575,
                    6250158.648131214,
                    3849644.4030946344,
                    2850520.678293016,
                    4340851.982729314,
                    6599550.806535725,
                    5305882.206593985,
                    4430915.87809575,
                    6250158.648131214,
                    3849644.4030946344,
                    2850520.678293016,
                    4340851.982729314,
                    6599550.806535725,
                    5305882.206593985,
                    4430915.87809575,
                    6250158.648131214,
                    3849644.4030946344,
                    2850520.678293016,
                    4340851.982729314,
                    6599550.806535725,
                    5305882.206593985,
                    4430915.87809575,
                    6250158.648131214,
                    3849644.4030946344,
                    2850520.678293016,
                    4340851.982729314,
                    6599550.806535725,
                    5305882.206593985,
                    4430915.87809575,
                    6250158.648131214,
                    3849644.4030946344,
                    2850520.678293016,
                    4340851.982729314,
                    6599550.806535725,
                    5305882.206593985,
                    4430915.87809575,
                    6250158.648131214,
                    3849644.4030946344,
                    2850520.678293016,
                    4340851.982729314,
                    6599550.806535725,
                    5305882.206593985,
                    5070614.011440614,
                    4430915.87809575,
                    6250158.648131214,
                    3849644.4030946344,
                    2850520.678293016,
                    4340851.982729314,
                    6599550.806535725,
                    5305882.206593985,
                    5070614.011440614,
                    4430915.87809575,
                    6250158.648131214,
                    3849644.4030946344,
                    2850520.678293016,
                    4340851.982729314,
                    6599550.806535725,
                    5305882.206593985,
                    5070614.011440614,
                    4430915.87809575,
                    6250158.648131214,
                    3849644.4030946344,
                    2850520.678293016,
                    4340851.982729314,
                    6599550.806535725,
                    5305882.206593985,
                    5070614.011440614,
                    4430915.87809575,
                    6250158.648131214,
                    3849644.4030946344,
                    2850520.678293016,
                    4340851.982729314,
                    6599550.806535725,
                    5305882.206593985,
                    5070614.011440614,
                    4430915.87809575,
                    6250158.648131214,
                    3849644.4030946344,
                    2850520.678293016,
                    4340851.982729314,
                    6599550.806535725,
                    5305882.206593985,
                    5070614.011440614,
                    4430915.87809575,
                    6250158.648131214,
                    3849644.4030946344,
                    2850520.678293016,
                    4340851.982729314,
                    6599550.806535725,
                    5305882.206593985,
                    5070614.011440614,
                    4430915.87809575,
                    6250158.648131214,
                    3849644.4030946344,
                    2850520.678293016,
                    4340851.982729314,
                    6599550.806535725,
                    5305882.206593985,
                    5070614.011440614,
                    4430915.87809575,
                    3849644.4030946344,
                    6250158.648131214,
                    2850520.678293016,
                    4340851.982729314,
                    6599550.806535725,
                    5305882.206593985,
                    5070614.011440614,
                    4430915.87809575,
                    3849644.4030946344,
                    6250158.648131214,
                    2850520.678293016,
                    4340851.982729314,
                    6599550.806535725,
                    5305882.206593985,
                    5070614.011440614,
                    4430915.87809575,
                    3849644.4030946344,
                    6250158.648131214,
                    2850520.678293016,
                    4340851.982729314,
                    6599550.806535725,
                    5305882.206593985,
                    5070614.011440614,
                    4430915.87809575,
                    3849644.4030946344,
                    6250158.648131214,
                    2850520.678293016,
                    4340851.982729314,
                    6599550.806535725,
                    5305882.206593985,
                    5070614.011440614,
                    4430915.87809575,
                    3849644.4030946344,
                    6250158.648131214,
                    5123217.505847506,
                    2850520.678293016,
                    4340851.982729314,
                    6599550.806535725,
                    5305882.206593985,
                    5070614.011440614,
                    4430915.87809575,
                    3849644.4030946344,
                    6250158.648131214,
                    5123217.505847506,
                    2850520.678293016,
                    4340851.982729314,
                    6599550.806535725,
                    5305882.206593985,
                    5070614.011440614,
                    4430915.87809575,
                    3849644.4030946344,
                    6250158.648131214,
                    5123217.505847506,
                    3713468.4570657834,
                    2850520.678293016,
                    4340851.982729314,
                    6599550.806535725,
                    5305882.206593985,
                    5070614.011440614,
                    4430915.87809575,
                    3849644.4030946344,
                    6250158.648131214,
                    5123217.505847506,
                    3713468.4570657834,
                    2850520.678293016,
                    4340851.982729314,
                    6599550.806535725,
                    5305882.206593985,
                    5070614.011440614,
                    4430915.87809575,
                    3849644.4030946344,
                    6250158.648131214,
                    5123217.505847506,
                    3713468.4570657834,
                    2850520.678293016,
                    4340851.982729314,
                    6599550.806535725,
                    5305882.206593985,
                    5070614.011440614,
                    4430915.87809575,
                    3849644.4030946344,
                    6250158.648131214,
                    5123217.505847506,
                    3713468.4570657834,
                    2850520.678293016,
                    4340851.982729314,
                    6599550.806535725,
                    5305882.206593985,
                    5070614.011440614,
                    4430915.87809575,
                    3849644.4030946344,
                    6250158.648131214,
                    5123217.505847506,
                    3713468.4570657834,
                    2850520.678293016,
                    4340851.982729314,
                    6599550.806535725,
                    5305882.206593985,
                    5070614.011440614,
                    4430915.87809575,
                    3849644.4030946344,
                    6250158.648131214,
                    5123217.505847506,
                    3713468.4570657834,
                    2850520.678293016,
                    4340851.982729314,
                    6599550.806535725,
                    5305882.206593985,
                    5070614.011440614,
                    4430915.87809575,
                    3849644.4030946344,
                    6250158.648131214,
                    5123217.505847506,
                    3713468.4570657834,
                    2850520.678293016,
                    4340851.982729314,
                    6599550.806535725,
                    5305882.206593985,
                    5070614.011440614,
                    4430915.87809575,
                    3849644.4030946344,
                    6250158.648131214,
                    3713468.4570657834,
                    5123217.505847506,
                    2850520.678293016,
                    4340851.982729314,
                    6599550.806535725,
                    5305882.206593985,
                    5070614.011440614,
                    4430915.87809575,
                    3849644.4030946344,
                    6250158.648131214,
                    3713468.4570657834,
                    4895444.697472739,
                    2850520.678293016,
                    4340851.982729314,
                    6599550.806535725,
                    5305882.206593985,
                    5070614.011440614,
                    4430915.87809575,
                    3849644.4030946344,
                    6250158.648131214,
                    3713468.4570657834,
                    4895444.697472739,
                    2850520.678293016,
                    4340851.982729314,
                    6599550.806535725,
                    5305882.206593985,
                    5070614.011440614,
                    4430915.87809575,
                    3849644.4030946344,
                    6250158.648131214,
                    3713468.4570657834,
                    4895444.697472739,
                    2850520.678293016,
                    4340851.982729314,
                    6599550.806535725,
                    5305882.206593985,
                    5070614.011440614,
                    4430915.87809575,
                    3849644.4030946344,
                    6250158.648131214,
                    3713468.4570657834,
                    4895444.697472739,
                    2850520.678293016,
                    4340851.982729314,
                    6599550.806535725,
                    5305882.206593985,
                    5070614.011440614,
                    4430915.87809575,
                    3849644.4030946344,
                    6250158.648131214,
                    3713468.4570657834,
                    4895444.697472739,
                    6292360.691785097,
                    2850520.678293016,
                    4340851.982729314,
                    6599550.806535725,
                    5305882.206593985,
                    5070614.011440614,
                    4430915.87809575,
                    3849644.4030946344,
                    6250158.648131214,
                    3713468.4570657834,
                    4895444.697472739,
                    6292360.691785097,
                    2850520.678293016,
                    4340851.982729314,
                    6599550.806535725,
                    5305882.206593985,
                    5070614.011440614,
                    4430915.87809575,
                    3849644.4030946344,
                    6250158.648131214,
                    3713468.4570657834,
                    4895444.697472739,
                    6292360.691785097,
                    2850520.678293016,
                    4340851.982729314,
                    6599550.806535725,
                    5305882.206593985,
                    5070614.011440614,
                    4430915.87809575,
                    3849644.4030946344,
                    6250158.648131214,
                    3713468.4570657834,
                    4895444.697472739,
                    6292360.691785097,
                    2850520.678293016,
                    4340851.982729314,
                    6599550.806535725,
                    5305882.206593985,
                    5070614.011440614,
                    4430915.87809575,
                    3849644.4030946344,
                    6250158.648131214,
                    3713468.4570657834,
                    4895444.697472739,
                    6292360.691785097,
                    2850520.678293016,
                    6599550.806535725,
                    2932969.278463312,
                    2850520.678293016,
                    6599550.806535725,
                    2932969.278463312,
                    2850520.678293016,
                    6599550.806535725,
                    2932969.278463312,
                    2850520.678293016,
                    6599550.806535725,
                    2932969.278463312,
                    2850520.678293016,
                    6599550.806535725,
                    2932969.278463312,
                    2850520.678293016,
                    6599550.806535725,
                    2932969.278463312,
                    2850520.678293016,
                    6599550.806535725,
                    2932969.278463312,
                    2850520.678293016,
                    6599550.806535725,
                    2932969.278463312,
                    2850520.678293016,
                    6599550.806535725,
                    2932969.278463312,
                    2850520.678293016,
                    6599550.806535725,
                    2932969.278463312,
                    2850520.678293016,
                    6599550.806535725,
                    2932969.278463312,
                    2850520.678293016,
                    6599550.806535725,
                    2932969.278463312,
                    2850520.678293016,
                    6599550.806535725,
                    2932969.278463312,
                    2850520.678293016,
                    6599550.806535725,
                    2932969.278463312,
                    2850520.678293016,
                    6599550.806535725,
                    2932969.278463312,
                    2850520.678293016,
                    6599550.806535725,
                    2932969.278463312,
                    2850520.678293016,
                    6599550.806535725,
                    2932969.278463312,
                    2850520.678293016,
                    6599550.806535725,
                    2932969.278463312,
                    2850520.678293016,
                    6599550.806535725,
                    2932969.278463312,
                    2850520.678293016,
                    6599550.806535725,
                    2932969.278463312,
                    2850520.678293016,
                    6599550.806535725,
                    2932969.278463312,
                    2850520.678293016,
                    6599550.806535725,
                    2932969.278463312,
                    2850520.678293016,
                    6599550.806535725,
                    2932969.278463312,
                    2850520.678293016,
                    6599550.806535725,
                    2932969.278463312,
                    2850520.678293016,
                    6599550.806535725,
                    2932969.278463312,
                    2850520.678293016,
                    6599550.806535725,
                    2932969.278463312,
                    2850520.678293016,
                    6599550.806535725,
                    2932969.278463312,
                    2850520.678293016,
                    6599550.806535725,
                    2932969.278463312,
                    2850520.678293016,
                    6599550.806535725,
                    2932969.278463312,
                    2850520.678293016,
                    6599550.806535725,
                    2932969.278463312,
                    2850520.678293016,
                    6599550.806535725,
                    2932969.278463312,
                    5788356.390973598,
                    2850520.678293016,
                    6599550.806535725,
                    2932969.278463312,
                    5788356.390973598,
                    2850520.678293016,
                    6599550.806535725,
                    2932969.278463312,
                    5788356.390973598,
                    2850520.678293016,
                    6599550.806535725,
                    2932969.278463312,
                    5788356.390973598,
                    2850520.678293016,
                    6599550.806535725,
                    2932969.278463312,
                    5788356.390973598
                  ],
                  "y0": " ",
                  "yaxis": "y"
                }
              ],
              "layout": {
                "font": {
                  "family": "Times New Roman",
                  "size": 12
                },
                "legend": {
                  "tracegroupgap": 0
                },
                "margin": {
                  "t": 60
                },
                "template": {
                  "data": {
                    "bar": [
                      {
                        "error_x": {
                          "color": "#2a3f5f"
                        },
                        "error_y": {
                          "color": "#2a3f5f"
                        },
                        "marker": {
                          "line": {
                            "color": "white",
                            "width": 0.5
                          },
                          "pattern": {
                            "fillmode": "overlay",
                            "size": 10,
                            "solidity": 0.2
                          }
                        },
                        "type": "bar"
                      }
                    ],
                    "barpolar": [
                      {
                        "marker": {
                          "line": {
                            "color": "white",
                            "width": 0.5
                          },
                          "pattern": {
                            "fillmode": "overlay",
                            "size": 10,
                            "solidity": 0.2
                          }
                        },
                        "type": "barpolar"
                      }
                    ],
                    "carpet": [
                      {
                        "aaxis": {
                          "endlinecolor": "#2a3f5f",
                          "gridcolor": "#C8D4E3",
                          "linecolor": "#C8D4E3",
                          "minorgridcolor": "#C8D4E3",
                          "startlinecolor": "#2a3f5f"
                        },
                        "baxis": {
                          "endlinecolor": "#2a3f5f",
                          "gridcolor": "#C8D4E3",
                          "linecolor": "#C8D4E3",
                          "minorgridcolor": "#C8D4E3",
                          "startlinecolor": "#2a3f5f"
                        },
                        "type": "carpet"
                      }
                    ],
                    "choropleth": [
                      {
                        "colorbar": {
                          "outlinewidth": 0,
                          "ticks": ""
                        },
                        "type": "choropleth"
                      }
                    ],
                    "contour": [
                      {
                        "colorbar": {
                          "outlinewidth": 0,
                          "ticks": ""
                        },
                        "colorscale": [
                          [
                            0,
                            "#0d0887"
                          ],
                          [
                            0.1111111111111111,
                            "#46039f"
                          ],
                          [
                            0.2222222222222222,
                            "#7201a8"
                          ],
                          [
                            0.3333333333333333,
                            "#9c179e"
                          ],
                          [
                            0.4444444444444444,
                            "#bd3786"
                          ],
                          [
                            0.5555555555555556,
                            "#d8576b"
                          ],
                          [
                            0.6666666666666666,
                            "#ed7953"
                          ],
                          [
                            0.7777777777777778,
                            "#fb9f3a"
                          ],
                          [
                            0.8888888888888888,
                            "#fdca26"
                          ],
                          [
                            1,
                            "#f0f921"
                          ]
                        ],
                        "type": "contour"
                      }
                    ],
                    "contourcarpet": [
                      {
                        "colorbar": {
                          "outlinewidth": 0,
                          "ticks": ""
                        },
                        "type": "contourcarpet"
                      }
                    ],
                    "heatmap": [
                      {
                        "colorbar": {
                          "outlinewidth": 0,
                          "ticks": ""
                        },
                        "colorscale": [
                          [
                            0,
                            "#0d0887"
                          ],
                          [
                            0.1111111111111111,
                            "#46039f"
                          ],
                          [
                            0.2222222222222222,
                            "#7201a8"
                          ],
                          [
                            0.3333333333333333,
                            "#9c179e"
                          ],
                          [
                            0.4444444444444444,
                            "#bd3786"
                          ],
                          [
                            0.5555555555555556,
                            "#d8576b"
                          ],
                          [
                            0.6666666666666666,
                            "#ed7953"
                          ],
                          [
                            0.7777777777777778,
                            "#fb9f3a"
                          ],
                          [
                            0.8888888888888888,
                            "#fdca26"
                          ],
                          [
                            1,
                            "#f0f921"
                          ]
                        ],
                        "type": "heatmap"
                      }
                    ],
                    "heatmapgl": [
                      {
                        "colorbar": {
                          "outlinewidth": 0,
                          "ticks": ""
                        },
                        "colorscale": [
                          [
                            0,
                            "#0d0887"
                          ],
                          [
                            0.1111111111111111,
                            "#46039f"
                          ],
                          [
                            0.2222222222222222,
                            "#7201a8"
                          ],
                          [
                            0.3333333333333333,
                            "#9c179e"
                          ],
                          [
                            0.4444444444444444,
                            "#bd3786"
                          ],
                          [
                            0.5555555555555556,
                            "#d8576b"
                          ],
                          [
                            0.6666666666666666,
                            "#ed7953"
                          ],
                          [
                            0.7777777777777778,
                            "#fb9f3a"
                          ],
                          [
                            0.8888888888888888,
                            "#fdca26"
                          ],
                          [
                            1,
                            "#f0f921"
                          ]
                        ],
                        "type": "heatmapgl"
                      }
                    ],
                    "histogram": [
                      {
                        "marker": {
                          "pattern": {
                            "fillmode": "overlay",
                            "size": 10,
                            "solidity": 0.2
                          }
                        },
                        "type": "histogram"
                      }
                    ],
                    "histogram2d": [
                      {
                        "colorbar": {
                          "outlinewidth": 0,
                          "ticks": ""
                        },
                        "colorscale": [
                          [
                            0,
                            "#0d0887"
                          ],
                          [
                            0.1111111111111111,
                            "#46039f"
                          ],
                          [
                            0.2222222222222222,
                            "#7201a8"
                          ],
                          [
                            0.3333333333333333,
                            "#9c179e"
                          ],
                          [
                            0.4444444444444444,
                            "#bd3786"
                          ],
                          [
                            0.5555555555555556,
                            "#d8576b"
                          ],
                          [
                            0.6666666666666666,
                            "#ed7953"
                          ],
                          [
                            0.7777777777777778,
                            "#fb9f3a"
                          ],
                          [
                            0.8888888888888888,
                            "#fdca26"
                          ],
                          [
                            1,
                            "#f0f921"
                          ]
                        ],
                        "type": "histogram2d"
                      }
                    ],
                    "histogram2dcontour": [
                      {
                        "colorbar": {
                          "outlinewidth": 0,
                          "ticks": ""
                        },
                        "colorscale": [
                          [
                            0,
                            "#0d0887"
                          ],
                          [
                            0.1111111111111111,
                            "#46039f"
                          ],
                          [
                            0.2222222222222222,
                            "#7201a8"
                          ],
                          [
                            0.3333333333333333,
                            "#9c179e"
                          ],
                          [
                            0.4444444444444444,
                            "#bd3786"
                          ],
                          [
                            0.5555555555555556,
                            "#d8576b"
                          ],
                          [
                            0.6666666666666666,
                            "#ed7953"
                          ],
                          [
                            0.7777777777777778,
                            "#fb9f3a"
                          ],
                          [
                            0.8888888888888888,
                            "#fdca26"
                          ],
                          [
                            1,
                            "#f0f921"
                          ]
                        ],
                        "type": "histogram2dcontour"
                      }
                    ],
                    "mesh3d": [
                      {
                        "colorbar": {
                          "outlinewidth": 0,
                          "ticks": ""
                        },
                        "type": "mesh3d"
                      }
                    ],
                    "parcoords": [
                      {
                        "line": {
                          "colorbar": {
                            "outlinewidth": 0,
                            "ticks": ""
                          }
                        },
                        "type": "parcoords"
                      }
                    ],
                    "pie": [
                      {
                        "automargin": true,
                        "type": "pie"
                      }
                    ],
                    "scatter": [
                      {
                        "fillpattern": {
                          "fillmode": "overlay",
                          "size": 10,
                          "solidity": 0.2
                        },
                        "type": "scatter"
                      }
                    ],
                    "scatter3d": [
                      {
                        "line": {
                          "colorbar": {
                            "outlinewidth": 0,
                            "ticks": ""
                          }
                        },
                        "marker": {
                          "colorbar": {
                            "outlinewidth": 0,
                            "ticks": ""
                          }
                        },
                        "type": "scatter3d"
                      }
                    ],
                    "scattercarpet": [
                      {
                        "marker": {
                          "colorbar": {
                            "outlinewidth": 0,
                            "ticks": ""
                          }
                        },
                        "type": "scattercarpet"
                      }
                    ],
                    "scattergeo": [
                      {
                        "marker": {
                          "colorbar": {
                            "outlinewidth": 0,
                            "ticks": ""
                          }
                        },
                        "type": "scattergeo"
                      }
                    ],
                    "scattergl": [
                      {
                        "marker": {
                          "colorbar": {
                            "outlinewidth": 0,
                            "ticks": ""
                          }
                        },
                        "type": "scattergl"
                      }
                    ],
                    "scattermapbox": [
                      {
                        "marker": {
                          "colorbar": {
                            "outlinewidth": 0,
                            "ticks": ""
                          }
                        },
                        "type": "scattermapbox"
                      }
                    ],
                    "scatterpolar": [
                      {
                        "marker": {
                          "colorbar": {
                            "outlinewidth": 0,
                            "ticks": ""
                          }
                        },
                        "type": "scatterpolar"
                      }
                    ],
                    "scatterpolargl": [
                      {
                        "marker": {
                          "colorbar": {
                            "outlinewidth": 0,
                            "ticks": ""
                          }
                        },
                        "type": "scatterpolargl"
                      }
                    ],
                    "scatterternary": [
                      {
                        "marker": {
                          "colorbar": {
                            "outlinewidth": 0,
                            "ticks": ""
                          }
                        },
                        "type": "scatterternary"
                      }
                    ],
                    "surface": [
                      {
                        "colorbar": {
                          "outlinewidth": 0,
                          "ticks": ""
                        },
                        "colorscale": [
                          [
                            0,
                            "#0d0887"
                          ],
                          [
                            0.1111111111111111,
                            "#46039f"
                          ],
                          [
                            0.2222222222222222,
                            "#7201a8"
                          ],
                          [
                            0.3333333333333333,
                            "#9c179e"
                          ],
                          [
                            0.4444444444444444,
                            "#bd3786"
                          ],
                          [
                            0.5555555555555556,
                            "#d8576b"
                          ],
                          [
                            0.6666666666666666,
                            "#ed7953"
                          ],
                          [
                            0.7777777777777778,
                            "#fb9f3a"
                          ],
                          [
                            0.8888888888888888,
                            "#fdca26"
                          ],
                          [
                            1,
                            "#f0f921"
                          ]
                        ],
                        "type": "surface"
                      }
                    ],
                    "table": [
                      {
                        "cells": {
                          "fill": {
                            "color": "#EBF0F8"
                          },
                          "line": {
                            "color": "white"
                          }
                        },
                        "header": {
                          "fill": {
                            "color": "#C8D4E3"
                          },
                          "line": {
                            "color": "white"
                          }
                        },
                        "type": "table"
                      }
                    ]
                  },
                  "layout": {
                    "annotationdefaults": {
                      "arrowcolor": "#2a3f5f",
                      "arrowhead": 0,
                      "arrowwidth": 1
                    },
                    "autotypenumbers": "strict",
                    "coloraxis": {
                      "colorbar": {
                        "outlinewidth": 0,
                        "ticks": ""
                      }
                    },
                    "colorscale": {
                      "diverging": [
                        [
                          0,
                          "#8e0152"
                        ],
                        [
                          0.1,
                          "#c51b7d"
                        ],
                        [
                          0.2,
                          "#de77ae"
                        ],
                        [
                          0.3,
                          "#f1b6da"
                        ],
                        [
                          0.4,
                          "#fde0ef"
                        ],
                        [
                          0.5,
                          "#f7f7f7"
                        ],
                        [
                          0.6,
                          "#e6f5d0"
                        ],
                        [
                          0.7,
                          "#b8e186"
                        ],
                        [
                          0.8,
                          "#7fbc41"
                        ],
                        [
                          0.9,
                          "#4d9221"
                        ],
                        [
                          1,
                          "#276419"
                        ]
                      ],
                      "sequential": [
                        [
                          0,
                          "#0d0887"
                        ],
                        [
                          0.1111111111111111,
                          "#46039f"
                        ],
                        [
                          0.2222222222222222,
                          "#7201a8"
                        ],
                        [
                          0.3333333333333333,
                          "#9c179e"
                        ],
                        [
                          0.4444444444444444,
                          "#bd3786"
                        ],
                        [
                          0.5555555555555556,
                          "#d8576b"
                        ],
                        [
                          0.6666666666666666,
                          "#ed7953"
                        ],
                        [
                          0.7777777777777778,
                          "#fb9f3a"
                        ],
                        [
                          0.8888888888888888,
                          "#fdca26"
                        ],
                        [
                          1,
                          "#f0f921"
                        ]
                      ],
                      "sequentialminus": [
                        [
                          0,
                          "#0d0887"
                        ],
                        [
                          0.1111111111111111,
                          "#46039f"
                        ],
                        [
                          0.2222222222222222,
                          "#7201a8"
                        ],
                        [
                          0.3333333333333333,
                          "#9c179e"
                        ],
                        [
                          0.4444444444444444,
                          "#bd3786"
                        ],
                        [
                          0.5555555555555556,
                          "#d8576b"
                        ],
                        [
                          0.6666666666666666,
                          "#ed7953"
                        ],
                        [
                          0.7777777777777778,
                          "#fb9f3a"
                        ],
                        [
                          0.8888888888888888,
                          "#fdca26"
                        ],
                        [
                          1,
                          "#f0f921"
                        ]
                      ]
                    },
                    "colorway": [
                      "#636efa",
                      "#EF553B",
                      "#00cc96",
                      "#ab63fa",
                      "#FFA15A",
                      "#19d3f3",
                      "#FF6692",
                      "#B6E880",
                      "#FF97FF",
                      "#FECB52"
                    ],
                    "font": {
                      "color": "#2a3f5f"
                    },
                    "geo": {
                      "bgcolor": "white",
                      "lakecolor": "white",
                      "landcolor": "white",
                      "showlakes": true,
                      "showland": true,
                      "subunitcolor": "#C8D4E3"
                    },
                    "hoverlabel": {
                      "align": "left"
                    },
                    "hovermode": "closest",
                    "mapbox": {
                      "style": "light"
                    },
                    "paper_bgcolor": "white",
                    "plot_bgcolor": "white",
                    "polar": {
                      "angularaxis": {
                        "gridcolor": "#EBF0F8",
                        "linecolor": "#EBF0F8",
                        "ticks": ""
                      },
                      "bgcolor": "white",
                      "radialaxis": {
                        "gridcolor": "#EBF0F8",
                        "linecolor": "#EBF0F8",
                        "ticks": ""
                      }
                    },
                    "scene": {
                      "xaxis": {
                        "backgroundcolor": "white",
                        "gridcolor": "#DFE8F3",
                        "gridwidth": 2,
                        "linecolor": "#EBF0F8",
                        "showbackground": true,
                        "ticks": "",
                        "zerolinecolor": "#EBF0F8"
                      },
                      "yaxis": {
                        "backgroundcolor": "white",
                        "gridcolor": "#DFE8F3",
                        "gridwidth": 2,
                        "linecolor": "#EBF0F8",
                        "showbackground": true,
                        "ticks": "",
                        "zerolinecolor": "#EBF0F8"
                      },
                      "zaxis": {
                        "backgroundcolor": "white",
                        "gridcolor": "#DFE8F3",
                        "gridwidth": 2,
                        "linecolor": "#EBF0F8",
                        "showbackground": true,
                        "ticks": "",
                        "zerolinecolor": "#EBF0F8"
                      }
                    },
                    "shapedefaults": {
                      "line": {
                        "color": "#2a3f5f"
                      }
                    },
                    "ternary": {
                      "aaxis": {
                        "gridcolor": "#DFE8F3",
                        "linecolor": "#A2B1C6",
                        "ticks": ""
                      },
                      "baxis": {
                        "gridcolor": "#DFE8F3",
                        "linecolor": "#A2B1C6",
                        "ticks": ""
                      },
                      "bgcolor": "white",
                      "caxis": {
                        "gridcolor": "#DFE8F3",
                        "linecolor": "#A2B1C6",
                        "ticks": ""
                      }
                    },
                    "title": {
                      "x": 0.05
                    },
                    "xaxis": {
                      "automargin": true,
                      "gridcolor": "#EBF0F8",
                      "linecolor": "#EBF0F8",
                      "ticks": "",
                      "title": {
                        "standoff": 15
                      },
                      "zerolinecolor": "#EBF0F8",
                      "zerolinewidth": 2
                    },
                    "yaxis": {
                      "automargin": true,
                      "gridcolor": "#EBF0F8",
                      "linecolor": "#EBF0F8",
                      "ticks": "",
                      "title": {
                        "standoff": 15
                      },
                      "zerolinecolor": "#EBF0F8",
                      "zerolinewidth": 2
                    }
                  }
                },
                "title": {
                  "text": "Violin plot of the pareto solutions for each epoch (10 epochs) for the cost objective"
                },
                "violinmode": "group",
                "xaxis": {
                  "anchor": "y",
                  "domain": [
                    0,
                    1
                  ],
                  "title": {
                    "text": "Epoch"
                  }
                },
                "yaxis": {
                  "anchor": "x",
                  "domain": [
                    0,
                    1
                  ],
                  "title": {
                    "text": "Cost (€)"
                  }
                }
              }
            }
          },
          "metadata": {},
          "output_type": "display_data"
        },
        {
          "data": {
            "application/vnd.plotly.v1+json": {
              "config": {
                "plotlyServerURL": "https://plot.ly"
              },
              "data": [
                {
                  "alignmentgroup": "True",
                  "box": {
                    "visible": true
                  },
                  "hovertemplate": "Epoch=%{x}<br>Value=%{y}<extra></extra>",
                  "legendgroup": "",
                  "marker": {
                    "color": "#1f77b4"
                  },
                  "name": "",
                  "offsetgroup": "",
                  "orientation": "v",
                  "points": false,
                  "scalegroup": "True",
                  "showlegend": false,
                  "type": "violin",
                  "x": [
                    "1",
                    "1",
                    "1",
                    "1",
                    "2",
                    "2",
                    "2",
                    "2",
                    "3",
                    "3",
                    "3",
                    "3",
                    "4",
                    "4",
                    "4",
                    "4",
                    "5",
                    "5",
                    "5",
                    "6",
                    "6",
                    "6",
                    "7",
                    "7",
                    "7",
                    "8",
                    "8",
                    "8",
                    "9",
                    "9",
                    "9",
                    "10",
                    "10",
                    "10",
                    "10",
                    "11",
                    "11",
                    "11",
                    "11",
                    "12",
                    "12",
                    "12",
                    "12",
                    "13",
                    "13",
                    "13",
                    "13",
                    "14",
                    "14",
                    "14",
                    "14",
                    "15",
                    "15",
                    "15",
                    "15",
                    "16",
                    "16",
                    "16",
                    "16",
                    "17",
                    "17",
                    "17",
                    "17",
                    "18",
                    "18",
                    "18",
                    "18",
                    "19",
                    "19",
                    "19",
                    "19",
                    "20",
                    "20",
                    "20",
                    "20",
                    "20",
                    "21",
                    "21",
                    "21",
                    "21",
                    "21",
                    "22",
                    "22",
                    "22",
                    "22",
                    "22",
                    "22",
                    "23",
                    "23",
                    "23",
                    "23",
                    "23",
                    "23",
                    "24",
                    "24",
                    "24",
                    "24",
                    "24",
                    "24",
                    "25",
                    "25",
                    "25",
                    "25",
                    "25",
                    "25",
                    "26",
                    "26",
                    "26",
                    "26",
                    "26",
                    "26",
                    "27",
                    "27",
                    "27",
                    "27",
                    "27",
                    "27",
                    "28",
                    "28",
                    "28",
                    "28",
                    "28",
                    "28",
                    "29",
                    "29",
                    "29",
                    "29",
                    "29",
                    "29",
                    "29",
                    "30",
                    "30",
                    "30",
                    "30",
                    "30",
                    "30",
                    "30",
                    "31",
                    "31",
                    "31",
                    "31",
                    "31",
                    "31",
                    "31",
                    "32",
                    "32",
                    "32",
                    "32",
                    "32",
                    "32",
                    "32",
                    "33",
                    "33",
                    "33",
                    "33",
                    "33",
                    "33",
                    "33",
                    "34",
                    "34",
                    "34",
                    "34",
                    "34",
                    "34",
                    "34",
                    "35",
                    "35",
                    "35",
                    "35",
                    "35",
                    "35",
                    "35",
                    "36",
                    "36",
                    "36",
                    "36",
                    "36",
                    "36",
                    "36",
                    "36",
                    "37",
                    "37",
                    "37",
                    "37",
                    "37",
                    "37",
                    "37",
                    "37",
                    "38",
                    "38",
                    "38",
                    "38",
                    "38",
                    "38",
                    "38",
                    "38",
                    "39",
                    "39",
                    "39",
                    "39",
                    "39",
                    "39",
                    "39",
                    "39",
                    "40",
                    "40",
                    "40",
                    "40",
                    "40",
                    "40",
                    "40",
                    "40",
                    "41",
                    "41",
                    "41",
                    "41",
                    "41",
                    "41",
                    "41",
                    "41",
                    "42",
                    "42",
                    "42",
                    "42",
                    "42",
                    "42",
                    "42",
                    "42",
                    "43",
                    "43",
                    "43",
                    "43",
                    "43",
                    "43",
                    "43",
                    "43",
                    "44",
                    "44",
                    "44",
                    "44",
                    "44",
                    "44",
                    "44",
                    "44",
                    "45",
                    "45",
                    "45",
                    "45",
                    "45",
                    "45",
                    "45",
                    "45",
                    "46",
                    "46",
                    "46",
                    "46",
                    "46",
                    "46",
                    "46",
                    "46",
                    "47",
                    "47",
                    "47",
                    "47",
                    "47",
                    "47",
                    "47",
                    "47",
                    "47",
                    "48",
                    "48",
                    "48",
                    "48",
                    "48",
                    "48",
                    "48",
                    "48",
                    "48",
                    "49",
                    "49",
                    "49",
                    "49",
                    "49",
                    "49",
                    "49",
                    "49",
                    "49",
                    "49",
                    "50",
                    "50",
                    "50",
                    "50",
                    "50",
                    "50",
                    "50",
                    "50",
                    "50",
                    "50",
                    "51",
                    "51",
                    "51",
                    "51",
                    "51",
                    "51",
                    "51",
                    "51",
                    "51",
                    "51",
                    "52",
                    "52",
                    "52",
                    "52",
                    "52",
                    "52",
                    "52",
                    "52",
                    "52",
                    "52",
                    "53",
                    "53",
                    "53",
                    "53",
                    "53",
                    "53",
                    "53",
                    "53",
                    "53",
                    "53",
                    "54",
                    "54",
                    "54",
                    "54",
                    "54",
                    "54",
                    "54",
                    "54",
                    "54",
                    "54",
                    "55",
                    "55",
                    "55",
                    "55",
                    "55",
                    "55",
                    "55",
                    "55",
                    "55",
                    "55",
                    "56",
                    "56",
                    "56",
                    "56",
                    "56",
                    "56",
                    "56",
                    "56",
                    "56",
                    "56",
                    "57",
                    "57",
                    "57",
                    "57",
                    "57",
                    "57",
                    "57",
                    "57",
                    "57",
                    "57",
                    "58",
                    "58",
                    "58",
                    "58",
                    "58",
                    "58",
                    "58",
                    "58",
                    "58",
                    "58",
                    "59",
                    "59",
                    "59",
                    "59",
                    "59",
                    "59",
                    "59",
                    "59",
                    "59",
                    "59",
                    "60",
                    "60",
                    "60",
                    "60",
                    "60",
                    "60",
                    "60",
                    "60",
                    "60",
                    "60",
                    "61",
                    "61",
                    "61",
                    "61",
                    "61",
                    "61",
                    "61",
                    "61",
                    "61",
                    "61",
                    "61",
                    "62",
                    "62",
                    "62",
                    "62",
                    "62",
                    "62",
                    "62",
                    "62",
                    "62",
                    "62",
                    "62",
                    "63",
                    "63",
                    "63",
                    "63",
                    "63",
                    "63",
                    "63",
                    "63",
                    "63",
                    "63",
                    "63",
                    "64",
                    "64",
                    "64",
                    "64",
                    "64",
                    "64",
                    "64",
                    "64",
                    "64",
                    "64",
                    "64",
                    "65",
                    "65",
                    "65",
                    "65",
                    "65",
                    "65",
                    "65",
                    "65",
                    "65",
                    "65",
                    "65",
                    "66",
                    "66",
                    "66",
                    "67",
                    "67",
                    "67",
                    "68",
                    "68",
                    "68",
                    "69",
                    "69",
                    "69",
                    "70",
                    "70",
                    "70",
                    "71",
                    "71",
                    "71",
                    "72",
                    "72",
                    "72",
                    "73",
                    "73",
                    "73",
                    "74",
                    "74",
                    "74",
                    "75",
                    "75",
                    "75",
                    "76",
                    "76",
                    "76",
                    "77",
                    "77",
                    "77",
                    "78",
                    "78",
                    "78",
                    "79",
                    "79",
                    "79",
                    "80",
                    "80",
                    "80",
                    "81",
                    "81",
                    "81",
                    "82",
                    "82",
                    "82",
                    "83",
                    "83",
                    "83",
                    "84",
                    "84",
                    "84",
                    "85",
                    "85",
                    "85",
                    "86",
                    "86",
                    "86",
                    "87",
                    "87",
                    "87",
                    "88",
                    "88",
                    "88",
                    "89",
                    "89",
                    "89",
                    "90",
                    "90",
                    "90",
                    "91",
                    "91",
                    "91",
                    "92",
                    "92",
                    "92",
                    "93",
                    "93",
                    "93",
                    "94",
                    "94",
                    "94",
                    "95",
                    "95",
                    "95",
                    "96",
                    "96",
                    "96",
                    "96",
                    "97",
                    "97",
                    "97",
                    "97",
                    "98",
                    "98",
                    "98",
                    "98",
                    "99",
                    "99",
                    "99",
                    "99",
                    "100",
                    "100",
                    "100",
                    "100"
                  ],
                  "x0": " ",
                  "xaxis": "x",
                  "y": [
                    11710152.530937372,
                    8105822.434324983,
                    5515705.7556772195,
                    6365806.544258093,
                    11710152.530937372,
                    8105822.434324983,
                    5515705.7556772195,
                    6365806.544258093,
                    11710152.530937372,
                    6365806.544258093,
                    4751997.16595265,
                    10791034.828356078,
                    11710152.530937372,
                    6365806.544258093,
                    4751997.16595265,
                    10791034.828356078,
                    6365806.544258093,
                    4751997.16595265,
                    7588695.1329790335,
                    6365806.544258093,
                    4751997.16595265,
                    7588695.1329790335,
                    6365806.544258093,
                    4751997.16595265,
                    7588695.1329790335,
                    6365806.544258093,
                    4751997.16595265,
                    7588695.1329790335,
                    6365806.544258093,
                    4751997.16595265,
                    7588695.1329790335,
                    6365806.544258093,
                    4751997.16595265,
                    7588695.1329790335,
                    7051900.18864634,
                    6365806.544258093,
                    4751997.16595265,
                    7588695.1329790335,
                    7051900.18864634,
                    6365806.544258093,
                    4751997.16595265,
                    7588695.1329790335,
                    7051900.18864634,
                    6365806.544258093,
                    4751997.16595265,
                    7588695.1329790335,
                    7051900.18864634,
                    6365806.544258093,
                    4751997.16595265,
                    7588695.1329790335,
                    7051900.18864634,
                    6365806.544258093,
                    4751997.16595265,
                    7588695.1329790335,
                    7051900.18864634,
                    6365806.544258093,
                    4751997.16595265,
                    7588695.1329790335,
                    7051900.18864634,
                    6365806.544258093,
                    4751997.16595265,
                    7588695.1329790335,
                    7051900.18864634,
                    6365806.544258093,
                    4751997.16595265,
                    7588695.1329790335,
                    7051900.18864634,
                    4751997.16595265,
                    7588695.1329790335,
                    4390240.695442673,
                    7051900.18864634,
                    4751997.16595265,
                    7588695.1329790335,
                    4390240.695442673,
                    7051900.18864634,
                    4793224.350421834,
                    4751997.16595265,
                    7588695.1329790335,
                    4390240.695442673,
                    7051900.18864634,
                    4793224.350421834,
                    4751997.16595265,
                    7588695.1329790335,
                    4390240.695442673,
                    5240925.50982675,
                    7051900.18864634,
                    4793224.350421834,
                    4751997.16595265,
                    7588695.1329790335,
                    4390240.695442673,
                    5240925.50982675,
                    7051900.18864634,
                    4793224.350421834,
                    4751997.16595265,
                    7588695.1329790335,
                    4390240.695442673,
                    5240925.50982675,
                    7051900.18864634,
                    4793224.350421834,
                    4751997.16595265,
                    7588695.1329790335,
                    4390240.695442673,
                    5240925.50982675,
                    7051900.18864634,
                    4793224.350421834,
                    4751997.16595265,
                    7588695.1329790335,
                    4390240.695442673,
                    5240925.50982675,
                    7051900.18864634,
                    4793224.350421834,
                    4751997.16595265,
                    7588695.1329790335,
                    4390240.695442673,
                    5240925.50982675,
                    7051900.18864634,
                    4793224.350421834,
                    4751997.16595265,
                    7588695.1329790335,
                    4390240.695442673,
                    5240925.50982675,
                    7051900.18864634,
                    4793224.350421834,
                    4751997.16595265,
                    7588695.1329790335,
                    4390240.695442673,
                    5240925.50982675,
                    7051900.18864634,
                    4793224.350421834,
                    6063487.612360636,
                    4751997.16595265,
                    7588695.1329790335,
                    4390240.695442673,
                    5240925.50982675,
                    7051900.18864634,
                    4793224.350421834,
                    6063487.612360636,
                    4751997.16595265,
                    7588695.1329790335,
                    4390240.695442673,
                    5240925.50982675,
                    7051900.18864634,
                    4793224.350421834,
                    6063487.612360636,
                    4751997.16595265,
                    7588695.1329790335,
                    4390240.695442673,
                    5240925.50982675,
                    7051900.18864634,
                    4793224.350421834,
                    6063487.612360636,
                    4751997.16595265,
                    7588695.1329790335,
                    4390240.695442673,
                    5240925.50982675,
                    7051900.18864634,
                    4793224.350421834,
                    6063487.612360636,
                    4751997.16595265,
                    7588695.1329790335,
                    4390240.695442673,
                    5240925.50982675,
                    7051900.18864634,
                    4793224.350421834,
                    6063487.612360636,
                    4751997.16595265,
                    7588695.1329790335,
                    4390240.695442673,
                    5240925.50982675,
                    7051900.18864634,
                    4793224.350421834,
                    6063487.612360636,
                    4751997.16595265,
                    7588695.1329790335,
                    4390240.695442673,
                    5240925.50982675,
                    4475023.929370744,
                    7051900.18864634,
                    4793224.350421834,
                    6063487.612360636,
                    4751997.16595265,
                    7588695.1329790335,
                    4390240.695442673,
                    5240925.50982675,
                    4475023.929370744,
                    7051900.18864634,
                    4793224.350421834,
                    6063487.612360636,
                    4751997.16595265,
                    7588695.1329790335,
                    4390240.695442673,
                    5240925.50982675,
                    4475023.929370744,
                    7051900.18864634,
                    4793224.350421834,
                    6063487.612360636,
                    4751997.16595265,
                    7588695.1329790335,
                    4390240.695442673,
                    5240925.50982675,
                    4475023.929370744,
                    7051900.18864634,
                    4793224.350421834,
                    6063487.612360636,
                    4751997.16595265,
                    7588695.1329790335,
                    4390240.695442673,
                    5240925.50982675,
                    4475023.929370744,
                    7051900.18864634,
                    4793224.350421834,
                    6063487.612360636,
                    4751997.16595265,
                    7588695.1329790335,
                    4390240.695442673,
                    5240925.50982675,
                    4475023.929370744,
                    7051900.18864634,
                    4793224.350421834,
                    6063487.612360636,
                    4751997.16595265,
                    7588695.1329790335,
                    4390240.695442673,
                    5240925.50982675,
                    4475023.929370744,
                    7051900.18864634,
                    4793224.350421834,
                    6063487.612360636,
                    4751997.16595265,
                    7588695.1329790335,
                    4390240.695442673,
                    5240925.50982675,
                    4475023.929370744,
                    7051900.18864634,
                    6063487.612360636,
                    4793224.350421834,
                    4751997.16595265,
                    7588695.1329790335,
                    4390240.695442673,
                    5240925.50982675,
                    4475023.929370744,
                    7051900.18864634,
                    6063487.612360636,
                    4793224.350421834,
                    4751997.16595265,
                    7588695.1329790335,
                    4390240.695442673,
                    5240925.50982675,
                    4475023.929370744,
                    7051900.18864634,
                    6063487.612360636,
                    4793224.350421834,
                    4751997.16595265,
                    7588695.1329790335,
                    4390240.695442673,
                    5240925.50982675,
                    4475023.929370744,
                    7051900.18864634,
                    6063487.612360636,
                    4793224.350421834,
                    4751997.16595265,
                    7588695.1329790335,
                    4390240.695442673,
                    5240925.50982675,
                    4475023.929370744,
                    7051900.18864634,
                    6063487.612360636,
                    4793224.350421834,
                    6822808.4087233655,
                    4751997.16595265,
                    7588695.1329790335,
                    4390240.695442673,
                    5240925.50982675,
                    4475023.929370744,
                    7051900.18864634,
                    6063487.612360636,
                    4793224.350421834,
                    6822808.4087233655,
                    4751997.16595265,
                    7588695.1329790335,
                    4390240.695442673,
                    5240925.50982675,
                    4475023.929370744,
                    7051900.18864634,
                    6063487.612360636,
                    4793224.350421834,
                    6822808.4087233655,
                    6180364.630260424,
                    4751997.16595265,
                    7588695.1329790335,
                    4390240.695442673,
                    5240925.50982675,
                    4475023.929370744,
                    7051900.18864634,
                    6063487.612360636,
                    4793224.350421834,
                    6822808.4087233655,
                    6180364.630260424,
                    4751997.16595265,
                    7588695.1329790335,
                    4390240.695442673,
                    5240925.50982675,
                    4475023.929370744,
                    7051900.18864634,
                    6063487.612360636,
                    4793224.350421834,
                    6822808.4087233655,
                    6180364.630260424,
                    4751997.16595265,
                    7588695.1329790335,
                    4390240.695442673,
                    5240925.50982675,
                    4475023.929370744,
                    7051900.18864634,
                    6063487.612360636,
                    4793224.350421834,
                    6822808.4087233655,
                    6180364.630260424,
                    4751997.16595265,
                    7588695.1329790335,
                    4390240.695442673,
                    5240925.50982675,
                    4475023.929370744,
                    7051900.18864634,
                    6063487.612360636,
                    4793224.350421834,
                    6822808.4087233655,
                    6180364.630260424,
                    4751997.16595265,
                    7588695.1329790335,
                    4390240.695442673,
                    5240925.50982675,
                    4475023.929370744,
                    7051900.18864634,
                    6063487.612360636,
                    4793224.350421834,
                    6822808.4087233655,
                    6180364.630260424,
                    4751997.16595265,
                    7588695.1329790335,
                    4390240.695442673,
                    5240925.50982675,
                    4475023.929370744,
                    7051900.18864634,
                    6063487.612360636,
                    4793224.350421834,
                    6822808.4087233655,
                    6180364.630260424,
                    4751997.16595265,
                    7588695.1329790335,
                    4390240.695442673,
                    5240925.50982675,
                    4475023.929370744,
                    7051900.18864634,
                    6063487.612360636,
                    4793224.350421834,
                    6180364.630260424,
                    6822808.4087233655,
                    4751997.16595265,
                    7588695.1329790335,
                    4390240.695442673,
                    5240925.50982675,
                    4475023.929370744,
                    7051900.18864634,
                    6063487.612360636,
                    4793224.350421834,
                    6180364.630260424,
                    6366488.287713578,
                    4751997.16595265,
                    7588695.1329790335,
                    4390240.695442673,
                    5240925.50982675,
                    4475023.929370744,
                    7051900.18864634,
                    6063487.612360636,
                    4793224.350421834,
                    6180364.630260424,
                    6366488.287713578,
                    4751997.16595265,
                    7588695.1329790335,
                    4390240.695442673,
                    5240925.50982675,
                    4475023.929370744,
                    7051900.18864634,
                    6063487.612360636,
                    4793224.350421834,
                    6180364.630260424,
                    6366488.287713578,
                    4751997.16595265,
                    7588695.1329790335,
                    4390240.695442673,
                    5240925.50982675,
                    4475023.929370744,
                    7051900.18864634,
                    6063487.612360636,
                    4793224.350421834,
                    6180364.630260424,
                    6366488.287713578,
                    4751997.16595265,
                    7588695.1329790335,
                    4390240.695442673,
                    5240925.50982675,
                    4475023.929370744,
                    7051900.18864634,
                    6063487.612360636,
                    4793224.350421834,
                    6180364.630260424,
                    6366488.287713578,
                    5080149.565565425,
                    4751997.16595265,
                    7588695.1329790335,
                    4390240.695442673,
                    5240925.50982675,
                    4475023.929370744,
                    7051900.18864634,
                    6063487.612360636,
                    4793224.350421834,
                    6180364.630260424,
                    6366488.287713578,
                    5080149.565565425,
                    4751997.16595265,
                    7588695.1329790335,
                    4390240.695442673,
                    5240925.50982675,
                    4475023.929370744,
                    7051900.18864634,
                    6063487.612360636,
                    4793224.350421834,
                    6180364.630260424,
                    6366488.287713578,
                    5080149.565565425,
                    4751997.16595265,
                    7588695.1329790335,
                    4390240.695442673,
                    5240925.50982675,
                    4475023.929370744,
                    7051900.18864634,
                    6063487.612360636,
                    4793224.350421834,
                    6180364.630260424,
                    6366488.287713578,
                    5080149.565565425,
                    4751997.16595265,
                    7588695.1329790335,
                    4390240.695442673,
                    5240925.50982675,
                    4475023.929370744,
                    7051900.18864634,
                    6063487.612360636,
                    4793224.350421834,
                    6180364.630260424,
                    6366488.287713578,
                    5080149.565565425,
                    4751997.16595265,
                    4390240.695442673,
                    4416046.786181757,
                    4751997.16595265,
                    4390240.695442673,
                    4416046.786181757,
                    4751997.16595265,
                    4390240.695442673,
                    4416046.786181757,
                    4751997.16595265,
                    4390240.695442673,
                    4416046.786181757,
                    4751997.16595265,
                    4390240.695442673,
                    4416046.786181757,
                    4751997.16595265,
                    4390240.695442673,
                    4416046.786181757,
                    4751997.16595265,
                    4390240.695442673,
                    4416046.786181757,
                    4751997.16595265,
                    4390240.695442673,
                    4416046.786181757,
                    4751997.16595265,
                    4390240.695442673,
                    4416046.786181757,
                    4751997.16595265,
                    4390240.695442673,
                    4416046.786181757,
                    4751997.16595265,
                    4390240.695442673,
                    4416046.786181757,
                    4751997.16595265,
                    4390240.695442673,
                    4416046.786181757,
                    4751997.16595265,
                    4390240.695442673,
                    4416046.786181757,
                    4751997.16595265,
                    4390240.695442673,
                    4416046.786181757,
                    4751997.16595265,
                    4390240.695442673,
                    4416046.786181757,
                    4751997.16595265,
                    4390240.695442673,
                    4416046.786181757,
                    4751997.16595265,
                    4390240.695442673,
                    4416046.786181757,
                    4751997.16595265,
                    4390240.695442673,
                    4416046.786181757,
                    4751997.16595265,
                    4390240.695442673,
                    4416046.786181757,
                    4751997.16595265,
                    4390240.695442673,
                    4416046.786181757,
                    4751997.16595265,
                    4390240.695442673,
                    4416046.786181757,
                    4751997.16595265,
                    4390240.695442673,
                    4416046.786181757,
                    4751997.16595265,
                    4390240.695442673,
                    4416046.786181757,
                    4751997.16595265,
                    4390240.695442673,
                    4416046.786181757,
                    4751997.16595265,
                    4390240.695442673,
                    4416046.786181757,
                    4751997.16595265,
                    4390240.695442673,
                    4416046.786181757,
                    4751997.16595265,
                    4390240.695442673,
                    4416046.786181757,
                    4751997.16595265,
                    4390240.695442673,
                    4416046.786181757,
                    4751997.16595265,
                    4390240.695442673,
                    4416046.786181757,
                    4751997.16595265,
                    4390240.695442673,
                    4416046.786181757,
                    4751997.16595265,
                    4390240.695442673,
                    4416046.786181757,
                    4338152.308967329,
                    4751997.16595265,
                    4390240.695442673,
                    4416046.786181757,
                    4338152.308967329,
                    4751997.16595265,
                    4390240.695442673,
                    4416046.786181757,
                    4338152.308967329,
                    4751997.16595265,
                    4390240.695442673,
                    4416046.786181757,
                    4338152.308967329,
                    4751997.16595265,
                    4390240.695442673,
                    4416046.786181757,
                    4338152.308967329
                  ],
                  "y0": " ",
                  "yaxis": "y"
                }
              ],
              "layout": {
                "font": {
                  "family": "Times New Roman",
                  "size": 12
                },
                "legend": {
                  "tracegroupgap": 0
                },
                "margin": {
                  "t": 60
                },
                "template": {
                  "data": {
                    "bar": [
                      {
                        "error_x": {
                          "color": "#2a3f5f"
                        },
                        "error_y": {
                          "color": "#2a3f5f"
                        },
                        "marker": {
                          "line": {
                            "color": "white",
                            "width": 0.5
                          },
                          "pattern": {
                            "fillmode": "overlay",
                            "size": 10,
                            "solidity": 0.2
                          }
                        },
                        "type": "bar"
                      }
                    ],
                    "barpolar": [
                      {
                        "marker": {
                          "line": {
                            "color": "white",
                            "width": 0.5
                          },
                          "pattern": {
                            "fillmode": "overlay",
                            "size": 10,
                            "solidity": 0.2
                          }
                        },
                        "type": "barpolar"
                      }
                    ],
                    "carpet": [
                      {
                        "aaxis": {
                          "endlinecolor": "#2a3f5f",
                          "gridcolor": "#C8D4E3",
                          "linecolor": "#C8D4E3",
                          "minorgridcolor": "#C8D4E3",
                          "startlinecolor": "#2a3f5f"
                        },
                        "baxis": {
                          "endlinecolor": "#2a3f5f",
                          "gridcolor": "#C8D4E3",
                          "linecolor": "#C8D4E3",
                          "minorgridcolor": "#C8D4E3",
                          "startlinecolor": "#2a3f5f"
                        },
                        "type": "carpet"
                      }
                    ],
                    "choropleth": [
                      {
                        "colorbar": {
                          "outlinewidth": 0,
                          "ticks": ""
                        },
                        "type": "choropleth"
                      }
                    ],
                    "contour": [
                      {
                        "colorbar": {
                          "outlinewidth": 0,
                          "ticks": ""
                        },
                        "colorscale": [
                          [
                            0,
                            "#0d0887"
                          ],
                          [
                            0.1111111111111111,
                            "#46039f"
                          ],
                          [
                            0.2222222222222222,
                            "#7201a8"
                          ],
                          [
                            0.3333333333333333,
                            "#9c179e"
                          ],
                          [
                            0.4444444444444444,
                            "#bd3786"
                          ],
                          [
                            0.5555555555555556,
                            "#d8576b"
                          ],
                          [
                            0.6666666666666666,
                            "#ed7953"
                          ],
                          [
                            0.7777777777777778,
                            "#fb9f3a"
                          ],
                          [
                            0.8888888888888888,
                            "#fdca26"
                          ],
                          [
                            1,
                            "#f0f921"
                          ]
                        ],
                        "type": "contour"
                      }
                    ],
                    "contourcarpet": [
                      {
                        "colorbar": {
                          "outlinewidth": 0,
                          "ticks": ""
                        },
                        "type": "contourcarpet"
                      }
                    ],
                    "heatmap": [
                      {
                        "colorbar": {
                          "outlinewidth": 0,
                          "ticks": ""
                        },
                        "colorscale": [
                          [
                            0,
                            "#0d0887"
                          ],
                          [
                            0.1111111111111111,
                            "#46039f"
                          ],
                          [
                            0.2222222222222222,
                            "#7201a8"
                          ],
                          [
                            0.3333333333333333,
                            "#9c179e"
                          ],
                          [
                            0.4444444444444444,
                            "#bd3786"
                          ],
                          [
                            0.5555555555555556,
                            "#d8576b"
                          ],
                          [
                            0.6666666666666666,
                            "#ed7953"
                          ],
                          [
                            0.7777777777777778,
                            "#fb9f3a"
                          ],
                          [
                            0.8888888888888888,
                            "#fdca26"
                          ],
                          [
                            1,
                            "#f0f921"
                          ]
                        ],
                        "type": "heatmap"
                      }
                    ],
                    "heatmapgl": [
                      {
                        "colorbar": {
                          "outlinewidth": 0,
                          "ticks": ""
                        },
                        "colorscale": [
                          [
                            0,
                            "#0d0887"
                          ],
                          [
                            0.1111111111111111,
                            "#46039f"
                          ],
                          [
                            0.2222222222222222,
                            "#7201a8"
                          ],
                          [
                            0.3333333333333333,
                            "#9c179e"
                          ],
                          [
                            0.4444444444444444,
                            "#bd3786"
                          ],
                          [
                            0.5555555555555556,
                            "#d8576b"
                          ],
                          [
                            0.6666666666666666,
                            "#ed7953"
                          ],
                          [
                            0.7777777777777778,
                            "#fb9f3a"
                          ],
                          [
                            0.8888888888888888,
                            "#fdca26"
                          ],
                          [
                            1,
                            "#f0f921"
                          ]
                        ],
                        "type": "heatmapgl"
                      }
                    ],
                    "histogram": [
                      {
                        "marker": {
                          "pattern": {
                            "fillmode": "overlay",
                            "size": 10,
                            "solidity": 0.2
                          }
                        },
                        "type": "histogram"
                      }
                    ],
                    "histogram2d": [
                      {
                        "colorbar": {
                          "outlinewidth": 0,
                          "ticks": ""
                        },
                        "colorscale": [
                          [
                            0,
                            "#0d0887"
                          ],
                          [
                            0.1111111111111111,
                            "#46039f"
                          ],
                          [
                            0.2222222222222222,
                            "#7201a8"
                          ],
                          [
                            0.3333333333333333,
                            "#9c179e"
                          ],
                          [
                            0.4444444444444444,
                            "#bd3786"
                          ],
                          [
                            0.5555555555555556,
                            "#d8576b"
                          ],
                          [
                            0.6666666666666666,
                            "#ed7953"
                          ],
                          [
                            0.7777777777777778,
                            "#fb9f3a"
                          ],
                          [
                            0.8888888888888888,
                            "#fdca26"
                          ],
                          [
                            1,
                            "#f0f921"
                          ]
                        ],
                        "type": "histogram2d"
                      }
                    ],
                    "histogram2dcontour": [
                      {
                        "colorbar": {
                          "outlinewidth": 0,
                          "ticks": ""
                        },
                        "colorscale": [
                          [
                            0,
                            "#0d0887"
                          ],
                          [
                            0.1111111111111111,
                            "#46039f"
                          ],
                          [
                            0.2222222222222222,
                            "#7201a8"
                          ],
                          [
                            0.3333333333333333,
                            "#9c179e"
                          ],
                          [
                            0.4444444444444444,
                            "#bd3786"
                          ],
                          [
                            0.5555555555555556,
                            "#d8576b"
                          ],
                          [
                            0.6666666666666666,
                            "#ed7953"
                          ],
                          [
                            0.7777777777777778,
                            "#fb9f3a"
                          ],
                          [
                            0.8888888888888888,
                            "#fdca26"
                          ],
                          [
                            1,
                            "#f0f921"
                          ]
                        ],
                        "type": "histogram2dcontour"
                      }
                    ],
                    "mesh3d": [
                      {
                        "colorbar": {
                          "outlinewidth": 0,
                          "ticks": ""
                        },
                        "type": "mesh3d"
                      }
                    ],
                    "parcoords": [
                      {
                        "line": {
                          "colorbar": {
                            "outlinewidth": 0,
                            "ticks": ""
                          }
                        },
                        "type": "parcoords"
                      }
                    ],
                    "pie": [
                      {
                        "automargin": true,
                        "type": "pie"
                      }
                    ],
                    "scatter": [
                      {
                        "fillpattern": {
                          "fillmode": "overlay",
                          "size": 10,
                          "solidity": 0.2
                        },
                        "type": "scatter"
                      }
                    ],
                    "scatter3d": [
                      {
                        "line": {
                          "colorbar": {
                            "outlinewidth": 0,
                            "ticks": ""
                          }
                        },
                        "marker": {
                          "colorbar": {
                            "outlinewidth": 0,
                            "ticks": ""
                          }
                        },
                        "type": "scatter3d"
                      }
                    ],
                    "scattercarpet": [
                      {
                        "marker": {
                          "colorbar": {
                            "outlinewidth": 0,
                            "ticks": ""
                          }
                        },
                        "type": "scattercarpet"
                      }
                    ],
                    "scattergeo": [
                      {
                        "marker": {
                          "colorbar": {
                            "outlinewidth": 0,
                            "ticks": ""
                          }
                        },
                        "type": "scattergeo"
                      }
                    ],
                    "scattergl": [
                      {
                        "marker": {
                          "colorbar": {
                            "outlinewidth": 0,
                            "ticks": ""
                          }
                        },
                        "type": "scattergl"
                      }
                    ],
                    "scattermapbox": [
                      {
                        "marker": {
                          "colorbar": {
                            "outlinewidth": 0,
                            "ticks": ""
                          }
                        },
                        "type": "scattermapbox"
                      }
                    ],
                    "scatterpolar": [
                      {
                        "marker": {
                          "colorbar": {
                            "outlinewidth": 0,
                            "ticks": ""
                          }
                        },
                        "type": "scatterpolar"
                      }
                    ],
                    "scatterpolargl": [
                      {
                        "marker": {
                          "colorbar": {
                            "outlinewidth": 0,
                            "ticks": ""
                          }
                        },
                        "type": "scatterpolargl"
                      }
                    ],
                    "scatterternary": [
                      {
                        "marker": {
                          "colorbar": {
                            "outlinewidth": 0,
                            "ticks": ""
                          }
                        },
                        "type": "scatterternary"
                      }
                    ],
                    "surface": [
                      {
                        "colorbar": {
                          "outlinewidth": 0,
                          "ticks": ""
                        },
                        "colorscale": [
                          [
                            0,
                            "#0d0887"
                          ],
                          [
                            0.1111111111111111,
                            "#46039f"
                          ],
                          [
                            0.2222222222222222,
                            "#7201a8"
                          ],
                          [
                            0.3333333333333333,
                            "#9c179e"
                          ],
                          [
                            0.4444444444444444,
                            "#bd3786"
                          ],
                          [
                            0.5555555555555556,
                            "#d8576b"
                          ],
                          [
                            0.6666666666666666,
                            "#ed7953"
                          ],
                          [
                            0.7777777777777778,
                            "#fb9f3a"
                          ],
                          [
                            0.8888888888888888,
                            "#fdca26"
                          ],
                          [
                            1,
                            "#f0f921"
                          ]
                        ],
                        "type": "surface"
                      }
                    ],
                    "table": [
                      {
                        "cells": {
                          "fill": {
                            "color": "#EBF0F8"
                          },
                          "line": {
                            "color": "white"
                          }
                        },
                        "header": {
                          "fill": {
                            "color": "#C8D4E3"
                          },
                          "line": {
                            "color": "white"
                          }
                        },
                        "type": "table"
                      }
                    ]
                  },
                  "layout": {
                    "annotationdefaults": {
                      "arrowcolor": "#2a3f5f",
                      "arrowhead": 0,
                      "arrowwidth": 1
                    },
                    "autotypenumbers": "strict",
                    "coloraxis": {
                      "colorbar": {
                        "outlinewidth": 0,
                        "ticks": ""
                      }
                    },
                    "colorscale": {
                      "diverging": [
                        [
                          0,
                          "#8e0152"
                        ],
                        [
                          0.1,
                          "#c51b7d"
                        ],
                        [
                          0.2,
                          "#de77ae"
                        ],
                        [
                          0.3,
                          "#f1b6da"
                        ],
                        [
                          0.4,
                          "#fde0ef"
                        ],
                        [
                          0.5,
                          "#f7f7f7"
                        ],
                        [
                          0.6,
                          "#e6f5d0"
                        ],
                        [
                          0.7,
                          "#b8e186"
                        ],
                        [
                          0.8,
                          "#7fbc41"
                        ],
                        [
                          0.9,
                          "#4d9221"
                        ],
                        [
                          1,
                          "#276419"
                        ]
                      ],
                      "sequential": [
                        [
                          0,
                          "#0d0887"
                        ],
                        [
                          0.1111111111111111,
                          "#46039f"
                        ],
                        [
                          0.2222222222222222,
                          "#7201a8"
                        ],
                        [
                          0.3333333333333333,
                          "#9c179e"
                        ],
                        [
                          0.4444444444444444,
                          "#bd3786"
                        ],
                        [
                          0.5555555555555556,
                          "#d8576b"
                        ],
                        [
                          0.6666666666666666,
                          "#ed7953"
                        ],
                        [
                          0.7777777777777778,
                          "#fb9f3a"
                        ],
                        [
                          0.8888888888888888,
                          "#fdca26"
                        ],
                        [
                          1,
                          "#f0f921"
                        ]
                      ],
                      "sequentialminus": [
                        [
                          0,
                          "#0d0887"
                        ],
                        [
                          0.1111111111111111,
                          "#46039f"
                        ],
                        [
                          0.2222222222222222,
                          "#7201a8"
                        ],
                        [
                          0.3333333333333333,
                          "#9c179e"
                        ],
                        [
                          0.4444444444444444,
                          "#bd3786"
                        ],
                        [
                          0.5555555555555556,
                          "#d8576b"
                        ],
                        [
                          0.6666666666666666,
                          "#ed7953"
                        ],
                        [
                          0.7777777777777778,
                          "#fb9f3a"
                        ],
                        [
                          0.8888888888888888,
                          "#fdca26"
                        ],
                        [
                          1,
                          "#f0f921"
                        ]
                      ]
                    },
                    "colorway": [
                      "#636efa",
                      "#EF553B",
                      "#00cc96",
                      "#ab63fa",
                      "#FFA15A",
                      "#19d3f3",
                      "#FF6692",
                      "#B6E880",
                      "#FF97FF",
                      "#FECB52"
                    ],
                    "font": {
                      "color": "#2a3f5f"
                    },
                    "geo": {
                      "bgcolor": "white",
                      "lakecolor": "white",
                      "landcolor": "white",
                      "showlakes": true,
                      "showland": true,
                      "subunitcolor": "#C8D4E3"
                    },
                    "hoverlabel": {
                      "align": "left"
                    },
                    "hovermode": "closest",
                    "mapbox": {
                      "style": "light"
                    },
                    "paper_bgcolor": "white",
                    "plot_bgcolor": "white",
                    "polar": {
                      "angularaxis": {
                        "gridcolor": "#EBF0F8",
                        "linecolor": "#EBF0F8",
                        "ticks": ""
                      },
                      "bgcolor": "white",
                      "radialaxis": {
                        "gridcolor": "#EBF0F8",
                        "linecolor": "#EBF0F8",
                        "ticks": ""
                      }
                    },
                    "scene": {
                      "xaxis": {
                        "backgroundcolor": "white",
                        "gridcolor": "#DFE8F3",
                        "gridwidth": 2,
                        "linecolor": "#EBF0F8",
                        "showbackground": true,
                        "ticks": "",
                        "zerolinecolor": "#EBF0F8"
                      },
                      "yaxis": {
                        "backgroundcolor": "white",
                        "gridcolor": "#DFE8F3",
                        "gridwidth": 2,
                        "linecolor": "#EBF0F8",
                        "showbackground": true,
                        "ticks": "",
                        "zerolinecolor": "#EBF0F8"
                      },
                      "zaxis": {
                        "backgroundcolor": "white",
                        "gridcolor": "#DFE8F3",
                        "gridwidth": 2,
                        "linecolor": "#EBF0F8",
                        "showbackground": true,
                        "ticks": "",
                        "zerolinecolor": "#EBF0F8"
                      }
                    },
                    "shapedefaults": {
                      "line": {
                        "color": "#2a3f5f"
                      }
                    },
                    "ternary": {
                      "aaxis": {
                        "gridcolor": "#DFE8F3",
                        "linecolor": "#A2B1C6",
                        "ticks": ""
                      },
                      "baxis": {
                        "gridcolor": "#DFE8F3",
                        "linecolor": "#A2B1C6",
                        "ticks": ""
                      },
                      "bgcolor": "white",
                      "caxis": {
                        "gridcolor": "#DFE8F3",
                        "linecolor": "#A2B1C6",
                        "ticks": ""
                      }
                    },
                    "title": {
                      "x": 0.05
                    },
                    "xaxis": {
                      "automargin": true,
                      "gridcolor": "#EBF0F8",
                      "linecolor": "#EBF0F8",
                      "ticks": "",
                      "title": {
                        "standoff": 15
                      },
                      "zerolinecolor": "#EBF0F8",
                      "zerolinewidth": 2
                    },
                    "yaxis": {
                      "automargin": true,
                      "gridcolor": "#EBF0F8",
                      "linecolor": "#EBF0F8",
                      "ticks": "",
                      "title": {
                        "standoff": 15
                      },
                      "zerolinecolor": "#EBF0F8",
                      "zerolinewidth": 2
                    }
                  }
                },
                "title": {
                  "text": "Violin plot of the pareto solutions for each epoch (10 epochs) for the pollution objective"
                },
                "violinmode": "group",
                "xaxis": {
                  "anchor": "y",
                  "domain": [
                    0,
                    1
                  ],
                  "title": {
                    "text": "Epoch"
                  }
                },
                "yaxis": {
                  "anchor": "x",
                  "domain": [
                    0,
                    1
                  ],
                  "title": {
                    "text": "Pollution (g)"
                  }
                }
              }
            }
          },
          "metadata": {},
          "output_type": "display_data"
        },
        {
          "name": "stdout",
          "output_type": "stream",
          "text": [
            "NSWGE.json\n"
          ]
        },
        {
          "data": {
            "application/vnd.plotly.v1+json": {
              "config": {
                "plotlyServerURL": "https://plot.ly"
              },
              "data": [
                {
                  "alignmentgroup": "True",
                  "box": {
                    "visible": true
                  },
                  "hovertemplate": "Epoch=%{x}<br>Value=%{y}<extra></extra>",
                  "legendgroup": "",
                  "marker": {
                    "color": "#1f77b4"
                  },
                  "name": "",
                  "offsetgroup": "",
                  "orientation": "v",
                  "points": false,
                  "scalegroup": "True",
                  "showlegend": false,
                  "type": "violin",
                  "x": [
                    "1",
                    "1",
                    "2",
                    "2",
                    "2",
                    "2",
                    "2",
                    "3",
                    "3",
                    "3",
                    "3",
                    "3",
                    "3",
                    "3",
                    "3",
                    "3",
                    "4",
                    "4",
                    "4",
                    "4",
                    "4",
                    "4",
                    "4",
                    "4",
                    "5",
                    "5",
                    "6",
                    "6",
                    "6",
                    "6",
                    "7",
                    "7",
                    "7",
                    "8",
                    "8",
                    "8",
                    "8",
                    "8",
                    "8",
                    "8",
                    "9",
                    "9",
                    "9",
                    "10",
                    "10",
                    "10",
                    "10",
                    "10",
                    "11",
                    "11",
                    "11",
                    "12",
                    "12",
                    "12",
                    "12",
                    "12",
                    "12",
                    "12",
                    "13",
                    "13",
                    "13",
                    "13",
                    "14",
                    "14",
                    "14",
                    "15",
                    "15",
                    "15",
                    "15",
                    "15",
                    "15",
                    "15",
                    "15",
                    "15",
                    "16",
                    "16",
                    "17",
                    "17",
                    "17",
                    "18",
                    "18",
                    "18",
                    "18",
                    "18",
                    "19",
                    "20",
                    "20",
                    "20",
                    "21",
                    "21",
                    "21",
                    "21",
                    "22",
                    "22",
                    "22",
                    "23",
                    "23",
                    "23",
                    "23",
                    "23",
                    "23",
                    "24",
                    "24",
                    "24",
                    "25",
                    "25",
                    "26",
                    "26",
                    "26",
                    "26",
                    "26",
                    "26",
                    "26",
                    "27",
                    "27",
                    "28",
                    "28",
                    "28",
                    "28",
                    "28",
                    "28",
                    "29",
                    "30",
                    "30",
                    "30",
                    "31",
                    "31",
                    "31",
                    "31",
                    "31",
                    "32",
                    "32",
                    "32",
                    "32",
                    "32",
                    "32",
                    "32",
                    "32",
                    "32",
                    "32",
                    "33",
                    "33",
                    "33",
                    "33",
                    "33",
                    "33",
                    "34",
                    "34",
                    "34",
                    "35",
                    "35",
                    "35",
                    "36",
                    "36",
                    "36",
                    "36",
                    "37",
                    "38",
                    "38",
                    "38",
                    "38",
                    "38",
                    "39",
                    "39",
                    "39",
                    "39",
                    "39",
                    "40",
                    "40",
                    "40",
                    "40",
                    "40",
                    "40",
                    "40",
                    "40",
                    "41",
                    "41",
                    "41",
                    "41",
                    "42",
                    "42",
                    "43",
                    "43",
                    "43",
                    "43",
                    "43",
                    "43",
                    "43",
                    "43",
                    "44",
                    "45",
                    "45",
                    "46",
                    "46",
                    "47",
                    "47",
                    "47",
                    "47",
                    "48",
                    "48",
                    "48",
                    "48",
                    "48",
                    "48",
                    "49",
                    "49",
                    "49",
                    "49",
                    "49",
                    "50",
                    "50",
                    "50",
                    "51",
                    "51",
                    "51",
                    "51",
                    "52",
                    "52",
                    "52",
                    "52",
                    "52",
                    "52",
                    "52",
                    "52",
                    "52",
                    "53",
                    "53",
                    "53",
                    "53",
                    "53",
                    "53",
                    "53",
                    "54",
                    "54",
                    "54",
                    "54",
                    "55",
                    "55",
                    "55",
                    "55",
                    "55",
                    "55",
                    "56",
                    "56",
                    "56",
                    "56",
                    "56",
                    "56",
                    "56",
                    "56",
                    "57",
                    "57",
                    "57",
                    "57",
                    "57",
                    "57",
                    "58",
                    "58",
                    "58",
                    "58",
                    "58",
                    "59",
                    "60",
                    "60",
                    "60",
                    "60",
                    "60",
                    "60",
                    "60",
                    "60",
                    "60",
                    "60",
                    "60",
                    "60",
                    "60",
                    "61",
                    "61",
                    "61",
                    "61",
                    "61",
                    "61",
                    "61",
                    "61",
                    "61",
                    "61",
                    "62",
                    "62",
                    "62",
                    "62",
                    "62",
                    "62",
                    "62",
                    "63",
                    "63",
                    "63",
                    "63",
                    "63",
                    "64",
                    "64",
                    "65",
                    "65",
                    "65",
                    "65",
                    "65",
                    "65",
                    "65",
                    "66",
                    "66",
                    "66",
                    "66",
                    "66",
                    "66",
                    "67",
                    "67",
                    "67",
                    "67",
                    "67",
                    "67",
                    "68",
                    "68",
                    "68",
                    "68",
                    "69",
                    "70",
                    "70",
                    "71",
                    "71",
                    "71",
                    "71",
                    "72",
                    "72",
                    "72",
                    "72",
                    "72",
                    "72",
                    "72",
                    "72",
                    "73",
                    "73",
                    "73",
                    "73",
                    "73",
                    "73",
                    "74",
                    "74",
                    "74",
                    "74",
                    "74",
                    "74",
                    "74",
                    "74",
                    "74",
                    "75",
                    "76",
                    "77",
                    "77",
                    "78",
                    "78",
                    "78",
                    "78",
                    "78",
                    "78",
                    "78",
                    "78",
                    "78",
                    "79",
                    "79",
                    "80",
                    "80",
                    "80",
                    "80",
                    "80",
                    "80",
                    "80",
                    "80",
                    "80",
                    "80",
                    "81",
                    "81",
                    "81",
                    "81",
                    "81",
                    "81",
                    "81",
                    "82",
                    "82",
                    "82",
                    "83",
                    "83",
                    "83",
                    "83",
                    "83",
                    "83",
                    "83",
                    "83",
                    "83",
                    "84",
                    "84",
                    "84",
                    "84",
                    "84",
                    "84",
                    "84",
                    "84",
                    "84",
                    "84",
                    "84",
                    "84",
                    "85",
                    "85",
                    "85",
                    "85",
                    "85",
                    "85",
                    "86",
                    "86",
                    "86",
                    "87",
                    "88",
                    "88",
                    "89",
                    "89",
                    "89",
                    "89",
                    "89",
                    "89",
                    "89",
                    "90",
                    "90",
                    "90",
                    "90",
                    "90",
                    "90",
                    "90",
                    "90",
                    "91",
                    "91",
                    "91",
                    "91",
                    "92",
                    "92",
                    "92",
                    "93",
                    "93",
                    "93",
                    "93",
                    "93",
                    "93",
                    "93",
                    "93",
                    "93",
                    "94",
                    "94",
                    "94",
                    "94",
                    "94",
                    "94",
                    "94",
                    "95",
                    "95",
                    "95",
                    "95",
                    "95",
                    "96",
                    "96",
                    "96",
                    "96",
                    "96",
                    "96",
                    "97",
                    "98",
                    "98",
                    "98",
                    "98",
                    "98",
                    "98",
                    "98",
                    "99",
                    "99",
                    "100",
                    "100",
                    "100",
                    "100"
                  ],
                  "x0": " ",
                  "xaxis": "x",
                  "y": [
                    4264242.833333333,
                    4076518.1990498775,
                    3792862.71311032,
                    3483521.0643870197,
                    3744360.7855414962,
                    4123786.3333333335,
                    4044927.8376829685,
                    3822086.8340992583,
                    3678186.0628435137,
                    4207380.9,
                    3650538.065501582,
                    3457816.7472172617,
                    9730026.125,
                    5545174.824621212,
                    8551743.241594516,
                    3831134.0862009227,
                    4292673.8,
                    3665552.975390398,
                    3921394.7269789716,
                    4123786.3333333335,
                    3717652.0021112375,
                    3521200.906063744,
                    3884999.8193619526,
                    4178162.6031881636,
                    2641011.3976942645,
                    4243935,
                    2736776.7499592165,
                    3905223.222222222,
                    2712526.8170066746,
                    4292673.8,
                    2687558.7372952723,
                    3521200.906063744,
                    4228704.125,
                    3354213.508037317,
                    3531099.684803083,
                    3344084.9356262544,
                    4123786.3333333335,
                    2788110.220818076,
                    2902833.3163522016,
                    4207380.9,
                    2854543.041792238,
                    6822987,
                    2692550.0177496593,
                    3476189.1243771208,
                    2847298.5860287515,
                    4105043.75,
                    5512175.727819004,
                    4105043.75,
                    3487074.416182386,
                    5817649.533879254,
                    2842234.106634527,
                    4098796.222222222,
                    3272979.120725285,
                    4243935,
                    3519701.068134875,
                    3479037.9518078584,
                    2746071.482917119,
                    3358934.6213192944,
                    5579317.871513341,
                    3530619.706252655,
                    2700628.9041762142,
                    3447705.8211434614,
                    2773475.867814009,
                    3405526.725154102,
                    2746071.482917119,
                    3269471.735511581,
                    3341481.3716163537,
                    3732203.9451102125,
                    3316083.1573346835,
                    3327846.4273718167,
                    3360271.0546527123,
                    5456766.37849222,
                    3924441.8,
                    4243935,
                    2675101.6745885857,
                    2647029.6231253645,
                    5924010.84876639,
                    2704255.705134139,
                    2650797.408597145,
                    2767199.8013457553,
                    2807359.5659237877,
                    4216857.888888889,
                    3924441.8,
                    2721091.8890434946,
                    2660191.931220365,
                    2843927.6621469487,
                    2747948.0821308284,
                    2847834.1154471547,
                    3582138.9353062217,
                    2736154.4706358784,
                    2702027.5989976954,
                    4228704.125,
                    4138780.4,
                    2794757.6742161256,
                    2843927.6621469487,
                    3924441.8,
                    2695791.095745397,
                    2902833.3163522016,
                    3713739.6581658632,
                    2704255.705134139,
                    2695791.095745397,
                    7320270.125,
                    2653879.8963854373,
                    2882288.987987988,
                    2653879.8963854373,
                    4138780.4,
                    2831931.6339605735,
                    2855259.725,
                    2766917.2565192743,
                    2679319.731244065,
                    2700628.9041762142,
                    2794757.6742161256,
                    3234595.166737078,
                    2592642.4990247265,
                    4098796.222222222,
                    2822016.1560846562,
                    10475805.8,
                    4138780.4,
                    2726083.533879255,
                    5931790.845139109,
                    2886300.268294549,
                    2641011.3976942645,
                    2635576.496705145,
                    2719426.5247234213,
                    2719239.4111111113,
                    2686559.3338243873,
                    3195478.418979667,
                    3471916.907478658,
                    12145073.967046238,
                    2796490.6322222226,
                    2743848.558773037,
                    3463113.2512923987,
                    3204614.990071224,
                    2712345.9359410433,
                    5727809.178080335,
                    3348017.3674086314,
                    2794807.55,
                    3423797.5067847236,
                    2697066.794401311,
                    5841699.42898617,
                    4207380.9,
                    2626904.1785375117,
                    3631999.2071943153,
                    5487325.752025398,
                    2811271.556720151,
                    5810087.867814009,
                    2670273.299187359,
                    2776204.6353046596,
                    2532455.390790139,
                    2814642.3136842563,
                    2657972.177777778,
                    2880400.779100529,
                    2697066.794401311,
                    3325558.5502787987,
                    2705871.041354557,
                    3629517.7086669835,
                    2601275.727819005,
                    2779258.428599374,
                    2707441.607006355,
                    8869241.622684138,
                    2750843.7143939394,
                    2687171.759610821,
                    2691197.1780803353,
                    2732047.068137172,
                    2832444.8487663902,
                    2694267.642235541,
                    2850871.7859331234,
                    4093798.2,
                    2805087.4289861703,
                    3228183.659292726,
                    3325558.5502787987,
                    2802629.467615596,
                    2850871.7859331234,
                    2783501.4012883925,
                    3346743.6504439856,
                    2687928.8617604584,
                    2791893.037037037,
                    2698500.426058201,
                    4093798.2,
                    2585882.4478938384,
                    4105043.75,
                    2831931.6339605735,
                    4264242.833333333,
                    4138780.4,
                    2776720.947066822,
                    2686110.215043287,
                    4228704.125,
                    2803105.0115688876,
                    9057062.43023872,
                    1125291.888888889,
                    2729568.8562049028,
                    2736154.4706358784,
                    1152369,
                    2534033.392356134,
                    2528472.3860679776,
                    4105043.75,
                    4216857.888888889,
                    2890075.89350041,
                    4138780.4,
                    3565246.460168262,
                    3370544.7364798626,
                    2686559.3338243873,
                    2707441.607006355,
                    4243935,
                    2707976.2918650773,
                    3513939.421373257,
                    3908226.125,
                    3357583.0284063322,
                    2709860.4933333336,
                    1115814.9,
                    4216857.888888889,
                    2745379.0698761446,
                    2679319.731244065,
                    2679319.731244065,
                    2665131.156648452,
                    5743856.616594514,
                    2715095.0842312425,
                    3259312.4664018094,
                    2852891.713845755,
                    4105043.75,
                    2802629.467615596,
                    2886300.268294549,
                    2796415.2932108343,
                    2886300.268294549,
                    2746071.482917119,
                    2709860.4933333336,
                    4216857.888888889,
                    2723716.115084158,
                    4243935,
                    2880400.779100529,
                    2843277.1818662784,
                    2704537.2942942944,
                    2791893.037037037,
                    2524795.8706851937,
                    2701206.8465608465,
                    3234595.166737078,
                    3346743.6504439856,
                    3368319.9239871847,
                    2858307.136067977,
                    2756555.5179717327,
                    2877595.0991740418,
                    3387768.0791321853,
                    3912087,
                    2758093.204473301,
                    2686110.215043287,
                    2870375.967046238,
                    3908226.125,
                    3326187.3808283256,
                    7384239.8,
                    3908226.125,
                    3161836.375816003,
                    2776720.947066822,
                    2776204.6353046596,
                    3354023.562960979,
                    3908226.125,
                    4105043.75,
                    2688147.8421288324,
                    2849732.4814814813,
                    2745379.0698761446,
                    5663516.178537511,
                    4113076.285714286,
                    2518525.317560368,
                    4123786.3333333335,
                    3166525.2875619163,
                    3238260.335907608,
                    2721684.9012194923,
                    2805563.188257576,
                    5734089.464420996,
                    2842234.106634527,
                    5977866.268294549,
                    5443355.390790139,
                    3489856.2463412886,
                    3346743.6504439856,
                    4203242.308164483,
                    3290929.7161551137,
                    3290929.7161551137,
                    4292673.8,
                    3340292.5661985013,
                    2753551.3906445387,
                    2789185.775,
                    4216857.888888889,
                    2630722.3482474643,
                    2791893.037037037,
                    3924441.8,
                    4123786.3333333335,
                    3908226.125,
                    4098796.222222222,
                    3917234.8333333335,
                    4138780.4,
                    3374327.335135277,
                    2700628.9041762142,
                    2836120.5534592303,
                    2688147.8421288324,
                    2700326.769531265,
                    5992744.604006521,
                    6819126.125,
                    2665602.220430978,
                    2691197.1780803353,
                    2626904.1785375117,
                    3419579.975846223,
                    2776889.181377152,
                    2753146.9962036856,
                    2810696.97145262,
                    3300391.3872034457,
                    2795886.5422549252,
                    2807552.201575273,
                    2687558.7372952723,
                    2929942.6142739276,
                    3905223.222222222,
                    4113076.285714286,
                    2776204.6353046596,
                    4138780.4,
                    5567182.21860766,
                    2726796.7622155286,
                    5937185.981591393,
                    2702027.5989976954,
                    2870375.967046238,
                    6879133.282228526,
                    5488751.71663128,
                    2794807.55,
                    2870933.9581565303,
                    2702027.5989976954,
                    2690409.488785369,
                    2690117.471882878,
                    2538071.755664184,
                    4105043.75,
                    3374327.335135277,
                    2688147.8421288324,
                    4228704.125,
                    2707034.5975,
                    2683740.375461917,
                    2762495.0471790885,
                    2753551.3906445387,
                    2716094.45260771,
                    2687171.759610821,
                    2845692.0788858943,
                    3422580.164181865,
                    2802629.467615596,
                    4243935,
                    7175392.4,
                    2707976.2918650773,
                    2679319.731244065,
                    2686626.274852321,
                    4105043.75,
                    2707034.5975,
                    4098796.222222222,
                    3272102.3057969096,
                    3908226.125,
                    2793559.280512422,
                    2648231.4533384014,
                    2880400.779100529,
                    2759761.4761842564,
                    2665076.9475981253,
                    2597072.249716554,
                    4216857.888888889,
                    1201107.8,
                    4292673.8,
                    3156565.775952383,
                    2756555.5179717327,
                    5428234.79536285,
                    4183964.29279394,
                    2707724.868991169,
                    6500194.775789786,
                    2752465.4138933984,
                    3732203.9451102125,
                    2686110.215043287,
                    2745379.0698761446,
                    2630722.3482474643,
                    4113076.285714286,
                    4105043.75,
                    2665052.122170543,
                    2783676.921214929,
                    2758093.204473301,
                    2870375.967046238,
                    4228704.125,
                    2528681.134866776,
                    2732047.068137172,
                    2726083.533879255,
                    2854753.1675092313,
                    3905223.222222222,
                    2736154.4706358784,
                    2752465.4138933984,
                    4138780.4,
                    3468420.1502677514,
                    2548973.449579538,
                    3908226.125,
                    2758093.204473301,
                    3535421.5721551976,
                    2720161.6518916767,
                    2701349.640234644,
                    2822016.1560846562,
                    2843927.6621469487,
                    2690117.471882878,
                    2719239.4111111113,
                    2726083.533879255,
                    3367634.7916782466,
                    4216857.888888889,
                    2702755.285495188,
                    3905223.222222222,
                    2852776.6453081234,
                    2843927.6621469487,
                    2791893.037037037,
                    2852776.6453081234,
                    4105043.75,
                    2759761.4761842564,
                    2783501.4012883925,
                    3409694.8600683063,
                    3924441.8,
                    2752070.359401311,
                    2631868.929805266,
                    2689289.3600468957,
                    2776204.6353046596,
                    2803105.0115688876,
                    2640834.719312169,
                    2702027.5989976954,
                    4292673.8,
                    2671029.6125,
                    2597072.249716554,
                    2630722.3482474643,
                    2697583.139538236,
                    4098796.222222222,
                    3542716.0279847705,
                    3799585.0522484253,
                    2660191.931220365,
                    5680010.005,
                    7384239.8,
                    2877595.0991740418,
                    2794134.600402661,
                    3917234.8333333335,
                    5425366.046926563,
                    2877595.0991740418,
                    2707441.607006355,
                    2686559.3338243873,
                    2797740.6305104583,
                    2852776.6453081234,
                    2704769.4559510183,
                    4292673.8,
                    5439372.386067977,
                    2631868.929805266,
                    2628629.8303813403,
                    2723716.115084158,
                    2630722.3482474643,
                    2797740.6305104583,
                    2650797.408597145,
                    2783789.069997398,
                    4098796.222222222,
                    4098796.222222222,
                    6819126.125,
                    4292673.8,
                    2707441.607006355,
                    2700326.769531265,
                    2687558.7372952723,
                    2762495.0471790885,
                    4113076.285714286,
                    3562322.2188557032,
                    2698500.426058201,
                    5640843.241594515,
                    2704254.876707014,
                    4228704.125,
                    2679319.731244065,
                    2663933.9294013106,
                    2648231.4533384014,
                    2797850.7792929276,
                    3539180.6521736337,
                    4216857.888888889,
                    4098796.222222222,
                    2648886.6237384803,
                    2752465.4138933984,
                    2641406.4521970097,
                    1125291.888888889,
                    2707034.5975,
                    2719239.4111111113,
                    2736154.4706358784,
                    2807552.201575273,
                    4228704.125,
                    2776204.6353046596,
                    5844031.413893398,
                    4207380.9,
                    2690409.488785369,
                    4228704.125,
                    7308423.888888889,
                    2702944.2872945284,
                    2588017.8454247024
                  ],
                  "y0": " ",
                  "yaxis": "y"
                }
              ],
              "layout": {
                "font": {
                  "family": "Times New Roman",
                  "size": 12
                },
                "legend": {
                  "tracegroupgap": 0
                },
                "margin": {
                  "t": 60
                },
                "template": {
                  "data": {
                    "bar": [
                      {
                        "error_x": {
                          "color": "#2a3f5f"
                        },
                        "error_y": {
                          "color": "#2a3f5f"
                        },
                        "marker": {
                          "line": {
                            "color": "white",
                            "width": 0.5
                          },
                          "pattern": {
                            "fillmode": "overlay",
                            "size": 10,
                            "solidity": 0.2
                          }
                        },
                        "type": "bar"
                      }
                    ],
                    "barpolar": [
                      {
                        "marker": {
                          "line": {
                            "color": "white",
                            "width": 0.5
                          },
                          "pattern": {
                            "fillmode": "overlay",
                            "size": 10,
                            "solidity": 0.2
                          }
                        },
                        "type": "barpolar"
                      }
                    ],
                    "carpet": [
                      {
                        "aaxis": {
                          "endlinecolor": "#2a3f5f",
                          "gridcolor": "#C8D4E3",
                          "linecolor": "#C8D4E3",
                          "minorgridcolor": "#C8D4E3",
                          "startlinecolor": "#2a3f5f"
                        },
                        "baxis": {
                          "endlinecolor": "#2a3f5f",
                          "gridcolor": "#C8D4E3",
                          "linecolor": "#C8D4E3",
                          "minorgridcolor": "#C8D4E3",
                          "startlinecolor": "#2a3f5f"
                        },
                        "type": "carpet"
                      }
                    ],
                    "choropleth": [
                      {
                        "colorbar": {
                          "outlinewidth": 0,
                          "ticks": ""
                        },
                        "type": "choropleth"
                      }
                    ],
                    "contour": [
                      {
                        "colorbar": {
                          "outlinewidth": 0,
                          "ticks": ""
                        },
                        "colorscale": [
                          [
                            0,
                            "#0d0887"
                          ],
                          [
                            0.1111111111111111,
                            "#46039f"
                          ],
                          [
                            0.2222222222222222,
                            "#7201a8"
                          ],
                          [
                            0.3333333333333333,
                            "#9c179e"
                          ],
                          [
                            0.4444444444444444,
                            "#bd3786"
                          ],
                          [
                            0.5555555555555556,
                            "#d8576b"
                          ],
                          [
                            0.6666666666666666,
                            "#ed7953"
                          ],
                          [
                            0.7777777777777778,
                            "#fb9f3a"
                          ],
                          [
                            0.8888888888888888,
                            "#fdca26"
                          ],
                          [
                            1,
                            "#f0f921"
                          ]
                        ],
                        "type": "contour"
                      }
                    ],
                    "contourcarpet": [
                      {
                        "colorbar": {
                          "outlinewidth": 0,
                          "ticks": ""
                        },
                        "type": "contourcarpet"
                      }
                    ],
                    "heatmap": [
                      {
                        "colorbar": {
                          "outlinewidth": 0,
                          "ticks": ""
                        },
                        "colorscale": [
                          [
                            0,
                            "#0d0887"
                          ],
                          [
                            0.1111111111111111,
                            "#46039f"
                          ],
                          [
                            0.2222222222222222,
                            "#7201a8"
                          ],
                          [
                            0.3333333333333333,
                            "#9c179e"
                          ],
                          [
                            0.4444444444444444,
                            "#bd3786"
                          ],
                          [
                            0.5555555555555556,
                            "#d8576b"
                          ],
                          [
                            0.6666666666666666,
                            "#ed7953"
                          ],
                          [
                            0.7777777777777778,
                            "#fb9f3a"
                          ],
                          [
                            0.8888888888888888,
                            "#fdca26"
                          ],
                          [
                            1,
                            "#f0f921"
                          ]
                        ],
                        "type": "heatmap"
                      }
                    ],
                    "heatmapgl": [
                      {
                        "colorbar": {
                          "outlinewidth": 0,
                          "ticks": ""
                        },
                        "colorscale": [
                          [
                            0,
                            "#0d0887"
                          ],
                          [
                            0.1111111111111111,
                            "#46039f"
                          ],
                          [
                            0.2222222222222222,
                            "#7201a8"
                          ],
                          [
                            0.3333333333333333,
                            "#9c179e"
                          ],
                          [
                            0.4444444444444444,
                            "#bd3786"
                          ],
                          [
                            0.5555555555555556,
                            "#d8576b"
                          ],
                          [
                            0.6666666666666666,
                            "#ed7953"
                          ],
                          [
                            0.7777777777777778,
                            "#fb9f3a"
                          ],
                          [
                            0.8888888888888888,
                            "#fdca26"
                          ],
                          [
                            1,
                            "#f0f921"
                          ]
                        ],
                        "type": "heatmapgl"
                      }
                    ],
                    "histogram": [
                      {
                        "marker": {
                          "pattern": {
                            "fillmode": "overlay",
                            "size": 10,
                            "solidity": 0.2
                          }
                        },
                        "type": "histogram"
                      }
                    ],
                    "histogram2d": [
                      {
                        "colorbar": {
                          "outlinewidth": 0,
                          "ticks": ""
                        },
                        "colorscale": [
                          [
                            0,
                            "#0d0887"
                          ],
                          [
                            0.1111111111111111,
                            "#46039f"
                          ],
                          [
                            0.2222222222222222,
                            "#7201a8"
                          ],
                          [
                            0.3333333333333333,
                            "#9c179e"
                          ],
                          [
                            0.4444444444444444,
                            "#bd3786"
                          ],
                          [
                            0.5555555555555556,
                            "#d8576b"
                          ],
                          [
                            0.6666666666666666,
                            "#ed7953"
                          ],
                          [
                            0.7777777777777778,
                            "#fb9f3a"
                          ],
                          [
                            0.8888888888888888,
                            "#fdca26"
                          ],
                          [
                            1,
                            "#f0f921"
                          ]
                        ],
                        "type": "histogram2d"
                      }
                    ],
                    "histogram2dcontour": [
                      {
                        "colorbar": {
                          "outlinewidth": 0,
                          "ticks": ""
                        },
                        "colorscale": [
                          [
                            0,
                            "#0d0887"
                          ],
                          [
                            0.1111111111111111,
                            "#46039f"
                          ],
                          [
                            0.2222222222222222,
                            "#7201a8"
                          ],
                          [
                            0.3333333333333333,
                            "#9c179e"
                          ],
                          [
                            0.4444444444444444,
                            "#bd3786"
                          ],
                          [
                            0.5555555555555556,
                            "#d8576b"
                          ],
                          [
                            0.6666666666666666,
                            "#ed7953"
                          ],
                          [
                            0.7777777777777778,
                            "#fb9f3a"
                          ],
                          [
                            0.8888888888888888,
                            "#fdca26"
                          ],
                          [
                            1,
                            "#f0f921"
                          ]
                        ],
                        "type": "histogram2dcontour"
                      }
                    ],
                    "mesh3d": [
                      {
                        "colorbar": {
                          "outlinewidth": 0,
                          "ticks": ""
                        },
                        "type": "mesh3d"
                      }
                    ],
                    "parcoords": [
                      {
                        "line": {
                          "colorbar": {
                            "outlinewidth": 0,
                            "ticks": ""
                          }
                        },
                        "type": "parcoords"
                      }
                    ],
                    "pie": [
                      {
                        "automargin": true,
                        "type": "pie"
                      }
                    ],
                    "scatter": [
                      {
                        "fillpattern": {
                          "fillmode": "overlay",
                          "size": 10,
                          "solidity": 0.2
                        },
                        "type": "scatter"
                      }
                    ],
                    "scatter3d": [
                      {
                        "line": {
                          "colorbar": {
                            "outlinewidth": 0,
                            "ticks": ""
                          }
                        },
                        "marker": {
                          "colorbar": {
                            "outlinewidth": 0,
                            "ticks": ""
                          }
                        },
                        "type": "scatter3d"
                      }
                    ],
                    "scattercarpet": [
                      {
                        "marker": {
                          "colorbar": {
                            "outlinewidth": 0,
                            "ticks": ""
                          }
                        },
                        "type": "scattercarpet"
                      }
                    ],
                    "scattergeo": [
                      {
                        "marker": {
                          "colorbar": {
                            "outlinewidth": 0,
                            "ticks": ""
                          }
                        },
                        "type": "scattergeo"
                      }
                    ],
                    "scattergl": [
                      {
                        "marker": {
                          "colorbar": {
                            "outlinewidth": 0,
                            "ticks": ""
                          }
                        },
                        "type": "scattergl"
                      }
                    ],
                    "scattermapbox": [
                      {
                        "marker": {
                          "colorbar": {
                            "outlinewidth": 0,
                            "ticks": ""
                          }
                        },
                        "type": "scattermapbox"
                      }
                    ],
                    "scatterpolar": [
                      {
                        "marker": {
                          "colorbar": {
                            "outlinewidth": 0,
                            "ticks": ""
                          }
                        },
                        "type": "scatterpolar"
                      }
                    ],
                    "scatterpolargl": [
                      {
                        "marker": {
                          "colorbar": {
                            "outlinewidth": 0,
                            "ticks": ""
                          }
                        },
                        "type": "scatterpolargl"
                      }
                    ],
                    "scatterternary": [
                      {
                        "marker": {
                          "colorbar": {
                            "outlinewidth": 0,
                            "ticks": ""
                          }
                        },
                        "type": "scatterternary"
                      }
                    ],
                    "surface": [
                      {
                        "colorbar": {
                          "outlinewidth": 0,
                          "ticks": ""
                        },
                        "colorscale": [
                          [
                            0,
                            "#0d0887"
                          ],
                          [
                            0.1111111111111111,
                            "#46039f"
                          ],
                          [
                            0.2222222222222222,
                            "#7201a8"
                          ],
                          [
                            0.3333333333333333,
                            "#9c179e"
                          ],
                          [
                            0.4444444444444444,
                            "#bd3786"
                          ],
                          [
                            0.5555555555555556,
                            "#d8576b"
                          ],
                          [
                            0.6666666666666666,
                            "#ed7953"
                          ],
                          [
                            0.7777777777777778,
                            "#fb9f3a"
                          ],
                          [
                            0.8888888888888888,
                            "#fdca26"
                          ],
                          [
                            1,
                            "#f0f921"
                          ]
                        ],
                        "type": "surface"
                      }
                    ],
                    "table": [
                      {
                        "cells": {
                          "fill": {
                            "color": "#EBF0F8"
                          },
                          "line": {
                            "color": "white"
                          }
                        },
                        "header": {
                          "fill": {
                            "color": "#C8D4E3"
                          },
                          "line": {
                            "color": "white"
                          }
                        },
                        "type": "table"
                      }
                    ]
                  },
                  "layout": {
                    "annotationdefaults": {
                      "arrowcolor": "#2a3f5f",
                      "arrowhead": 0,
                      "arrowwidth": 1
                    },
                    "autotypenumbers": "strict",
                    "coloraxis": {
                      "colorbar": {
                        "outlinewidth": 0,
                        "ticks": ""
                      }
                    },
                    "colorscale": {
                      "diverging": [
                        [
                          0,
                          "#8e0152"
                        ],
                        [
                          0.1,
                          "#c51b7d"
                        ],
                        [
                          0.2,
                          "#de77ae"
                        ],
                        [
                          0.3,
                          "#f1b6da"
                        ],
                        [
                          0.4,
                          "#fde0ef"
                        ],
                        [
                          0.5,
                          "#f7f7f7"
                        ],
                        [
                          0.6,
                          "#e6f5d0"
                        ],
                        [
                          0.7,
                          "#b8e186"
                        ],
                        [
                          0.8,
                          "#7fbc41"
                        ],
                        [
                          0.9,
                          "#4d9221"
                        ],
                        [
                          1,
                          "#276419"
                        ]
                      ],
                      "sequential": [
                        [
                          0,
                          "#0d0887"
                        ],
                        [
                          0.1111111111111111,
                          "#46039f"
                        ],
                        [
                          0.2222222222222222,
                          "#7201a8"
                        ],
                        [
                          0.3333333333333333,
                          "#9c179e"
                        ],
                        [
                          0.4444444444444444,
                          "#bd3786"
                        ],
                        [
                          0.5555555555555556,
                          "#d8576b"
                        ],
                        [
                          0.6666666666666666,
                          "#ed7953"
                        ],
                        [
                          0.7777777777777778,
                          "#fb9f3a"
                        ],
                        [
                          0.8888888888888888,
                          "#fdca26"
                        ],
                        [
                          1,
                          "#f0f921"
                        ]
                      ],
                      "sequentialminus": [
                        [
                          0,
                          "#0d0887"
                        ],
                        [
                          0.1111111111111111,
                          "#46039f"
                        ],
                        [
                          0.2222222222222222,
                          "#7201a8"
                        ],
                        [
                          0.3333333333333333,
                          "#9c179e"
                        ],
                        [
                          0.4444444444444444,
                          "#bd3786"
                        ],
                        [
                          0.5555555555555556,
                          "#d8576b"
                        ],
                        [
                          0.6666666666666666,
                          "#ed7953"
                        ],
                        [
                          0.7777777777777778,
                          "#fb9f3a"
                        ],
                        [
                          0.8888888888888888,
                          "#fdca26"
                        ],
                        [
                          1,
                          "#f0f921"
                        ]
                      ]
                    },
                    "colorway": [
                      "#636efa",
                      "#EF553B",
                      "#00cc96",
                      "#ab63fa",
                      "#FFA15A",
                      "#19d3f3",
                      "#FF6692",
                      "#B6E880",
                      "#FF97FF",
                      "#FECB52"
                    ],
                    "font": {
                      "color": "#2a3f5f"
                    },
                    "geo": {
                      "bgcolor": "white",
                      "lakecolor": "white",
                      "landcolor": "white",
                      "showlakes": true,
                      "showland": true,
                      "subunitcolor": "#C8D4E3"
                    },
                    "hoverlabel": {
                      "align": "left"
                    },
                    "hovermode": "closest",
                    "mapbox": {
                      "style": "light"
                    },
                    "paper_bgcolor": "white",
                    "plot_bgcolor": "white",
                    "polar": {
                      "angularaxis": {
                        "gridcolor": "#EBF0F8",
                        "linecolor": "#EBF0F8",
                        "ticks": ""
                      },
                      "bgcolor": "white",
                      "radialaxis": {
                        "gridcolor": "#EBF0F8",
                        "linecolor": "#EBF0F8",
                        "ticks": ""
                      }
                    },
                    "scene": {
                      "xaxis": {
                        "backgroundcolor": "white",
                        "gridcolor": "#DFE8F3",
                        "gridwidth": 2,
                        "linecolor": "#EBF0F8",
                        "showbackground": true,
                        "ticks": "",
                        "zerolinecolor": "#EBF0F8"
                      },
                      "yaxis": {
                        "backgroundcolor": "white",
                        "gridcolor": "#DFE8F3",
                        "gridwidth": 2,
                        "linecolor": "#EBF0F8",
                        "showbackground": true,
                        "ticks": "",
                        "zerolinecolor": "#EBF0F8"
                      },
                      "zaxis": {
                        "backgroundcolor": "white",
                        "gridcolor": "#DFE8F3",
                        "gridwidth": 2,
                        "linecolor": "#EBF0F8",
                        "showbackground": true,
                        "ticks": "",
                        "zerolinecolor": "#EBF0F8"
                      }
                    },
                    "shapedefaults": {
                      "line": {
                        "color": "#2a3f5f"
                      }
                    },
                    "ternary": {
                      "aaxis": {
                        "gridcolor": "#DFE8F3",
                        "linecolor": "#A2B1C6",
                        "ticks": ""
                      },
                      "baxis": {
                        "gridcolor": "#DFE8F3",
                        "linecolor": "#A2B1C6",
                        "ticks": ""
                      },
                      "bgcolor": "white",
                      "caxis": {
                        "gridcolor": "#DFE8F3",
                        "linecolor": "#A2B1C6",
                        "ticks": ""
                      }
                    },
                    "title": {
                      "x": 0.05
                    },
                    "xaxis": {
                      "automargin": true,
                      "gridcolor": "#EBF0F8",
                      "linecolor": "#EBF0F8",
                      "ticks": "",
                      "title": {
                        "standoff": 15
                      },
                      "zerolinecolor": "#EBF0F8",
                      "zerolinewidth": 2
                    },
                    "yaxis": {
                      "automargin": true,
                      "gridcolor": "#EBF0F8",
                      "linecolor": "#EBF0F8",
                      "ticks": "",
                      "title": {
                        "standoff": 15
                      },
                      "zerolinecolor": "#EBF0F8",
                      "zerolinewidth": 2
                    }
                  }
                },
                "title": {
                  "text": "Violin plot of the pareto solutions for each epoch (10 epochs) for the processingTime objective"
                },
                "violinmode": "group",
                "xaxis": {
                  "anchor": "y",
                  "domain": [
                    0,
                    1
                  ],
                  "title": {
                    "text": "Epoch"
                  }
                },
                "yaxis": {
                  "anchor": "x",
                  "domain": [
                    0,
                    1
                  ],
                  "title": {
                    "text": "Processing time (s)"
                  }
                }
              }
            }
          },
          "metadata": {},
          "output_type": "display_data"
        },
        {
          "data": {
            "application/vnd.plotly.v1+json": {
              "config": {
                "plotlyServerURL": "https://plot.ly"
              },
              "data": [
                {
                  "alignmentgroup": "True",
                  "box": {
                    "visible": true
                  },
                  "hovertemplate": "Epoch=%{x}<br>Value=%{y}<extra></extra>",
                  "legendgroup": "",
                  "marker": {
                    "color": "#1f77b4"
                  },
                  "name": "",
                  "offsetgroup": "",
                  "orientation": "v",
                  "points": false,
                  "scalegroup": "True",
                  "showlegend": false,
                  "type": "violin",
                  "x": [
                    "1",
                    "1",
                    "2",
                    "2",
                    "2",
                    "2",
                    "2",
                    "3",
                    "3",
                    "3",
                    "3",
                    "3",
                    "3",
                    "3",
                    "3",
                    "3",
                    "4",
                    "4",
                    "4",
                    "4",
                    "4",
                    "4",
                    "4",
                    "4",
                    "5",
                    "5",
                    "6",
                    "6",
                    "6",
                    "6",
                    "7",
                    "7",
                    "7",
                    "8",
                    "8",
                    "8",
                    "8",
                    "8",
                    "8",
                    "8",
                    "9",
                    "9",
                    "9",
                    "10",
                    "10",
                    "10",
                    "10",
                    "10",
                    "11",
                    "11",
                    "11",
                    "12",
                    "12",
                    "12",
                    "12",
                    "12",
                    "12",
                    "12",
                    "13",
                    "13",
                    "13",
                    "13",
                    "14",
                    "14",
                    "14",
                    "15",
                    "15",
                    "15",
                    "15",
                    "15",
                    "15",
                    "15",
                    "15",
                    "15",
                    "16",
                    "16",
                    "17",
                    "17",
                    "17",
                    "18",
                    "18",
                    "18",
                    "18",
                    "18",
                    "19",
                    "20",
                    "20",
                    "20",
                    "21",
                    "21",
                    "21",
                    "21",
                    "22",
                    "22",
                    "22",
                    "23",
                    "23",
                    "23",
                    "23",
                    "23",
                    "23",
                    "24",
                    "24",
                    "24",
                    "25",
                    "25",
                    "26",
                    "26",
                    "26",
                    "26",
                    "26",
                    "26",
                    "26",
                    "27",
                    "27",
                    "28",
                    "28",
                    "28",
                    "28",
                    "28",
                    "28",
                    "29",
                    "30",
                    "30",
                    "30",
                    "31",
                    "31",
                    "31",
                    "31",
                    "31",
                    "32",
                    "32",
                    "32",
                    "32",
                    "32",
                    "32",
                    "32",
                    "32",
                    "32",
                    "32",
                    "33",
                    "33",
                    "33",
                    "33",
                    "33",
                    "33",
                    "34",
                    "34",
                    "34",
                    "35",
                    "35",
                    "35",
                    "36",
                    "36",
                    "36",
                    "36",
                    "37",
                    "38",
                    "38",
                    "38",
                    "38",
                    "38",
                    "39",
                    "39",
                    "39",
                    "39",
                    "39",
                    "40",
                    "40",
                    "40",
                    "40",
                    "40",
                    "40",
                    "40",
                    "40",
                    "41",
                    "41",
                    "41",
                    "41",
                    "42",
                    "42",
                    "43",
                    "43",
                    "43",
                    "43",
                    "43",
                    "43",
                    "43",
                    "43",
                    "44",
                    "45",
                    "45",
                    "46",
                    "46",
                    "47",
                    "47",
                    "47",
                    "47",
                    "48",
                    "48",
                    "48",
                    "48",
                    "48",
                    "48",
                    "49",
                    "49",
                    "49",
                    "49",
                    "49",
                    "50",
                    "50",
                    "50",
                    "51",
                    "51",
                    "51",
                    "51",
                    "52",
                    "52",
                    "52",
                    "52",
                    "52",
                    "52",
                    "52",
                    "52",
                    "52",
                    "53",
                    "53",
                    "53",
                    "53",
                    "53",
                    "53",
                    "53",
                    "54",
                    "54",
                    "54",
                    "54",
                    "55",
                    "55",
                    "55",
                    "55",
                    "55",
                    "55",
                    "56",
                    "56",
                    "56",
                    "56",
                    "56",
                    "56",
                    "56",
                    "56",
                    "57",
                    "57",
                    "57",
                    "57",
                    "57",
                    "57",
                    "58",
                    "58",
                    "58",
                    "58",
                    "58",
                    "59",
                    "60",
                    "60",
                    "60",
                    "60",
                    "60",
                    "60",
                    "60",
                    "60",
                    "60",
                    "60",
                    "60",
                    "60",
                    "60",
                    "61",
                    "61",
                    "61",
                    "61",
                    "61",
                    "61",
                    "61",
                    "61",
                    "61",
                    "61",
                    "62",
                    "62",
                    "62",
                    "62",
                    "62",
                    "62",
                    "62",
                    "63",
                    "63",
                    "63",
                    "63",
                    "63",
                    "64",
                    "64",
                    "65",
                    "65",
                    "65",
                    "65",
                    "65",
                    "65",
                    "65",
                    "66",
                    "66",
                    "66",
                    "66",
                    "66",
                    "66",
                    "67",
                    "67",
                    "67",
                    "67",
                    "67",
                    "67",
                    "68",
                    "68",
                    "68",
                    "68",
                    "69",
                    "70",
                    "70",
                    "71",
                    "71",
                    "71",
                    "71",
                    "72",
                    "72",
                    "72",
                    "72",
                    "72",
                    "72",
                    "72",
                    "72",
                    "73",
                    "73",
                    "73",
                    "73",
                    "73",
                    "73",
                    "74",
                    "74",
                    "74",
                    "74",
                    "74",
                    "74",
                    "74",
                    "74",
                    "74",
                    "75",
                    "76",
                    "77",
                    "77",
                    "78",
                    "78",
                    "78",
                    "78",
                    "78",
                    "78",
                    "78",
                    "78",
                    "78",
                    "79",
                    "79",
                    "80",
                    "80",
                    "80",
                    "80",
                    "80",
                    "80",
                    "80",
                    "80",
                    "80",
                    "80",
                    "81",
                    "81",
                    "81",
                    "81",
                    "81",
                    "81",
                    "81",
                    "82",
                    "82",
                    "82",
                    "83",
                    "83",
                    "83",
                    "83",
                    "83",
                    "83",
                    "83",
                    "83",
                    "83",
                    "84",
                    "84",
                    "84",
                    "84",
                    "84",
                    "84",
                    "84",
                    "84",
                    "84",
                    "84",
                    "84",
                    "84",
                    "85",
                    "85",
                    "85",
                    "85",
                    "85",
                    "85",
                    "86",
                    "86",
                    "86",
                    "87",
                    "88",
                    "88",
                    "89",
                    "89",
                    "89",
                    "89",
                    "89",
                    "89",
                    "89",
                    "90",
                    "90",
                    "90",
                    "90",
                    "90",
                    "90",
                    "90",
                    "90",
                    "91",
                    "91",
                    "91",
                    "91",
                    "92",
                    "92",
                    "92",
                    "93",
                    "93",
                    "93",
                    "93",
                    "93",
                    "93",
                    "93",
                    "93",
                    "93",
                    "94",
                    "94",
                    "94",
                    "94",
                    "94",
                    "94",
                    "94",
                    "95",
                    "95",
                    "95",
                    "95",
                    "95",
                    "96",
                    "96",
                    "96",
                    "96",
                    "96",
                    "96",
                    "97",
                    "98",
                    "98",
                    "98",
                    "98",
                    "98",
                    "98",
                    "98",
                    "99",
                    "99",
                    "100",
                    "100",
                    "100",
                    "100"
                  ],
                  "x0": " ",
                  "xaxis": "x",
                  "y": [
                    6504822.990799789,
                    9224248.423898514,
                    7767093.42091084,
                    7307844.940107016,
                    13113246.683606304,
                    4001142.7643380165,
                    7514550.282069834,
                    8920301.432362275,
                    9313938.528193569,
                    3245404.2995705083,
                    7415747.882484834,
                    6561272.52910213,
                    5506317.655127801,
                    4993992.957481687,
                    4059629.9951223293,
                    7141830.839773636,
                    4768391.295436159,
                    5703412.328202756,
                    7286720.756114758,
                    6283763.707567562,
                    8875882.629297778,
                    9415614.059371402,
                    7976828.243533901,
                    4373872.517566823,
                    3831912.871958665,
                    3340142.743297035,
                    4166505.779029738,
                    3273795.475090559,
                    4679153.387130841,
                    1911671.398347254,
                    3391916.358861831,
                    5616918.645992201,
                    4236914.494259419,
                    5669893.864660933,
                    4518764.4888071045,
                    4008264.5973475534,
                    4223382.766064318,
                    4362406.2479139995,
                    5599692.094997434,
                    3777723.3638888737,
                    4477053.755670768,
                    2317540.680682003,
                    3923452.164984769,
                    3719417.379364731,
                    4356741.971473285,
                    5827355.52725742,
                    3276920.92333282,
                    2860068.2258271743,
                    3884074.1091918694,
                    3586213.7641519327,
                    3971949.310531962,
                    3557327.7902619215,
                    4654579.96338644,
                    3471840.663420363,
                    4695251.404743353,
                    4297971.9224196095,
                    4861870.835058037,
                    4545929.5734366905,
                    4792487.521379509,
                    6392736.422853116,
                    3170188.957204225,
                    8477378.152852278,
                    3610749.5509782443,
                    3501315.179361379,
                    3261262.4016433135,
                    5734085.498949943,
                    4095947.801393756,
                    3357905.065917909,
                    4635431.583322676,
                    5090568.807492848,
                    8098135.536573279,
                    4961708.563364483,
                    3117135.483401456,
                    1876644.1097499074,
                    2888370.371326979,
                    3575710.111793735,
                    4428581.5934205195,
                    2875455.603803214,
                    3417526.3923505647,
                    2925270.336044568,
                    3710426.938999325,
                    3984752.382110895,
                    2496562.5639525354,
                    4391852.503558146,
                    1841429.960429209,
                    4686594.948948558,
                    1853945.651166641,
                    3083232.2567952215,
                    6450643.103989749,
                    2229424.2855420858,
                    3278646.547992357,
                    1258630.8327308302,
                    1876723.5574765129,
                    4672872.029072028,
                    2537820.794577135,
                    2328837.3395425775,
                    4709226.500273438,
                    3732964.2234432497,
                    4265733.946346443,
                    3706499.0523949587,
                    6616214.707812838,
                    3549174.240546939,
                    3778092.41821107,
                    3114197.935783385,
                    3184372.390569049,
                    2869994.1005320796,
                    3547603.340123032,
                    2846729.0456705755,
                    4176380.320886148,
                    5136912.916690826,
                    4880011.9565565055,
                    3252757.1254856233,
                    2899232.1461068667,
                    2632149.7457661857,
                    2195179.4037362803,
                    4059671.853902146,
                    4032548.8146493677,
                    3716744.8222319214,
                    3905103.4696024065,
                    3565484.3214200977,
                    3879972.489883281,
                    1800506.7779606287,
                    2651563.575778106,
                    2504861.1531008636,
                    2402898.5205431823,
                    3092974.4821527433,
                    4631569.157326894,
                    2901584.211276454,
                    4372270.733613921,
                    5850252.975523331,
                    3177950.8529925,
                    8583746.935253862,
                    3554240.070535218,
                    2871497.827931213,
                    4532988.78844004,
                    5118242.531679667,
                    3679833.2955482486,
                    2821804.7604258666,
                    4150509.8892740705,
                    4219643.45867748,
                    4008238.78081163,
                    3010742.987841985,
                    6489318.958995799,
                    3013528.3786315667,
                    5323954.00622774,
                    4589236.497460909,
                    3205485.782434633,
                    2556710.441311469,
                    3653658.2860889873,
                    2244316.410664924,
                    2911785.8801152864,
                    4847867.933665629,
                    3313628.2554747304,
                    2833800.5707334457,
                    4796678.39332065,
                    5265208.463455223,
                    2468574.4873261927,
                    3201776.7942098137,
                    5769025.064822403,
                    6356407.4447181355,
                    4982716.543511839,
                    3823392.061939151,
                    4061610.5742212525,
                    6980483.301512015,
                    3843957.3206819864,
                    2977211.2639009967,
                    1851679.1619916898,
                    2885230.8879440688,
                    3837286.496631789,
                    3870392.145124019,
                    2948019.805474004,
                    3930002.530139805,
                    3560247.10190845,
                    5493788.751939648,
                    8038775.841175726,
                    4029358.320772955,
                    3744988.292452332,
                    2704645.270745567,
                    4150001.775838184,
                    2368425.0230854535,
                    2462372.9848267506,
                    4993326.002974796,
                    6475490.547352054,
                    2922490.241853404,
                    3617643.898344263,
                    3026287.676966642,
                    3132393.916201464,
                    3738562.079055176,
                    7549901.482060263,
                    1620848.7626451955,
                    4550346.873824059,
                    1358830.2899682848,
                    1046597.2593085653,
                    3038822.82369454,
                    2710004.5621016724,
                    1812645.3735584533,
                    3072732.886063649,
                    4638613.268791926,
                    2451610.6628338806,
                    3542450.6061490597,
                    2926259.3957786947,
                    3263047.8204512186,
                    5436087.553523659,
                    1798187.0569284675,
                    3852594.034082248,
                    3611879.9988354472,
                    2447954.0469528753,
                    3634743.061033607,
                    3760720.629004808,
                    1415935.6855485912,
                    3413667.4200781,
                    3681313.3067023777,
                    2841476.9198634233,
                    3241825.888850755,
                    3097068.457852909,
                    2460061.0523276753,
                    3095313.109935567,
                    5528178.822176135,
                    5106154.319237258,
                    2443034.5068404432,
                    4150253.9035584405,
                    3748670.4169553295,
                    2526262.7063663937,
                    3955049.238711717,
                    6012757.964971904,
                    4537650.305345727,
                    3961827.97421741,
                    5084444.003649823,
                    3798947.158160172,
                    1981884.6408607373,
                    4752622.974322984,
                    4104763.056458125,
                    3945340.7033880535,
                    2519755.673617737,
                    2310460.2577965106,
                    3038126.317162145,
                    7501013.324011171,
                    3357589.3012608862,
                    3789529.0314717377,
                    4051106.8401887557,
                    4939957.8569953535,
                    2559366.3665467873,
                    2377977.1697756313,
                    4252425.772273124,
                    2973588.4838581495,
                    3064215.4318567803,
                    1970367.156517675,
                    2947059.74304376,
                    4047409.012458469,
                    2817961.7022567755,
                    3305724.428301002,
                    3438001.5507605374,
                    3825277.793460523,
                    2272362.7621521642,
                    6764115.817960405,
                    2014170.3093920166,
                    3148937.1209358834,
                    3280563.3350640014,
                    1700234.8119764915,
                    5041812.530444996,
                    3660692.775641055,
                    1796935.3837433718,
                    3260827.1270305514,
                    6211814.803250954,
                    5656288.36828438,
                    6469347.6918099355,
                    4035207.9921220825,
                    4987768.346536414,
                    3568019.499397434,
                    4503896.293252908,
                    5270011.33910572,
                    5267865.666202316,
                    8100138.399910349,
                    3379925.157749341,
                    4175973.875607349,
                    4971472.045043529,
                    1767632.9765760908,
                    3199844.328287325,
                    4267148.896162228,
                    2802815.0490350504,
                    2110036.633544592,
                    3015635.164417338,
                    4254028.941927091,
                    3290224.84651797,
                    2503386.405649929,
                    3290087.9732124754,
                    2353873.591633179,
                    2638991.85189069,
                    1318724.1820364478,
                    4590942.795055491,
                    3332670.656546948,
                    2985350.7802576576,
                    1710963.511219338,
                    2479739.7857533726,
                    2363253.327710041,
                    2731521.756012111,
                    3677259.154364094,
                    3583303.7334561585,
                    1955632.680204206,
                    5461266.951502931,
                    4109266.404006348,
                    6005066.9508784795,
                    3493768.8313984973,
                    2844634.8799493695,
                    4895070.540012833,
                    4042834.408592487,
                    4263597.314559454,
                    2883015.868725064,
                    3946440.296683372,
                    2463149.8921604846,
                    3012693.4040333284,
                    5539448.147333523,
                    2782078.4901977023,
                    2912450.7872785823,
                    6184158.164076764,
                    3652831.9285794282,
                    3317857.2157862955,
                    5113842.081113688,
                    6317930.83738977,
                    3156195.494671801,
                    1875470.284747183,
                    2887622.6483873893,
                    1929534.4480451946,
                    2831337.2997650285,
                    1521223.4398138444,
                    4541118.606995763,
                    4270837.767945415,
                    2181294.489270333,
                    1924249.9770416715,
                    6298126.976434024,
                    3990166.3533456433,
                    2861347.9414309063,
                    4194592.313642127,
                    4240119.315432562,
                    4323032.163425253,
                    2583283.116186105,
                    2738153.489419276,
                    4703064.351180088,
                    2756211.714554899,
                    2401909.8171718516,
                    2855068.7307584323,
                    3474829.431471941,
                    3202090.151444046,
                    3902939.553597907,
                    4262918.936848778,
                    4156582.8862098437,
                    4222716.697804202,
                    2322399.8169272714,
                    3932902.790481438,
                    5383368.628128555,
                    2224099.772164611,
                    3497081.1317166146,
                    2652354.218063268,
                    2032848.6150415533,
                    1529389.2365455786,
                    2053978.2244579466,
                    5469343.447098098,
                    3587253.983762175,
                    3384150.3124418193,
                    4011677.6555665424,
                    7245645.870184536,
                    4604317.006229028,
                    6269225.562934191,
                    3843277.7375081233,
                    3553065.149304882,
                    2542857.9305666178,
                    2062448.1170893034,
                    3163106.279935443,
                    4887486.694050102,
                    2820918.1315762876,
                    2895578.1649703733,
                    3025090.290569411,
                    1947485.0491834693,
                    3422480.8441226687,
                    2878665.039417272,
                    2109433.654450912,
                    5297770.650777713,
                    3073207.886454445,
                    2796650.645402911,
                    2961663.9173626183,
                    5100366.132896849,
                    3034612.94833549,
                    2034073.2487100582,
                    2663439.1775571187,
                    1970381.3148793632,
                    3233809.8252251027,
                    1674795.7437562011,
                    4659568.219091118,
                    4870478.501941571,
                    3725330.138828733,
                    3171926.0287977904,
                    4618503.756145798,
                    4449865.266473658,
                    3132815.318484887,
                    4803303.641675683,
                    2870812.0565946917,
                    2279582.094643887,
                    5654675.177438334,
                    2526898.6114234785,
                    3300648.6346864975,
                    5502734.660017177,
                    5301011.736313576,
                    3713997.991674373,
                    4551501.532073002,
                    3173239.116788654,
                    4467839.292691152,
                    2985881.3714652183,
                    4434526.579311958,
                    1731078.7162069313,
                    2487414.414573212,
                    2363339.006378712,
                    1672013.6128831378,
                    3870123.3060834873,
                    3545988.8556094603,
                    2147460.1391407717,
                    2212576.368614458,
                    2288193.077020964,
                    2488079.172428177,
                    2368535.5186078427,
                    1785318.0326550452,
                    3304497.556368272,
                    5702231.043981217,
                    6451113.8728630375,
                    2031711.3063522077,
                    4596996.538988885,
                    3046103.961622837,
                    7059752.032400483,
                    5333370.158762535,
                    4291280.788551614,
                    3484577.6311185155,
                    5367272.085384637,
                    6392372.5111169815,
                    2473247.810574228,
                    3533631.8369362177,
                    5436570.377044413,
                    3792066.0181850865,
                    3373847.9415749838,
                    2922815.1126011126,
                    2105761.009185696,
                    2381644.479510327,
                    4441595.509682825,
                    2232442.386034217,
                    2236021.9528636765,
                    3520345.514646376,
                    3940198.7725894568,
                    3583046.4265138386,
                    2550535.2506110473,
                    1529782.8411461078,
                    3061730.129129623,
                    4354573.104878292,
                    2520368.025704478,
                    2905943.534905341,
                    3820559.043694826,
                    2879304.7070683204,
                    2510858.969380998,
                    4333453.240431883,
                    3664972.309888172,
                    5252525.8587057665,
                    5135243.863567305,
                    3003813.5084684743,
                    3321442.053144054,
                    3769983.392460742,
                    1741869.2384644663,
                    3852042.5236205473,
                    2796092.870931887,
                    2838976.320319905,
                    1844867.5645942693,
                    4837247.956722293,
                    4283116.139979596,
                    874020.8940971417,
                    5422485.432369405,
                    5304531.6434694175,
                    3174681.876517711,
                    2777202.4013024215,
                    2550954.9155165497,
                    3049688.1062120628,
                    3718931.0643882835,
                    2289188.447193738,
                    2442818.0734531265,
                    2769868.224071447,
                    1461504.6658983685,
                    2625288.1254711496,
                    2672693.117929057
                  ],
                  "y0": " ",
                  "yaxis": "y"
                }
              ],
              "layout": {
                "font": {
                  "family": "Times New Roman",
                  "size": 12
                },
                "legend": {
                  "tracegroupgap": 0
                },
                "margin": {
                  "t": 60
                },
                "template": {
                  "data": {
                    "bar": [
                      {
                        "error_x": {
                          "color": "#2a3f5f"
                        },
                        "error_y": {
                          "color": "#2a3f5f"
                        },
                        "marker": {
                          "line": {
                            "color": "white",
                            "width": 0.5
                          },
                          "pattern": {
                            "fillmode": "overlay",
                            "size": 10,
                            "solidity": 0.2
                          }
                        },
                        "type": "bar"
                      }
                    ],
                    "barpolar": [
                      {
                        "marker": {
                          "line": {
                            "color": "white",
                            "width": 0.5
                          },
                          "pattern": {
                            "fillmode": "overlay",
                            "size": 10,
                            "solidity": 0.2
                          }
                        },
                        "type": "barpolar"
                      }
                    ],
                    "carpet": [
                      {
                        "aaxis": {
                          "endlinecolor": "#2a3f5f",
                          "gridcolor": "#C8D4E3",
                          "linecolor": "#C8D4E3",
                          "minorgridcolor": "#C8D4E3",
                          "startlinecolor": "#2a3f5f"
                        },
                        "baxis": {
                          "endlinecolor": "#2a3f5f",
                          "gridcolor": "#C8D4E3",
                          "linecolor": "#C8D4E3",
                          "minorgridcolor": "#C8D4E3",
                          "startlinecolor": "#2a3f5f"
                        },
                        "type": "carpet"
                      }
                    ],
                    "choropleth": [
                      {
                        "colorbar": {
                          "outlinewidth": 0,
                          "ticks": ""
                        },
                        "type": "choropleth"
                      }
                    ],
                    "contour": [
                      {
                        "colorbar": {
                          "outlinewidth": 0,
                          "ticks": ""
                        },
                        "colorscale": [
                          [
                            0,
                            "#0d0887"
                          ],
                          [
                            0.1111111111111111,
                            "#46039f"
                          ],
                          [
                            0.2222222222222222,
                            "#7201a8"
                          ],
                          [
                            0.3333333333333333,
                            "#9c179e"
                          ],
                          [
                            0.4444444444444444,
                            "#bd3786"
                          ],
                          [
                            0.5555555555555556,
                            "#d8576b"
                          ],
                          [
                            0.6666666666666666,
                            "#ed7953"
                          ],
                          [
                            0.7777777777777778,
                            "#fb9f3a"
                          ],
                          [
                            0.8888888888888888,
                            "#fdca26"
                          ],
                          [
                            1,
                            "#f0f921"
                          ]
                        ],
                        "type": "contour"
                      }
                    ],
                    "contourcarpet": [
                      {
                        "colorbar": {
                          "outlinewidth": 0,
                          "ticks": ""
                        },
                        "type": "contourcarpet"
                      }
                    ],
                    "heatmap": [
                      {
                        "colorbar": {
                          "outlinewidth": 0,
                          "ticks": ""
                        },
                        "colorscale": [
                          [
                            0,
                            "#0d0887"
                          ],
                          [
                            0.1111111111111111,
                            "#46039f"
                          ],
                          [
                            0.2222222222222222,
                            "#7201a8"
                          ],
                          [
                            0.3333333333333333,
                            "#9c179e"
                          ],
                          [
                            0.4444444444444444,
                            "#bd3786"
                          ],
                          [
                            0.5555555555555556,
                            "#d8576b"
                          ],
                          [
                            0.6666666666666666,
                            "#ed7953"
                          ],
                          [
                            0.7777777777777778,
                            "#fb9f3a"
                          ],
                          [
                            0.8888888888888888,
                            "#fdca26"
                          ],
                          [
                            1,
                            "#f0f921"
                          ]
                        ],
                        "type": "heatmap"
                      }
                    ],
                    "heatmapgl": [
                      {
                        "colorbar": {
                          "outlinewidth": 0,
                          "ticks": ""
                        },
                        "colorscale": [
                          [
                            0,
                            "#0d0887"
                          ],
                          [
                            0.1111111111111111,
                            "#46039f"
                          ],
                          [
                            0.2222222222222222,
                            "#7201a8"
                          ],
                          [
                            0.3333333333333333,
                            "#9c179e"
                          ],
                          [
                            0.4444444444444444,
                            "#bd3786"
                          ],
                          [
                            0.5555555555555556,
                            "#d8576b"
                          ],
                          [
                            0.6666666666666666,
                            "#ed7953"
                          ],
                          [
                            0.7777777777777778,
                            "#fb9f3a"
                          ],
                          [
                            0.8888888888888888,
                            "#fdca26"
                          ],
                          [
                            1,
                            "#f0f921"
                          ]
                        ],
                        "type": "heatmapgl"
                      }
                    ],
                    "histogram": [
                      {
                        "marker": {
                          "pattern": {
                            "fillmode": "overlay",
                            "size": 10,
                            "solidity": 0.2
                          }
                        },
                        "type": "histogram"
                      }
                    ],
                    "histogram2d": [
                      {
                        "colorbar": {
                          "outlinewidth": 0,
                          "ticks": ""
                        },
                        "colorscale": [
                          [
                            0,
                            "#0d0887"
                          ],
                          [
                            0.1111111111111111,
                            "#46039f"
                          ],
                          [
                            0.2222222222222222,
                            "#7201a8"
                          ],
                          [
                            0.3333333333333333,
                            "#9c179e"
                          ],
                          [
                            0.4444444444444444,
                            "#bd3786"
                          ],
                          [
                            0.5555555555555556,
                            "#d8576b"
                          ],
                          [
                            0.6666666666666666,
                            "#ed7953"
                          ],
                          [
                            0.7777777777777778,
                            "#fb9f3a"
                          ],
                          [
                            0.8888888888888888,
                            "#fdca26"
                          ],
                          [
                            1,
                            "#f0f921"
                          ]
                        ],
                        "type": "histogram2d"
                      }
                    ],
                    "histogram2dcontour": [
                      {
                        "colorbar": {
                          "outlinewidth": 0,
                          "ticks": ""
                        },
                        "colorscale": [
                          [
                            0,
                            "#0d0887"
                          ],
                          [
                            0.1111111111111111,
                            "#46039f"
                          ],
                          [
                            0.2222222222222222,
                            "#7201a8"
                          ],
                          [
                            0.3333333333333333,
                            "#9c179e"
                          ],
                          [
                            0.4444444444444444,
                            "#bd3786"
                          ],
                          [
                            0.5555555555555556,
                            "#d8576b"
                          ],
                          [
                            0.6666666666666666,
                            "#ed7953"
                          ],
                          [
                            0.7777777777777778,
                            "#fb9f3a"
                          ],
                          [
                            0.8888888888888888,
                            "#fdca26"
                          ],
                          [
                            1,
                            "#f0f921"
                          ]
                        ],
                        "type": "histogram2dcontour"
                      }
                    ],
                    "mesh3d": [
                      {
                        "colorbar": {
                          "outlinewidth": 0,
                          "ticks": ""
                        },
                        "type": "mesh3d"
                      }
                    ],
                    "parcoords": [
                      {
                        "line": {
                          "colorbar": {
                            "outlinewidth": 0,
                            "ticks": ""
                          }
                        },
                        "type": "parcoords"
                      }
                    ],
                    "pie": [
                      {
                        "automargin": true,
                        "type": "pie"
                      }
                    ],
                    "scatter": [
                      {
                        "fillpattern": {
                          "fillmode": "overlay",
                          "size": 10,
                          "solidity": 0.2
                        },
                        "type": "scatter"
                      }
                    ],
                    "scatter3d": [
                      {
                        "line": {
                          "colorbar": {
                            "outlinewidth": 0,
                            "ticks": ""
                          }
                        },
                        "marker": {
                          "colorbar": {
                            "outlinewidth": 0,
                            "ticks": ""
                          }
                        },
                        "type": "scatter3d"
                      }
                    ],
                    "scattercarpet": [
                      {
                        "marker": {
                          "colorbar": {
                            "outlinewidth": 0,
                            "ticks": ""
                          }
                        },
                        "type": "scattercarpet"
                      }
                    ],
                    "scattergeo": [
                      {
                        "marker": {
                          "colorbar": {
                            "outlinewidth": 0,
                            "ticks": ""
                          }
                        },
                        "type": "scattergeo"
                      }
                    ],
                    "scattergl": [
                      {
                        "marker": {
                          "colorbar": {
                            "outlinewidth": 0,
                            "ticks": ""
                          }
                        },
                        "type": "scattergl"
                      }
                    ],
                    "scattermapbox": [
                      {
                        "marker": {
                          "colorbar": {
                            "outlinewidth": 0,
                            "ticks": ""
                          }
                        },
                        "type": "scattermapbox"
                      }
                    ],
                    "scatterpolar": [
                      {
                        "marker": {
                          "colorbar": {
                            "outlinewidth": 0,
                            "ticks": ""
                          }
                        },
                        "type": "scatterpolar"
                      }
                    ],
                    "scatterpolargl": [
                      {
                        "marker": {
                          "colorbar": {
                            "outlinewidth": 0,
                            "ticks": ""
                          }
                        },
                        "type": "scatterpolargl"
                      }
                    ],
                    "scatterternary": [
                      {
                        "marker": {
                          "colorbar": {
                            "outlinewidth": 0,
                            "ticks": ""
                          }
                        },
                        "type": "scatterternary"
                      }
                    ],
                    "surface": [
                      {
                        "colorbar": {
                          "outlinewidth": 0,
                          "ticks": ""
                        },
                        "colorscale": [
                          [
                            0,
                            "#0d0887"
                          ],
                          [
                            0.1111111111111111,
                            "#46039f"
                          ],
                          [
                            0.2222222222222222,
                            "#7201a8"
                          ],
                          [
                            0.3333333333333333,
                            "#9c179e"
                          ],
                          [
                            0.4444444444444444,
                            "#bd3786"
                          ],
                          [
                            0.5555555555555556,
                            "#d8576b"
                          ],
                          [
                            0.6666666666666666,
                            "#ed7953"
                          ],
                          [
                            0.7777777777777778,
                            "#fb9f3a"
                          ],
                          [
                            0.8888888888888888,
                            "#fdca26"
                          ],
                          [
                            1,
                            "#f0f921"
                          ]
                        ],
                        "type": "surface"
                      }
                    ],
                    "table": [
                      {
                        "cells": {
                          "fill": {
                            "color": "#EBF0F8"
                          },
                          "line": {
                            "color": "white"
                          }
                        },
                        "header": {
                          "fill": {
                            "color": "#C8D4E3"
                          },
                          "line": {
                            "color": "white"
                          }
                        },
                        "type": "table"
                      }
                    ]
                  },
                  "layout": {
                    "annotationdefaults": {
                      "arrowcolor": "#2a3f5f",
                      "arrowhead": 0,
                      "arrowwidth": 1
                    },
                    "autotypenumbers": "strict",
                    "coloraxis": {
                      "colorbar": {
                        "outlinewidth": 0,
                        "ticks": ""
                      }
                    },
                    "colorscale": {
                      "diverging": [
                        [
                          0,
                          "#8e0152"
                        ],
                        [
                          0.1,
                          "#c51b7d"
                        ],
                        [
                          0.2,
                          "#de77ae"
                        ],
                        [
                          0.3,
                          "#f1b6da"
                        ],
                        [
                          0.4,
                          "#fde0ef"
                        ],
                        [
                          0.5,
                          "#f7f7f7"
                        ],
                        [
                          0.6,
                          "#e6f5d0"
                        ],
                        [
                          0.7,
                          "#b8e186"
                        ],
                        [
                          0.8,
                          "#7fbc41"
                        ],
                        [
                          0.9,
                          "#4d9221"
                        ],
                        [
                          1,
                          "#276419"
                        ]
                      ],
                      "sequential": [
                        [
                          0,
                          "#0d0887"
                        ],
                        [
                          0.1111111111111111,
                          "#46039f"
                        ],
                        [
                          0.2222222222222222,
                          "#7201a8"
                        ],
                        [
                          0.3333333333333333,
                          "#9c179e"
                        ],
                        [
                          0.4444444444444444,
                          "#bd3786"
                        ],
                        [
                          0.5555555555555556,
                          "#d8576b"
                        ],
                        [
                          0.6666666666666666,
                          "#ed7953"
                        ],
                        [
                          0.7777777777777778,
                          "#fb9f3a"
                        ],
                        [
                          0.8888888888888888,
                          "#fdca26"
                        ],
                        [
                          1,
                          "#f0f921"
                        ]
                      ],
                      "sequentialminus": [
                        [
                          0,
                          "#0d0887"
                        ],
                        [
                          0.1111111111111111,
                          "#46039f"
                        ],
                        [
                          0.2222222222222222,
                          "#7201a8"
                        ],
                        [
                          0.3333333333333333,
                          "#9c179e"
                        ],
                        [
                          0.4444444444444444,
                          "#bd3786"
                        ],
                        [
                          0.5555555555555556,
                          "#d8576b"
                        ],
                        [
                          0.6666666666666666,
                          "#ed7953"
                        ],
                        [
                          0.7777777777777778,
                          "#fb9f3a"
                        ],
                        [
                          0.8888888888888888,
                          "#fdca26"
                        ],
                        [
                          1,
                          "#f0f921"
                        ]
                      ]
                    },
                    "colorway": [
                      "#636efa",
                      "#EF553B",
                      "#00cc96",
                      "#ab63fa",
                      "#FFA15A",
                      "#19d3f3",
                      "#FF6692",
                      "#B6E880",
                      "#FF97FF",
                      "#FECB52"
                    ],
                    "font": {
                      "color": "#2a3f5f"
                    },
                    "geo": {
                      "bgcolor": "white",
                      "lakecolor": "white",
                      "landcolor": "white",
                      "showlakes": true,
                      "showland": true,
                      "subunitcolor": "#C8D4E3"
                    },
                    "hoverlabel": {
                      "align": "left"
                    },
                    "hovermode": "closest",
                    "mapbox": {
                      "style": "light"
                    },
                    "paper_bgcolor": "white",
                    "plot_bgcolor": "white",
                    "polar": {
                      "angularaxis": {
                        "gridcolor": "#EBF0F8",
                        "linecolor": "#EBF0F8",
                        "ticks": ""
                      },
                      "bgcolor": "white",
                      "radialaxis": {
                        "gridcolor": "#EBF0F8",
                        "linecolor": "#EBF0F8",
                        "ticks": ""
                      }
                    },
                    "scene": {
                      "xaxis": {
                        "backgroundcolor": "white",
                        "gridcolor": "#DFE8F3",
                        "gridwidth": 2,
                        "linecolor": "#EBF0F8",
                        "showbackground": true,
                        "ticks": "",
                        "zerolinecolor": "#EBF0F8"
                      },
                      "yaxis": {
                        "backgroundcolor": "white",
                        "gridcolor": "#DFE8F3",
                        "gridwidth": 2,
                        "linecolor": "#EBF0F8",
                        "showbackground": true,
                        "ticks": "",
                        "zerolinecolor": "#EBF0F8"
                      },
                      "zaxis": {
                        "backgroundcolor": "white",
                        "gridcolor": "#DFE8F3",
                        "gridwidth": 2,
                        "linecolor": "#EBF0F8",
                        "showbackground": true,
                        "ticks": "",
                        "zerolinecolor": "#EBF0F8"
                      }
                    },
                    "shapedefaults": {
                      "line": {
                        "color": "#2a3f5f"
                      }
                    },
                    "ternary": {
                      "aaxis": {
                        "gridcolor": "#DFE8F3",
                        "linecolor": "#A2B1C6",
                        "ticks": ""
                      },
                      "baxis": {
                        "gridcolor": "#DFE8F3",
                        "linecolor": "#A2B1C6",
                        "ticks": ""
                      },
                      "bgcolor": "white",
                      "caxis": {
                        "gridcolor": "#DFE8F3",
                        "linecolor": "#A2B1C6",
                        "ticks": ""
                      }
                    },
                    "title": {
                      "x": 0.05
                    },
                    "xaxis": {
                      "automargin": true,
                      "gridcolor": "#EBF0F8",
                      "linecolor": "#EBF0F8",
                      "ticks": "",
                      "title": {
                        "standoff": 15
                      },
                      "zerolinecolor": "#EBF0F8",
                      "zerolinewidth": 2
                    },
                    "yaxis": {
                      "automargin": true,
                      "gridcolor": "#EBF0F8",
                      "linecolor": "#EBF0F8",
                      "ticks": "",
                      "title": {
                        "standoff": 15
                      },
                      "zerolinecolor": "#EBF0F8",
                      "zerolinewidth": 2
                    }
                  }
                },
                "title": {
                  "text": "Violin plot of the pareto solutions for each epoch (10 epochs) for the cost objective"
                },
                "violinmode": "group",
                "xaxis": {
                  "anchor": "y",
                  "domain": [
                    0,
                    1
                  ],
                  "title": {
                    "text": "Epoch"
                  }
                },
                "yaxis": {
                  "anchor": "x",
                  "domain": [
                    0,
                    1
                  ],
                  "title": {
                    "text": "Cost (€)"
                  }
                }
              }
            }
          },
          "metadata": {},
          "output_type": "display_data"
        },
        {
          "data": {
            "application/vnd.plotly.v1+json": {
              "config": {
                "plotlyServerURL": "https://plot.ly"
              },
              "data": [
                {
                  "alignmentgroup": "True",
                  "box": {
                    "visible": true
                  },
                  "hovertemplate": "Epoch=%{x}<br>Value=%{y}<extra></extra>",
                  "legendgroup": "",
                  "marker": {
                    "color": "#1f77b4"
                  },
                  "name": "",
                  "offsetgroup": "",
                  "orientation": "v",
                  "points": false,
                  "scalegroup": "True",
                  "showlegend": false,
                  "type": "violin",
                  "x": [
                    "1",
                    "1",
                    "2",
                    "2",
                    "2",
                    "2",
                    "2",
                    "3",
                    "3",
                    "3",
                    "3",
                    "3",
                    "3",
                    "3",
                    "3",
                    "3",
                    "4",
                    "4",
                    "4",
                    "4",
                    "4",
                    "4",
                    "4",
                    "4",
                    "5",
                    "5",
                    "6",
                    "6",
                    "6",
                    "6",
                    "7",
                    "7",
                    "7",
                    "8",
                    "8",
                    "8",
                    "8",
                    "8",
                    "8",
                    "8",
                    "9",
                    "9",
                    "9",
                    "10",
                    "10",
                    "10",
                    "10",
                    "10",
                    "11",
                    "11",
                    "11",
                    "12",
                    "12",
                    "12",
                    "12",
                    "12",
                    "12",
                    "12",
                    "13",
                    "13",
                    "13",
                    "13",
                    "14",
                    "14",
                    "14",
                    "15",
                    "15",
                    "15",
                    "15",
                    "15",
                    "15",
                    "15",
                    "15",
                    "15",
                    "16",
                    "16",
                    "17",
                    "17",
                    "17",
                    "18",
                    "18",
                    "18",
                    "18",
                    "18",
                    "19",
                    "20",
                    "20",
                    "20",
                    "21",
                    "21",
                    "21",
                    "21",
                    "22",
                    "22",
                    "22",
                    "23",
                    "23",
                    "23",
                    "23",
                    "23",
                    "23",
                    "24",
                    "24",
                    "24",
                    "25",
                    "25",
                    "26",
                    "26",
                    "26",
                    "26",
                    "26",
                    "26",
                    "26",
                    "27",
                    "27",
                    "28",
                    "28",
                    "28",
                    "28",
                    "28",
                    "28",
                    "29",
                    "30",
                    "30",
                    "30",
                    "31",
                    "31",
                    "31",
                    "31",
                    "31",
                    "32",
                    "32",
                    "32",
                    "32",
                    "32",
                    "32",
                    "32",
                    "32",
                    "32",
                    "32",
                    "33",
                    "33",
                    "33",
                    "33",
                    "33",
                    "33",
                    "34",
                    "34",
                    "34",
                    "35",
                    "35",
                    "35",
                    "36",
                    "36",
                    "36",
                    "36",
                    "37",
                    "38",
                    "38",
                    "38",
                    "38",
                    "38",
                    "39",
                    "39",
                    "39",
                    "39",
                    "39",
                    "40",
                    "40",
                    "40",
                    "40",
                    "40",
                    "40",
                    "40",
                    "40",
                    "41",
                    "41",
                    "41",
                    "41",
                    "42",
                    "42",
                    "43",
                    "43",
                    "43",
                    "43",
                    "43",
                    "43",
                    "43",
                    "43",
                    "44",
                    "45",
                    "45",
                    "46",
                    "46",
                    "47",
                    "47",
                    "47",
                    "47",
                    "48",
                    "48",
                    "48",
                    "48",
                    "48",
                    "48",
                    "49",
                    "49",
                    "49",
                    "49",
                    "49",
                    "50",
                    "50",
                    "50",
                    "51",
                    "51",
                    "51",
                    "51",
                    "52",
                    "52",
                    "52",
                    "52",
                    "52",
                    "52",
                    "52",
                    "52",
                    "52",
                    "53",
                    "53",
                    "53",
                    "53",
                    "53",
                    "53",
                    "53",
                    "54",
                    "54",
                    "54",
                    "54",
                    "55",
                    "55",
                    "55",
                    "55",
                    "55",
                    "55",
                    "56",
                    "56",
                    "56",
                    "56",
                    "56",
                    "56",
                    "56",
                    "56",
                    "57",
                    "57",
                    "57",
                    "57",
                    "57",
                    "57",
                    "58",
                    "58",
                    "58",
                    "58",
                    "58",
                    "59",
                    "60",
                    "60",
                    "60",
                    "60",
                    "60",
                    "60",
                    "60",
                    "60",
                    "60",
                    "60",
                    "60",
                    "60",
                    "60",
                    "61",
                    "61",
                    "61",
                    "61",
                    "61",
                    "61",
                    "61",
                    "61",
                    "61",
                    "61",
                    "62",
                    "62",
                    "62",
                    "62",
                    "62",
                    "62",
                    "62",
                    "63",
                    "63",
                    "63",
                    "63",
                    "63",
                    "64",
                    "64",
                    "65",
                    "65",
                    "65",
                    "65",
                    "65",
                    "65",
                    "65",
                    "66",
                    "66",
                    "66",
                    "66",
                    "66",
                    "66",
                    "67",
                    "67",
                    "67",
                    "67",
                    "67",
                    "67",
                    "68",
                    "68",
                    "68",
                    "68",
                    "69",
                    "70",
                    "70",
                    "71",
                    "71",
                    "71",
                    "71",
                    "72",
                    "72",
                    "72",
                    "72",
                    "72",
                    "72",
                    "72",
                    "72",
                    "73",
                    "73",
                    "73",
                    "73",
                    "73",
                    "73",
                    "74",
                    "74",
                    "74",
                    "74",
                    "74",
                    "74",
                    "74",
                    "74",
                    "74",
                    "75",
                    "76",
                    "77",
                    "77",
                    "78",
                    "78",
                    "78",
                    "78",
                    "78",
                    "78",
                    "78",
                    "78",
                    "78",
                    "79",
                    "79",
                    "80",
                    "80",
                    "80",
                    "80",
                    "80",
                    "80",
                    "80",
                    "80",
                    "80",
                    "80",
                    "81",
                    "81",
                    "81",
                    "81",
                    "81",
                    "81",
                    "81",
                    "82",
                    "82",
                    "82",
                    "83",
                    "83",
                    "83",
                    "83",
                    "83",
                    "83",
                    "83",
                    "83",
                    "83",
                    "84",
                    "84",
                    "84",
                    "84",
                    "84",
                    "84",
                    "84",
                    "84",
                    "84",
                    "84",
                    "84",
                    "84",
                    "85",
                    "85",
                    "85",
                    "85",
                    "85",
                    "85",
                    "86",
                    "86",
                    "86",
                    "87",
                    "88",
                    "88",
                    "89",
                    "89",
                    "89",
                    "89",
                    "89",
                    "89",
                    "89",
                    "90",
                    "90",
                    "90",
                    "90",
                    "90",
                    "90",
                    "90",
                    "90",
                    "91",
                    "91",
                    "91",
                    "91",
                    "92",
                    "92",
                    "92",
                    "93",
                    "93",
                    "93",
                    "93",
                    "93",
                    "93",
                    "93",
                    "93",
                    "93",
                    "94",
                    "94",
                    "94",
                    "94",
                    "94",
                    "94",
                    "94",
                    "95",
                    "95",
                    "95",
                    "95",
                    "95",
                    "96",
                    "96",
                    "96",
                    "96",
                    "96",
                    "96",
                    "97",
                    "98",
                    "98",
                    "98",
                    "98",
                    "98",
                    "98",
                    "98",
                    "99",
                    "99",
                    "100",
                    "100",
                    "100",
                    "100"
                  ],
                  "x0": " ",
                  "xaxis": "x",
                  "y": [
                    7728082.963384631,
                    10382368.884032857,
                    8858840.719436109,
                    10000861.140774062,
                    7776107.140750425,
                    5675662.2750206925,
                    9727082.606780797,
                    6776253.072545881,
                    8115247.242428945,
                    6007089.053892619,
                    9439744.766605154,
                    10588643.567743229,
                    5104725.478590516,
                    5472346.323745427,
                    5150946.717952812,
                    6021161.076641491,
                    4414952.709855355,
                    8212967.398390758,
                    6987788.378542752,
                    7010407.259851646,
                    5724028.273010447,
                    10673392.760706438,
                    8110746.093093286,
                    5333282.972837952,
                    3927469.1754204785,
                    6302114.855836794,
                    5326776.786109714,
                    1923570.5384409241,
                    6222136.178616928,
                    4060070.5866481536,
                    4432034.008659087,
                    3223501.235553253,
                    4053836.5051032924,
                    1962046.2251381357,
                    4221237.8402101975,
                    4902056.481030575,
                    3163285.372725308,
                    5532331.95391503,
                    4314286.692817361,
                    5114838.17383808,
                    3490859.3876466164,
                    4513698.117489168,
                    4695050.775865623,
                    3559452.37150341,
                    4874467.011093311,
                    3312132.634861398,
                    3269193.5751229534,
                    4909975.604958018,
                    3874204.0225566654,
                    4818874.17657646,
                    3518415.7515230747,
                    4281568.499498442,
                    3474135.73776348,
                    5931747.38694533,
                    3238275.299927974,
                    3854519.2397649363,
                    4379935.118291244,
                    6597436.181769252,
                    4656815.399139274,
                    4076098.387234151,
                    4776362.092722375,
                    4234103.526559527,
                    2172890.4658804946,
                    3940886.007946211,
                    4234381.447113385,
                    7713796.315616136,
                    6060414.883954452,
                    4334154.365601475,
                    4939120.567524692,
                    4920486.609936305,
                    4459516.944754365,
                    3119518.666821116,
                    3235299.32490686,
                    3973209.829525283,
                    3326708.6576771433,
                    4384103.916927041,
                    3434926.379469948,
                    3628589.4212762034,
                    4121242.962506142,
                    3072850.216752422,
                    2262115.805789906,
                    2151867.345418419,
                    2764815.456912717,
                    4446911.725670271,
                    1866002.0449969051,
                    2431011.4759330265,
                    2959948.6534061017,
                    2727608.6402179194,
                    3158510.686499464,
                    3170011.0616658605,
                    5764133.123988218,
                    1603038.3962063852,
                    2337962.5010802206,
                    7836438.814451273,
                    1641463.4331131044,
                    2855918.5429991847,
                    6214979.1784429215,
                    3645998.8534799656,
                    3020751.9513385054,
                    4563844.949793953,
                    5343288.170059399,
                    2584694.6524461126,
                    2327220.4200117467,
                    2656790.365554096,
                    1969579.6350135766,
                    3475515.8394105537,
                    4601535.697347993,
                    3841782.286765188,
                    4270999.326656353,
                    2388868.591161801,
                    5868836.910406588,
                    5303574.267000002,
                    2436827.13380625,
                    2181193.0815683687,
                    3356994.8460380314,
                    2833024.538431894,
                    2796819.172492459,
                    4282056.80282806,
                    5355765.868387147,
                    5302486.267785377,
                    3096298.7471004333,
                    2517276.491634246,
                    3245561.037336537,
                    2968195.237203428,
                    4728489.250497261,
                    4323738.314566783,
                    2643208.0459132427,
                    3704492.650058721,
                    3519917.9695724053,
                    3384944.4062783243,
                    4070649.8223756095,
                    2549697.1738487976,
                    3698365.7571695596,
                    4152177.3730840087,
                    2827596.489071097,
                    2996203.1711412095,
                    3203382.793128449,
                    3375939.439699275,
                    5950915.1138167735,
                    2996457.2466531433,
                    2465821.158559292,
                    3488335.703391281,
                    3037926.2649816545,
                    3089302.098853709,
                    3125132.733299121,
                    1755585.1538209813,
                    4156428.2588458336,
                    3216607.009684665,
                    1685923.3255810891,
                    2931775.0005300734,
                    4547486.271602276,
                    2722283.845938609,
                    4314975.241944434,
                    3337392.9887024118,
                    3023137.2118854546,
                    2875138.179561523,
                    2300217.552719615,
                    2872670.363496773,
                    4525807.901112744,
                    2462394.1976072695,
                    4266211.065270171,
                    4893755.8267764095,
                    3983461.3380618705,
                    3449170.602317446,
                    2039538.585696254,
                    3530075.824120851,
                    2576144.4391048597,
                    2809032.332205188,
                    5494530.395234466,
                    4455010.503079234,
                    4472195.169595883,
                    2534869.716432847,
                    4518631.690977143,
                    3878352.136624374,
                    2517750.9328799592,
                    6276073.040847583,
                    2405753.7116882917,
                    3014067.8419993105,
                    2140417.455651987,
                    2283950.597217846,
                    2052119.9323347486,
                    2666916.3089039046,
                    2624800.453410398,
                    4550890.422894505,
                    3921157.5736253336,
                    4313704.806530388,
                    3314469.609522296,
                    3885137.2733812076,
                    2235764.8673764295,
                    1763149.5407092227,
                    6961031.950764839,
                    2303581.368514015,
                    1975459.8554281841,
                    1658167.244918036,
                    3396151.233354856,
                    2529585.718502325,
                    1969755.4592791933,
                    2433461.0128442,
                    3309755.273428628,
                    2915548.34707978,
                    2993477.070404592,
                    3476268.9446627353,
                    2785858.6974282353,
                    2368206.979742715,
                    4119666.2445885288,
                    3600962.157034709,
                    2511701.2845400316,
                    3551146.7355629457,
                    2604774.922043086,
                    2432301.3893048246,
                    966460.5762056338,
                    2366567.4731025286,
                    3688596.4693764066,
                    1215215.4467231722,
                    2753820.6640933747,
                    4457114.556287598,
                    4669796.085308652,
                    3215279.116791987,
                    3286733.1233514044,
                    2583600.735497249,
                    3390196.636427015,
                    4480914.932262257,
                    4735324.4819846805,
                    3257190.3699619225,
                    4000152.3063408285,
                    4360070.119836191,
                    2148522.3496817118,
                    3715711.1445386,
                    3220202.612313902,
                    3486995.375697099,
                    4062996.1643865723,
                    6767940.483639739,
                    2353773.6224862877,
                    2470795.3894955916,
                    3844866.2424995527,
                    1910489.3352188854,
                    2326187.233844253,
                    4462846.78561839,
                    5602042.676843562,
                    4622266.303642378,
                    3907002.777322259,
                    2790151.067251805,
                    2209090.074949366,
                    2133756.5859671645,
                    3491453.6146904426,
                    2156561.397487643,
                    3651108.929158307,
                    4420046.203714899,
                    1971606.3627381832,
                    3241304.9645558507,
                    2634541.0368703688,
                    4788008.4937682245,
                    4061452.5631127837,
                    3021305.074566163,
                    2112242.474600637,
                    2038092.819519719,
                    3646444.6819269764,
                    2165165.9768250682,
                    2931353.153675559,
                    1861412.047281402,
                    2013744.8116809211,
                    2161729.539023546,
                    4778501.562344505,
                    6261618.778756374,
                    5873837.959921384,
                    2497841.640202006,
                    6525416.197939362,
                    3473759.641583473,
                    6343019.620509835,
                    3705992.8923651213,
                    3068673.4210227327,
                    4038216.9741712078,
                    2415782.82489173,
                    4298718.4498441825,
                    4373616.504317345,
                    3250978.676207407,
                    1338215.7165983962,
                    3568571.074228112,
                    4511242.139014632,
                    4159364.993207335,
                    2575146.238669333,
                    4823770.335762421,
                    3893221.1997135254,
                    3400290.850334431,
                    2457754.337996375,
                    3388128.822392485,
                    3176686.363711441,
                    5026916.560493024,
                    2746124.8303950075,
                    2603692.3176549664,
                    3802315.426401685,
                    4807031.448572139,
                    3422013.266216728,
                    3177009.409679831,
                    3022553.270366942,
                    2224735.575784268,
                    1765258.9384654593,
                    2131913.826822662,
                    2247132.5412483923,
                    2971950.857469897,
                    6791576.1448244145,
                    3788989.0489377435,
                    3090783.0482902275,
                    3869460.4342555143,
                    5328199.24630973,
                    5329369.88108863,
                    3546439.1594347768,
                    5043813.358222506,
                    2393467.894371188,
                    2692771.1599838496,
                    2707668.8892542413,
                    2331655.0091108438,
                    4397778.122691906,
                    3894819.473475321,
                    2399070.1352790967,
                    6817519.059326068,
                    3278627.7087281635,
                    3011475.7479046145,
                    2212186.062926737,
                    3467770.45848019,
                    2315994.6498647104,
                    4583323.432902301,
                    1652727.3602548363,
                    1210502.4072255357,
                    1668017.7577970468,
                    1958482.1394110157,
                    2660060.0807510065,
                    3100650.1517253695,
                    2618256.1696382756,
                    2689732.798341017,
                    7057844.228637008,
                    1586965.852990043,
                    6343043.0886794645,
                    6495185.324629743,
                    6643950.851322038,
                    3305028.425985239,
                    3046656.5723464205,
                    1607733.2460419005,
                    2506533.566330976,
                    2904001.2800385416,
                    1806745.1190438385,
                    3886603.933840486,
                    5305443.104749362,
                    1218424.6922865154,
                    1727436.7860115804,
                    2007523.351142222,
                    2850070.643963676,
                    2316815.2974217366,
                    3415916.7284212597,
                    3799014.659610188,
                    3121110.6104962924,
                    3952999.542181125,
                    2946430.0778820487,
                    2005239.748115306,
                    2365459.7468004003,
                    910657.9225574078,
                    3359440.095304425,
                    3398045.9373656996,
                    5422078.294555703,
                    3276798.134220399,
                    3089300.2086131447,
                    4088572.46672384,
                    3113698.7233075043,
                    4451367.691099597,
                    4332258.239268788,
                    2854797.891104206,
                    1896830.9608848586,
                    3386928.1456042537,
                    1677493.0143679045,
                    2776520.0568148764,
                    3406482.784899122,
                    2851295.849871022,
                    2922864.4149647905,
                    1945989.3944993708,
                    2455522.577259936,
                    4769870.551798142,
                    3385750.108108639,
                    4396279.966899246,
                    4145799.200849278,
                    2895995.5857326123,
                    3368261.035699989,
                    2089579.9891850422,
                    2907177.5857432857,
                    4762171.722178632,
                    1957408.4588310109,
                    1482424.486097101,
                    2340385.5936845066,
                    3375178.967579525,
                    2948401.3884214396,
                    4729764.554125579,
                    4856424.36922561,
                    3495857.2950529577,
                    4266808.727701241,
                    4948306.813248763,
                    3767485.751844708,
                    3890089.6921959147,
                    3665121.774821149,
                    6329674.323438779,
                    2640156.576801477,
                    3398104.1887624706,
                    2408085.106696343,
                    2449460.9189185016,
                    2212468.612656878,
                    1694057.0885346292,
                    4562638.636669507,
                    4384295.888817867,
                    6404046.026700654,
                    1694623.2146432782,
                    4152259.7027190328,
                    2310102.0474377167,
                    3663818.934864534,
                    2351555.792841996,
                    1696632.211379936,
                    2263246.803430413,
                    3725483.3811748596,
                    3273148.1035127332,
                    2804148.131452437,
                    2076271.6505544372,
                    2791677.442179549,
                    1883658.330028559,
                    2701873.968160001,
                    3063986.905555049,
                    2818504.8376167184,
                    3113440.600733376,
                    2312716.3676430145,
                    2703535.0558672287,
                    2535176.721795803,
                    3606843.68688391,
                    2343465.128080379,
                    3038289.967685123,
                    3084397.7676120084,
                    3195895.5131524233,
                    3732578.5739661194,
                    3444792.823323737,
                    2740168.1968430323,
                    2821651.5352897784,
                    2750360.9336676532,
                    2490684.9642037223,
                    3078190.8895544293,
                    2270205.9119584197,
                    1492664.2535157981,
                    2667436.8238677788,
                    3271673.914864037,
                    4774011.142750025,
                    3710320.068237091,
                    2733509.476017745,
                    3172497.618951681,
                    2933943.2755297623,
                    1736111.9877603832,
                    1806034.3172690994,
                    3868131.2949252436,
                    4501025.20125009,
                    1542172.7951335553,
                    2768168.006816404,
                    3462225.8766836976,
                    2585078.650235709,
                    2613964.365177326,
                    2217403.340405377,
                    1344407.4116176201,
                    2523432.533259459,
                    5088867.142933406,
                    2794634.8639597846,
                    2729437.651318438,
                    3351538.0061342795,
                    2214689.0532118357,
                    3190299.7480975287,
                    3403893.732292443,
                    1719871.4535416146,
                    4452578.690119259,
                    1383710.557947036,
                    5006460.900636361,
                    4369703.11590192,
                    3717851.844578221,
                    3108784.3594031623,
                    3767066.886902105,
                    2716563.487246695,
                    2699836.2306456286,
                    3370442.1241025436,
                    2386808.3263850156,
                    1776503.3952002376,
                    2847547.996342355,
                    3880223.748667096,
                    2990211.2925814386
                  ],
                  "y0": " ",
                  "yaxis": "y"
                }
              ],
              "layout": {
                "font": {
                  "family": "Times New Roman",
                  "size": 12
                },
                "legend": {
                  "tracegroupgap": 0
                },
                "margin": {
                  "t": 60
                },
                "template": {
                  "data": {
                    "bar": [
                      {
                        "error_x": {
                          "color": "#2a3f5f"
                        },
                        "error_y": {
                          "color": "#2a3f5f"
                        },
                        "marker": {
                          "line": {
                            "color": "white",
                            "width": 0.5
                          },
                          "pattern": {
                            "fillmode": "overlay",
                            "size": 10,
                            "solidity": 0.2
                          }
                        },
                        "type": "bar"
                      }
                    ],
                    "barpolar": [
                      {
                        "marker": {
                          "line": {
                            "color": "white",
                            "width": 0.5
                          },
                          "pattern": {
                            "fillmode": "overlay",
                            "size": 10,
                            "solidity": 0.2
                          }
                        },
                        "type": "barpolar"
                      }
                    ],
                    "carpet": [
                      {
                        "aaxis": {
                          "endlinecolor": "#2a3f5f",
                          "gridcolor": "#C8D4E3",
                          "linecolor": "#C8D4E3",
                          "minorgridcolor": "#C8D4E3",
                          "startlinecolor": "#2a3f5f"
                        },
                        "baxis": {
                          "endlinecolor": "#2a3f5f",
                          "gridcolor": "#C8D4E3",
                          "linecolor": "#C8D4E3",
                          "minorgridcolor": "#C8D4E3",
                          "startlinecolor": "#2a3f5f"
                        },
                        "type": "carpet"
                      }
                    ],
                    "choropleth": [
                      {
                        "colorbar": {
                          "outlinewidth": 0,
                          "ticks": ""
                        },
                        "type": "choropleth"
                      }
                    ],
                    "contour": [
                      {
                        "colorbar": {
                          "outlinewidth": 0,
                          "ticks": ""
                        },
                        "colorscale": [
                          [
                            0,
                            "#0d0887"
                          ],
                          [
                            0.1111111111111111,
                            "#46039f"
                          ],
                          [
                            0.2222222222222222,
                            "#7201a8"
                          ],
                          [
                            0.3333333333333333,
                            "#9c179e"
                          ],
                          [
                            0.4444444444444444,
                            "#bd3786"
                          ],
                          [
                            0.5555555555555556,
                            "#d8576b"
                          ],
                          [
                            0.6666666666666666,
                            "#ed7953"
                          ],
                          [
                            0.7777777777777778,
                            "#fb9f3a"
                          ],
                          [
                            0.8888888888888888,
                            "#fdca26"
                          ],
                          [
                            1,
                            "#f0f921"
                          ]
                        ],
                        "type": "contour"
                      }
                    ],
                    "contourcarpet": [
                      {
                        "colorbar": {
                          "outlinewidth": 0,
                          "ticks": ""
                        },
                        "type": "contourcarpet"
                      }
                    ],
                    "heatmap": [
                      {
                        "colorbar": {
                          "outlinewidth": 0,
                          "ticks": ""
                        },
                        "colorscale": [
                          [
                            0,
                            "#0d0887"
                          ],
                          [
                            0.1111111111111111,
                            "#46039f"
                          ],
                          [
                            0.2222222222222222,
                            "#7201a8"
                          ],
                          [
                            0.3333333333333333,
                            "#9c179e"
                          ],
                          [
                            0.4444444444444444,
                            "#bd3786"
                          ],
                          [
                            0.5555555555555556,
                            "#d8576b"
                          ],
                          [
                            0.6666666666666666,
                            "#ed7953"
                          ],
                          [
                            0.7777777777777778,
                            "#fb9f3a"
                          ],
                          [
                            0.8888888888888888,
                            "#fdca26"
                          ],
                          [
                            1,
                            "#f0f921"
                          ]
                        ],
                        "type": "heatmap"
                      }
                    ],
                    "heatmapgl": [
                      {
                        "colorbar": {
                          "outlinewidth": 0,
                          "ticks": ""
                        },
                        "colorscale": [
                          [
                            0,
                            "#0d0887"
                          ],
                          [
                            0.1111111111111111,
                            "#46039f"
                          ],
                          [
                            0.2222222222222222,
                            "#7201a8"
                          ],
                          [
                            0.3333333333333333,
                            "#9c179e"
                          ],
                          [
                            0.4444444444444444,
                            "#bd3786"
                          ],
                          [
                            0.5555555555555556,
                            "#d8576b"
                          ],
                          [
                            0.6666666666666666,
                            "#ed7953"
                          ],
                          [
                            0.7777777777777778,
                            "#fb9f3a"
                          ],
                          [
                            0.8888888888888888,
                            "#fdca26"
                          ],
                          [
                            1,
                            "#f0f921"
                          ]
                        ],
                        "type": "heatmapgl"
                      }
                    ],
                    "histogram": [
                      {
                        "marker": {
                          "pattern": {
                            "fillmode": "overlay",
                            "size": 10,
                            "solidity": 0.2
                          }
                        },
                        "type": "histogram"
                      }
                    ],
                    "histogram2d": [
                      {
                        "colorbar": {
                          "outlinewidth": 0,
                          "ticks": ""
                        },
                        "colorscale": [
                          [
                            0,
                            "#0d0887"
                          ],
                          [
                            0.1111111111111111,
                            "#46039f"
                          ],
                          [
                            0.2222222222222222,
                            "#7201a8"
                          ],
                          [
                            0.3333333333333333,
                            "#9c179e"
                          ],
                          [
                            0.4444444444444444,
                            "#bd3786"
                          ],
                          [
                            0.5555555555555556,
                            "#d8576b"
                          ],
                          [
                            0.6666666666666666,
                            "#ed7953"
                          ],
                          [
                            0.7777777777777778,
                            "#fb9f3a"
                          ],
                          [
                            0.8888888888888888,
                            "#fdca26"
                          ],
                          [
                            1,
                            "#f0f921"
                          ]
                        ],
                        "type": "histogram2d"
                      }
                    ],
                    "histogram2dcontour": [
                      {
                        "colorbar": {
                          "outlinewidth": 0,
                          "ticks": ""
                        },
                        "colorscale": [
                          [
                            0,
                            "#0d0887"
                          ],
                          [
                            0.1111111111111111,
                            "#46039f"
                          ],
                          [
                            0.2222222222222222,
                            "#7201a8"
                          ],
                          [
                            0.3333333333333333,
                            "#9c179e"
                          ],
                          [
                            0.4444444444444444,
                            "#bd3786"
                          ],
                          [
                            0.5555555555555556,
                            "#d8576b"
                          ],
                          [
                            0.6666666666666666,
                            "#ed7953"
                          ],
                          [
                            0.7777777777777778,
                            "#fb9f3a"
                          ],
                          [
                            0.8888888888888888,
                            "#fdca26"
                          ],
                          [
                            1,
                            "#f0f921"
                          ]
                        ],
                        "type": "histogram2dcontour"
                      }
                    ],
                    "mesh3d": [
                      {
                        "colorbar": {
                          "outlinewidth": 0,
                          "ticks": ""
                        },
                        "type": "mesh3d"
                      }
                    ],
                    "parcoords": [
                      {
                        "line": {
                          "colorbar": {
                            "outlinewidth": 0,
                            "ticks": ""
                          }
                        },
                        "type": "parcoords"
                      }
                    ],
                    "pie": [
                      {
                        "automargin": true,
                        "type": "pie"
                      }
                    ],
                    "scatter": [
                      {
                        "fillpattern": {
                          "fillmode": "overlay",
                          "size": 10,
                          "solidity": 0.2
                        },
                        "type": "scatter"
                      }
                    ],
                    "scatter3d": [
                      {
                        "line": {
                          "colorbar": {
                            "outlinewidth": 0,
                            "ticks": ""
                          }
                        },
                        "marker": {
                          "colorbar": {
                            "outlinewidth": 0,
                            "ticks": ""
                          }
                        },
                        "type": "scatter3d"
                      }
                    ],
                    "scattercarpet": [
                      {
                        "marker": {
                          "colorbar": {
                            "outlinewidth": 0,
                            "ticks": ""
                          }
                        },
                        "type": "scattercarpet"
                      }
                    ],
                    "scattergeo": [
                      {
                        "marker": {
                          "colorbar": {
                            "outlinewidth": 0,
                            "ticks": ""
                          }
                        },
                        "type": "scattergeo"
                      }
                    ],
                    "scattergl": [
                      {
                        "marker": {
                          "colorbar": {
                            "outlinewidth": 0,
                            "ticks": ""
                          }
                        },
                        "type": "scattergl"
                      }
                    ],
                    "scattermapbox": [
                      {
                        "marker": {
                          "colorbar": {
                            "outlinewidth": 0,
                            "ticks": ""
                          }
                        },
                        "type": "scattermapbox"
                      }
                    ],
                    "scatterpolar": [
                      {
                        "marker": {
                          "colorbar": {
                            "outlinewidth": 0,
                            "ticks": ""
                          }
                        },
                        "type": "scatterpolar"
                      }
                    ],
                    "scatterpolargl": [
                      {
                        "marker": {
                          "colorbar": {
                            "outlinewidth": 0,
                            "ticks": ""
                          }
                        },
                        "type": "scatterpolargl"
                      }
                    ],
                    "scatterternary": [
                      {
                        "marker": {
                          "colorbar": {
                            "outlinewidth": 0,
                            "ticks": ""
                          }
                        },
                        "type": "scatterternary"
                      }
                    ],
                    "surface": [
                      {
                        "colorbar": {
                          "outlinewidth": 0,
                          "ticks": ""
                        },
                        "colorscale": [
                          [
                            0,
                            "#0d0887"
                          ],
                          [
                            0.1111111111111111,
                            "#46039f"
                          ],
                          [
                            0.2222222222222222,
                            "#7201a8"
                          ],
                          [
                            0.3333333333333333,
                            "#9c179e"
                          ],
                          [
                            0.4444444444444444,
                            "#bd3786"
                          ],
                          [
                            0.5555555555555556,
                            "#d8576b"
                          ],
                          [
                            0.6666666666666666,
                            "#ed7953"
                          ],
                          [
                            0.7777777777777778,
                            "#fb9f3a"
                          ],
                          [
                            0.8888888888888888,
                            "#fdca26"
                          ],
                          [
                            1,
                            "#f0f921"
                          ]
                        ],
                        "type": "surface"
                      }
                    ],
                    "table": [
                      {
                        "cells": {
                          "fill": {
                            "color": "#EBF0F8"
                          },
                          "line": {
                            "color": "white"
                          }
                        },
                        "header": {
                          "fill": {
                            "color": "#C8D4E3"
                          },
                          "line": {
                            "color": "white"
                          }
                        },
                        "type": "table"
                      }
                    ]
                  },
                  "layout": {
                    "annotationdefaults": {
                      "arrowcolor": "#2a3f5f",
                      "arrowhead": 0,
                      "arrowwidth": 1
                    },
                    "autotypenumbers": "strict",
                    "coloraxis": {
                      "colorbar": {
                        "outlinewidth": 0,
                        "ticks": ""
                      }
                    },
                    "colorscale": {
                      "diverging": [
                        [
                          0,
                          "#8e0152"
                        ],
                        [
                          0.1,
                          "#c51b7d"
                        ],
                        [
                          0.2,
                          "#de77ae"
                        ],
                        [
                          0.3,
                          "#f1b6da"
                        ],
                        [
                          0.4,
                          "#fde0ef"
                        ],
                        [
                          0.5,
                          "#f7f7f7"
                        ],
                        [
                          0.6,
                          "#e6f5d0"
                        ],
                        [
                          0.7,
                          "#b8e186"
                        ],
                        [
                          0.8,
                          "#7fbc41"
                        ],
                        [
                          0.9,
                          "#4d9221"
                        ],
                        [
                          1,
                          "#276419"
                        ]
                      ],
                      "sequential": [
                        [
                          0,
                          "#0d0887"
                        ],
                        [
                          0.1111111111111111,
                          "#46039f"
                        ],
                        [
                          0.2222222222222222,
                          "#7201a8"
                        ],
                        [
                          0.3333333333333333,
                          "#9c179e"
                        ],
                        [
                          0.4444444444444444,
                          "#bd3786"
                        ],
                        [
                          0.5555555555555556,
                          "#d8576b"
                        ],
                        [
                          0.6666666666666666,
                          "#ed7953"
                        ],
                        [
                          0.7777777777777778,
                          "#fb9f3a"
                        ],
                        [
                          0.8888888888888888,
                          "#fdca26"
                        ],
                        [
                          1,
                          "#f0f921"
                        ]
                      ],
                      "sequentialminus": [
                        [
                          0,
                          "#0d0887"
                        ],
                        [
                          0.1111111111111111,
                          "#46039f"
                        ],
                        [
                          0.2222222222222222,
                          "#7201a8"
                        ],
                        [
                          0.3333333333333333,
                          "#9c179e"
                        ],
                        [
                          0.4444444444444444,
                          "#bd3786"
                        ],
                        [
                          0.5555555555555556,
                          "#d8576b"
                        ],
                        [
                          0.6666666666666666,
                          "#ed7953"
                        ],
                        [
                          0.7777777777777778,
                          "#fb9f3a"
                        ],
                        [
                          0.8888888888888888,
                          "#fdca26"
                        ],
                        [
                          1,
                          "#f0f921"
                        ]
                      ]
                    },
                    "colorway": [
                      "#636efa",
                      "#EF553B",
                      "#00cc96",
                      "#ab63fa",
                      "#FFA15A",
                      "#19d3f3",
                      "#FF6692",
                      "#B6E880",
                      "#FF97FF",
                      "#FECB52"
                    ],
                    "font": {
                      "color": "#2a3f5f"
                    },
                    "geo": {
                      "bgcolor": "white",
                      "lakecolor": "white",
                      "landcolor": "white",
                      "showlakes": true,
                      "showland": true,
                      "subunitcolor": "#C8D4E3"
                    },
                    "hoverlabel": {
                      "align": "left"
                    },
                    "hovermode": "closest",
                    "mapbox": {
                      "style": "light"
                    },
                    "paper_bgcolor": "white",
                    "plot_bgcolor": "white",
                    "polar": {
                      "angularaxis": {
                        "gridcolor": "#EBF0F8",
                        "linecolor": "#EBF0F8",
                        "ticks": ""
                      },
                      "bgcolor": "white",
                      "radialaxis": {
                        "gridcolor": "#EBF0F8",
                        "linecolor": "#EBF0F8",
                        "ticks": ""
                      }
                    },
                    "scene": {
                      "xaxis": {
                        "backgroundcolor": "white",
                        "gridcolor": "#DFE8F3",
                        "gridwidth": 2,
                        "linecolor": "#EBF0F8",
                        "showbackground": true,
                        "ticks": "",
                        "zerolinecolor": "#EBF0F8"
                      },
                      "yaxis": {
                        "backgroundcolor": "white",
                        "gridcolor": "#DFE8F3",
                        "gridwidth": 2,
                        "linecolor": "#EBF0F8",
                        "showbackground": true,
                        "ticks": "",
                        "zerolinecolor": "#EBF0F8"
                      },
                      "zaxis": {
                        "backgroundcolor": "white",
                        "gridcolor": "#DFE8F3",
                        "gridwidth": 2,
                        "linecolor": "#EBF0F8",
                        "showbackground": true,
                        "ticks": "",
                        "zerolinecolor": "#EBF0F8"
                      }
                    },
                    "shapedefaults": {
                      "line": {
                        "color": "#2a3f5f"
                      }
                    },
                    "ternary": {
                      "aaxis": {
                        "gridcolor": "#DFE8F3",
                        "linecolor": "#A2B1C6",
                        "ticks": ""
                      },
                      "baxis": {
                        "gridcolor": "#DFE8F3",
                        "linecolor": "#A2B1C6",
                        "ticks": ""
                      },
                      "bgcolor": "white",
                      "caxis": {
                        "gridcolor": "#DFE8F3",
                        "linecolor": "#A2B1C6",
                        "ticks": ""
                      }
                    },
                    "title": {
                      "x": 0.05
                    },
                    "xaxis": {
                      "automargin": true,
                      "gridcolor": "#EBF0F8",
                      "linecolor": "#EBF0F8",
                      "ticks": "",
                      "title": {
                        "standoff": 15
                      },
                      "zerolinecolor": "#EBF0F8",
                      "zerolinewidth": 2
                    },
                    "yaxis": {
                      "automargin": true,
                      "gridcolor": "#EBF0F8",
                      "linecolor": "#EBF0F8",
                      "ticks": "",
                      "title": {
                        "standoff": 15
                      },
                      "zerolinecolor": "#EBF0F8",
                      "zerolinewidth": 2
                    }
                  }
                },
                "title": {
                  "text": "Violin plot of the pareto solutions for each epoch (10 epochs) for the pollution objective"
                },
                "violinmode": "group",
                "xaxis": {
                  "anchor": "y",
                  "domain": [
                    0,
                    1
                  ],
                  "title": {
                    "text": "Epoch"
                  }
                },
                "yaxis": {
                  "anchor": "x",
                  "domain": [
                    0,
                    1
                  ],
                  "title": {
                    "text": "Pollution (g)"
                  }
                }
              }
            }
          },
          "metadata": {},
          "output_type": "display_data"
        },
        {
          "name": "stdout",
          "output_type": "stream",
          "text": [
            "NSGA2.json\n"
          ]
        },
        {
          "data": {
            "application/vnd.plotly.v1+json": {
              "config": {
                "plotlyServerURL": "https://plot.ly"
              },
              "data": [
                {
                  "alignmentgroup": "True",
                  "box": {
                    "visible": true
                  },
                  "hovertemplate": "Epoch=%{x}<br>Value=%{y}<extra></extra>",
                  "legendgroup": "",
                  "marker": {
                    "color": "#1f77b4"
                  },
                  "name": "",
                  "offsetgroup": "",
                  "orientation": "v",
                  "points": false,
                  "scalegroup": "True",
                  "showlegend": false,
                  "type": "violin",
                  "x": [
                    "1",
                    "1",
                    "2",
                    "2",
                    "2",
                    "3",
                    "3",
                    "3",
                    "3",
                    "4",
                    "4",
                    "4",
                    "4",
                    "4",
                    "5",
                    "5",
                    "6",
                    "6",
                    "6",
                    "6",
                    "6",
                    "7",
                    "7",
                    "8",
                    "8",
                    "8",
                    "8",
                    "9",
                    "9",
                    "9",
                    "9",
                    "9",
                    "9",
                    "10",
                    "10",
                    "10",
                    "10",
                    "10",
                    "10",
                    "10",
                    "11",
                    "11",
                    "11",
                    "11",
                    "11",
                    "11",
                    "11",
                    "11",
                    "11",
                    "11",
                    "12",
                    "12",
                    "12",
                    "12",
                    "12",
                    "12",
                    "13",
                    "13",
                    "13",
                    "13",
                    "14",
                    "14",
                    "15",
                    "15",
                    "15",
                    "15",
                    "16",
                    "16",
                    "16",
                    "17",
                    "17",
                    "17",
                    "18",
                    "18",
                    "18",
                    "19",
                    "19",
                    "19",
                    "19",
                    "20",
                    "20",
                    "20",
                    "20",
                    "21",
                    "21",
                    "21",
                    "21",
                    "22",
                    "22",
                    "22",
                    "22",
                    "23",
                    "23",
                    "23",
                    "23",
                    "24",
                    "24",
                    "24",
                    "24",
                    "25",
                    "25",
                    "25",
                    "25",
                    "26",
                    "26",
                    "26",
                    "26",
                    "27",
                    "27",
                    "27",
                    "27",
                    "28",
                    "28",
                    "28",
                    "28",
                    "29",
                    "29",
                    "29",
                    "29",
                    "30",
                    "30",
                    "30",
                    "30",
                    "31",
                    "31",
                    "31",
                    "31",
                    "32",
                    "32",
                    "32",
                    "32",
                    "32",
                    "33",
                    "33",
                    "33",
                    "33",
                    "33",
                    "34",
                    "34",
                    "34",
                    "34",
                    "34",
                    "35",
                    "35",
                    "35",
                    "35",
                    "35",
                    "36",
                    "36",
                    "36",
                    "36",
                    "36",
                    "37",
                    "37",
                    "37",
                    "37",
                    "37",
                    "38",
                    "38",
                    "38",
                    "38",
                    "38",
                    "39",
                    "39",
                    "39",
                    "39",
                    "39",
                    "40",
                    "40",
                    "40",
                    "40",
                    "40",
                    "41",
                    "41",
                    "41",
                    "41",
                    "41",
                    "42",
                    "42",
                    "42",
                    "42",
                    "42",
                    "43",
                    "43",
                    "43",
                    "43",
                    "43",
                    "44",
                    "44",
                    "44",
                    "44",
                    "44",
                    "45",
                    "45",
                    "45",
                    "45",
                    "45",
                    "46",
                    "46",
                    "46",
                    "46",
                    "46",
                    "47",
                    "47",
                    "47",
                    "47",
                    "47",
                    "48",
                    "48",
                    "48",
                    "48",
                    "48",
                    "49",
                    "49",
                    "49",
                    "49",
                    "49",
                    "50",
                    "50",
                    "50",
                    "50",
                    "50",
                    "51",
                    "51",
                    "51",
                    "51",
                    "51",
                    "52",
                    "52",
                    "52",
                    "52",
                    "52",
                    "53",
                    "53",
                    "53",
                    "53",
                    "53",
                    "54",
                    "54",
                    "54",
                    "54",
                    "54",
                    "55",
                    "55",
                    "55",
                    "55",
                    "55",
                    "56",
                    "56",
                    "56",
                    "56",
                    "56",
                    "57",
                    "57",
                    "57",
                    "57",
                    "57",
                    "58",
                    "58",
                    "58",
                    "58",
                    "58",
                    "59",
                    "59",
                    "59",
                    "59",
                    "59",
                    "60",
                    "60",
                    "60",
                    "60",
                    "60",
                    "61",
                    "61",
                    "61",
                    "61",
                    "61",
                    "62",
                    "62",
                    "62",
                    "62",
                    "62",
                    "63",
                    "63",
                    "63",
                    "63",
                    "63",
                    "64",
                    "64",
                    "64",
                    "64",
                    "64",
                    "65",
                    "65",
                    "65",
                    "65",
                    "65",
                    "66",
                    "66",
                    "66",
                    "66",
                    "66",
                    "67",
                    "67",
                    "67",
                    "67",
                    "67",
                    "68",
                    "68",
                    "68",
                    "68",
                    "68",
                    "69",
                    "69",
                    "69",
                    "69",
                    "69",
                    "70",
                    "70",
                    "70",
                    "70",
                    "70",
                    "71",
                    "71",
                    "71",
                    "71",
                    "71",
                    "72",
                    "72",
                    "72",
                    "72",
                    "72",
                    "73",
                    "73",
                    "73",
                    "73",
                    "73",
                    "74",
                    "74",
                    "74",
                    "74",
                    "74",
                    "75",
                    "75",
                    "75",
                    "75",
                    "75",
                    "76",
                    "76",
                    "76",
                    "76",
                    "76",
                    "77",
                    "77",
                    "77",
                    "77",
                    "77",
                    "78",
                    "78",
                    "78",
                    "78",
                    "78",
                    "79",
                    "79",
                    "79",
                    "79",
                    "79",
                    "80",
                    "80",
                    "80",
                    "80",
                    "80",
                    "81",
                    "81",
                    "81",
                    "81",
                    "81",
                    "82",
                    "82",
                    "82",
                    "82",
                    "82",
                    "83",
                    "83",
                    "83",
                    "83",
                    "83",
                    "84",
                    "84",
                    "84",
                    "84",
                    "84",
                    "85",
                    "85",
                    "85",
                    "85",
                    "86",
                    "86",
                    "86",
                    "86",
                    "86",
                    "87",
                    "87",
                    "87",
                    "87",
                    "87",
                    "88",
                    "88",
                    "88",
                    "88",
                    "88",
                    "89",
                    "89",
                    "89",
                    "89",
                    "89",
                    "90",
                    "90",
                    "90",
                    "90",
                    "90",
                    "91",
                    "91",
                    "91",
                    "91",
                    "91",
                    "92",
                    "92",
                    "92",
                    "92",
                    "92",
                    "93",
                    "93",
                    "93",
                    "93",
                    "93",
                    "94",
                    "94",
                    "94",
                    "94",
                    "94",
                    "95",
                    "95",
                    "95",
                    "95",
                    "95",
                    "96",
                    "96",
                    "96",
                    "96",
                    "96",
                    "97",
                    "97",
                    "97",
                    "97",
                    "97",
                    "98",
                    "98",
                    "98",
                    "98",
                    "98",
                    "99",
                    "99",
                    "99",
                    "99",
                    "99",
                    "100",
                    "100",
                    "100",
                    "100",
                    "100"
                  ],
                  "x0": " ",
                  "xaxis": "x",
                  "y": [
                    5649558.234142395,
                    3214005.246704555,
                    5649558.234142395,
                    3214005.246704555,
                    2876844.5000000005,
                    3214005.246704555,
                    2876844.5000000005,
                    4138780.4,
                    5518023.28398268,
                    3214005.246704555,
                    2876844.5000000005,
                    4138780.4,
                    5518023.28398268,
                    6176858.641545065,
                    3912087,
                    2667687.773270036,
                    3912087,
                    2667687.773270036,
                    2743275.071568628,
                    4093798.2,
                    3687724.8589304998,
                    2602506.2538812784,
                    6765359.1616491685,
                    2602506.2538812784,
                    2797104.0045242305,
                    2732062.6022727275,
                    4207380.9,
                    2602506.2538812784,
                    4207380.9,
                    2797104.0045242305,
                    2732062.6022727275,
                    2704893.7330541424,
                    2820932.5047359564,
                    2602506.2538812784,
                    4207380.9,
                    2704893.7330541424,
                    2797104.0045242305,
                    2732062.6022727275,
                    2820932.5047359564,
                    2897342.652669549,
                    2602506.2538812784,
                    4207380.9,
                    2704893.7330541424,
                    2897342.652669549,
                    2797104.0045242305,
                    2732062.6022727275,
                    2820932.5047359564,
                    2768646.882181394,
                    3314727.4341848986,
                    2648746.0559170586,
                    4207380.9,
                    2897342.652669549,
                    2732062.6022727275,
                    2820932.5047359564,
                    2648746.0559170586,
                    1115814.9,
                    4207380.9,
                    1115814.9,
                    1152369,
                    1125291.888888889,
                    1115814.9,
                    1125291.888888889,
                    1115814.9,
                    1125291.888888889,
                    1125291.888888889,
                    1125291.888888889,
                    1115814.9,
                    1125291.888888889,
                    1125291.888888889,
                    1115814.9,
                    1125291.888888889,
                    1125291.888888889,
                    1115814.9,
                    1125291.888888889,
                    1125291.888888889,
                    1125291.888888889,
                    1125291.888888889,
                    1115814.9,
                    1115814.9,
                    1125291.888888889,
                    1125291.888888889,
                    1115814.9,
                    1115814.9,
                    1125291.888888889,
                    1125291.888888889,
                    1115814.9,
                    1115814.9,
                    1125291.888888889,
                    1125291.888888889,
                    1115814.9,
                    1115814.9,
                    1125291.888888889,
                    1125291.888888889,
                    1115814.9,
                    1115814.9,
                    1125291.888888889,
                    1125291.888888889,
                    1115814.9,
                    1115814.9,
                    1125291.888888889,
                    1125291.888888889,
                    1115814.9,
                    1115814.9,
                    1125291.888888889,
                    1125291.888888889,
                    1115814.9,
                    1115814.9,
                    1125291.888888889,
                    1125291.888888889,
                    1115814.9,
                    1115814.9,
                    1125291.888888889,
                    1125291.888888889,
                    1115814.9,
                    1115814.9,
                    1125291.888888889,
                    1125291.888888889,
                    1115814.9,
                    1115814.9,
                    1125291.888888889,
                    1125291.888888889,
                    1115814.9,
                    1115814.9,
                    1125291.888888889,
                    1125291.888888889,
                    1115814.9,
                    1115814.9,
                    1125291.888888889,
                    1125291.888888889,
                    1115814.9,
                    1115814.9,
                    1125291.888888889,
                    1125291.888888889,
                    1125291.888888889,
                    1115814.9,
                    1115814.9,
                    1125291.888888889,
                    1125291.888888889,
                    1125291.888888889,
                    1115814.9,
                    1115814.9,
                    1125291.888888889,
                    1125291.888888889,
                    1125291.888888889,
                    1115814.9,
                    1115814.9,
                    1125291.888888889,
                    1125291.888888889,
                    1125291.888888889,
                    1115814.9,
                    1115814.9,
                    1125291.888888889,
                    1125291.888888889,
                    1125291.888888889,
                    1115814.9,
                    1115814.9,
                    1125291.888888889,
                    1125291.888888889,
                    1125291.888888889,
                    1115814.9,
                    1115814.9,
                    1125291.888888889,
                    1125291.888888889,
                    1125291.888888889,
                    1115814.9,
                    1115814.9,
                    1125291.888888889,
                    1125291.888888889,
                    1125291.888888889,
                    1115814.9,
                    1115814.9,
                    1125291.888888889,
                    1125291.888888889,
                    1125291.888888889,
                    1115814.9,
                    1115814.9,
                    1125291.888888889,
                    1125291.888888889,
                    1125291.888888889,
                    1115814.9,
                    1115814.9,
                    1125291.888888889,
                    1125291.888888889,
                    1125291.888888889,
                    1115814.9,
                    1115814.9,
                    1125291.888888889,
                    1125291.888888889,
                    1125291.888888889,
                    1115814.9,
                    1115814.9,
                    1125291.888888889,
                    1125291.888888889,
                    1125291.888888889,
                    1115814.9,
                    1115814.9,
                    1125291.888888889,
                    1125291.888888889,
                    1125291.888888889,
                    1115814.9,
                    1115814.9,
                    1125291.888888889,
                    1125291.888888889,
                    1125291.888888889,
                    1115814.9,
                    1115814.9,
                    1125291.888888889,
                    1125291.888888889,
                    1125291.888888889,
                    1115814.9,
                    1115814.9,
                    1125291.888888889,
                    1125291.888888889,
                    1125291.888888889,
                    1115814.9,
                    1115814.9,
                    1125291.888888889,
                    1125291.888888889,
                    1125291.888888889,
                    1115814.9,
                    1115814.9,
                    1125291.888888889,
                    1125291.888888889,
                    1125291.888888889,
                    1115814.9,
                    1115814.9,
                    1125291.888888889,
                    1125291.888888889,
                    1125291.888888889,
                    1115814.9,
                    1115814.9,
                    1125291.888888889,
                    1125291.888888889,
                    1125291.888888889,
                    1115814.9,
                    1115814.9,
                    1125291.888888889,
                    1125291.888888889,
                    1125291.888888889,
                    1115814.9,
                    1115814.9,
                    1125291.888888889,
                    1125291.888888889,
                    1125291.888888889,
                    1115814.9,
                    1115814.9,
                    1125291.888888889,
                    1125291.888888889,
                    1125291.888888889,
                    1115814.9,
                    1115814.9,
                    1125291.888888889,
                    1125291.888888889,
                    1125291.888888889,
                    1115814.9,
                    1115814.9,
                    1125291.888888889,
                    1125291.888888889,
                    1125291.888888889,
                    1115814.9,
                    1115814.9,
                    1125291.888888889,
                    1125291.888888889,
                    1125291.888888889,
                    1115814.9,
                    1115814.9,
                    1125291.888888889,
                    1125291.888888889,
                    1125291.888888889,
                    1115814.9,
                    1115814.9,
                    1125291.888888889,
                    1125291.888888889,
                    1125291.888888889,
                    1115814.9,
                    1115814.9,
                    1125291.888888889,
                    1125291.888888889,
                    1125291.888888889,
                    1115814.9,
                    1115814.9,
                    1125291.888888889,
                    1125291.888888889,
                    1125291.888888889,
                    1115814.9,
                    1115814.9,
                    1125291.888888889,
                    1125291.888888889,
                    1125291.888888889,
                    1115814.9,
                    1115814.9,
                    1125291.888888889,
                    1125291.888888889,
                    1125291.888888889,
                    1115814.9,
                    1115814.9,
                    1125291.888888889,
                    1125291.888888889,
                    1125291.888888889,
                    1115814.9,
                    1115814.9,
                    1125291.888888889,
                    1125291.888888889,
                    1125291.888888889,
                    1115814.9,
                    1115814.9,
                    1125291.888888889,
                    1125291.888888889,
                    1125291.888888889,
                    1115814.9,
                    1115814.9,
                    1125291.888888889,
                    1125291.888888889,
                    1125291.888888889,
                    1115814.9,
                    1115814.9,
                    1125291.888888889,
                    1125291.888888889,
                    1125291.888888889,
                    1115814.9,
                    1115814.9,
                    1125291.888888889,
                    1125291.888888889,
                    1125291.888888889,
                    1115814.9,
                    1115814.9,
                    1125291.888888889,
                    1125291.888888889,
                    1125291.888888889,
                    1115814.9,
                    1115814.9,
                    1125291.888888889,
                    1125291.888888889,
                    1125291.888888889,
                    1115814.9,
                    1115814.9,
                    1125291.888888889,
                    1125291.888888889,
                    1125291.888888889,
                    1115814.9,
                    1115814.9,
                    1125291.888888889,
                    1125291.888888889,
                    1125291.888888889,
                    1115814.9,
                    1115814.9,
                    1125291.888888889,
                    1125291.888888889,
                    1125291.888888889,
                    1115814.9,
                    1115814.9,
                    1125291.888888889,
                    1125291.888888889,
                    1125291.888888889,
                    1115814.9,
                    1115814.9,
                    1125291.888888889,
                    1125291.888888889,
                    1125291.888888889,
                    1115814.9,
                    1115814.9,
                    1125291.888888889,
                    1125291.888888889,
                    1125291.888888889,
                    1115814.9,
                    1115814.9,
                    1125291.888888889,
                    1125291.888888889,
                    1125291.888888889,
                    1115814.9,
                    1115814.9,
                    1125291.888888889,
                    1125291.888888889,
                    1125291.888888889,
                    1115814.9,
                    1115814.9,
                    1125291.888888889,
                    1125291.888888889,
                    1125291.888888889,
                    1115814.9,
                    1115814.9,
                    1125291.888888889,
                    1125291.888888889,
                    1125291.888888889,
                    1115814.9,
                    1115814.9,
                    1125291.888888889,
                    1125291.888888889,
                    1125291.888888889,
                    1115814.9,
                    1115814.9,
                    1125291.888888889,
                    1125291.888888889,
                    1125291.888888889,
                    1115814.9,
                    1125291.888888889,
                    1125291.888888889,
                    1125291.888888889,
                    1115814.9,
                    1115814.9,
                    1125291.888888889,
                    1125291.888888889,
                    1125291.888888889,
                    1115814.9,
                    1115814.9,
                    1125291.888888889,
                    1125291.888888889,
                    1125291.888888889,
                    1115814.9,
                    1115814.9,
                    1125291.888888889,
                    1125291.888888889,
                    1125291.888888889,
                    1115814.9,
                    1115814.9,
                    1125291.888888889,
                    1125291.888888889,
                    1125291.888888889,
                    1115814.9,
                    1115814.9,
                    1125291.888888889,
                    1125291.888888889,
                    1125291.888888889,
                    1115814.9,
                    1115814.9,
                    1125291.888888889,
                    1125291.888888889,
                    1125291.888888889,
                    1115814.9,
                    1115814.9,
                    1125291.888888889,
                    1125291.888888889,
                    1125291.888888889,
                    1115814.9,
                    1115814.9,
                    1125291.888888889,
                    1125291.888888889,
                    1125291.888888889,
                    1115814.9,
                    1115814.9,
                    1125291.888888889,
                    1125291.888888889,
                    1125291.888888889,
                    1115814.9,
                    1115814.9,
                    1125291.888888889,
                    1125291.888888889,
                    1125291.888888889,
                    1115814.9,
                    1115814.9,
                    1125291.888888889,
                    1125291.888888889,
                    1125291.888888889,
                    1115814.9,
                    1115814.9,
                    1125291.888888889,
                    1125291.888888889,
                    1125291.888888889,
                    1115814.9,
                    1115814.9,
                    1125291.888888889,
                    1125291.888888889,
                    1125291.888888889,
                    1115814.9,
                    1115814.9,
                    1125291.888888889,
                    1125291.888888889,
                    1125291.888888889,
                    1115814.9,
                    1115814.9,
                    1125291.888888889
                  ],
                  "y0": " ",
                  "yaxis": "y"
                }
              ],
              "layout": {
                "font": {
                  "family": "Times New Roman",
                  "size": 12
                },
                "legend": {
                  "tracegroupgap": 0
                },
                "margin": {
                  "t": 60
                },
                "template": {
                  "data": {
                    "bar": [
                      {
                        "error_x": {
                          "color": "#2a3f5f"
                        },
                        "error_y": {
                          "color": "#2a3f5f"
                        },
                        "marker": {
                          "line": {
                            "color": "white",
                            "width": 0.5
                          },
                          "pattern": {
                            "fillmode": "overlay",
                            "size": 10,
                            "solidity": 0.2
                          }
                        },
                        "type": "bar"
                      }
                    ],
                    "barpolar": [
                      {
                        "marker": {
                          "line": {
                            "color": "white",
                            "width": 0.5
                          },
                          "pattern": {
                            "fillmode": "overlay",
                            "size": 10,
                            "solidity": 0.2
                          }
                        },
                        "type": "barpolar"
                      }
                    ],
                    "carpet": [
                      {
                        "aaxis": {
                          "endlinecolor": "#2a3f5f",
                          "gridcolor": "#C8D4E3",
                          "linecolor": "#C8D4E3",
                          "minorgridcolor": "#C8D4E3",
                          "startlinecolor": "#2a3f5f"
                        },
                        "baxis": {
                          "endlinecolor": "#2a3f5f",
                          "gridcolor": "#C8D4E3",
                          "linecolor": "#C8D4E3",
                          "minorgridcolor": "#C8D4E3",
                          "startlinecolor": "#2a3f5f"
                        },
                        "type": "carpet"
                      }
                    ],
                    "choropleth": [
                      {
                        "colorbar": {
                          "outlinewidth": 0,
                          "ticks": ""
                        },
                        "type": "choropleth"
                      }
                    ],
                    "contour": [
                      {
                        "colorbar": {
                          "outlinewidth": 0,
                          "ticks": ""
                        },
                        "colorscale": [
                          [
                            0,
                            "#0d0887"
                          ],
                          [
                            0.1111111111111111,
                            "#46039f"
                          ],
                          [
                            0.2222222222222222,
                            "#7201a8"
                          ],
                          [
                            0.3333333333333333,
                            "#9c179e"
                          ],
                          [
                            0.4444444444444444,
                            "#bd3786"
                          ],
                          [
                            0.5555555555555556,
                            "#d8576b"
                          ],
                          [
                            0.6666666666666666,
                            "#ed7953"
                          ],
                          [
                            0.7777777777777778,
                            "#fb9f3a"
                          ],
                          [
                            0.8888888888888888,
                            "#fdca26"
                          ],
                          [
                            1,
                            "#f0f921"
                          ]
                        ],
                        "type": "contour"
                      }
                    ],
                    "contourcarpet": [
                      {
                        "colorbar": {
                          "outlinewidth": 0,
                          "ticks": ""
                        },
                        "type": "contourcarpet"
                      }
                    ],
                    "heatmap": [
                      {
                        "colorbar": {
                          "outlinewidth": 0,
                          "ticks": ""
                        },
                        "colorscale": [
                          [
                            0,
                            "#0d0887"
                          ],
                          [
                            0.1111111111111111,
                            "#46039f"
                          ],
                          [
                            0.2222222222222222,
                            "#7201a8"
                          ],
                          [
                            0.3333333333333333,
                            "#9c179e"
                          ],
                          [
                            0.4444444444444444,
                            "#bd3786"
                          ],
                          [
                            0.5555555555555556,
                            "#d8576b"
                          ],
                          [
                            0.6666666666666666,
                            "#ed7953"
                          ],
                          [
                            0.7777777777777778,
                            "#fb9f3a"
                          ],
                          [
                            0.8888888888888888,
                            "#fdca26"
                          ],
                          [
                            1,
                            "#f0f921"
                          ]
                        ],
                        "type": "heatmap"
                      }
                    ],
                    "heatmapgl": [
                      {
                        "colorbar": {
                          "outlinewidth": 0,
                          "ticks": ""
                        },
                        "colorscale": [
                          [
                            0,
                            "#0d0887"
                          ],
                          [
                            0.1111111111111111,
                            "#46039f"
                          ],
                          [
                            0.2222222222222222,
                            "#7201a8"
                          ],
                          [
                            0.3333333333333333,
                            "#9c179e"
                          ],
                          [
                            0.4444444444444444,
                            "#bd3786"
                          ],
                          [
                            0.5555555555555556,
                            "#d8576b"
                          ],
                          [
                            0.6666666666666666,
                            "#ed7953"
                          ],
                          [
                            0.7777777777777778,
                            "#fb9f3a"
                          ],
                          [
                            0.8888888888888888,
                            "#fdca26"
                          ],
                          [
                            1,
                            "#f0f921"
                          ]
                        ],
                        "type": "heatmapgl"
                      }
                    ],
                    "histogram": [
                      {
                        "marker": {
                          "pattern": {
                            "fillmode": "overlay",
                            "size": 10,
                            "solidity": 0.2
                          }
                        },
                        "type": "histogram"
                      }
                    ],
                    "histogram2d": [
                      {
                        "colorbar": {
                          "outlinewidth": 0,
                          "ticks": ""
                        },
                        "colorscale": [
                          [
                            0,
                            "#0d0887"
                          ],
                          [
                            0.1111111111111111,
                            "#46039f"
                          ],
                          [
                            0.2222222222222222,
                            "#7201a8"
                          ],
                          [
                            0.3333333333333333,
                            "#9c179e"
                          ],
                          [
                            0.4444444444444444,
                            "#bd3786"
                          ],
                          [
                            0.5555555555555556,
                            "#d8576b"
                          ],
                          [
                            0.6666666666666666,
                            "#ed7953"
                          ],
                          [
                            0.7777777777777778,
                            "#fb9f3a"
                          ],
                          [
                            0.8888888888888888,
                            "#fdca26"
                          ],
                          [
                            1,
                            "#f0f921"
                          ]
                        ],
                        "type": "histogram2d"
                      }
                    ],
                    "histogram2dcontour": [
                      {
                        "colorbar": {
                          "outlinewidth": 0,
                          "ticks": ""
                        },
                        "colorscale": [
                          [
                            0,
                            "#0d0887"
                          ],
                          [
                            0.1111111111111111,
                            "#46039f"
                          ],
                          [
                            0.2222222222222222,
                            "#7201a8"
                          ],
                          [
                            0.3333333333333333,
                            "#9c179e"
                          ],
                          [
                            0.4444444444444444,
                            "#bd3786"
                          ],
                          [
                            0.5555555555555556,
                            "#d8576b"
                          ],
                          [
                            0.6666666666666666,
                            "#ed7953"
                          ],
                          [
                            0.7777777777777778,
                            "#fb9f3a"
                          ],
                          [
                            0.8888888888888888,
                            "#fdca26"
                          ],
                          [
                            1,
                            "#f0f921"
                          ]
                        ],
                        "type": "histogram2dcontour"
                      }
                    ],
                    "mesh3d": [
                      {
                        "colorbar": {
                          "outlinewidth": 0,
                          "ticks": ""
                        },
                        "type": "mesh3d"
                      }
                    ],
                    "parcoords": [
                      {
                        "line": {
                          "colorbar": {
                            "outlinewidth": 0,
                            "ticks": ""
                          }
                        },
                        "type": "parcoords"
                      }
                    ],
                    "pie": [
                      {
                        "automargin": true,
                        "type": "pie"
                      }
                    ],
                    "scatter": [
                      {
                        "fillpattern": {
                          "fillmode": "overlay",
                          "size": 10,
                          "solidity": 0.2
                        },
                        "type": "scatter"
                      }
                    ],
                    "scatter3d": [
                      {
                        "line": {
                          "colorbar": {
                            "outlinewidth": 0,
                            "ticks": ""
                          }
                        },
                        "marker": {
                          "colorbar": {
                            "outlinewidth": 0,
                            "ticks": ""
                          }
                        },
                        "type": "scatter3d"
                      }
                    ],
                    "scattercarpet": [
                      {
                        "marker": {
                          "colorbar": {
                            "outlinewidth": 0,
                            "ticks": ""
                          }
                        },
                        "type": "scattercarpet"
                      }
                    ],
                    "scattergeo": [
                      {
                        "marker": {
                          "colorbar": {
                            "outlinewidth": 0,
                            "ticks": ""
                          }
                        },
                        "type": "scattergeo"
                      }
                    ],
                    "scattergl": [
                      {
                        "marker": {
                          "colorbar": {
                            "outlinewidth": 0,
                            "ticks": ""
                          }
                        },
                        "type": "scattergl"
                      }
                    ],
                    "scattermapbox": [
                      {
                        "marker": {
                          "colorbar": {
                            "outlinewidth": 0,
                            "ticks": ""
                          }
                        },
                        "type": "scattermapbox"
                      }
                    ],
                    "scatterpolar": [
                      {
                        "marker": {
                          "colorbar": {
                            "outlinewidth": 0,
                            "ticks": ""
                          }
                        },
                        "type": "scatterpolar"
                      }
                    ],
                    "scatterpolargl": [
                      {
                        "marker": {
                          "colorbar": {
                            "outlinewidth": 0,
                            "ticks": ""
                          }
                        },
                        "type": "scatterpolargl"
                      }
                    ],
                    "scatterternary": [
                      {
                        "marker": {
                          "colorbar": {
                            "outlinewidth": 0,
                            "ticks": ""
                          }
                        },
                        "type": "scatterternary"
                      }
                    ],
                    "surface": [
                      {
                        "colorbar": {
                          "outlinewidth": 0,
                          "ticks": ""
                        },
                        "colorscale": [
                          [
                            0,
                            "#0d0887"
                          ],
                          [
                            0.1111111111111111,
                            "#46039f"
                          ],
                          [
                            0.2222222222222222,
                            "#7201a8"
                          ],
                          [
                            0.3333333333333333,
                            "#9c179e"
                          ],
                          [
                            0.4444444444444444,
                            "#bd3786"
                          ],
                          [
                            0.5555555555555556,
                            "#d8576b"
                          ],
                          [
                            0.6666666666666666,
                            "#ed7953"
                          ],
                          [
                            0.7777777777777778,
                            "#fb9f3a"
                          ],
                          [
                            0.8888888888888888,
                            "#fdca26"
                          ],
                          [
                            1,
                            "#f0f921"
                          ]
                        ],
                        "type": "surface"
                      }
                    ],
                    "table": [
                      {
                        "cells": {
                          "fill": {
                            "color": "#EBF0F8"
                          },
                          "line": {
                            "color": "white"
                          }
                        },
                        "header": {
                          "fill": {
                            "color": "#C8D4E3"
                          },
                          "line": {
                            "color": "white"
                          }
                        },
                        "type": "table"
                      }
                    ]
                  },
                  "layout": {
                    "annotationdefaults": {
                      "arrowcolor": "#2a3f5f",
                      "arrowhead": 0,
                      "arrowwidth": 1
                    },
                    "autotypenumbers": "strict",
                    "coloraxis": {
                      "colorbar": {
                        "outlinewidth": 0,
                        "ticks": ""
                      }
                    },
                    "colorscale": {
                      "diverging": [
                        [
                          0,
                          "#8e0152"
                        ],
                        [
                          0.1,
                          "#c51b7d"
                        ],
                        [
                          0.2,
                          "#de77ae"
                        ],
                        [
                          0.3,
                          "#f1b6da"
                        ],
                        [
                          0.4,
                          "#fde0ef"
                        ],
                        [
                          0.5,
                          "#f7f7f7"
                        ],
                        [
                          0.6,
                          "#e6f5d0"
                        ],
                        [
                          0.7,
                          "#b8e186"
                        ],
                        [
                          0.8,
                          "#7fbc41"
                        ],
                        [
                          0.9,
                          "#4d9221"
                        ],
                        [
                          1,
                          "#276419"
                        ]
                      ],
                      "sequential": [
                        [
                          0,
                          "#0d0887"
                        ],
                        [
                          0.1111111111111111,
                          "#46039f"
                        ],
                        [
                          0.2222222222222222,
                          "#7201a8"
                        ],
                        [
                          0.3333333333333333,
                          "#9c179e"
                        ],
                        [
                          0.4444444444444444,
                          "#bd3786"
                        ],
                        [
                          0.5555555555555556,
                          "#d8576b"
                        ],
                        [
                          0.6666666666666666,
                          "#ed7953"
                        ],
                        [
                          0.7777777777777778,
                          "#fb9f3a"
                        ],
                        [
                          0.8888888888888888,
                          "#fdca26"
                        ],
                        [
                          1,
                          "#f0f921"
                        ]
                      ],
                      "sequentialminus": [
                        [
                          0,
                          "#0d0887"
                        ],
                        [
                          0.1111111111111111,
                          "#46039f"
                        ],
                        [
                          0.2222222222222222,
                          "#7201a8"
                        ],
                        [
                          0.3333333333333333,
                          "#9c179e"
                        ],
                        [
                          0.4444444444444444,
                          "#bd3786"
                        ],
                        [
                          0.5555555555555556,
                          "#d8576b"
                        ],
                        [
                          0.6666666666666666,
                          "#ed7953"
                        ],
                        [
                          0.7777777777777778,
                          "#fb9f3a"
                        ],
                        [
                          0.8888888888888888,
                          "#fdca26"
                        ],
                        [
                          1,
                          "#f0f921"
                        ]
                      ]
                    },
                    "colorway": [
                      "#636efa",
                      "#EF553B",
                      "#00cc96",
                      "#ab63fa",
                      "#FFA15A",
                      "#19d3f3",
                      "#FF6692",
                      "#B6E880",
                      "#FF97FF",
                      "#FECB52"
                    ],
                    "font": {
                      "color": "#2a3f5f"
                    },
                    "geo": {
                      "bgcolor": "white",
                      "lakecolor": "white",
                      "landcolor": "white",
                      "showlakes": true,
                      "showland": true,
                      "subunitcolor": "#C8D4E3"
                    },
                    "hoverlabel": {
                      "align": "left"
                    },
                    "hovermode": "closest",
                    "mapbox": {
                      "style": "light"
                    },
                    "paper_bgcolor": "white",
                    "plot_bgcolor": "white",
                    "polar": {
                      "angularaxis": {
                        "gridcolor": "#EBF0F8",
                        "linecolor": "#EBF0F8",
                        "ticks": ""
                      },
                      "bgcolor": "white",
                      "radialaxis": {
                        "gridcolor": "#EBF0F8",
                        "linecolor": "#EBF0F8",
                        "ticks": ""
                      }
                    },
                    "scene": {
                      "xaxis": {
                        "backgroundcolor": "white",
                        "gridcolor": "#DFE8F3",
                        "gridwidth": 2,
                        "linecolor": "#EBF0F8",
                        "showbackground": true,
                        "ticks": "",
                        "zerolinecolor": "#EBF0F8"
                      },
                      "yaxis": {
                        "backgroundcolor": "white",
                        "gridcolor": "#DFE8F3",
                        "gridwidth": 2,
                        "linecolor": "#EBF0F8",
                        "showbackground": true,
                        "ticks": "",
                        "zerolinecolor": "#EBF0F8"
                      },
                      "zaxis": {
                        "backgroundcolor": "white",
                        "gridcolor": "#DFE8F3",
                        "gridwidth": 2,
                        "linecolor": "#EBF0F8",
                        "showbackground": true,
                        "ticks": "",
                        "zerolinecolor": "#EBF0F8"
                      }
                    },
                    "shapedefaults": {
                      "line": {
                        "color": "#2a3f5f"
                      }
                    },
                    "ternary": {
                      "aaxis": {
                        "gridcolor": "#DFE8F3",
                        "linecolor": "#A2B1C6",
                        "ticks": ""
                      },
                      "baxis": {
                        "gridcolor": "#DFE8F3",
                        "linecolor": "#A2B1C6",
                        "ticks": ""
                      },
                      "bgcolor": "white",
                      "caxis": {
                        "gridcolor": "#DFE8F3",
                        "linecolor": "#A2B1C6",
                        "ticks": ""
                      }
                    },
                    "title": {
                      "x": 0.05
                    },
                    "xaxis": {
                      "automargin": true,
                      "gridcolor": "#EBF0F8",
                      "linecolor": "#EBF0F8",
                      "ticks": "",
                      "title": {
                        "standoff": 15
                      },
                      "zerolinecolor": "#EBF0F8",
                      "zerolinewidth": 2
                    },
                    "yaxis": {
                      "automargin": true,
                      "gridcolor": "#EBF0F8",
                      "linecolor": "#EBF0F8",
                      "ticks": "",
                      "title": {
                        "standoff": 15
                      },
                      "zerolinecolor": "#EBF0F8",
                      "zerolinewidth": 2
                    }
                  }
                },
                "title": {
                  "text": "Violin plot of the pareto solutions for each epoch (10 epochs) for the processingTime objective"
                },
                "violinmode": "group",
                "xaxis": {
                  "anchor": "y",
                  "domain": [
                    0,
                    1
                  ],
                  "title": {
                    "text": "Epoch"
                  }
                },
                "yaxis": {
                  "anchor": "x",
                  "domain": [
                    0,
                    1
                  ],
                  "title": {
                    "text": "Processing time (s)"
                  }
                }
              }
            }
          },
          "metadata": {},
          "output_type": "display_data"
        },
        {
          "data": {
            "application/vnd.plotly.v1+json": {
              "config": {
                "plotlyServerURL": "https://plot.ly"
              },
              "data": [
                {
                  "alignmentgroup": "True",
                  "box": {
                    "visible": true
                  },
                  "hovertemplate": "Epoch=%{x}<br>Value=%{y}<extra></extra>",
                  "legendgroup": "",
                  "marker": {
                    "color": "#1f77b4"
                  },
                  "name": "",
                  "offsetgroup": "",
                  "orientation": "v",
                  "points": false,
                  "scalegroup": "True",
                  "showlegend": false,
                  "type": "violin",
                  "x": [
                    "1",
                    "1",
                    "2",
                    "2",
                    "2",
                    "3",
                    "3",
                    "3",
                    "3",
                    "4",
                    "4",
                    "4",
                    "4",
                    "4",
                    "5",
                    "5",
                    "6",
                    "6",
                    "6",
                    "6",
                    "6",
                    "7",
                    "7",
                    "8",
                    "8",
                    "8",
                    "8",
                    "9",
                    "9",
                    "9",
                    "9",
                    "9",
                    "9",
                    "10",
                    "10",
                    "10",
                    "10",
                    "10",
                    "10",
                    "10",
                    "11",
                    "11",
                    "11",
                    "11",
                    "11",
                    "11",
                    "11",
                    "11",
                    "11",
                    "11",
                    "12",
                    "12",
                    "12",
                    "12",
                    "12",
                    "12",
                    "13",
                    "13",
                    "13",
                    "13",
                    "14",
                    "14",
                    "15",
                    "15",
                    "15",
                    "15",
                    "16",
                    "16",
                    "16",
                    "17",
                    "17",
                    "17",
                    "18",
                    "18",
                    "18",
                    "19",
                    "19",
                    "19",
                    "19",
                    "20",
                    "20",
                    "20",
                    "20",
                    "21",
                    "21",
                    "21",
                    "21",
                    "22",
                    "22",
                    "22",
                    "22",
                    "23",
                    "23",
                    "23",
                    "23",
                    "24",
                    "24",
                    "24",
                    "24",
                    "25",
                    "25",
                    "25",
                    "25",
                    "26",
                    "26",
                    "26",
                    "26",
                    "27",
                    "27",
                    "27",
                    "27",
                    "28",
                    "28",
                    "28",
                    "28",
                    "29",
                    "29",
                    "29",
                    "29",
                    "30",
                    "30",
                    "30",
                    "30",
                    "31",
                    "31",
                    "31",
                    "31",
                    "32",
                    "32",
                    "32",
                    "32",
                    "32",
                    "33",
                    "33",
                    "33",
                    "33",
                    "33",
                    "34",
                    "34",
                    "34",
                    "34",
                    "34",
                    "35",
                    "35",
                    "35",
                    "35",
                    "35",
                    "36",
                    "36",
                    "36",
                    "36",
                    "36",
                    "37",
                    "37",
                    "37",
                    "37",
                    "37",
                    "38",
                    "38",
                    "38",
                    "38",
                    "38",
                    "39",
                    "39",
                    "39",
                    "39",
                    "39",
                    "40",
                    "40",
                    "40",
                    "40",
                    "40",
                    "41",
                    "41",
                    "41",
                    "41",
                    "41",
                    "42",
                    "42",
                    "42",
                    "42",
                    "42",
                    "43",
                    "43",
                    "43",
                    "43",
                    "43",
                    "44",
                    "44",
                    "44",
                    "44",
                    "44",
                    "45",
                    "45",
                    "45",
                    "45",
                    "45",
                    "46",
                    "46",
                    "46",
                    "46",
                    "46",
                    "47",
                    "47",
                    "47",
                    "47",
                    "47",
                    "48",
                    "48",
                    "48",
                    "48",
                    "48",
                    "49",
                    "49",
                    "49",
                    "49",
                    "49",
                    "50",
                    "50",
                    "50",
                    "50",
                    "50",
                    "51",
                    "51",
                    "51",
                    "51",
                    "51",
                    "52",
                    "52",
                    "52",
                    "52",
                    "52",
                    "53",
                    "53",
                    "53",
                    "53",
                    "53",
                    "54",
                    "54",
                    "54",
                    "54",
                    "54",
                    "55",
                    "55",
                    "55",
                    "55",
                    "55",
                    "56",
                    "56",
                    "56",
                    "56",
                    "56",
                    "57",
                    "57",
                    "57",
                    "57",
                    "57",
                    "58",
                    "58",
                    "58",
                    "58",
                    "58",
                    "59",
                    "59",
                    "59",
                    "59",
                    "59",
                    "60",
                    "60",
                    "60",
                    "60",
                    "60",
                    "61",
                    "61",
                    "61",
                    "61",
                    "61",
                    "62",
                    "62",
                    "62",
                    "62",
                    "62",
                    "63",
                    "63",
                    "63",
                    "63",
                    "63",
                    "64",
                    "64",
                    "64",
                    "64",
                    "64",
                    "65",
                    "65",
                    "65",
                    "65",
                    "65",
                    "66",
                    "66",
                    "66",
                    "66",
                    "66",
                    "67",
                    "67",
                    "67",
                    "67",
                    "67",
                    "68",
                    "68",
                    "68",
                    "68",
                    "68",
                    "69",
                    "69",
                    "69",
                    "69",
                    "69",
                    "70",
                    "70",
                    "70",
                    "70",
                    "70",
                    "71",
                    "71",
                    "71",
                    "71",
                    "71",
                    "72",
                    "72",
                    "72",
                    "72",
                    "72",
                    "73",
                    "73",
                    "73",
                    "73",
                    "73",
                    "74",
                    "74",
                    "74",
                    "74",
                    "74",
                    "75",
                    "75",
                    "75",
                    "75",
                    "75",
                    "76",
                    "76",
                    "76",
                    "76",
                    "76",
                    "77",
                    "77",
                    "77",
                    "77",
                    "77",
                    "78",
                    "78",
                    "78",
                    "78",
                    "78",
                    "79",
                    "79",
                    "79",
                    "79",
                    "79",
                    "80",
                    "80",
                    "80",
                    "80",
                    "80",
                    "81",
                    "81",
                    "81",
                    "81",
                    "81",
                    "82",
                    "82",
                    "82",
                    "82",
                    "82",
                    "83",
                    "83",
                    "83",
                    "83",
                    "83",
                    "84",
                    "84",
                    "84",
                    "84",
                    "84",
                    "85",
                    "85",
                    "85",
                    "85",
                    "86",
                    "86",
                    "86",
                    "86",
                    "86",
                    "87",
                    "87",
                    "87",
                    "87",
                    "87",
                    "88",
                    "88",
                    "88",
                    "88",
                    "88",
                    "89",
                    "89",
                    "89",
                    "89",
                    "89",
                    "90",
                    "90",
                    "90",
                    "90",
                    "90",
                    "91",
                    "91",
                    "91",
                    "91",
                    "91",
                    "92",
                    "92",
                    "92",
                    "92",
                    "92",
                    "93",
                    "93",
                    "93",
                    "93",
                    "93",
                    "94",
                    "94",
                    "94",
                    "94",
                    "94",
                    "95",
                    "95",
                    "95",
                    "95",
                    "95",
                    "96",
                    "96",
                    "96",
                    "96",
                    "96",
                    "97",
                    "97",
                    "97",
                    "97",
                    "97",
                    "98",
                    "98",
                    "98",
                    "98",
                    "98",
                    "99",
                    "99",
                    "99",
                    "99",
                    "99",
                    "100",
                    "100",
                    "100",
                    "100",
                    "100"
                  ],
                  "x0": " ",
                  "xaxis": "x",
                  "y": [
                    6581781.300284161,
                    7848578.400685646,
                    6581781.300284161,
                    7848578.400685646,
                    8128265.24529589,
                    7848578.400685646,
                    8128265.24529589,
                    5127699.193269875,
                    4554948.450905623,
                    7848578.400685646,
                    8128265.24529589,
                    5127699.193269875,
                    4554948.450905623,
                    6244001.37435045,
                    4030412.5668989476,
                    4954915.064726678,
                    4030412.5668989476,
                    4954915.064726678,
                    4865946.038955681,
                    3562706.1117209606,
                    4926360.079987829,
                    3288504.0082134726,
                    6595935.307782402,
                    3288504.0082134726,
                    3282930.6884645373,
                    2045470.7502790277,
                    1757502.4716819813,
                    3288504.0082134726,
                    1757502.4716819813,
                    3282930.6884645373,
                    2045470.7502790277,
                    4013288.2333314084,
                    3953444.363440946,
                    3288504.0082134726,
                    1757502.4716819813,
                    4013288.2333314084,
                    3282930.6884645373,
                    2045470.7502790277,
                    3953444.363440946,
                    5067881.62119844,
                    3288504.0082134726,
                    1757502.4716819813,
                    4013288.2333314084,
                    5067881.62119844,
                    3282930.6884645373,
                    2045470.7502790277,
                    3953444.363440946,
                    3872651.5162332533,
                    3623234.026031242,
                    4245515.284975971,
                    1757502.4716819813,
                    5067881.62119844,
                    2045470.7502790277,
                    3953444.363440946,
                    4245515.284975971,
                    2897093.963392048,
                    1757502.4716819813,
                    2897093.963392048,
                    1436094.3029171429,
                    1430464.3621640385,
                    2897093.963392048,
                    1007232.7911989391,
                    2897093.963392048,
                    1007232.7911989391,
                    1315039.0032751136,
                    550930.9323031553,
                    2897093.963392048,
                    550930.9323031553,
                    645603.011498018,
                    2897093.963392048,
                    550930.9323031553,
                    645603.011498018,
                    2897093.963392048,
                    550930.9323031553,
                    645603.011498018,
                    550930.9323031553,
                    645603.011498018,
                    1267990.2259579017,
                    1386295.2232097294,
                    550930.9323031553,
                    645603.011498018,
                    1267990.2259579017,
                    1386295.2232097294,
                    550930.9323031553,
                    645603.011498018,
                    1267990.2259579017,
                    1386295.2232097294,
                    550930.9323031553,
                    645603.011498018,
                    1267990.2259579017,
                    1386295.2232097294,
                    550930.9323031553,
                    645603.011498018,
                    1267990.2259579017,
                    1386295.2232097294,
                    550930.9323031553,
                    645603.011498018,
                    1267990.2259579017,
                    1386295.2232097294,
                    550930.9323031553,
                    645603.011498018,
                    1267990.2259579017,
                    1386295.2232097294,
                    550930.9323031553,
                    645603.011498018,
                    1267990.2259579017,
                    1386295.2232097294,
                    550930.9323031553,
                    645603.011498018,
                    1267990.2259579017,
                    1386295.2232097294,
                    550930.9323031553,
                    645603.011498018,
                    1267990.2259579017,
                    1386295.2232097294,
                    550930.9323031553,
                    645603.011498018,
                    1267990.2259579017,
                    1386295.2232097294,
                    550930.9323031553,
                    645603.011498018,
                    1267990.2259579017,
                    1386295.2232097294,
                    550930.9323031553,
                    645603.011498018,
                    1267990.2259579017,
                    1386295.2232097294,
                    550930.9323031553,
                    645603.011498018,
                    1267990.2259579017,
                    1386295.2232097294,
                    1032708.5844868274,
                    550930.9323031553,
                    645603.011498018,
                    1267990.2259579017,
                    1386295.2232097294,
                    1032708.5844868274,
                    550930.9323031553,
                    645603.011498018,
                    1267990.2259579017,
                    1386295.2232097294,
                    1032708.5844868274,
                    550930.9323031553,
                    645603.011498018,
                    1267990.2259579017,
                    1386295.2232097294,
                    1032708.5844868274,
                    550930.9323031553,
                    645603.011498018,
                    1267990.2259579017,
                    1386295.2232097294,
                    1032708.5844868274,
                    550930.9323031553,
                    645603.011498018,
                    1267990.2259579017,
                    1386295.2232097294,
                    1032708.5844868274,
                    550930.9323031553,
                    645603.011498018,
                    1267990.2259579017,
                    1386295.2232097294,
                    1032708.5844868274,
                    550930.9323031553,
                    645603.011498018,
                    1267990.2259579017,
                    1386295.2232097294,
                    1032708.5844868274,
                    550930.9323031553,
                    645603.011498018,
                    1267990.2259579017,
                    1386295.2232097294,
                    1032708.5844868274,
                    550930.9323031553,
                    645603.011498018,
                    1267990.2259579017,
                    1386295.2232097294,
                    1032708.5844868274,
                    550930.9323031553,
                    645603.011498018,
                    1267990.2259579017,
                    1386295.2232097294,
                    1032708.5844868274,
                    550930.9323031553,
                    645603.011498018,
                    1267990.2259579017,
                    1386295.2232097294,
                    1032708.5844868274,
                    550930.9323031553,
                    645603.011498018,
                    1267990.2259579017,
                    1386295.2232097294,
                    1032708.5844868274,
                    550930.9323031553,
                    645603.011498018,
                    1267990.2259579017,
                    1386295.2232097294,
                    1032708.5844868274,
                    550930.9323031553,
                    645603.011498018,
                    1267990.2259579017,
                    1386295.2232097294,
                    1032708.5844868274,
                    550930.9323031553,
                    645603.011498018,
                    1267990.2259579017,
                    1386295.2232097294,
                    1032708.5844868274,
                    550930.9323031553,
                    645603.011498018,
                    1267990.2259579017,
                    1386295.2232097294,
                    1032708.5844868274,
                    550930.9323031553,
                    645603.011498018,
                    1267990.2259579017,
                    1386295.2232097294,
                    1032708.5844868274,
                    550930.9323031553,
                    645603.011498018,
                    1267990.2259579017,
                    1386295.2232097294,
                    1032708.5844868274,
                    550930.9323031553,
                    645603.011498018,
                    1267990.2259579017,
                    1386295.2232097294,
                    1032708.5844868274,
                    550930.9323031553,
                    645603.011498018,
                    1267990.2259579017,
                    1386295.2232097294,
                    1032708.5844868274,
                    550930.9323031553,
                    645603.011498018,
                    1267990.2259579017,
                    1386295.2232097294,
                    1032708.5844868274,
                    550930.9323031553,
                    645603.011498018,
                    1267990.2259579017,
                    1386295.2232097294,
                    1032708.5844868274,
                    550930.9323031553,
                    645603.011498018,
                    1267990.2259579017,
                    1386295.2232097294,
                    1032708.5844868274,
                    550930.9323031553,
                    645603.011498018,
                    1267990.2259579017,
                    1386295.2232097294,
                    1032708.5844868274,
                    550930.9323031553,
                    645603.011498018,
                    1267990.2259579017,
                    1386295.2232097294,
                    1032708.5844868274,
                    550930.9323031553,
                    645603.011498018,
                    1267990.2259579017,
                    1386295.2232097294,
                    1032708.5844868274,
                    550930.9323031553,
                    645603.011498018,
                    1267990.2259579017,
                    1386295.2232097294,
                    1032708.5844868274,
                    550930.9323031553,
                    645603.011498018,
                    1267990.2259579017,
                    1386295.2232097294,
                    1032708.5844868274,
                    550930.9323031553,
                    645603.011498018,
                    1267990.2259579017,
                    1386295.2232097294,
                    1032708.5844868274,
                    550930.9323031553,
                    645603.011498018,
                    1267990.2259579017,
                    1386295.2232097294,
                    1032708.5844868274,
                    550930.9323031553,
                    645603.011498018,
                    1267990.2259579017,
                    1386295.2232097294,
                    1032708.5844868274,
                    550930.9323031553,
                    645603.011498018,
                    1267990.2259579017,
                    1386295.2232097294,
                    1032708.5844868274,
                    550930.9323031553,
                    645603.011498018,
                    1267990.2259579017,
                    1386295.2232097294,
                    1032708.5844868274,
                    550930.9323031553,
                    645603.011498018,
                    1267990.2259579017,
                    1386295.2232097294,
                    1032708.5844868274,
                    550930.9323031553,
                    645603.011498018,
                    1267990.2259579017,
                    1386295.2232097294,
                    1032708.5844868274,
                    550930.9323031553,
                    645603.011498018,
                    1267990.2259579017,
                    1386295.2232097294,
                    1032708.5844868274,
                    550930.9323031553,
                    645603.011498018,
                    1267990.2259579017,
                    1386295.2232097294,
                    1032708.5844868274,
                    550930.9323031553,
                    645603.011498018,
                    1267990.2259579017,
                    1386295.2232097294,
                    1032708.5844868274,
                    550930.9323031553,
                    645603.011498018,
                    1267990.2259579017,
                    1386295.2232097294,
                    1032708.5844868274,
                    550930.9323031553,
                    645603.011498018,
                    1267990.2259579017,
                    1386295.2232097294,
                    1032708.5844868274,
                    550930.9323031553,
                    645603.011498018,
                    1267990.2259579017,
                    1386295.2232097294,
                    1032708.5844868274,
                    550930.9323031553,
                    645603.011498018,
                    1267990.2259579017,
                    1386295.2232097294,
                    1032708.5844868274,
                    550930.9323031553,
                    645603.011498018,
                    1267990.2259579017,
                    1386295.2232097294,
                    1032708.5844868274,
                    550930.9323031553,
                    645603.011498018,
                    1267990.2259579017,
                    1386295.2232097294,
                    1032708.5844868274,
                    550930.9323031553,
                    645603.011498018,
                    1267990.2259579017,
                    1386295.2232097294,
                    1032708.5844868274,
                    550930.9323031553,
                    645603.011498018,
                    1267990.2259579017,
                    1386295.2232097294,
                    1032708.5844868274,
                    550930.9323031553,
                    645603.011498018,
                    1267990.2259579017,
                    1386295.2232097294,
                    1032708.5844868274,
                    550930.9323031553,
                    645603.011498018,
                    1267990.2259579017,
                    1386295.2232097294,
                    1032708.5844868274,
                    550930.9323031553,
                    645603.011498018,
                    1267990.2259579017,
                    1386295.2232097294,
                    1032708.5844868274,
                    550930.9323031553,
                    645603.011498018,
                    1267990.2259579017,
                    1386295.2232097294,
                    1032708.5844868274,
                    550930.9323031553,
                    645603.011498018,
                    1267990.2259579017,
                    1386295.2232097294,
                    1032708.5844868274,
                    550930.9323031553,
                    645603.011498018,
                    1267990.2259579017,
                    1386295.2232097294,
                    1032708.5844868274,
                    550930.9323031553,
                    645603.011498018,
                    1267990.2259579017,
                    1032708.5844868274,
                    550930.9323031553,
                    645603.011498018,
                    1267990.2259579017,
                    1386295.2232097294,
                    1032708.5844868274,
                    550930.9323031553,
                    645603.011498018,
                    1267990.2259579017,
                    1386295.2232097294,
                    1032708.5844868274,
                    550930.9323031553,
                    645603.011498018,
                    1267990.2259579017,
                    1386295.2232097294,
                    1032708.5844868274,
                    550930.9323031553,
                    645603.011498018,
                    1267990.2259579017,
                    1386295.2232097294,
                    1032708.5844868274,
                    550930.9323031553,
                    645603.011498018,
                    1267990.2259579017,
                    1386295.2232097294,
                    1032708.5844868274,
                    550930.9323031553,
                    645603.011498018,
                    1267990.2259579017,
                    1386295.2232097294,
                    1032708.5844868274,
                    550930.9323031553,
                    645603.011498018,
                    1267990.2259579017,
                    1386295.2232097294,
                    1032708.5844868274,
                    550930.9323031553,
                    645603.011498018,
                    1267990.2259579017,
                    1386295.2232097294,
                    1032708.5844868274,
                    550930.9323031553,
                    645603.011498018,
                    1267990.2259579017,
                    1386295.2232097294,
                    1032708.5844868274,
                    550930.9323031553,
                    645603.011498018,
                    1267990.2259579017,
                    1386295.2232097294,
                    1032708.5844868274,
                    550930.9323031553,
                    645603.011498018,
                    1267990.2259579017,
                    1386295.2232097294,
                    1032708.5844868274,
                    550930.9323031553,
                    645603.011498018,
                    1267990.2259579017,
                    1386295.2232097294,
                    1032708.5844868274,
                    550930.9323031553,
                    645603.011498018,
                    1267990.2259579017,
                    1386295.2232097294,
                    1032708.5844868274,
                    550930.9323031553,
                    645603.011498018,
                    1267990.2259579017,
                    1386295.2232097294,
                    1032708.5844868274,
                    550930.9323031553,
                    645603.011498018,
                    1267990.2259579017,
                    1386295.2232097294,
                    1032708.5844868274
                  ],
                  "y0": " ",
                  "yaxis": "y"
                }
              ],
              "layout": {
                "font": {
                  "family": "Times New Roman",
                  "size": 12
                },
                "legend": {
                  "tracegroupgap": 0
                },
                "margin": {
                  "t": 60
                },
                "template": {
                  "data": {
                    "bar": [
                      {
                        "error_x": {
                          "color": "#2a3f5f"
                        },
                        "error_y": {
                          "color": "#2a3f5f"
                        },
                        "marker": {
                          "line": {
                            "color": "white",
                            "width": 0.5
                          },
                          "pattern": {
                            "fillmode": "overlay",
                            "size": 10,
                            "solidity": 0.2
                          }
                        },
                        "type": "bar"
                      }
                    ],
                    "barpolar": [
                      {
                        "marker": {
                          "line": {
                            "color": "white",
                            "width": 0.5
                          },
                          "pattern": {
                            "fillmode": "overlay",
                            "size": 10,
                            "solidity": 0.2
                          }
                        },
                        "type": "barpolar"
                      }
                    ],
                    "carpet": [
                      {
                        "aaxis": {
                          "endlinecolor": "#2a3f5f",
                          "gridcolor": "#C8D4E3",
                          "linecolor": "#C8D4E3",
                          "minorgridcolor": "#C8D4E3",
                          "startlinecolor": "#2a3f5f"
                        },
                        "baxis": {
                          "endlinecolor": "#2a3f5f",
                          "gridcolor": "#C8D4E3",
                          "linecolor": "#C8D4E3",
                          "minorgridcolor": "#C8D4E3",
                          "startlinecolor": "#2a3f5f"
                        },
                        "type": "carpet"
                      }
                    ],
                    "choropleth": [
                      {
                        "colorbar": {
                          "outlinewidth": 0,
                          "ticks": ""
                        },
                        "type": "choropleth"
                      }
                    ],
                    "contour": [
                      {
                        "colorbar": {
                          "outlinewidth": 0,
                          "ticks": ""
                        },
                        "colorscale": [
                          [
                            0,
                            "#0d0887"
                          ],
                          [
                            0.1111111111111111,
                            "#46039f"
                          ],
                          [
                            0.2222222222222222,
                            "#7201a8"
                          ],
                          [
                            0.3333333333333333,
                            "#9c179e"
                          ],
                          [
                            0.4444444444444444,
                            "#bd3786"
                          ],
                          [
                            0.5555555555555556,
                            "#d8576b"
                          ],
                          [
                            0.6666666666666666,
                            "#ed7953"
                          ],
                          [
                            0.7777777777777778,
                            "#fb9f3a"
                          ],
                          [
                            0.8888888888888888,
                            "#fdca26"
                          ],
                          [
                            1,
                            "#f0f921"
                          ]
                        ],
                        "type": "contour"
                      }
                    ],
                    "contourcarpet": [
                      {
                        "colorbar": {
                          "outlinewidth": 0,
                          "ticks": ""
                        },
                        "type": "contourcarpet"
                      }
                    ],
                    "heatmap": [
                      {
                        "colorbar": {
                          "outlinewidth": 0,
                          "ticks": ""
                        },
                        "colorscale": [
                          [
                            0,
                            "#0d0887"
                          ],
                          [
                            0.1111111111111111,
                            "#46039f"
                          ],
                          [
                            0.2222222222222222,
                            "#7201a8"
                          ],
                          [
                            0.3333333333333333,
                            "#9c179e"
                          ],
                          [
                            0.4444444444444444,
                            "#bd3786"
                          ],
                          [
                            0.5555555555555556,
                            "#d8576b"
                          ],
                          [
                            0.6666666666666666,
                            "#ed7953"
                          ],
                          [
                            0.7777777777777778,
                            "#fb9f3a"
                          ],
                          [
                            0.8888888888888888,
                            "#fdca26"
                          ],
                          [
                            1,
                            "#f0f921"
                          ]
                        ],
                        "type": "heatmap"
                      }
                    ],
                    "heatmapgl": [
                      {
                        "colorbar": {
                          "outlinewidth": 0,
                          "ticks": ""
                        },
                        "colorscale": [
                          [
                            0,
                            "#0d0887"
                          ],
                          [
                            0.1111111111111111,
                            "#46039f"
                          ],
                          [
                            0.2222222222222222,
                            "#7201a8"
                          ],
                          [
                            0.3333333333333333,
                            "#9c179e"
                          ],
                          [
                            0.4444444444444444,
                            "#bd3786"
                          ],
                          [
                            0.5555555555555556,
                            "#d8576b"
                          ],
                          [
                            0.6666666666666666,
                            "#ed7953"
                          ],
                          [
                            0.7777777777777778,
                            "#fb9f3a"
                          ],
                          [
                            0.8888888888888888,
                            "#fdca26"
                          ],
                          [
                            1,
                            "#f0f921"
                          ]
                        ],
                        "type": "heatmapgl"
                      }
                    ],
                    "histogram": [
                      {
                        "marker": {
                          "pattern": {
                            "fillmode": "overlay",
                            "size": 10,
                            "solidity": 0.2
                          }
                        },
                        "type": "histogram"
                      }
                    ],
                    "histogram2d": [
                      {
                        "colorbar": {
                          "outlinewidth": 0,
                          "ticks": ""
                        },
                        "colorscale": [
                          [
                            0,
                            "#0d0887"
                          ],
                          [
                            0.1111111111111111,
                            "#46039f"
                          ],
                          [
                            0.2222222222222222,
                            "#7201a8"
                          ],
                          [
                            0.3333333333333333,
                            "#9c179e"
                          ],
                          [
                            0.4444444444444444,
                            "#bd3786"
                          ],
                          [
                            0.5555555555555556,
                            "#d8576b"
                          ],
                          [
                            0.6666666666666666,
                            "#ed7953"
                          ],
                          [
                            0.7777777777777778,
                            "#fb9f3a"
                          ],
                          [
                            0.8888888888888888,
                            "#fdca26"
                          ],
                          [
                            1,
                            "#f0f921"
                          ]
                        ],
                        "type": "histogram2d"
                      }
                    ],
                    "histogram2dcontour": [
                      {
                        "colorbar": {
                          "outlinewidth": 0,
                          "ticks": ""
                        },
                        "colorscale": [
                          [
                            0,
                            "#0d0887"
                          ],
                          [
                            0.1111111111111111,
                            "#46039f"
                          ],
                          [
                            0.2222222222222222,
                            "#7201a8"
                          ],
                          [
                            0.3333333333333333,
                            "#9c179e"
                          ],
                          [
                            0.4444444444444444,
                            "#bd3786"
                          ],
                          [
                            0.5555555555555556,
                            "#d8576b"
                          ],
                          [
                            0.6666666666666666,
                            "#ed7953"
                          ],
                          [
                            0.7777777777777778,
                            "#fb9f3a"
                          ],
                          [
                            0.8888888888888888,
                            "#fdca26"
                          ],
                          [
                            1,
                            "#f0f921"
                          ]
                        ],
                        "type": "histogram2dcontour"
                      }
                    ],
                    "mesh3d": [
                      {
                        "colorbar": {
                          "outlinewidth": 0,
                          "ticks": ""
                        },
                        "type": "mesh3d"
                      }
                    ],
                    "parcoords": [
                      {
                        "line": {
                          "colorbar": {
                            "outlinewidth": 0,
                            "ticks": ""
                          }
                        },
                        "type": "parcoords"
                      }
                    ],
                    "pie": [
                      {
                        "automargin": true,
                        "type": "pie"
                      }
                    ],
                    "scatter": [
                      {
                        "fillpattern": {
                          "fillmode": "overlay",
                          "size": 10,
                          "solidity": 0.2
                        },
                        "type": "scatter"
                      }
                    ],
                    "scatter3d": [
                      {
                        "line": {
                          "colorbar": {
                            "outlinewidth": 0,
                            "ticks": ""
                          }
                        },
                        "marker": {
                          "colorbar": {
                            "outlinewidth": 0,
                            "ticks": ""
                          }
                        },
                        "type": "scatter3d"
                      }
                    ],
                    "scattercarpet": [
                      {
                        "marker": {
                          "colorbar": {
                            "outlinewidth": 0,
                            "ticks": ""
                          }
                        },
                        "type": "scattercarpet"
                      }
                    ],
                    "scattergeo": [
                      {
                        "marker": {
                          "colorbar": {
                            "outlinewidth": 0,
                            "ticks": ""
                          }
                        },
                        "type": "scattergeo"
                      }
                    ],
                    "scattergl": [
                      {
                        "marker": {
                          "colorbar": {
                            "outlinewidth": 0,
                            "ticks": ""
                          }
                        },
                        "type": "scattergl"
                      }
                    ],
                    "scattermapbox": [
                      {
                        "marker": {
                          "colorbar": {
                            "outlinewidth": 0,
                            "ticks": ""
                          }
                        },
                        "type": "scattermapbox"
                      }
                    ],
                    "scatterpolar": [
                      {
                        "marker": {
                          "colorbar": {
                            "outlinewidth": 0,
                            "ticks": ""
                          }
                        },
                        "type": "scatterpolar"
                      }
                    ],
                    "scatterpolargl": [
                      {
                        "marker": {
                          "colorbar": {
                            "outlinewidth": 0,
                            "ticks": ""
                          }
                        },
                        "type": "scatterpolargl"
                      }
                    ],
                    "scatterternary": [
                      {
                        "marker": {
                          "colorbar": {
                            "outlinewidth": 0,
                            "ticks": ""
                          }
                        },
                        "type": "scatterternary"
                      }
                    ],
                    "surface": [
                      {
                        "colorbar": {
                          "outlinewidth": 0,
                          "ticks": ""
                        },
                        "colorscale": [
                          [
                            0,
                            "#0d0887"
                          ],
                          [
                            0.1111111111111111,
                            "#46039f"
                          ],
                          [
                            0.2222222222222222,
                            "#7201a8"
                          ],
                          [
                            0.3333333333333333,
                            "#9c179e"
                          ],
                          [
                            0.4444444444444444,
                            "#bd3786"
                          ],
                          [
                            0.5555555555555556,
                            "#d8576b"
                          ],
                          [
                            0.6666666666666666,
                            "#ed7953"
                          ],
                          [
                            0.7777777777777778,
                            "#fb9f3a"
                          ],
                          [
                            0.8888888888888888,
                            "#fdca26"
                          ],
                          [
                            1,
                            "#f0f921"
                          ]
                        ],
                        "type": "surface"
                      }
                    ],
                    "table": [
                      {
                        "cells": {
                          "fill": {
                            "color": "#EBF0F8"
                          },
                          "line": {
                            "color": "white"
                          }
                        },
                        "header": {
                          "fill": {
                            "color": "#C8D4E3"
                          },
                          "line": {
                            "color": "white"
                          }
                        },
                        "type": "table"
                      }
                    ]
                  },
                  "layout": {
                    "annotationdefaults": {
                      "arrowcolor": "#2a3f5f",
                      "arrowhead": 0,
                      "arrowwidth": 1
                    },
                    "autotypenumbers": "strict",
                    "coloraxis": {
                      "colorbar": {
                        "outlinewidth": 0,
                        "ticks": ""
                      }
                    },
                    "colorscale": {
                      "diverging": [
                        [
                          0,
                          "#8e0152"
                        ],
                        [
                          0.1,
                          "#c51b7d"
                        ],
                        [
                          0.2,
                          "#de77ae"
                        ],
                        [
                          0.3,
                          "#f1b6da"
                        ],
                        [
                          0.4,
                          "#fde0ef"
                        ],
                        [
                          0.5,
                          "#f7f7f7"
                        ],
                        [
                          0.6,
                          "#e6f5d0"
                        ],
                        [
                          0.7,
                          "#b8e186"
                        ],
                        [
                          0.8,
                          "#7fbc41"
                        ],
                        [
                          0.9,
                          "#4d9221"
                        ],
                        [
                          1,
                          "#276419"
                        ]
                      ],
                      "sequential": [
                        [
                          0,
                          "#0d0887"
                        ],
                        [
                          0.1111111111111111,
                          "#46039f"
                        ],
                        [
                          0.2222222222222222,
                          "#7201a8"
                        ],
                        [
                          0.3333333333333333,
                          "#9c179e"
                        ],
                        [
                          0.4444444444444444,
                          "#bd3786"
                        ],
                        [
                          0.5555555555555556,
                          "#d8576b"
                        ],
                        [
                          0.6666666666666666,
                          "#ed7953"
                        ],
                        [
                          0.7777777777777778,
                          "#fb9f3a"
                        ],
                        [
                          0.8888888888888888,
                          "#fdca26"
                        ],
                        [
                          1,
                          "#f0f921"
                        ]
                      ],
                      "sequentialminus": [
                        [
                          0,
                          "#0d0887"
                        ],
                        [
                          0.1111111111111111,
                          "#46039f"
                        ],
                        [
                          0.2222222222222222,
                          "#7201a8"
                        ],
                        [
                          0.3333333333333333,
                          "#9c179e"
                        ],
                        [
                          0.4444444444444444,
                          "#bd3786"
                        ],
                        [
                          0.5555555555555556,
                          "#d8576b"
                        ],
                        [
                          0.6666666666666666,
                          "#ed7953"
                        ],
                        [
                          0.7777777777777778,
                          "#fb9f3a"
                        ],
                        [
                          0.8888888888888888,
                          "#fdca26"
                        ],
                        [
                          1,
                          "#f0f921"
                        ]
                      ]
                    },
                    "colorway": [
                      "#636efa",
                      "#EF553B",
                      "#00cc96",
                      "#ab63fa",
                      "#FFA15A",
                      "#19d3f3",
                      "#FF6692",
                      "#B6E880",
                      "#FF97FF",
                      "#FECB52"
                    ],
                    "font": {
                      "color": "#2a3f5f"
                    },
                    "geo": {
                      "bgcolor": "white",
                      "lakecolor": "white",
                      "landcolor": "white",
                      "showlakes": true,
                      "showland": true,
                      "subunitcolor": "#C8D4E3"
                    },
                    "hoverlabel": {
                      "align": "left"
                    },
                    "hovermode": "closest",
                    "mapbox": {
                      "style": "light"
                    },
                    "paper_bgcolor": "white",
                    "plot_bgcolor": "white",
                    "polar": {
                      "angularaxis": {
                        "gridcolor": "#EBF0F8",
                        "linecolor": "#EBF0F8",
                        "ticks": ""
                      },
                      "bgcolor": "white",
                      "radialaxis": {
                        "gridcolor": "#EBF0F8",
                        "linecolor": "#EBF0F8",
                        "ticks": ""
                      }
                    },
                    "scene": {
                      "xaxis": {
                        "backgroundcolor": "white",
                        "gridcolor": "#DFE8F3",
                        "gridwidth": 2,
                        "linecolor": "#EBF0F8",
                        "showbackground": true,
                        "ticks": "",
                        "zerolinecolor": "#EBF0F8"
                      },
                      "yaxis": {
                        "backgroundcolor": "white",
                        "gridcolor": "#DFE8F3",
                        "gridwidth": 2,
                        "linecolor": "#EBF0F8",
                        "showbackground": true,
                        "ticks": "",
                        "zerolinecolor": "#EBF0F8"
                      },
                      "zaxis": {
                        "backgroundcolor": "white",
                        "gridcolor": "#DFE8F3",
                        "gridwidth": 2,
                        "linecolor": "#EBF0F8",
                        "showbackground": true,
                        "ticks": "",
                        "zerolinecolor": "#EBF0F8"
                      }
                    },
                    "shapedefaults": {
                      "line": {
                        "color": "#2a3f5f"
                      }
                    },
                    "ternary": {
                      "aaxis": {
                        "gridcolor": "#DFE8F3",
                        "linecolor": "#A2B1C6",
                        "ticks": ""
                      },
                      "baxis": {
                        "gridcolor": "#DFE8F3",
                        "linecolor": "#A2B1C6",
                        "ticks": ""
                      },
                      "bgcolor": "white",
                      "caxis": {
                        "gridcolor": "#DFE8F3",
                        "linecolor": "#A2B1C6",
                        "ticks": ""
                      }
                    },
                    "title": {
                      "x": 0.05
                    },
                    "xaxis": {
                      "automargin": true,
                      "gridcolor": "#EBF0F8",
                      "linecolor": "#EBF0F8",
                      "ticks": "",
                      "title": {
                        "standoff": 15
                      },
                      "zerolinecolor": "#EBF0F8",
                      "zerolinewidth": 2
                    },
                    "yaxis": {
                      "automargin": true,
                      "gridcolor": "#EBF0F8",
                      "linecolor": "#EBF0F8",
                      "ticks": "",
                      "title": {
                        "standoff": 15
                      },
                      "zerolinecolor": "#EBF0F8",
                      "zerolinewidth": 2
                    }
                  }
                },
                "title": {
                  "text": "Violin plot of the pareto solutions for each epoch (10 epochs) for the cost objective"
                },
                "violinmode": "group",
                "xaxis": {
                  "anchor": "y",
                  "domain": [
                    0,
                    1
                  ],
                  "title": {
                    "text": "Epoch"
                  }
                },
                "yaxis": {
                  "anchor": "x",
                  "domain": [
                    0,
                    1
                  ],
                  "title": {
                    "text": "Cost (€)"
                  }
                }
              }
            }
          },
          "metadata": {},
          "output_type": "display_data"
        },
        {
          "data": {
            "application/vnd.plotly.v1+json": {
              "config": {
                "plotlyServerURL": "https://plot.ly"
              },
              "data": [
                {
                  "alignmentgroup": "True",
                  "box": {
                    "visible": true
                  },
                  "hovertemplate": "Epoch=%{x}<br>Value=%{y}<extra></extra>",
                  "legendgroup": "",
                  "marker": {
                    "color": "#1f77b4"
                  },
                  "name": "",
                  "offsetgroup": "",
                  "orientation": "v",
                  "points": false,
                  "scalegroup": "True",
                  "showlegend": false,
                  "type": "violin",
                  "x": [
                    "1",
                    "1",
                    "2",
                    "2",
                    "2",
                    "3",
                    "3",
                    "3",
                    "3",
                    "4",
                    "4",
                    "4",
                    "4",
                    "4",
                    "5",
                    "5",
                    "6",
                    "6",
                    "6",
                    "6",
                    "6",
                    "7",
                    "7",
                    "8",
                    "8",
                    "8",
                    "8",
                    "9",
                    "9",
                    "9",
                    "9",
                    "9",
                    "9",
                    "10",
                    "10",
                    "10",
                    "10",
                    "10",
                    "10",
                    "10",
                    "11",
                    "11",
                    "11",
                    "11",
                    "11",
                    "11",
                    "11",
                    "11",
                    "11",
                    "11",
                    "12",
                    "12",
                    "12",
                    "12",
                    "12",
                    "12",
                    "13",
                    "13",
                    "13",
                    "13",
                    "14",
                    "14",
                    "15",
                    "15",
                    "15",
                    "15",
                    "16",
                    "16",
                    "16",
                    "17",
                    "17",
                    "17",
                    "18",
                    "18",
                    "18",
                    "19",
                    "19",
                    "19",
                    "19",
                    "20",
                    "20",
                    "20",
                    "20",
                    "21",
                    "21",
                    "21",
                    "21",
                    "22",
                    "22",
                    "22",
                    "22",
                    "23",
                    "23",
                    "23",
                    "23",
                    "24",
                    "24",
                    "24",
                    "24",
                    "25",
                    "25",
                    "25",
                    "25",
                    "26",
                    "26",
                    "26",
                    "26",
                    "27",
                    "27",
                    "27",
                    "27",
                    "28",
                    "28",
                    "28",
                    "28",
                    "29",
                    "29",
                    "29",
                    "29",
                    "30",
                    "30",
                    "30",
                    "30",
                    "31",
                    "31",
                    "31",
                    "31",
                    "32",
                    "32",
                    "32",
                    "32",
                    "32",
                    "33",
                    "33",
                    "33",
                    "33",
                    "33",
                    "34",
                    "34",
                    "34",
                    "34",
                    "34",
                    "35",
                    "35",
                    "35",
                    "35",
                    "35",
                    "36",
                    "36",
                    "36",
                    "36",
                    "36",
                    "37",
                    "37",
                    "37",
                    "37",
                    "37",
                    "38",
                    "38",
                    "38",
                    "38",
                    "38",
                    "39",
                    "39",
                    "39",
                    "39",
                    "39",
                    "40",
                    "40",
                    "40",
                    "40",
                    "40",
                    "41",
                    "41",
                    "41",
                    "41",
                    "41",
                    "42",
                    "42",
                    "42",
                    "42",
                    "42",
                    "43",
                    "43",
                    "43",
                    "43",
                    "43",
                    "44",
                    "44",
                    "44",
                    "44",
                    "44",
                    "45",
                    "45",
                    "45",
                    "45",
                    "45",
                    "46",
                    "46",
                    "46",
                    "46",
                    "46",
                    "47",
                    "47",
                    "47",
                    "47",
                    "47",
                    "48",
                    "48",
                    "48",
                    "48",
                    "48",
                    "49",
                    "49",
                    "49",
                    "49",
                    "49",
                    "50",
                    "50",
                    "50",
                    "50",
                    "50",
                    "51",
                    "51",
                    "51",
                    "51",
                    "51",
                    "52",
                    "52",
                    "52",
                    "52",
                    "52",
                    "53",
                    "53",
                    "53",
                    "53",
                    "53",
                    "54",
                    "54",
                    "54",
                    "54",
                    "54",
                    "55",
                    "55",
                    "55",
                    "55",
                    "55",
                    "56",
                    "56",
                    "56",
                    "56",
                    "56",
                    "57",
                    "57",
                    "57",
                    "57",
                    "57",
                    "58",
                    "58",
                    "58",
                    "58",
                    "58",
                    "59",
                    "59",
                    "59",
                    "59",
                    "59",
                    "60",
                    "60",
                    "60",
                    "60",
                    "60",
                    "61",
                    "61",
                    "61",
                    "61",
                    "61",
                    "62",
                    "62",
                    "62",
                    "62",
                    "62",
                    "63",
                    "63",
                    "63",
                    "63",
                    "63",
                    "64",
                    "64",
                    "64",
                    "64",
                    "64",
                    "65",
                    "65",
                    "65",
                    "65",
                    "65",
                    "66",
                    "66",
                    "66",
                    "66",
                    "66",
                    "67",
                    "67",
                    "67",
                    "67",
                    "67",
                    "68",
                    "68",
                    "68",
                    "68",
                    "68",
                    "69",
                    "69",
                    "69",
                    "69",
                    "69",
                    "70",
                    "70",
                    "70",
                    "70",
                    "70",
                    "71",
                    "71",
                    "71",
                    "71",
                    "71",
                    "72",
                    "72",
                    "72",
                    "72",
                    "72",
                    "73",
                    "73",
                    "73",
                    "73",
                    "73",
                    "74",
                    "74",
                    "74",
                    "74",
                    "74",
                    "75",
                    "75",
                    "75",
                    "75",
                    "75",
                    "76",
                    "76",
                    "76",
                    "76",
                    "76",
                    "77",
                    "77",
                    "77",
                    "77",
                    "77",
                    "78",
                    "78",
                    "78",
                    "78",
                    "78",
                    "79",
                    "79",
                    "79",
                    "79",
                    "79",
                    "80",
                    "80",
                    "80",
                    "80",
                    "80",
                    "81",
                    "81",
                    "81",
                    "81",
                    "81",
                    "82",
                    "82",
                    "82",
                    "82",
                    "82",
                    "83",
                    "83",
                    "83",
                    "83",
                    "83",
                    "84",
                    "84",
                    "84",
                    "84",
                    "84",
                    "85",
                    "85",
                    "85",
                    "85",
                    "86",
                    "86",
                    "86",
                    "86",
                    "86",
                    "87",
                    "87",
                    "87",
                    "87",
                    "87",
                    "88",
                    "88",
                    "88",
                    "88",
                    "88",
                    "89",
                    "89",
                    "89",
                    "89",
                    "89",
                    "90",
                    "90",
                    "90",
                    "90",
                    "90",
                    "91",
                    "91",
                    "91",
                    "91",
                    "91",
                    "92",
                    "92",
                    "92",
                    "92",
                    "92",
                    "93",
                    "93",
                    "93",
                    "93",
                    "93",
                    "94",
                    "94",
                    "94",
                    "94",
                    "94",
                    "95",
                    "95",
                    "95",
                    "95",
                    "95",
                    "96",
                    "96",
                    "96",
                    "96",
                    "96",
                    "97",
                    "97",
                    "97",
                    "97",
                    "97",
                    "98",
                    "98",
                    "98",
                    "98",
                    "98",
                    "99",
                    "99",
                    "99",
                    "99",
                    "99",
                    "100",
                    "100",
                    "100",
                    "100",
                    "100"
                  ],
                  "x0": " ",
                  "xaxis": "x",
                  "y": [
                    7043723.922769123,
                    6366876.37347787,
                    7043723.922769123,
                    6366876.37347787,
                    7147775.901936814,
                    6366876.37347787,
                    7147775.901936814,
                    6066221.100457333,
                    8332544.380236259,
                    6366876.37347787,
                    7147775.901936814,
                    6066221.100457333,
                    8332544.380236259,
                    5495148.539253393,
                    5889804.579665774,
                    4108675.44263884,
                    5889804.579665774,
                    4108675.44263884,
                    7766175.91302177,
                    6115138.230947617,
                    6089841.54377085,
                    4099983.8642510525,
                    3899400.3648887244,
                    4099983.8642510525,
                    2995767.929654794,
                    3617218.3387696855,
                    1276603.134376015,
                    4099983.8642510525,
                    1276603.134376015,
                    2995767.929654794,
                    3617218.3387696855,
                    3438563.998887173,
                    2521325.1337731946,
                    4099983.8642510525,
                    1276603.134376015,
                    3438563.998887173,
                    2995767.929654794,
                    3617218.3387696855,
                    2521325.1337731946,
                    2374010.2704671375,
                    4099983.8642510525,
                    1276603.134376015,
                    3438563.998887173,
                    2374010.2704671375,
                    2995767.929654794,
                    3617218.3387696855,
                    2521325.1337731946,
                    3326958.0183375604,
                    2860692.1684949626,
                    2528906.995699654,
                    1276603.134376015,
                    2374010.2704671375,
                    3617218.3387696855,
                    2521325.1337731946,
                    2528906.995699654,
                    2650703.2634624382,
                    1276603.134376015,
                    2650703.2634624382,
                    1296197.1589733134,
                    1333877.7914151354,
                    2650703.2634624382,
                    1084703.4838209925,
                    2650703.2634624382,
                    1084703.4838209925,
                    1025688.9325299804,
                    1484628.8037291132,
                    2650703.2634624382,
                    1484628.8037291132,
                    707765.2179941166,
                    2650703.2634624382,
                    1484628.8037291132,
                    707765.2179941166,
                    2650703.2634624382,
                    1484628.8037291132,
                    707765.2179941166,
                    1484628.8037291132,
                    707765.2179941166,
                    921763.9088428498,
                    507312.5040176779,
                    1484628.8037291132,
                    707765.2179941166,
                    921763.9088428498,
                    507312.5040176779,
                    1484628.8037291132,
                    707765.2179941166,
                    921763.9088428498,
                    507312.5040176779,
                    1484628.8037291132,
                    707765.2179941166,
                    921763.9088428498,
                    507312.5040176779,
                    1484628.8037291132,
                    707765.2179941166,
                    921763.9088428498,
                    507312.5040176779,
                    1484628.8037291132,
                    707765.2179941166,
                    921763.9088428498,
                    507312.5040176779,
                    1484628.8037291132,
                    707765.2179941166,
                    921763.9088428498,
                    507312.5040176779,
                    1484628.8037291132,
                    707765.2179941166,
                    921763.9088428498,
                    507312.5040176779,
                    1484628.8037291132,
                    707765.2179941166,
                    921763.9088428498,
                    507312.5040176779,
                    1484628.8037291132,
                    707765.2179941166,
                    921763.9088428498,
                    507312.5040176779,
                    1484628.8037291132,
                    707765.2179941166,
                    921763.9088428498,
                    507312.5040176779,
                    1484628.8037291132,
                    707765.2179941166,
                    921763.9088428498,
                    507312.5040176779,
                    1484628.8037291132,
                    707765.2179941166,
                    921763.9088428498,
                    507312.5040176779,
                    1484628.8037291132,
                    707765.2179941166,
                    921763.9088428498,
                    507312.5040176779,
                    545326.5139732591,
                    1484628.8037291132,
                    707765.2179941166,
                    921763.9088428498,
                    507312.5040176779,
                    545326.5139732591,
                    1484628.8037291132,
                    707765.2179941166,
                    921763.9088428498,
                    507312.5040176779,
                    545326.5139732591,
                    1484628.8037291132,
                    707765.2179941166,
                    921763.9088428498,
                    507312.5040176779,
                    545326.5139732591,
                    1484628.8037291132,
                    707765.2179941166,
                    921763.9088428498,
                    507312.5040176779,
                    545326.5139732591,
                    1484628.8037291132,
                    707765.2179941166,
                    921763.9088428498,
                    507312.5040176779,
                    545326.5139732591,
                    1484628.8037291132,
                    707765.2179941166,
                    921763.9088428498,
                    507312.5040176779,
                    545326.5139732591,
                    1484628.8037291132,
                    707765.2179941166,
                    921763.9088428498,
                    507312.5040176779,
                    545326.5139732591,
                    1484628.8037291132,
                    707765.2179941166,
                    921763.9088428498,
                    507312.5040176779,
                    545326.5139732591,
                    1484628.8037291132,
                    707765.2179941166,
                    921763.9088428498,
                    507312.5040176779,
                    545326.5139732591,
                    1484628.8037291132,
                    707765.2179941166,
                    921763.9088428498,
                    507312.5040176779,
                    545326.5139732591,
                    1484628.8037291132,
                    707765.2179941166,
                    921763.9088428498,
                    507312.5040176779,
                    545326.5139732591,
                    1484628.8037291132,
                    707765.2179941166,
                    921763.9088428498,
                    507312.5040176779,
                    545326.5139732591,
                    1484628.8037291132,
                    707765.2179941166,
                    921763.9088428498,
                    507312.5040176779,
                    545326.5139732591,
                    1484628.8037291132,
                    707765.2179941166,
                    921763.9088428498,
                    507312.5040176779,
                    545326.5139732591,
                    1484628.8037291132,
                    707765.2179941166,
                    921763.9088428498,
                    507312.5040176779,
                    545326.5139732591,
                    1484628.8037291132,
                    707765.2179941166,
                    921763.9088428498,
                    507312.5040176779,
                    545326.5139732591,
                    1484628.8037291132,
                    707765.2179941166,
                    921763.9088428498,
                    507312.5040176779,
                    545326.5139732591,
                    1484628.8037291132,
                    707765.2179941166,
                    921763.9088428498,
                    507312.5040176779,
                    545326.5139732591,
                    1484628.8037291132,
                    707765.2179941166,
                    921763.9088428498,
                    507312.5040176779,
                    545326.5139732591,
                    1484628.8037291132,
                    707765.2179941166,
                    921763.9088428498,
                    507312.5040176779,
                    545326.5139732591,
                    1484628.8037291132,
                    707765.2179941166,
                    921763.9088428498,
                    507312.5040176779,
                    545326.5139732591,
                    1484628.8037291132,
                    707765.2179941166,
                    921763.9088428498,
                    507312.5040176779,
                    545326.5139732591,
                    1484628.8037291132,
                    707765.2179941166,
                    921763.9088428498,
                    507312.5040176779,
                    545326.5139732591,
                    1484628.8037291132,
                    707765.2179941166,
                    921763.9088428498,
                    507312.5040176779,
                    545326.5139732591,
                    1484628.8037291132,
                    707765.2179941166,
                    921763.9088428498,
                    507312.5040176779,
                    545326.5139732591,
                    1484628.8037291132,
                    707765.2179941166,
                    921763.9088428498,
                    507312.5040176779,
                    545326.5139732591,
                    1484628.8037291132,
                    707765.2179941166,
                    921763.9088428498,
                    507312.5040176779,
                    545326.5139732591,
                    1484628.8037291132,
                    707765.2179941166,
                    921763.9088428498,
                    507312.5040176779,
                    545326.5139732591,
                    1484628.8037291132,
                    707765.2179941166,
                    921763.9088428498,
                    507312.5040176779,
                    545326.5139732591,
                    1484628.8037291132,
                    707765.2179941166,
                    921763.9088428498,
                    507312.5040176779,
                    545326.5139732591,
                    1484628.8037291132,
                    707765.2179941166,
                    921763.9088428498,
                    507312.5040176779,
                    545326.5139732591,
                    1484628.8037291132,
                    707765.2179941166,
                    921763.9088428498,
                    507312.5040176779,
                    545326.5139732591,
                    1484628.8037291132,
                    707765.2179941166,
                    921763.9088428498,
                    507312.5040176779,
                    545326.5139732591,
                    1484628.8037291132,
                    707765.2179941166,
                    921763.9088428498,
                    507312.5040176779,
                    545326.5139732591,
                    1484628.8037291132,
                    707765.2179941166,
                    921763.9088428498,
                    507312.5040176779,
                    545326.5139732591,
                    1484628.8037291132,
                    707765.2179941166,
                    921763.9088428498,
                    507312.5040176779,
                    545326.5139732591,
                    1484628.8037291132,
                    707765.2179941166,
                    921763.9088428498,
                    507312.5040176779,
                    545326.5139732591,
                    1484628.8037291132,
                    707765.2179941166,
                    921763.9088428498,
                    507312.5040176779,
                    545326.5139732591,
                    1484628.8037291132,
                    707765.2179941166,
                    921763.9088428498,
                    507312.5040176779,
                    545326.5139732591,
                    1484628.8037291132,
                    707765.2179941166,
                    921763.9088428498,
                    507312.5040176779,
                    545326.5139732591,
                    1484628.8037291132,
                    707765.2179941166,
                    921763.9088428498,
                    507312.5040176779,
                    545326.5139732591,
                    1484628.8037291132,
                    707765.2179941166,
                    921763.9088428498,
                    507312.5040176779,
                    545326.5139732591,
                    1484628.8037291132,
                    707765.2179941166,
                    921763.9088428498,
                    507312.5040176779,
                    545326.5139732591,
                    1484628.8037291132,
                    707765.2179941166,
                    921763.9088428498,
                    507312.5040176779,
                    545326.5139732591,
                    1484628.8037291132,
                    707765.2179941166,
                    921763.9088428498,
                    507312.5040176779,
                    545326.5139732591,
                    1484628.8037291132,
                    707765.2179941166,
                    921763.9088428498,
                    507312.5040176779,
                    545326.5139732591,
                    1484628.8037291132,
                    707765.2179941166,
                    921763.9088428498,
                    507312.5040176779,
                    545326.5139732591,
                    1484628.8037291132,
                    707765.2179941166,
                    921763.9088428498,
                    507312.5040176779,
                    545326.5139732591,
                    1484628.8037291132,
                    707765.2179941166,
                    921763.9088428498,
                    507312.5040176779,
                    545326.5139732591,
                    1484628.8037291132,
                    707765.2179941166,
                    921763.9088428498,
                    507312.5040176779,
                    545326.5139732591,
                    1484628.8037291132,
                    707765.2179941166,
                    921763.9088428498,
                    507312.5040176779,
                    545326.5139732591,
                    1484628.8037291132,
                    707765.2179941166,
                    921763.9088428498,
                    507312.5040176779,
                    545326.5139732591,
                    1484628.8037291132,
                    707765.2179941166,
                    921763.9088428498,
                    545326.5139732591,
                    1484628.8037291132,
                    707765.2179941166,
                    921763.9088428498,
                    507312.5040176779,
                    545326.5139732591,
                    1484628.8037291132,
                    707765.2179941166,
                    921763.9088428498,
                    507312.5040176779,
                    545326.5139732591,
                    1484628.8037291132,
                    707765.2179941166,
                    921763.9088428498,
                    507312.5040176779,
                    545326.5139732591,
                    1484628.8037291132,
                    707765.2179941166,
                    921763.9088428498,
                    507312.5040176779,
                    545326.5139732591,
                    1484628.8037291132,
                    707765.2179941166,
                    921763.9088428498,
                    507312.5040176779,
                    545326.5139732591,
                    1484628.8037291132,
                    707765.2179941166,
                    921763.9088428498,
                    507312.5040176779,
                    545326.5139732591,
                    1484628.8037291132,
                    707765.2179941166,
                    921763.9088428498,
                    507312.5040176779,
                    545326.5139732591,
                    1484628.8037291132,
                    707765.2179941166,
                    921763.9088428498,
                    507312.5040176779,
                    545326.5139732591,
                    1484628.8037291132,
                    707765.2179941166,
                    921763.9088428498,
                    507312.5040176779,
                    545326.5139732591,
                    1484628.8037291132,
                    707765.2179941166,
                    921763.9088428498,
                    507312.5040176779,
                    545326.5139732591,
                    1484628.8037291132,
                    707765.2179941166,
                    921763.9088428498,
                    507312.5040176779,
                    545326.5139732591,
                    1484628.8037291132,
                    707765.2179941166,
                    921763.9088428498,
                    507312.5040176779,
                    545326.5139732591,
                    1484628.8037291132,
                    707765.2179941166,
                    921763.9088428498,
                    507312.5040176779,
                    545326.5139732591,
                    1484628.8037291132,
                    707765.2179941166,
                    921763.9088428498,
                    507312.5040176779,
                    545326.5139732591,
                    1484628.8037291132,
                    707765.2179941166,
                    921763.9088428498,
                    507312.5040176779,
                    545326.5139732591
                  ],
                  "y0": " ",
                  "yaxis": "y"
                }
              ],
              "layout": {
                "font": {
                  "family": "Times New Roman",
                  "size": 12
                },
                "legend": {
                  "tracegroupgap": 0
                },
                "margin": {
                  "t": 60
                },
                "template": {
                  "data": {
                    "bar": [
                      {
                        "error_x": {
                          "color": "#2a3f5f"
                        },
                        "error_y": {
                          "color": "#2a3f5f"
                        },
                        "marker": {
                          "line": {
                            "color": "white",
                            "width": 0.5
                          },
                          "pattern": {
                            "fillmode": "overlay",
                            "size": 10,
                            "solidity": 0.2
                          }
                        },
                        "type": "bar"
                      }
                    ],
                    "barpolar": [
                      {
                        "marker": {
                          "line": {
                            "color": "white",
                            "width": 0.5
                          },
                          "pattern": {
                            "fillmode": "overlay",
                            "size": 10,
                            "solidity": 0.2
                          }
                        },
                        "type": "barpolar"
                      }
                    ],
                    "carpet": [
                      {
                        "aaxis": {
                          "endlinecolor": "#2a3f5f",
                          "gridcolor": "#C8D4E3",
                          "linecolor": "#C8D4E3",
                          "minorgridcolor": "#C8D4E3",
                          "startlinecolor": "#2a3f5f"
                        },
                        "baxis": {
                          "endlinecolor": "#2a3f5f",
                          "gridcolor": "#C8D4E3",
                          "linecolor": "#C8D4E3",
                          "minorgridcolor": "#C8D4E3",
                          "startlinecolor": "#2a3f5f"
                        },
                        "type": "carpet"
                      }
                    ],
                    "choropleth": [
                      {
                        "colorbar": {
                          "outlinewidth": 0,
                          "ticks": ""
                        },
                        "type": "choropleth"
                      }
                    ],
                    "contour": [
                      {
                        "colorbar": {
                          "outlinewidth": 0,
                          "ticks": ""
                        },
                        "colorscale": [
                          [
                            0,
                            "#0d0887"
                          ],
                          [
                            0.1111111111111111,
                            "#46039f"
                          ],
                          [
                            0.2222222222222222,
                            "#7201a8"
                          ],
                          [
                            0.3333333333333333,
                            "#9c179e"
                          ],
                          [
                            0.4444444444444444,
                            "#bd3786"
                          ],
                          [
                            0.5555555555555556,
                            "#d8576b"
                          ],
                          [
                            0.6666666666666666,
                            "#ed7953"
                          ],
                          [
                            0.7777777777777778,
                            "#fb9f3a"
                          ],
                          [
                            0.8888888888888888,
                            "#fdca26"
                          ],
                          [
                            1,
                            "#f0f921"
                          ]
                        ],
                        "type": "contour"
                      }
                    ],
                    "contourcarpet": [
                      {
                        "colorbar": {
                          "outlinewidth": 0,
                          "ticks": ""
                        },
                        "type": "contourcarpet"
                      }
                    ],
                    "heatmap": [
                      {
                        "colorbar": {
                          "outlinewidth": 0,
                          "ticks": ""
                        },
                        "colorscale": [
                          [
                            0,
                            "#0d0887"
                          ],
                          [
                            0.1111111111111111,
                            "#46039f"
                          ],
                          [
                            0.2222222222222222,
                            "#7201a8"
                          ],
                          [
                            0.3333333333333333,
                            "#9c179e"
                          ],
                          [
                            0.4444444444444444,
                            "#bd3786"
                          ],
                          [
                            0.5555555555555556,
                            "#d8576b"
                          ],
                          [
                            0.6666666666666666,
                            "#ed7953"
                          ],
                          [
                            0.7777777777777778,
                            "#fb9f3a"
                          ],
                          [
                            0.8888888888888888,
                            "#fdca26"
                          ],
                          [
                            1,
                            "#f0f921"
                          ]
                        ],
                        "type": "heatmap"
                      }
                    ],
                    "heatmapgl": [
                      {
                        "colorbar": {
                          "outlinewidth": 0,
                          "ticks": ""
                        },
                        "colorscale": [
                          [
                            0,
                            "#0d0887"
                          ],
                          [
                            0.1111111111111111,
                            "#46039f"
                          ],
                          [
                            0.2222222222222222,
                            "#7201a8"
                          ],
                          [
                            0.3333333333333333,
                            "#9c179e"
                          ],
                          [
                            0.4444444444444444,
                            "#bd3786"
                          ],
                          [
                            0.5555555555555556,
                            "#d8576b"
                          ],
                          [
                            0.6666666666666666,
                            "#ed7953"
                          ],
                          [
                            0.7777777777777778,
                            "#fb9f3a"
                          ],
                          [
                            0.8888888888888888,
                            "#fdca26"
                          ],
                          [
                            1,
                            "#f0f921"
                          ]
                        ],
                        "type": "heatmapgl"
                      }
                    ],
                    "histogram": [
                      {
                        "marker": {
                          "pattern": {
                            "fillmode": "overlay",
                            "size": 10,
                            "solidity": 0.2
                          }
                        },
                        "type": "histogram"
                      }
                    ],
                    "histogram2d": [
                      {
                        "colorbar": {
                          "outlinewidth": 0,
                          "ticks": ""
                        },
                        "colorscale": [
                          [
                            0,
                            "#0d0887"
                          ],
                          [
                            0.1111111111111111,
                            "#46039f"
                          ],
                          [
                            0.2222222222222222,
                            "#7201a8"
                          ],
                          [
                            0.3333333333333333,
                            "#9c179e"
                          ],
                          [
                            0.4444444444444444,
                            "#bd3786"
                          ],
                          [
                            0.5555555555555556,
                            "#d8576b"
                          ],
                          [
                            0.6666666666666666,
                            "#ed7953"
                          ],
                          [
                            0.7777777777777778,
                            "#fb9f3a"
                          ],
                          [
                            0.8888888888888888,
                            "#fdca26"
                          ],
                          [
                            1,
                            "#f0f921"
                          ]
                        ],
                        "type": "histogram2d"
                      }
                    ],
                    "histogram2dcontour": [
                      {
                        "colorbar": {
                          "outlinewidth": 0,
                          "ticks": ""
                        },
                        "colorscale": [
                          [
                            0,
                            "#0d0887"
                          ],
                          [
                            0.1111111111111111,
                            "#46039f"
                          ],
                          [
                            0.2222222222222222,
                            "#7201a8"
                          ],
                          [
                            0.3333333333333333,
                            "#9c179e"
                          ],
                          [
                            0.4444444444444444,
                            "#bd3786"
                          ],
                          [
                            0.5555555555555556,
                            "#d8576b"
                          ],
                          [
                            0.6666666666666666,
                            "#ed7953"
                          ],
                          [
                            0.7777777777777778,
                            "#fb9f3a"
                          ],
                          [
                            0.8888888888888888,
                            "#fdca26"
                          ],
                          [
                            1,
                            "#f0f921"
                          ]
                        ],
                        "type": "histogram2dcontour"
                      }
                    ],
                    "mesh3d": [
                      {
                        "colorbar": {
                          "outlinewidth": 0,
                          "ticks": ""
                        },
                        "type": "mesh3d"
                      }
                    ],
                    "parcoords": [
                      {
                        "line": {
                          "colorbar": {
                            "outlinewidth": 0,
                            "ticks": ""
                          }
                        },
                        "type": "parcoords"
                      }
                    ],
                    "pie": [
                      {
                        "automargin": true,
                        "type": "pie"
                      }
                    ],
                    "scatter": [
                      {
                        "fillpattern": {
                          "fillmode": "overlay",
                          "size": 10,
                          "solidity": 0.2
                        },
                        "type": "scatter"
                      }
                    ],
                    "scatter3d": [
                      {
                        "line": {
                          "colorbar": {
                            "outlinewidth": 0,
                            "ticks": ""
                          }
                        },
                        "marker": {
                          "colorbar": {
                            "outlinewidth": 0,
                            "ticks": ""
                          }
                        },
                        "type": "scatter3d"
                      }
                    ],
                    "scattercarpet": [
                      {
                        "marker": {
                          "colorbar": {
                            "outlinewidth": 0,
                            "ticks": ""
                          }
                        },
                        "type": "scattercarpet"
                      }
                    ],
                    "scattergeo": [
                      {
                        "marker": {
                          "colorbar": {
                            "outlinewidth": 0,
                            "ticks": ""
                          }
                        },
                        "type": "scattergeo"
                      }
                    ],
                    "scattergl": [
                      {
                        "marker": {
                          "colorbar": {
                            "outlinewidth": 0,
                            "ticks": ""
                          }
                        },
                        "type": "scattergl"
                      }
                    ],
                    "scattermapbox": [
                      {
                        "marker": {
                          "colorbar": {
                            "outlinewidth": 0,
                            "ticks": ""
                          }
                        },
                        "type": "scattermapbox"
                      }
                    ],
                    "scatterpolar": [
                      {
                        "marker": {
                          "colorbar": {
                            "outlinewidth": 0,
                            "ticks": ""
                          }
                        },
                        "type": "scatterpolar"
                      }
                    ],
                    "scatterpolargl": [
                      {
                        "marker": {
                          "colorbar": {
                            "outlinewidth": 0,
                            "ticks": ""
                          }
                        },
                        "type": "scatterpolargl"
                      }
                    ],
                    "scatterternary": [
                      {
                        "marker": {
                          "colorbar": {
                            "outlinewidth": 0,
                            "ticks": ""
                          }
                        },
                        "type": "scatterternary"
                      }
                    ],
                    "surface": [
                      {
                        "colorbar": {
                          "outlinewidth": 0,
                          "ticks": ""
                        },
                        "colorscale": [
                          [
                            0,
                            "#0d0887"
                          ],
                          [
                            0.1111111111111111,
                            "#46039f"
                          ],
                          [
                            0.2222222222222222,
                            "#7201a8"
                          ],
                          [
                            0.3333333333333333,
                            "#9c179e"
                          ],
                          [
                            0.4444444444444444,
                            "#bd3786"
                          ],
                          [
                            0.5555555555555556,
                            "#d8576b"
                          ],
                          [
                            0.6666666666666666,
                            "#ed7953"
                          ],
                          [
                            0.7777777777777778,
                            "#fb9f3a"
                          ],
                          [
                            0.8888888888888888,
                            "#fdca26"
                          ],
                          [
                            1,
                            "#f0f921"
                          ]
                        ],
                        "type": "surface"
                      }
                    ],
                    "table": [
                      {
                        "cells": {
                          "fill": {
                            "color": "#EBF0F8"
                          },
                          "line": {
                            "color": "white"
                          }
                        },
                        "header": {
                          "fill": {
                            "color": "#C8D4E3"
                          },
                          "line": {
                            "color": "white"
                          }
                        },
                        "type": "table"
                      }
                    ]
                  },
                  "layout": {
                    "annotationdefaults": {
                      "arrowcolor": "#2a3f5f",
                      "arrowhead": 0,
                      "arrowwidth": 1
                    },
                    "autotypenumbers": "strict",
                    "coloraxis": {
                      "colorbar": {
                        "outlinewidth": 0,
                        "ticks": ""
                      }
                    },
                    "colorscale": {
                      "diverging": [
                        [
                          0,
                          "#8e0152"
                        ],
                        [
                          0.1,
                          "#c51b7d"
                        ],
                        [
                          0.2,
                          "#de77ae"
                        ],
                        [
                          0.3,
                          "#f1b6da"
                        ],
                        [
                          0.4,
                          "#fde0ef"
                        ],
                        [
                          0.5,
                          "#f7f7f7"
                        ],
                        [
                          0.6,
                          "#e6f5d0"
                        ],
                        [
                          0.7,
                          "#b8e186"
                        ],
                        [
                          0.8,
                          "#7fbc41"
                        ],
                        [
                          0.9,
                          "#4d9221"
                        ],
                        [
                          1,
                          "#276419"
                        ]
                      ],
                      "sequential": [
                        [
                          0,
                          "#0d0887"
                        ],
                        [
                          0.1111111111111111,
                          "#46039f"
                        ],
                        [
                          0.2222222222222222,
                          "#7201a8"
                        ],
                        [
                          0.3333333333333333,
                          "#9c179e"
                        ],
                        [
                          0.4444444444444444,
                          "#bd3786"
                        ],
                        [
                          0.5555555555555556,
                          "#d8576b"
                        ],
                        [
                          0.6666666666666666,
                          "#ed7953"
                        ],
                        [
                          0.7777777777777778,
                          "#fb9f3a"
                        ],
                        [
                          0.8888888888888888,
                          "#fdca26"
                        ],
                        [
                          1,
                          "#f0f921"
                        ]
                      ],
                      "sequentialminus": [
                        [
                          0,
                          "#0d0887"
                        ],
                        [
                          0.1111111111111111,
                          "#46039f"
                        ],
                        [
                          0.2222222222222222,
                          "#7201a8"
                        ],
                        [
                          0.3333333333333333,
                          "#9c179e"
                        ],
                        [
                          0.4444444444444444,
                          "#bd3786"
                        ],
                        [
                          0.5555555555555556,
                          "#d8576b"
                        ],
                        [
                          0.6666666666666666,
                          "#ed7953"
                        ],
                        [
                          0.7777777777777778,
                          "#fb9f3a"
                        ],
                        [
                          0.8888888888888888,
                          "#fdca26"
                        ],
                        [
                          1,
                          "#f0f921"
                        ]
                      ]
                    },
                    "colorway": [
                      "#636efa",
                      "#EF553B",
                      "#00cc96",
                      "#ab63fa",
                      "#FFA15A",
                      "#19d3f3",
                      "#FF6692",
                      "#B6E880",
                      "#FF97FF",
                      "#FECB52"
                    ],
                    "font": {
                      "color": "#2a3f5f"
                    },
                    "geo": {
                      "bgcolor": "white",
                      "lakecolor": "white",
                      "landcolor": "white",
                      "showlakes": true,
                      "showland": true,
                      "subunitcolor": "#C8D4E3"
                    },
                    "hoverlabel": {
                      "align": "left"
                    },
                    "hovermode": "closest",
                    "mapbox": {
                      "style": "light"
                    },
                    "paper_bgcolor": "white",
                    "plot_bgcolor": "white",
                    "polar": {
                      "angularaxis": {
                        "gridcolor": "#EBF0F8",
                        "linecolor": "#EBF0F8",
                        "ticks": ""
                      },
                      "bgcolor": "white",
                      "radialaxis": {
                        "gridcolor": "#EBF0F8",
                        "linecolor": "#EBF0F8",
                        "ticks": ""
                      }
                    },
                    "scene": {
                      "xaxis": {
                        "backgroundcolor": "white",
                        "gridcolor": "#DFE8F3",
                        "gridwidth": 2,
                        "linecolor": "#EBF0F8",
                        "showbackground": true,
                        "ticks": "",
                        "zerolinecolor": "#EBF0F8"
                      },
                      "yaxis": {
                        "backgroundcolor": "white",
                        "gridcolor": "#DFE8F3",
                        "gridwidth": 2,
                        "linecolor": "#EBF0F8",
                        "showbackground": true,
                        "ticks": "",
                        "zerolinecolor": "#EBF0F8"
                      },
                      "zaxis": {
                        "backgroundcolor": "white",
                        "gridcolor": "#DFE8F3",
                        "gridwidth": 2,
                        "linecolor": "#EBF0F8",
                        "showbackground": true,
                        "ticks": "",
                        "zerolinecolor": "#EBF0F8"
                      }
                    },
                    "shapedefaults": {
                      "line": {
                        "color": "#2a3f5f"
                      }
                    },
                    "ternary": {
                      "aaxis": {
                        "gridcolor": "#DFE8F3",
                        "linecolor": "#A2B1C6",
                        "ticks": ""
                      },
                      "baxis": {
                        "gridcolor": "#DFE8F3",
                        "linecolor": "#A2B1C6",
                        "ticks": ""
                      },
                      "bgcolor": "white",
                      "caxis": {
                        "gridcolor": "#DFE8F3",
                        "linecolor": "#A2B1C6",
                        "ticks": ""
                      }
                    },
                    "title": {
                      "x": 0.05
                    },
                    "xaxis": {
                      "automargin": true,
                      "gridcolor": "#EBF0F8",
                      "linecolor": "#EBF0F8",
                      "ticks": "",
                      "title": {
                        "standoff": 15
                      },
                      "zerolinecolor": "#EBF0F8",
                      "zerolinewidth": 2
                    },
                    "yaxis": {
                      "automargin": true,
                      "gridcolor": "#EBF0F8",
                      "linecolor": "#EBF0F8",
                      "ticks": "",
                      "title": {
                        "standoff": 15
                      },
                      "zerolinecolor": "#EBF0F8",
                      "zerolinewidth": 2
                    }
                  }
                },
                "title": {
                  "text": "Violin plot of the pareto solutions for each epoch (10 epochs) for the pollution objective"
                },
                "violinmode": "group",
                "xaxis": {
                  "anchor": "y",
                  "domain": [
                    0,
                    1
                  ],
                  "title": {
                    "text": "Epoch"
                  }
                },
                "yaxis": {
                  "anchor": "x",
                  "domain": [
                    0,
                    1
                  ],
                  "title": {
                    "text": "Pollution (g)"
                  }
                }
              }
            }
          },
          "metadata": {},
          "output_type": "display_data"
        }
      ],
      "source": [
        "# load pareto data from json\n",
        "for file in os.listdir(PATH.parent / \"paretos\"):\n",
        "    if file.endswith(\".json\"):\n",
        "        # load file as dict\n",
        "        print(file)\n",
        "        with open(PATH.parent / \"paretos\" / file, \"r\") as f:\n",
        "            data = ujson.load(f)\n",
        "        for objective in optimDirections.keys():\n",
        "            # unstack values\n",
        "            df = (\n",
        "                pd.DataFrame.from_dict(data[objective], orient=\"index\")\n",
        "                .stack()\n",
        "                .reset_index()\n",
        "                .rename(columns={\"level_0\": \"Epoch\", 0: \"Value\"})\n",
        "                .drop(columns=\"level_1\")\n",
        "            )\n",
        "            # generate plot\n",
        "            generate_violin_plot(\n",
        "                df,\n",
        "                title=f\"Violin plot of the pareto solutions for each epoch (10 epochs) for the {objective} objective\",\n",
        "                yaxis_title=optimUnits[objective],\n",
        "            )\n"
      ]
    }
  ],
  "metadata": {
    "kernelspec": {
      "display_name": "venv",
      "language": "python",
      "name": "python3"
    },
    "language_info": {
      "codemirror_mode": {
        "name": "ipython",
        "version": 3
      },
      "file_extension": ".py",
      "mimetype": "text/x-python",
      "name": "python",
      "nbconvert_exporter": "python",
      "pygments_lexer": "ipython3",
      "version": "3.10.10"
    },
    "orig_nbformat": 4,
    "vscode": {
      "interpreter": {
        "hash": "e0fd7870c844ce9ebd94db62f42dc1165e727123798b67a6f5059ea7a11ade64"
      }
    }
  },
  "nbformat": 4,
  "nbformat_minor": 2
}
