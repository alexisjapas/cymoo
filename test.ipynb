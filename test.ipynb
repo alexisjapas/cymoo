{
 "cells": [
  {
   "cell_type": "code",
   "execution_count": 1,
   "metadata": {},
   "outputs": [
    {
     "name": "stdout",
     "output_type": "stream",
     "text": [
      "Current path: /Users/eliebrosset/Documents/GitHub/cymoo/src\n"
     ]
    }
   ],
   "source": [
    "import random, pathlib, os\n",
    "import pandas as pd\n",
    "import plotly.express as px\n",
    "\n",
    "# create path to src\n",
    "PATH = pathlib.Path.cwd() / 'src'\n",
    "\n",
    "# set current directory as src\n",
    "os.chdir(PATH)\n",
    "print(f\"Current path: {PATH}\")"
   ]
  },
  {
   "cell_type": "code",
   "execution_count": 2,
   "metadata": {},
   "outputs": [],
   "source": [
    "from math import sqrt\n",
    "from MOO import MOO\n",
    "from optimizers.NSGA2 import NSGA2\n",
    "from optimizers.NSWGE import NSWGE\n",
    "from optimizers.NSRA import NSRA\n",
    "from problems.multitask_routing.Task import Task\n",
    "from problems.multitask_routing.Network import Network\n",
    "from problems.Solution import Solution"
   ]
  },
  {
   "cell_type": "code",
   "execution_count": 3,
   "metadata": {},
   "outputs": [
    {
     "name": "stdout",
     "output_type": "stream",
     "text": [
      "Optimizing with NSGA2...\n"
     ]
    },
    {
     "name": "stderr",
     "output_type": "stream",
     "text": [
      "100%|██████████| 10/10 [00:05<00:00,  1.77it/s]\n"
     ]
    },
    {
     "name": "stdout",
     "output_type": "stream",
     "text": [
      "Displaying pareto solutions...\n",
      "{'processingTime': 14958.443035725306, 'cost': 37080.51372021579, 'pollution': 36069.11556534229}\n",
      "{'processingTime': 15497.892725093194, 'cost': 38704.7010005913, 'pollution': 32723.847813448476}\n",
      "{'processingTime': 13764.353023737787, 'cost': 76863.97377338777, 'pollution': 77103.19044777502}\n",
      "{'processingTime': 16659.85204284389, 'cost': 33178.131029741744, 'pollution': 31433.919455117037}\n",
      "{'processingTime': 13802.31952541693, 'cost': 66555.02413920626, 'pollution': 81300.42448127373}\n",
      "{'processingTime': 13814.105072766542, 'cost': 82587.53120717207, 'pollution': 52223.13367035301}\n",
      "{'processingTime': 14168.94220832722, 'cost': 68584.13669997836, 'pollution': 62744.70297785108}\n",
      "{'processingTime': 13924.704232639795, 'cost': 51632.9426638765, 'pollution': 63104.06609331274}\n",
      "{'processingTime': 14693.201572414646, 'cost': 56166.835933901806, 'pollution': 47234.3833192273}\n",
      "{'processingTime': 14498.189155446726, 'cost': 66225.52238639371, 'pollution': 55046.21473356017}\n",
      "{'processingTime': 13814.105072766542, 'cost': 76112.2385649379, 'pollution': 40369.061490536544}\n",
      "\n",
      "Optimizing with NSRA...\n"
     ]
    },
    {
     "name": "stderr",
     "output_type": "stream",
     "text": [
      "100%|██████████| 10/10 [00:30<00:00,  3.05s/it]\n"
     ]
    },
    {
     "name": "stdout",
     "output_type": "stream",
     "text": [
      "Displaying pareto solutions...\n",
      "{'processingTime': 18149.476678711573, 'cost': 74298.76697928863, 'pollution': 44029.83639414992}\n",
      "{'processingTime': 13864.14768008416, 'cost': 57576.32091824327, 'pollution': 44682.795072880406}\n",
      "{'processingTime': 19773.504424881627, 'cost': 60181.69795172505, 'pollution': 41916.274262972656}\n",
      "{'processingTime': 21301.959463442054, 'cost': 45820.24267874558, 'pollution': 48044.587134738445}\n",
      "{'processingTime': 14494.497411431079, 'cost': 49553.80925756293, 'pollution': 65057.26812613834}\n",
      "{'processingTime': 19865.755083283446, 'cost': 41839.19949016906, 'pollution': 48469.20181814848}\n",
      "{'processingTime': 23364.605956165306, 'cost': 55420.00814566383, 'pollution': 41131.5074615453}\n",
      "{'processingTime': 18012.876670327205, 'cost': 69690.49810207516, 'pollution': 44030.67316489603}\n",
      "{'processingTime': 17098.1026992606, 'cost': 55446.207326326716, 'pollution': 50322.7224930897}\n",
      "{'processingTime': 19744.86726161099, 'cost': 50460.99899827151, 'pollution': 60165.7249502718}\n",
      "{'processingTime': 18454.420495540253, 'cost': 57434.08035603178, 'pollution': 48029.045477798354}\n",
      "{'processingTime': 21347.55065310773, 'cost': 53693.29967523418, 'pollution': 43983.45460096754}\n",
      "{'processingTime': 15173.288077393956, 'cost': 50500.38169365666, 'pollution': 51326.14632860505}\n",
      "\n",
      "Relative efficiency: 0 % of <class 'optimizers.NSRA.NSRA'> solutions are undominated by <class 'optimizers.NSGA2.NSGA2'> solutions\n",
      "Relative efficiency: 100 % of <class 'optimizers.NSGA2.NSGA2'> solutions are undominated by <class 'optimizers.NSRA.NSRA'> solutions\n"
     ]
    },
    {
     "data": {
      "text/plain": [
       "(0, 1)"
      ]
     },
     "execution_count": 3,
     "metadata": {},
     "output_type": "execute_result"
    }
   ],
   "source": [
    "# PROBLEM DEFINITION\n",
    "paramsLayerOne = {\n",
    "    \"unit\": {\n",
    "        \"tag\": \"DEVICE\",\n",
    "        \"computingSpeed\": lambda: random.randint(5, 10),\n",
    "        \"positionX\": 0,\n",
    "        \"positionY\": 0,\n",
    "        \"throughput\": 0.5,\n",
    "        \"pollution\": lambda: round(random.random(), 2),\n",
    "        \"cost\": lambda: round(random.random(), 2),\n",
    "    },\n",
    "    \"cable\": {\n",
    "        \"distance\": lambda x, y: sqrt(pow(x.positionX - y.positionX, 2) + pow(x.positionY - y.positionY, 2)),\n",
    "        \"propagationSpeed\": lambda: 1,\n",
    "        \"flowRate\": lambda: 1,\n",
    "    },\n",
    "    \"numberNewUnits\": 10,\n",
    "}\n",
    "\n",
    "paramsLayerTwo = {\n",
    "    \"unit\": {\n",
    "        \"tag\": \"FOG\",\n",
    "        \"computingSpeed\": lambda x: x.computingSpeed * random.randint(5, 10),\n",
    "        \"positionX\": lambda x: x.positionX + random.randint(-2, 2),\n",
    "        \"positionY\": lambda x: x.positionY + random.randint(-2, 2),\n",
    "        \"throughput\": lambda x: x.throughput * round(random.random(), 2) * 2 + 1,\n",
    "        \"pollution\": lambda x: (x.pollution + 1) * (round(random.random(), 2) + 1),\n",
    "        \"cost\": lambda x: (x.cost + 1) * (round(random.random(), 2) + 1),\n",
    "    },\n",
    "    \"cable\": {\n",
    "        \"distance\": lambda x, y: sqrt(pow(x.positionX - y.positionX, 2) + pow(x.positionY - y.positionY, 2)),\n",
    "        \"propagationSpeed\": lambda: 2,\n",
    "        \"flowRate\": lambda: 3,\n",
    "    },\n",
    "    \"numberNewUnits\": 20,\n",
    "}\n",
    "\n",
    "paramsLayerThree = {\n",
    "    \"unit\": {\n",
    "        \"tag\": \"CLOUD\",\n",
    "        \"computingSpeed\": lambda x: x.computingSpeed * random.randint(50, 100),\n",
    "        \"positionX\": lambda x: x.positionX + random.randint(-5, 5),\n",
    "        \"positionY\": lambda x: x.positionY + random.randint(-5, 5),\n",
    "        \"throughput\": lambda x: x.throughput * round(random.random(), 2) * 3 + 1,\n",
    "        \"pollution\": lambda x: (x.pollution + 1) * (round(random.random(), 2) + 1),\n",
    "        \"cost\": lambda x: (x.cost + 1) * (round(random.random(), 2) + 1),\n",
    "    },\n",
    "    \"cable\": {\n",
    "        \"distance\": lambda x, y: sqrt(pow(x.positionX - y.positionX, 2) + pow(x.positionY - y.positionY, 2)),\n",
    "        \"propagationSpeed\": lambda: 2,\n",
    "        \"flowRate\": lambda: 3,\n",
    "    },\n",
    "    \"numberNewUnits\": 10,\n",
    "}\n",
    "\n",
    "tasks = tuple(Task(random.randint(1, 1000), random.randint(1, 1000)) for _ in range(3))\n",
    "\n",
    "problem = Network(\n",
    "    \"DEVICE\",\n",
    "    tasks=tasks,\n",
    "    optimDirections={\"processingTime\": \"min\", \"cost\": \"min\", \"pollution\": \"min\"},\n",
    "    minDepth=10,\n",
    "    maxDepth=20,\n",
    "    mutationRate=0.1,\n",
    "    layers=[paramsLayerOne, paramsLayerTwo, paramsLayerTwo, paramsLayerThree],\n",
    ")\n",
    "\n",
    "# OPTIMIZATION\n",
    "nIterations = 10\n",
    "nSolutions = 1000\n",
    "seed = 10\n",
    "\n",
    "\n",
    "moo = MOO(problem)\n",
    "\n",
    "nsga2_paretos = moo.optimize(NSGA2, nSolutions, nIterations, saveDir=PATH.parent / \"imgs\", seed=seed, ratioKept=0.5)\n",
    "nsra_paretos = moo.optimize(NSRA, nSolutions, nIterations, saveDir=PATH.parent / \"imgs\", seed=seed, ratioKept=0.5)\n",
    "# nswge_paretos = moo.optimize(NSWGE, nSolutions, nIterations, seed=seed)\n",
    "\n",
    "\n",
    "# DISPLAYING RESULTS\n",
    "MOO.relative_efficiency(nsra_paretos, nsga2_paretos, Solution.optimDirections, verbose=True)\n"
   ]
  },
  {
   "cell_type": "code",
   "execution_count": 4,
   "metadata": {},
   "outputs": [
    {
     "data": {
      "application/vnd.plotly.v1+json": {
       "config": {
        "plotlyServerURL": "https://plot.ly"
       },
       "data": [
        {
         "alignmentgroup": "True",
         "box": {
          "visible": true
         },
         "hovertemplate": "Epoch=%{x}<br>Value=%{y}<extra></extra>",
         "legendgroup": "",
         "marker": {
          "color": "#1f77b4"
         },
         "name": "",
         "offsetgroup": "",
         "orientation": "v",
         "scalegroup": "True",
         "showlegend": false,
         "type": "violin",
         "x": [
          10,
          10,
          10,
          10,
          10,
          10,
          10,
          10,
          10,
          10,
          20,
          20,
          20,
          20,
          20,
          20,
          20,
          20,
          20,
          20,
          30,
          30,
          30,
          30,
          30,
          30,
          30,
          30,
          30,
          30,
          40,
          40,
          40,
          40,
          40,
          40,
          40,
          40,
          40,
          40,
          50,
          50,
          50,
          50,
          50,
          50,
          50,
          50,
          50,
          50,
          60,
          60,
          60,
          60,
          60,
          60,
          60,
          60,
          60,
          60,
          70,
          70,
          70,
          70,
          70,
          70,
          70,
          70,
          70,
          70,
          80,
          80,
          80,
          80,
          80,
          80,
          80,
          80,
          80,
          80,
          90,
          90,
          90,
          90,
          90,
          90,
          90,
          90,
          90,
          90,
          100,
          100,
          100,
          100,
          100,
          100,
          100,
          100,
          100,
          100
         ],
         "x0": " ",
         "xaxis": "x",
         "y": [
          14,
          75,
          14,
          36,
          33,
          11,
          3,
          41,
          10,
          100,
          55,
          68,
          20,
          40,
          99,
          91,
          72,
          42,
          24,
          4,
          28,
          47,
          95,
          34,
          46,
          42,
          21,
          65,
          17,
          19,
          7,
          29,
          7,
          61,
          72,
          24,
          72,
          88,
          49,
          76,
          75,
          6,
          78,
          96,
          49,
          69,
          75,
          31,
          42,
          79,
          58,
          87,
          6,
          2,
          42,
          24,
          30,
          14,
          39,
          81,
          50,
          54,
          53,
          79,
          4,
          67,
          85,
          80,
          98,
          52,
          14,
          73,
          13,
          44,
          25,
          32,
          85,
          20,
          10,
          41,
          41,
          16,
          13,
          50,
          73,
          48,
          98,
          31,
          54,
          6,
          94,
          27,
          90,
          35,
          40,
          69,
          87,
          59,
          25,
          16
         ],
         "y0": " ",
         "yaxis": "y"
        }
       ],
       "layout": {
        "font": {
         "family": "Times New Roman",
         "size": 12
        },
        "legend": {
         "tracegroupgap": 0
        },
        "margin": {
         "t": 60
        },
        "template": {
         "data": {
          "bar": [
           {
            "error_x": {
             "color": "#2a3f5f"
            },
            "error_y": {
             "color": "#2a3f5f"
            },
            "marker": {
             "line": {
              "color": "white",
              "width": 0.5
             },
             "pattern": {
              "fillmode": "overlay",
              "size": 10,
              "solidity": 0.2
             }
            },
            "type": "bar"
           }
          ],
          "barpolar": [
           {
            "marker": {
             "line": {
              "color": "white",
              "width": 0.5
             },
             "pattern": {
              "fillmode": "overlay",
              "size": 10,
              "solidity": 0.2
             }
            },
            "type": "barpolar"
           }
          ],
          "carpet": [
           {
            "aaxis": {
             "endlinecolor": "#2a3f5f",
             "gridcolor": "#C8D4E3",
             "linecolor": "#C8D4E3",
             "minorgridcolor": "#C8D4E3",
             "startlinecolor": "#2a3f5f"
            },
            "baxis": {
             "endlinecolor": "#2a3f5f",
             "gridcolor": "#C8D4E3",
             "linecolor": "#C8D4E3",
             "minorgridcolor": "#C8D4E3",
             "startlinecolor": "#2a3f5f"
            },
            "type": "carpet"
           }
          ],
          "choropleth": [
           {
            "colorbar": {
             "outlinewidth": 0,
             "ticks": ""
            },
            "type": "choropleth"
           }
          ],
          "contour": [
           {
            "colorbar": {
             "outlinewidth": 0,
             "ticks": ""
            },
            "colorscale": [
             [
              0,
              "#0d0887"
             ],
             [
              0.1111111111111111,
              "#46039f"
             ],
             [
              0.2222222222222222,
              "#7201a8"
             ],
             [
              0.3333333333333333,
              "#9c179e"
             ],
             [
              0.4444444444444444,
              "#bd3786"
             ],
             [
              0.5555555555555556,
              "#d8576b"
             ],
             [
              0.6666666666666666,
              "#ed7953"
             ],
             [
              0.7777777777777778,
              "#fb9f3a"
             ],
             [
              0.8888888888888888,
              "#fdca26"
             ],
             [
              1,
              "#f0f921"
             ]
            ],
            "type": "contour"
           }
          ],
          "contourcarpet": [
           {
            "colorbar": {
             "outlinewidth": 0,
             "ticks": ""
            },
            "type": "contourcarpet"
           }
          ],
          "heatmap": [
           {
            "colorbar": {
             "outlinewidth": 0,
             "ticks": ""
            },
            "colorscale": [
             [
              0,
              "#0d0887"
             ],
             [
              0.1111111111111111,
              "#46039f"
             ],
             [
              0.2222222222222222,
              "#7201a8"
             ],
             [
              0.3333333333333333,
              "#9c179e"
             ],
             [
              0.4444444444444444,
              "#bd3786"
             ],
             [
              0.5555555555555556,
              "#d8576b"
             ],
             [
              0.6666666666666666,
              "#ed7953"
             ],
             [
              0.7777777777777778,
              "#fb9f3a"
             ],
             [
              0.8888888888888888,
              "#fdca26"
             ],
             [
              1,
              "#f0f921"
             ]
            ],
            "type": "heatmap"
           }
          ],
          "heatmapgl": [
           {
            "colorbar": {
             "outlinewidth": 0,
             "ticks": ""
            },
            "colorscale": [
             [
              0,
              "#0d0887"
             ],
             [
              0.1111111111111111,
              "#46039f"
             ],
             [
              0.2222222222222222,
              "#7201a8"
             ],
             [
              0.3333333333333333,
              "#9c179e"
             ],
             [
              0.4444444444444444,
              "#bd3786"
             ],
             [
              0.5555555555555556,
              "#d8576b"
             ],
             [
              0.6666666666666666,
              "#ed7953"
             ],
             [
              0.7777777777777778,
              "#fb9f3a"
             ],
             [
              0.8888888888888888,
              "#fdca26"
             ],
             [
              1,
              "#f0f921"
             ]
            ],
            "type": "heatmapgl"
           }
          ],
          "histogram": [
           {
            "marker": {
             "pattern": {
              "fillmode": "overlay",
              "size": 10,
              "solidity": 0.2
             }
            },
            "type": "histogram"
           }
          ],
          "histogram2d": [
           {
            "colorbar": {
             "outlinewidth": 0,
             "ticks": ""
            },
            "colorscale": [
             [
              0,
              "#0d0887"
             ],
             [
              0.1111111111111111,
              "#46039f"
             ],
             [
              0.2222222222222222,
              "#7201a8"
             ],
             [
              0.3333333333333333,
              "#9c179e"
             ],
             [
              0.4444444444444444,
              "#bd3786"
             ],
             [
              0.5555555555555556,
              "#d8576b"
             ],
             [
              0.6666666666666666,
              "#ed7953"
             ],
             [
              0.7777777777777778,
              "#fb9f3a"
             ],
             [
              0.8888888888888888,
              "#fdca26"
             ],
             [
              1,
              "#f0f921"
             ]
            ],
            "type": "histogram2d"
           }
          ],
          "histogram2dcontour": [
           {
            "colorbar": {
             "outlinewidth": 0,
             "ticks": ""
            },
            "colorscale": [
             [
              0,
              "#0d0887"
             ],
             [
              0.1111111111111111,
              "#46039f"
             ],
             [
              0.2222222222222222,
              "#7201a8"
             ],
             [
              0.3333333333333333,
              "#9c179e"
             ],
             [
              0.4444444444444444,
              "#bd3786"
             ],
             [
              0.5555555555555556,
              "#d8576b"
             ],
             [
              0.6666666666666666,
              "#ed7953"
             ],
             [
              0.7777777777777778,
              "#fb9f3a"
             ],
             [
              0.8888888888888888,
              "#fdca26"
             ],
             [
              1,
              "#f0f921"
             ]
            ],
            "type": "histogram2dcontour"
           }
          ],
          "mesh3d": [
           {
            "colorbar": {
             "outlinewidth": 0,
             "ticks": ""
            },
            "type": "mesh3d"
           }
          ],
          "parcoords": [
           {
            "line": {
             "colorbar": {
              "outlinewidth": 0,
              "ticks": ""
             }
            },
            "type": "parcoords"
           }
          ],
          "pie": [
           {
            "automargin": true,
            "type": "pie"
           }
          ],
          "scatter": [
           {
            "fillpattern": {
             "fillmode": "overlay",
             "size": 10,
             "solidity": 0.2
            },
            "type": "scatter"
           }
          ],
          "scatter3d": [
           {
            "line": {
             "colorbar": {
              "outlinewidth": 0,
              "ticks": ""
             }
            },
            "marker": {
             "colorbar": {
              "outlinewidth": 0,
              "ticks": ""
             }
            },
            "type": "scatter3d"
           }
          ],
          "scattercarpet": [
           {
            "marker": {
             "colorbar": {
              "outlinewidth": 0,
              "ticks": ""
             }
            },
            "type": "scattercarpet"
           }
          ],
          "scattergeo": [
           {
            "marker": {
             "colorbar": {
              "outlinewidth": 0,
              "ticks": ""
             }
            },
            "type": "scattergeo"
           }
          ],
          "scattergl": [
           {
            "marker": {
             "colorbar": {
              "outlinewidth": 0,
              "ticks": ""
             }
            },
            "type": "scattergl"
           }
          ],
          "scattermapbox": [
           {
            "marker": {
             "colorbar": {
              "outlinewidth": 0,
              "ticks": ""
             }
            },
            "type": "scattermapbox"
           }
          ],
          "scatterpolar": [
           {
            "marker": {
             "colorbar": {
              "outlinewidth": 0,
              "ticks": ""
             }
            },
            "type": "scatterpolar"
           }
          ],
          "scatterpolargl": [
           {
            "marker": {
             "colorbar": {
              "outlinewidth": 0,
              "ticks": ""
             }
            },
            "type": "scatterpolargl"
           }
          ],
          "scatterternary": [
           {
            "marker": {
             "colorbar": {
              "outlinewidth": 0,
              "ticks": ""
             }
            },
            "type": "scatterternary"
           }
          ],
          "surface": [
           {
            "colorbar": {
             "outlinewidth": 0,
             "ticks": ""
            },
            "colorscale": [
             [
              0,
              "#0d0887"
             ],
             [
              0.1111111111111111,
              "#46039f"
             ],
             [
              0.2222222222222222,
              "#7201a8"
             ],
             [
              0.3333333333333333,
              "#9c179e"
             ],
             [
              0.4444444444444444,
              "#bd3786"
             ],
             [
              0.5555555555555556,
              "#d8576b"
             ],
             [
              0.6666666666666666,
              "#ed7953"
             ],
             [
              0.7777777777777778,
              "#fb9f3a"
             ],
             [
              0.8888888888888888,
              "#fdca26"
             ],
             [
              1,
              "#f0f921"
             ]
            ],
            "type": "surface"
           }
          ],
          "table": [
           {
            "cells": {
             "fill": {
              "color": "#EBF0F8"
             },
             "line": {
              "color": "white"
             }
            },
            "header": {
             "fill": {
              "color": "#C8D4E3"
             },
             "line": {
              "color": "white"
             }
            },
            "type": "table"
           }
          ]
         },
         "layout": {
          "annotationdefaults": {
           "arrowcolor": "#2a3f5f",
           "arrowhead": 0,
           "arrowwidth": 1
          },
          "autotypenumbers": "strict",
          "coloraxis": {
           "colorbar": {
            "outlinewidth": 0,
            "ticks": ""
           }
          },
          "colorscale": {
           "diverging": [
            [
             0,
             "#8e0152"
            ],
            [
             0.1,
             "#c51b7d"
            ],
            [
             0.2,
             "#de77ae"
            ],
            [
             0.3,
             "#f1b6da"
            ],
            [
             0.4,
             "#fde0ef"
            ],
            [
             0.5,
             "#f7f7f7"
            ],
            [
             0.6,
             "#e6f5d0"
            ],
            [
             0.7,
             "#b8e186"
            ],
            [
             0.8,
             "#7fbc41"
            ],
            [
             0.9,
             "#4d9221"
            ],
            [
             1,
             "#276419"
            ]
           ],
           "sequential": [
            [
             0,
             "#0d0887"
            ],
            [
             0.1111111111111111,
             "#46039f"
            ],
            [
             0.2222222222222222,
             "#7201a8"
            ],
            [
             0.3333333333333333,
             "#9c179e"
            ],
            [
             0.4444444444444444,
             "#bd3786"
            ],
            [
             0.5555555555555556,
             "#d8576b"
            ],
            [
             0.6666666666666666,
             "#ed7953"
            ],
            [
             0.7777777777777778,
             "#fb9f3a"
            ],
            [
             0.8888888888888888,
             "#fdca26"
            ],
            [
             1,
             "#f0f921"
            ]
           ],
           "sequentialminus": [
            [
             0,
             "#0d0887"
            ],
            [
             0.1111111111111111,
             "#46039f"
            ],
            [
             0.2222222222222222,
             "#7201a8"
            ],
            [
             0.3333333333333333,
             "#9c179e"
            ],
            [
             0.4444444444444444,
             "#bd3786"
            ],
            [
             0.5555555555555556,
             "#d8576b"
            ],
            [
             0.6666666666666666,
             "#ed7953"
            ],
            [
             0.7777777777777778,
             "#fb9f3a"
            ],
            [
             0.8888888888888888,
             "#fdca26"
            ],
            [
             1,
             "#f0f921"
            ]
           ]
          },
          "colorway": [
           "#636efa",
           "#EF553B",
           "#00cc96",
           "#ab63fa",
           "#FFA15A",
           "#19d3f3",
           "#FF6692",
           "#B6E880",
           "#FF97FF",
           "#FECB52"
          ],
          "font": {
           "color": "#2a3f5f"
          },
          "geo": {
           "bgcolor": "white",
           "lakecolor": "white",
           "landcolor": "white",
           "showlakes": true,
           "showland": true,
           "subunitcolor": "#C8D4E3"
          },
          "hoverlabel": {
           "align": "left"
          },
          "hovermode": "closest",
          "mapbox": {
           "style": "light"
          },
          "paper_bgcolor": "white",
          "plot_bgcolor": "white",
          "polar": {
           "angularaxis": {
            "gridcolor": "#EBF0F8",
            "linecolor": "#EBF0F8",
            "ticks": ""
           },
           "bgcolor": "white",
           "radialaxis": {
            "gridcolor": "#EBF0F8",
            "linecolor": "#EBF0F8",
            "ticks": ""
           }
          },
          "scene": {
           "xaxis": {
            "backgroundcolor": "white",
            "gridcolor": "#DFE8F3",
            "gridwidth": 2,
            "linecolor": "#EBF0F8",
            "showbackground": true,
            "ticks": "",
            "zerolinecolor": "#EBF0F8"
           },
           "yaxis": {
            "backgroundcolor": "white",
            "gridcolor": "#DFE8F3",
            "gridwidth": 2,
            "linecolor": "#EBF0F8",
            "showbackground": true,
            "ticks": "",
            "zerolinecolor": "#EBF0F8"
           },
           "zaxis": {
            "backgroundcolor": "white",
            "gridcolor": "#DFE8F3",
            "gridwidth": 2,
            "linecolor": "#EBF0F8",
            "showbackground": true,
            "ticks": "",
            "zerolinecolor": "#EBF0F8"
           }
          },
          "shapedefaults": {
           "line": {
            "color": "#2a3f5f"
           }
          },
          "ternary": {
           "aaxis": {
            "gridcolor": "#DFE8F3",
            "linecolor": "#A2B1C6",
            "ticks": ""
           },
           "baxis": {
            "gridcolor": "#DFE8F3",
            "linecolor": "#A2B1C6",
            "ticks": ""
           },
           "bgcolor": "white",
           "caxis": {
            "gridcolor": "#DFE8F3",
            "linecolor": "#A2B1C6",
            "ticks": ""
           }
          },
          "title": {
           "x": 0.05
          },
          "xaxis": {
           "automargin": true,
           "gridcolor": "#EBF0F8",
           "linecolor": "#EBF0F8",
           "ticks": "",
           "title": {
            "standoff": 15
           },
           "zerolinecolor": "#EBF0F8",
           "zerolinewidth": 2
          },
          "yaxis": {
           "automargin": true,
           "gridcolor": "#EBF0F8",
           "linecolor": "#EBF0F8",
           "ticks": "",
           "title": {
            "standoff": 15
           },
           "zerolinecolor": "#EBF0F8",
           "zerolinewidth": 2
          }
         }
        },
        "title": {
         "text": "Violin plot of the pareto solutions for each epoch (10 epochs)"
        },
        "violinmode": "group",
        "xaxis": {
         "anchor": "y",
         "domain": [
          0,
          1
         ],
         "title": {
          "text": "Epoch"
         }
        },
        "yaxis": {
         "anchor": "x",
         "domain": [
          0,
          1
         ],
         "title": {
          "text": "Value"
         }
        }
       }
      }
     },
     "metadata": {},
     "output_type": "display_data"
    }
   ],
   "source": [
    "def generate_violin_plot(df, title):\n",
    "    fig = px.violin(df, x=\"Epoch\", y=\"Value\", box=True, hover_data=df.columns, template=\"plotly_white\", color_discrete_sequence=[\"#1f77b4\"])\n",
    "    fig.update_layout(\n",
    "        title=title,\n",
    "        xaxis_title=\"Epoch\",\n",
    "        yaxis_title=\"Value\",\n",
    "        font=dict(\n",
    "            family=\"Times New Roman\",\n",
    "            size=12,\n",
    "        )\n",
    "    ) \n",
    "    fig.show()\n",
    "\n",
    "# generate random values for the pareto solutions for each epoch\n",
    "def generate_random_values(epochs: int=20):\n",
    "    values = []\n",
    "    for i in range(1, epochs+1):\n",
    "        for j in range(0, 10):\n",
    "            values.append([i, random.randint(1, 100)])\n",
    "    return values\n",
    "\n",
    "# plot the violin\n",
    "def plot_violin(epochs):\n",
    "    values = generate_random_values(epochs)\n",
    "    df = pd.DataFrame(values, columns=[\"Epoch\", \"Value\"])\n",
    "    # keep only 10 epochs depending on the number of epochs\n",
    "    df = df[df[\"Epoch\"] % (epochs // 10) == 0]\n",
    "    df.to_csv(\"test2.csv\")\n",
    "    generate_violin_plot(df, \"Violin plot of the pareto solutions for each epoch (10 epochs)\")\n",
    "\n",
    "plot_violin(100)\n"
   ]
  },
  {
   "cell_type": "code",
   "execution_count": null,
   "metadata": {},
   "outputs": [],
   "source": []
  }
 ],
 "metadata": {
  "kernelspec": {
   "display_name": "venv",
   "language": "python",
   "name": "python3"
  },
  "language_info": {
   "codemirror_mode": {
    "name": "ipython",
    "version": 3
   },
   "file_extension": ".py",
   "mimetype": "text/x-python",
   "name": "python",
   "nbconvert_exporter": "python",
   "pygments_lexer": "ipython3",
   "version": "3.10.10"
  },
  "orig_nbformat": 4,
  "vscode": {
   "interpreter": {
    "hash": "e0fd7870c844ce9ebd94db62f42dc1165e727123798b67a6f5059ea7a11ade64"
   }
  }
 },
 "nbformat": 4,
 "nbformat_minor": 2
}
