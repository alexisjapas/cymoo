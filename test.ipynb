{
 "cells": [
  {
   "attachments": {},
   "cell_type": "markdown",
   "metadata": {},
   "source": [
    "# Imports"
   ]
  },
  {
   "cell_type": "code",
   "execution_count": 1,
   "metadata": {},
   "outputs": [
    {
     "name": "stdout",
     "output_type": "stream",
     "text": [
      "Current path: /Users/eliebrosset/Documents/GitHub/cymoo/src\n"
     ]
    }
   ],
   "source": [
    "import os\n",
    "import pathlib\n",
    "import random\n",
    "from math import sqrt\n",
    "\n",
    "import pandas as pd\n",
    "import plotly.express as px\n",
    "\n",
    "PATH = pathlib.Path.cwd() / \"src\"\n",
    "\n",
    "# set current working directory to the path\n",
    "os.chdir(PATH)\n",
    "print(f\"Current path: {PATH}\")"
   ]
  },
  {
   "cell_type": "code",
   "execution_count": 2,
   "metadata": {},
   "outputs": [],
   "source": [
    "from MOO import MOO\n",
    "from optimizers.NSGA2 import NSGA2\n",
    "from optimizers.NSRA import NSRA\n",
    "from optimizers.NSWGE import NSWGE\n",
    "from problems.multitask_routing.Network import Network\n",
    "from problems.multitask_routing.Task import Task\n",
    "from problems.Solution import Solution"
   ]
  },
  {
   "attachments": {},
   "cell_type": "markdown",
   "metadata": {},
   "source": [
    "# Defining the parameters"
   ]
  },
  {
   "attachments": {},
   "cell_type": "markdown",
   "metadata": {},
   "source": [
    "## Layers"
   ]
  },
  {
   "cell_type": "code",
   "execution_count": 3,
   "metadata": {},
   "outputs": [],
   "source": [
    "# PROBLEM DEFINITION\n",
    "paramsLayerOne = {\n",
    "    \"unit\": {\n",
    "        \"tag\": \"DEVICE\",\n",
    "        \"computingSpeed\": lambda: random.randint(5, 10),\n",
    "        \"positionX\": 0,\n",
    "        \"positionY\": 0,\n",
    "        \"throughput\": 0.5,\n",
    "        \"pollution\": lambda: round(random.random(), 2),\n",
    "        \"cost\": lambda: round(random.random(), 2),\n",
    "    },\n",
    "    \"cable\": {\n",
    "        \"distance\": lambda x, y: sqrt(\n",
    "            pow(x.positionX - y.positionX, 2)\n",
    "            + pow(x.positionY - y.positionY, 2)\n",
    "        ),\n",
    "        \"propagationSpeed\": lambda: 1,\n",
    "        \"flowRate\": lambda: 1,\n",
    "    },\n",
    "    \"numberNewUnits\": 10,\n",
    "}\n",
    "\n",
    "paramsLayerTwo = {\n",
    "    \"unit\": {\n",
    "        \"tag\": \"FOG\",\n",
    "        \"computingSpeed\": lambda x: x.computingSpeed * random.randint(5, 10),\n",
    "        \"positionX\": lambda x: x.positionX + random.randint(-2, 2),\n",
    "        \"positionY\": lambda x: x.positionY + random.randint(-2, 2),\n",
    "        \"throughput\": lambda x: x.throughput * round(random.random(), 2) * 2\n",
    "        + 1,\n",
    "        \"pollution\": lambda x: (x.pollution + 1)\n",
    "        * (round(random.random(), 2) + 1),\n",
    "        \"cost\": lambda x: (x.cost + 1) * (round(random.random(), 2) + 1),\n",
    "    },\n",
    "    \"cable\": {\n",
    "        \"distance\": lambda x, y: sqrt(\n",
    "            pow(x.positionX - y.positionX, 2)\n",
    "            + pow(x.positionY - y.positionY, 2)\n",
    "        ),\n",
    "        \"propagationSpeed\": lambda: 2,\n",
    "        \"flowRate\": lambda: 3,\n",
    "    },\n",
    "    \"numberNewUnits\": 20,\n",
    "}\n",
    "\n",
    "paramsLayerThree = {\n",
    "    \"unit\": {\n",
    "        \"tag\": \"CLOUD\",\n",
    "        \"computingSpeed\": lambda x: x.computingSpeed * random.randint(50, 100),\n",
    "        \"positionX\": lambda x: x.positionX + random.randint(-5, 5),\n",
    "        \"positionY\": lambda x: x.positionY + random.randint(-5, 5),\n",
    "        \"throughput\": lambda x: x.throughput * round(random.random(), 2) * 3\n",
    "        + 1,\n",
    "        \"pollution\": lambda x: (x.pollution + 1)\n",
    "        * (round(random.random(), 2) + 1),\n",
    "        \"cost\": lambda x: (x.cost + 1) * (round(random.random(), 2) + 1),\n",
    "    },\n",
    "    \"cable\": {\n",
    "        \"distance\": lambda x, y: sqrt(\n",
    "            pow(x.positionX - y.positionX, 2)\n",
    "            + pow(x.positionY - y.positionY, 2)\n",
    "        ),\n",
    "        \"propagationSpeed\": lambda: 2,\n",
    "        \"flowRate\": lambda: 3,\n",
    "    },\n",
    "    \"numberNewUnits\": 10,\n",
    "}"
   ]
  },
  {
   "attachments": {},
   "cell_type": "markdown",
   "metadata": {},
   "source": [
    "## Tasks"
   ]
  },
  {
   "cell_type": "code",
   "execution_count": 4,
   "metadata": {},
   "outputs": [],
   "source": [
    "tasks = tuple(\n",
    "    Task(random.randint(1, 1000), random.randint(1, 1000)) for _ in range(3)\n",
    ")"
   ]
  },
  {
   "attachments": {},
   "cell_type": "markdown",
   "metadata": {},
   "source": [
    "## Network"
   ]
  },
  {
   "cell_type": "code",
   "execution_count": 5,
   "metadata": {},
   "outputs": [],
   "source": [
    "problem = Network(\n",
    "    \"DEVICE\",\n",
    "    tasks=tasks,\n",
    "    optimDirections={\n",
    "        \"processingTime\": \"min\",\n",
    "        \"cost\": \"min\",\n",
    "        \"pollution\": \"min\",\n",
    "    },\n",
    "    minDepth=10,\n",
    "    maxDepth=20,\n",
    "    mutationRate=0.1,\n",
    "    layers=[paramsLayerOne, paramsLayerTwo, paramsLayerTwo, paramsLayerThree],\n",
    ")"
   ]
  },
  {
   "attachments": {},
   "cell_type": "markdown",
   "metadata": {},
   "source": [
    "## Optimization"
   ]
  },
  {
   "cell_type": "code",
   "execution_count": 6,
   "metadata": {},
   "outputs": [],
   "source": [
    "nIterations = 10\n",
    "nSolutions = 1000\n",
    "seed = 10"
   ]
  },
  {
   "attachments": {},
   "cell_type": "markdown",
   "metadata": {},
   "source": [
    "# Optimization"
   ]
  },
  {
   "attachments": {},
   "cell_type": "markdown",
   "metadata": {},
   "source": [
    "## Training"
   ]
  },
  {
   "cell_type": "code",
   "execution_count": 7,
   "metadata": {},
   "outputs": [
    {
     "name": "stdout",
     "output_type": "stream",
     "text": [
      "Optimizing with NSGA2...\n"
     ]
    },
    {
     "name": "stderr",
     "output_type": "stream",
     "text": [
      "100%|██████████| 10/10 [00:06<00:00,  1.64it/s]\n"
     ]
    },
    {
     "name": "stdout",
     "output_type": "stream",
     "text": [
      "Displaying pareto solutions...\n",
      "{'processingTime': 8679.833244580217, 'cost': 24516.67828067495, 'pollution': 36924.50144683291}\n",
      "{'processingTime': 8447.944355136373, 'cost': 39070.14771199331, 'pollution': 33784.202915709604}\n",
      "{'processingTime': 9081.157473028357, 'cost': 25894.28676059864, 'pollution': 16789.403164833264}\n",
      "{'processingTime': 10411.86514897959, 'cost': 18556.378425625993, 'pollution': 25313.083363493617}\n",
      "\n",
      "Optimizing with NSRA...\n"
     ]
    },
    {
     "name": "stderr",
     "output_type": "stream",
     "text": [
      "100%|██████████| 10/10 [00:30<00:00,  3.10s/it]\n"
     ]
    },
    {
     "name": "stdout",
     "output_type": "stream",
     "text": [
      "Displaying pareto solutions...\n",
      "{'processingTime': 9365.324567889296, 'cost': 36716.12920436481, 'pollution': 44905.91327038176}\n",
      "{'processingTime': 9783.742751042715, 'cost': 52364.48953631066, 'pollution': 42380.025793729874}\n",
      "{'processingTime': 14943.186280544, 'cost': 44111.27883962127, 'pollution': 29537.197198698996}\n",
      "{'processingTime': 11017.49032935997, 'cost': 52483.34397124067, 'pollution': 32616.480868953506}\n",
      "{'processingTime': 15624.373679734124, 'cost': 32037.15318905766, 'pollution': 31477.765477698245}\n",
      "{'processingTime': 10028.74297591608, 'cost': 72032.71408759702, 'pollution': 38799.62726444011}\n",
      "{'processingTime': 10320.43855125583, 'cost': 37938.912752015116, 'pollution': 34766.00304418073}\n",
      "{'processingTime': 14423.849565022872, 'cost': 38608.31421602702, 'pollution': 30060.17838704982}\n",
      "{'processingTime': 12891.431276090609, 'cost': 36802.222584118135, 'pollution': 43137.44431738177}\n",
      "{'processingTime': 14037.927291736933, 'cost': 35243.520812867195, 'pollution': 36300.64897594496}\n",
      "{'processingTime': 15592.118612267268, 'cost': 34833.60694680005, 'pollution': 40327.886216935534}\n",
      "{'processingTime': 10059.989620991659, 'cost': 35667.70094754826, 'pollution': 43507.165499015944}\n",
      "{'processingTime': 10285.206368156494, 'cost': 45720.85552446154, 'pollution': 38259.37969764357}\n",
      "{'processingTime': 10629.660218246678, 'cost': 42037.74056608531, 'pollution': 33066.511802602414}\n",
      "\n"
     ]
    }
   ],
   "source": [
    "moo = MOO(problem)\n",
    "\n",
    "nsga2_paretos = moo.optimize(\n",
    "    NSGA2,\n",
    "    nSolutions,\n",
    "    nIterations,\n",
    "    saveDir=PATH.parent / \"imgs\",\n",
    "    seed=seed,\n",
    "    ratioKept=0.5,\n",
    ")\n",
    "nsra_paretos = moo.optimize(\n",
    "    NSRA,\n",
    "    nSolutions,\n",
    "    nIterations,\n",
    "    saveDir=PATH.parent / \"imgs\",\n",
    "    seed=seed,\n",
    "    ratioKept=0.5,\n",
    ")\n",
    "# nswge_paretos = moo.optimize(NSWGE, nSolutions, nIterations, seed=seed)\n",
    "\n",
    "\n",
    "# DISPLAYING RESULTS\n",
    "\n"
   ]
  },
  {
   "attachments": {},
   "cell_type": "markdown",
   "metadata": {},
   "source": [
    "## Evaluation"
   ]
  },
  {
   "cell_type": "code",
   "execution_count": 8,
   "metadata": {},
   "outputs": [
    {
     "name": "stdout",
     "output_type": "stream",
     "text": [
      "Relative efficiency: 0 % of <class 'optimizers.NSRA.NSRA'> solutions are undominated by <class 'optimizers.NSGA2.NSGA2'> solutions\n",
      "Relative efficiency: 100 % of <class 'optimizers.NSGA2.NSGA2'> solutions are undominated by <class 'optimizers.NSRA.NSRA'> solutions\n"
     ]
    },
    {
     "data": {
      "text/plain": [
       "(0, 1)"
      ]
     },
     "execution_count": 8,
     "metadata": {},
     "output_type": "execute_result"
    }
   ],
   "source": [
    "MOO.relative_efficiency(\n",
    "    nsra_paretos, nsga2_paretos, Solution.optimDirections, verbose=True\n",
    ")"
   ]
  },
  {
   "attachments": {},
   "cell_type": "markdown",
   "metadata": {},
   "source": [
    "# Results"
   ]
  },
  {
   "cell_type": "code",
   "execution_count": 9,
   "metadata": {},
   "outputs": [
    {
     "data": {
      "application/vnd.plotly.v1+json": {
       "config": {
        "plotlyServerURL": "https://plot.ly"
       },
       "data": [
        {
         "alignmentgroup": "True",
         "box": {
          "visible": true
         },
         "hovertemplate": "Epoch=%{x}<br>Value=%{y}<extra></extra>",
         "legendgroup": "",
         "marker": {
          "color": "#1f77b4"
         },
         "name": "",
         "offsetgroup": "",
         "orientation": "v",
         "scalegroup": "True",
         "showlegend": false,
         "type": "violin",
         "x": [
          5,
          5,
          5,
          5,
          5,
          5,
          5,
          5,
          5,
          5,
          10,
          10,
          10,
          10,
          10,
          10,
          10,
          10,
          10,
          10,
          15,
          15,
          15,
          15,
          15,
          15,
          15,
          15,
          15,
          15,
          20,
          20,
          20,
          20,
          20,
          20,
          20,
          20,
          20,
          20,
          25,
          25,
          25,
          25,
          25,
          25,
          25,
          25,
          25,
          25,
          30,
          30,
          30,
          30,
          30,
          30,
          30,
          30,
          30,
          30,
          35,
          35,
          35,
          35,
          35,
          35,
          35,
          35,
          35,
          35,
          40,
          40,
          40,
          40,
          40,
          40,
          40,
          40,
          40,
          40,
          45,
          45,
          45,
          45,
          45,
          45,
          45,
          45,
          45,
          45,
          50,
          50,
          50,
          50,
          50,
          50,
          50,
          50,
          50,
          50
         ],
         "x0": " ",
         "xaxis": "x",
         "y": [
          82,
          86,
          98,
          74,
          35,
          8,
          55,
          43,
          37,
          5,
          14,
          75,
          14,
          36,
          33,
          11,
          3,
          41,
          10,
          100,
          83,
          67,
          18,
          18,
          30,
          20,
          94,
          45,
          88,
          79,
          55,
          68,
          20,
          40,
          99,
          91,
          72,
          42,
          24,
          4,
          97,
          85,
          64,
          79,
          25,
          15,
          58,
          25,
          28,
          71,
          28,
          47,
          95,
          34,
          46,
          42,
          21,
          65,
          17,
          19,
          6,
          75,
          30,
          81,
          40,
          67,
          76,
          33,
          15,
          42,
          7,
          29,
          7,
          61,
          72,
          24,
          72,
          88,
          49,
          76,
          84,
          74,
          72,
          20,
          27,
          62,
          23,
          99,
          76,
          69,
          75,
          6,
          78,
          96,
          49,
          69,
          75,
          31,
          42,
          79
         ],
         "y0": " ",
         "yaxis": "y"
        }
       ],
       "layout": {
        "font": {
         "family": "Times New Roman",
         "size": 12
        },
        "legend": {
         "tracegroupgap": 0
        },
        "margin": {
         "t": 60
        },
        "template": {
         "data": {
          "bar": [
           {
            "error_x": {
             "color": "#2a3f5f"
            },
            "error_y": {
             "color": "#2a3f5f"
            },
            "marker": {
             "line": {
              "color": "white",
              "width": 0.5
             },
             "pattern": {
              "fillmode": "overlay",
              "size": 10,
              "solidity": 0.2
             }
            },
            "type": "bar"
           }
          ],
          "barpolar": [
           {
            "marker": {
             "line": {
              "color": "white",
              "width": 0.5
             },
             "pattern": {
              "fillmode": "overlay",
              "size": 10,
              "solidity": 0.2
             }
            },
            "type": "barpolar"
           }
          ],
          "carpet": [
           {
            "aaxis": {
             "endlinecolor": "#2a3f5f",
             "gridcolor": "#C8D4E3",
             "linecolor": "#C8D4E3",
             "minorgridcolor": "#C8D4E3",
             "startlinecolor": "#2a3f5f"
            },
            "baxis": {
             "endlinecolor": "#2a3f5f",
             "gridcolor": "#C8D4E3",
             "linecolor": "#C8D4E3",
             "minorgridcolor": "#C8D4E3",
             "startlinecolor": "#2a3f5f"
            },
            "type": "carpet"
           }
          ],
          "choropleth": [
           {
            "colorbar": {
             "outlinewidth": 0,
             "ticks": ""
            },
            "type": "choropleth"
           }
          ],
          "contour": [
           {
            "colorbar": {
             "outlinewidth": 0,
             "ticks": ""
            },
            "colorscale": [
             [
              0,
              "#0d0887"
             ],
             [
              0.1111111111111111,
              "#46039f"
             ],
             [
              0.2222222222222222,
              "#7201a8"
             ],
             [
              0.3333333333333333,
              "#9c179e"
             ],
             [
              0.4444444444444444,
              "#bd3786"
             ],
             [
              0.5555555555555556,
              "#d8576b"
             ],
             [
              0.6666666666666666,
              "#ed7953"
             ],
             [
              0.7777777777777778,
              "#fb9f3a"
             ],
             [
              0.8888888888888888,
              "#fdca26"
             ],
             [
              1,
              "#f0f921"
             ]
            ],
            "type": "contour"
           }
          ],
          "contourcarpet": [
           {
            "colorbar": {
             "outlinewidth": 0,
             "ticks": ""
            },
            "type": "contourcarpet"
           }
          ],
          "heatmap": [
           {
            "colorbar": {
             "outlinewidth": 0,
             "ticks": ""
            },
            "colorscale": [
             [
              0,
              "#0d0887"
             ],
             [
              0.1111111111111111,
              "#46039f"
             ],
             [
              0.2222222222222222,
              "#7201a8"
             ],
             [
              0.3333333333333333,
              "#9c179e"
             ],
             [
              0.4444444444444444,
              "#bd3786"
             ],
             [
              0.5555555555555556,
              "#d8576b"
             ],
             [
              0.6666666666666666,
              "#ed7953"
             ],
             [
              0.7777777777777778,
              "#fb9f3a"
             ],
             [
              0.8888888888888888,
              "#fdca26"
             ],
             [
              1,
              "#f0f921"
             ]
            ],
            "type": "heatmap"
           }
          ],
          "heatmapgl": [
           {
            "colorbar": {
             "outlinewidth": 0,
             "ticks": ""
            },
            "colorscale": [
             [
              0,
              "#0d0887"
             ],
             [
              0.1111111111111111,
              "#46039f"
             ],
             [
              0.2222222222222222,
              "#7201a8"
             ],
             [
              0.3333333333333333,
              "#9c179e"
             ],
             [
              0.4444444444444444,
              "#bd3786"
             ],
             [
              0.5555555555555556,
              "#d8576b"
             ],
             [
              0.6666666666666666,
              "#ed7953"
             ],
             [
              0.7777777777777778,
              "#fb9f3a"
             ],
             [
              0.8888888888888888,
              "#fdca26"
             ],
             [
              1,
              "#f0f921"
             ]
            ],
            "type": "heatmapgl"
           }
          ],
          "histogram": [
           {
            "marker": {
             "pattern": {
              "fillmode": "overlay",
              "size": 10,
              "solidity": 0.2
             }
            },
            "type": "histogram"
           }
          ],
          "histogram2d": [
           {
            "colorbar": {
             "outlinewidth": 0,
             "ticks": ""
            },
            "colorscale": [
             [
              0,
              "#0d0887"
             ],
             [
              0.1111111111111111,
              "#46039f"
             ],
             [
              0.2222222222222222,
              "#7201a8"
             ],
             [
              0.3333333333333333,
              "#9c179e"
             ],
             [
              0.4444444444444444,
              "#bd3786"
             ],
             [
              0.5555555555555556,
              "#d8576b"
             ],
             [
              0.6666666666666666,
              "#ed7953"
             ],
             [
              0.7777777777777778,
              "#fb9f3a"
             ],
             [
              0.8888888888888888,
              "#fdca26"
             ],
             [
              1,
              "#f0f921"
             ]
            ],
            "type": "histogram2d"
           }
          ],
          "histogram2dcontour": [
           {
            "colorbar": {
             "outlinewidth": 0,
             "ticks": ""
            },
            "colorscale": [
             [
              0,
              "#0d0887"
             ],
             [
              0.1111111111111111,
              "#46039f"
             ],
             [
              0.2222222222222222,
              "#7201a8"
             ],
             [
              0.3333333333333333,
              "#9c179e"
             ],
             [
              0.4444444444444444,
              "#bd3786"
             ],
             [
              0.5555555555555556,
              "#d8576b"
             ],
             [
              0.6666666666666666,
              "#ed7953"
             ],
             [
              0.7777777777777778,
              "#fb9f3a"
             ],
             [
              0.8888888888888888,
              "#fdca26"
             ],
             [
              1,
              "#f0f921"
             ]
            ],
            "type": "histogram2dcontour"
           }
          ],
          "mesh3d": [
           {
            "colorbar": {
             "outlinewidth": 0,
             "ticks": ""
            },
            "type": "mesh3d"
           }
          ],
          "parcoords": [
           {
            "line": {
             "colorbar": {
              "outlinewidth": 0,
              "ticks": ""
             }
            },
            "type": "parcoords"
           }
          ],
          "pie": [
           {
            "automargin": true,
            "type": "pie"
           }
          ],
          "scatter": [
           {
            "fillpattern": {
             "fillmode": "overlay",
             "size": 10,
             "solidity": 0.2
            },
            "type": "scatter"
           }
          ],
          "scatter3d": [
           {
            "line": {
             "colorbar": {
              "outlinewidth": 0,
              "ticks": ""
             }
            },
            "marker": {
             "colorbar": {
              "outlinewidth": 0,
              "ticks": ""
             }
            },
            "type": "scatter3d"
           }
          ],
          "scattercarpet": [
           {
            "marker": {
             "colorbar": {
              "outlinewidth": 0,
              "ticks": ""
             }
            },
            "type": "scattercarpet"
           }
          ],
          "scattergeo": [
           {
            "marker": {
             "colorbar": {
              "outlinewidth": 0,
              "ticks": ""
             }
            },
            "type": "scattergeo"
           }
          ],
          "scattergl": [
           {
            "marker": {
             "colorbar": {
              "outlinewidth": 0,
              "ticks": ""
             }
            },
            "type": "scattergl"
           }
          ],
          "scattermapbox": [
           {
            "marker": {
             "colorbar": {
              "outlinewidth": 0,
              "ticks": ""
             }
            },
            "type": "scattermapbox"
           }
          ],
          "scatterpolar": [
           {
            "marker": {
             "colorbar": {
              "outlinewidth": 0,
              "ticks": ""
             }
            },
            "type": "scatterpolar"
           }
          ],
          "scatterpolargl": [
           {
            "marker": {
             "colorbar": {
              "outlinewidth": 0,
              "ticks": ""
             }
            },
            "type": "scatterpolargl"
           }
          ],
          "scatterternary": [
           {
            "marker": {
             "colorbar": {
              "outlinewidth": 0,
              "ticks": ""
             }
            },
            "type": "scatterternary"
           }
          ],
          "surface": [
           {
            "colorbar": {
             "outlinewidth": 0,
             "ticks": ""
            },
            "colorscale": [
             [
              0,
              "#0d0887"
             ],
             [
              0.1111111111111111,
              "#46039f"
             ],
             [
              0.2222222222222222,
              "#7201a8"
             ],
             [
              0.3333333333333333,
              "#9c179e"
             ],
             [
              0.4444444444444444,
              "#bd3786"
             ],
             [
              0.5555555555555556,
              "#d8576b"
             ],
             [
              0.6666666666666666,
              "#ed7953"
             ],
             [
              0.7777777777777778,
              "#fb9f3a"
             ],
             [
              0.8888888888888888,
              "#fdca26"
             ],
             [
              1,
              "#f0f921"
             ]
            ],
            "type": "surface"
           }
          ],
          "table": [
           {
            "cells": {
             "fill": {
              "color": "#EBF0F8"
             },
             "line": {
              "color": "white"
             }
            },
            "header": {
             "fill": {
              "color": "#C8D4E3"
             },
             "line": {
              "color": "white"
             }
            },
            "type": "table"
           }
          ]
         },
         "layout": {
          "annotationdefaults": {
           "arrowcolor": "#2a3f5f",
           "arrowhead": 0,
           "arrowwidth": 1
          },
          "autotypenumbers": "strict",
          "coloraxis": {
           "colorbar": {
            "outlinewidth": 0,
            "ticks": ""
           }
          },
          "colorscale": {
           "diverging": [
            [
             0,
             "#8e0152"
            ],
            [
             0.1,
             "#c51b7d"
            ],
            [
             0.2,
             "#de77ae"
            ],
            [
             0.3,
             "#f1b6da"
            ],
            [
             0.4,
             "#fde0ef"
            ],
            [
             0.5,
             "#f7f7f7"
            ],
            [
             0.6,
             "#e6f5d0"
            ],
            [
             0.7,
             "#b8e186"
            ],
            [
             0.8,
             "#7fbc41"
            ],
            [
             0.9,
             "#4d9221"
            ],
            [
             1,
             "#276419"
            ]
           ],
           "sequential": [
            [
             0,
             "#0d0887"
            ],
            [
             0.1111111111111111,
             "#46039f"
            ],
            [
             0.2222222222222222,
             "#7201a8"
            ],
            [
             0.3333333333333333,
             "#9c179e"
            ],
            [
             0.4444444444444444,
             "#bd3786"
            ],
            [
             0.5555555555555556,
             "#d8576b"
            ],
            [
             0.6666666666666666,
             "#ed7953"
            ],
            [
             0.7777777777777778,
             "#fb9f3a"
            ],
            [
             0.8888888888888888,
             "#fdca26"
            ],
            [
             1,
             "#f0f921"
            ]
           ],
           "sequentialminus": [
            [
             0,
             "#0d0887"
            ],
            [
             0.1111111111111111,
             "#46039f"
            ],
            [
             0.2222222222222222,
             "#7201a8"
            ],
            [
             0.3333333333333333,
             "#9c179e"
            ],
            [
             0.4444444444444444,
             "#bd3786"
            ],
            [
             0.5555555555555556,
             "#d8576b"
            ],
            [
             0.6666666666666666,
             "#ed7953"
            ],
            [
             0.7777777777777778,
             "#fb9f3a"
            ],
            [
             0.8888888888888888,
             "#fdca26"
            ],
            [
             1,
             "#f0f921"
            ]
           ]
          },
          "colorway": [
           "#636efa",
           "#EF553B",
           "#00cc96",
           "#ab63fa",
           "#FFA15A",
           "#19d3f3",
           "#FF6692",
           "#B6E880",
           "#FF97FF",
           "#FECB52"
          ],
          "font": {
           "color": "#2a3f5f"
          },
          "geo": {
           "bgcolor": "white",
           "lakecolor": "white",
           "landcolor": "white",
           "showlakes": true,
           "showland": true,
           "subunitcolor": "#C8D4E3"
          },
          "hoverlabel": {
           "align": "left"
          },
          "hovermode": "closest",
          "mapbox": {
           "style": "light"
          },
          "paper_bgcolor": "white",
          "plot_bgcolor": "white",
          "polar": {
           "angularaxis": {
            "gridcolor": "#EBF0F8",
            "linecolor": "#EBF0F8",
            "ticks": ""
           },
           "bgcolor": "white",
           "radialaxis": {
            "gridcolor": "#EBF0F8",
            "linecolor": "#EBF0F8",
            "ticks": ""
           }
          },
          "scene": {
           "xaxis": {
            "backgroundcolor": "white",
            "gridcolor": "#DFE8F3",
            "gridwidth": 2,
            "linecolor": "#EBF0F8",
            "showbackground": true,
            "ticks": "",
            "zerolinecolor": "#EBF0F8"
           },
           "yaxis": {
            "backgroundcolor": "white",
            "gridcolor": "#DFE8F3",
            "gridwidth": 2,
            "linecolor": "#EBF0F8",
            "showbackground": true,
            "ticks": "",
            "zerolinecolor": "#EBF0F8"
           },
           "zaxis": {
            "backgroundcolor": "white",
            "gridcolor": "#DFE8F3",
            "gridwidth": 2,
            "linecolor": "#EBF0F8",
            "showbackground": true,
            "ticks": "",
            "zerolinecolor": "#EBF0F8"
           }
          },
          "shapedefaults": {
           "line": {
            "color": "#2a3f5f"
           }
          },
          "ternary": {
           "aaxis": {
            "gridcolor": "#DFE8F3",
            "linecolor": "#A2B1C6",
            "ticks": ""
           },
           "baxis": {
            "gridcolor": "#DFE8F3",
            "linecolor": "#A2B1C6",
            "ticks": ""
           },
           "bgcolor": "white",
           "caxis": {
            "gridcolor": "#DFE8F3",
            "linecolor": "#A2B1C6",
            "ticks": ""
           }
          },
          "title": {
           "x": 0.05
          },
          "xaxis": {
           "automargin": true,
           "gridcolor": "#EBF0F8",
           "linecolor": "#EBF0F8",
           "ticks": "",
           "title": {
            "standoff": 15
           },
           "zerolinecolor": "#EBF0F8",
           "zerolinewidth": 2
          },
          "yaxis": {
           "automargin": true,
           "gridcolor": "#EBF0F8",
           "linecolor": "#EBF0F8",
           "ticks": "",
           "title": {
            "standoff": 15
           },
           "zerolinecolor": "#EBF0F8",
           "zerolinewidth": 2
          }
         }
        },
        "title": {
         "text": "Violin plot of the pareto solutions for each epoch (10 epochs)"
        },
        "violinmode": "group",
        "xaxis": {
         "anchor": "y",
         "domain": [
          0,
          1
         ],
         "title": {
          "text": "Epoch"
         }
        },
        "yaxis": {
         "anchor": "x",
         "domain": [
          0,
          1
         ],
         "title": {
          "text": "Value"
         }
        }
       }
      }
     },
     "metadata": {},
     "output_type": "display_data"
    }
   ],
   "source": [
    "def generate_violin_plot(df, title):\n",
    "    fig = px.violin(\n",
    "        df,\n",
    "        x=\"Epoch\",\n",
    "        y=\"Value\",\n",
    "        box=True,\n",
    "        hover_data=df.columns,\n",
    "        template=\"plotly_white\",\n",
    "        color_discrete_sequence=[\"#1f77b4\"],\n",
    "    )\n",
    "    fig.update_layout(\n",
    "        title=title,\n",
    "        xaxis_title=\"Epoch\",\n",
    "        yaxis_title=\"Value\",\n",
    "        font=dict(\n",
    "            family=\"Times New Roman\",\n",
    "            size=12,\n",
    "        ),\n",
    "    )\n",
    "    fig.show()\n",
    "\n",
    "\n",
    "# generate random values for the pareto solutions for each epoch\n",
    "def generate_random_values(epochs: int = 20):\n",
    "    values = []\n",
    "    for i in range(1, epochs + 1):\n",
    "        for j in range(0, 10):\n",
    "            values.append([i, random.randint(1, 100)])\n",
    "    return values\n",
    "\n",
    "\n",
    "# plot the violin\n",
    "def plot_violin(epochs):\n",
    "    values = generate_random_values(epochs)\n",
    "    df = pd.DataFrame(values, columns=[\"Epoch\", \"Value\"])\n",
    "    # keep only 10 epochs depending on the number of epochs\n",
    "    df = df[df[\"Epoch\"] % (epochs // 10) == 0]\n",
    "    generate_violin_plot(\n",
    "        df, \"Violin plot of the pareto solutions for each epoch (10 epochs)\"\n",
    "    )\n",
    "\n",
    "\n",
    "plot_violin(50)\n"
   ]
  },
  {
   "cell_type": "code",
   "execution_count": null,
   "metadata": {},
   "outputs": [],
   "source": []
  }
 ],
 "metadata": {
  "kernelspec": {
   "display_name": "venv",
   "language": "python",
   "name": "python3"
  },
  "language_info": {
   "codemirror_mode": {
    "name": "ipython",
    "version": 3
   },
   "file_extension": ".py",
   "mimetype": "text/x-python",
   "name": "python",
   "nbconvert_exporter": "python",
   "pygments_lexer": "ipython3",
   "version": "3.10.10"
  },
  "orig_nbformat": 4,
  "vscode": {
   "interpreter": {
    "hash": "e0fd7870c844ce9ebd94db62f42dc1165e727123798b67a6f5059ea7a11ade64"
   }
  }
 },
 "nbformat": 4,
 "nbformat_minor": 2
}
